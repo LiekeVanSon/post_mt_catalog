{
 "cells": [
  {
   "cell_type": "markdown",
   "id": "e4f68519",
   "metadata": {},
   "source": [
    "# Template for the data structure \n",
    "\n",
    "We want to all use the same data structure as below\n"
   ]
  },
  {
   "cell_type": "code",
   "execution_count": 2,
   "id": "ca0005fa",
   "metadata": {},
   "outputs": [],
   "source": [
    "import numpy as np\n",
    "import pandas as pd"
   ]
  },
  {
   "cell_type": "code",
   "execution_count": null,
   "id": "0dc5caf2",
   "metadata": {},
   "outputs": [
    {
     "name": "stdout",
     "output_type": "stream",
     "text": [
      "  System Name       RA     Dec  Period  Eccentricity    M1  M2 or M2min  \\\n",
      "0   HD 123456  150.025 -45.123    12.5          0.30  10.0          2.5   \n",
      "1   HD 123456  150.025 -45.123    12.7          0.35  10.2          3.0   \n",
      "\n",
      "   q or qmin  Mass Function Type1 Type2 Detection Method          Reference  \n",
      "0       0.25           0.45   B1V    NS  Radial Velocity  Smith et al. 2010  \n",
      "1       0.29           0.50   B1V    NS      Light Curve  Jones et al. 2015  \n"
     ]
    },
    {
     "name": "stderr",
     "output_type": "stream",
     "text": [
      "/var/folders/mc/hhcvbs7n2jq7d_hr2d6qvjhm0000gq/T/ipykernel_17518/1074752859.py:31: FutureWarning: The behavior of DataFrame concatenation with empty or all-NA entries is deprecated. In a future version, this will no longer exclude empty or all-NA columns when determining the result dtypes. To retain the old behavior, exclude the relevant entries before the concat operation.\n",
      "  return pd.concat([df, pd.DataFrame([new_row])], ignore_index=True)\n"
     ]
    }
   ],
   "source": [
    "import pandas as pd\n",
    "\n",
    "# Define columns, with key quantities stored as lists: [err-, value, err+]\n",
    "columns = [\n",
    "    \"System Name\", \"RA\", \"Dec\", \"Period\", \"Eccentricity\",\n",
    "    \"M1\", \"M2\", \"q\", \"Mass Function\",\n",
    "    \"Type1\", \"Type2\", \"Detection Method\", \"Reference\", \"Notes\"\n",
    "]\n",
    "\n",
    "# Initialize empty DataFrame\n",
    "observations_df = pd.DataFrame(columns=columns)\n",
    "\n",
    "# Define helper function using [err-, value, err+] triplets\n",
    "def add_observation(df, system_name,\n",
    "                    ra, dec, period, ecc,\n",
    "                    m1, m2, q, mass_func,\n",
    "                    type1, type2, method, reference, notes=\"\"):\n",
    "    # use np.inf if it is a lower limit (0 if it is an upper limit)\n",
    "    new_row = {\n",
    "        \"System Name\": system_name,\n",
    "        \"RA\": ra,                           # [err-, value, err+]\n",
    "        \"Dec\": dec,                         # [err-, value, err+]\n",
    "        \"Period\": period,                   # day [err-, value, err+]\n",
    "        \"Eccentricity\": ecc,                # [err-, value, err+]\n",
    "        \"M1\": m1,                           # Msun more massive component [err-, value, err+]\n",
    "        \"M2\": m2,                           # Msun  less massive component [err-, value, err+]\n",
    "        \"q \": q,                            # between 0 and 1 [err-, value, err+]\n",
    "        \"Mass Function\": mass_func,         # [err-, value, err+]\n",
    "        \"Type1\": type1,                     # [\"MS\", \"WD\", \"NS\", \"BH\" \"RG\", \"O\", \"B\" ]\n",
    "        \"Type2\": type2,                     # [\"MS\", \"WD\", \"NS\", \"BH\" \"RG\", \"O\", \"B\" ]\n",
    "        \"Detection Method\": method,         # [\"Xray\", \"RV\"= Radial velocity, \"EB\"=Eclipsing binary, \"AB\" = Astrometric binary, \"Other\"]  \n",
    "        \"Reference\": reference,\n",
    "        \"Notes\": notes\n",
    "    }\n",
    "    return pd.concat([df, pd.DataFrame([new_row])], ignore_index=True)\n",
    "\n",
    "# Example: Add two entries\n",
    "observations_df = add_observation(\n",
    "    observations_df,\n",
    "    \"HD 123456\",\n",
    "    [0.005, 150.025, 0.005],\n",
    "    [0.004, -45.123, 0.004],\n",
    "    [0.2, 12.5, 0.3],\n",
    "    [0.02, 0.30, 0.03],\n",
    "    [0.3, 10.0, 0.4],\n",
    "    [0.2, 2.5, 0.3],\n",
    "    [0.03, 0.25, 0.04]\n"
   ]
  },
  {
   "cell_type": "code",
   "execution_count": null,
   "id": "29db34f5",
   "metadata": {},
   "outputs": [],
   "source": []
  }
 ],
 "metadata": {
  "kernelspec": {
   "display_name": ".venv",
   "language": "python",
   "name": "python3"
  },
  "language_info": {
   "codemirror_mode": {
    "name": "ipython",
    "version": 3
   },
   "file_extension": ".py",
   "mimetype": "text/x-python",
   "name": "python",
   "nbconvert_exporter": "python",
   "pygments_lexer": "ipython3",
   "version": "3.11.5"
  }
 },
 "nbformat": 4,
 "nbformat_minor": 5
}
