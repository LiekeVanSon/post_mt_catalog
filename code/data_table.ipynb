{
 "cells": [
  {
   "cell_type": "markdown",
   "id": "e4f68519",
   "metadata": {},
   "source": [
    "# Template for the data structure \n",
    "\n",
    "We want to all use the same data structure as below\n"
   ]
  },
  {
   "cell_type": "code",
   "execution_count": 2,
   "id": "ca0005fa",
   "metadata": {},
   "outputs": [],
   "source": [
    "import numpy as np\n",
    "import pandas as pd"
   ]
  },
  {
   "cell_type": "code",
   "execution_count": 3,
   "id": "0dc5caf2",
   "metadata": {},
   "outputs": [
    {
     "name": "stdout",
     "output_type": "stream",
     "text": [
      "  System Name       RA     Dec  Period  Eccentricity    M1  M2 or M2min  \\\n",
      "0   HD 123456  150.025 -45.123    12.5          0.30  10.0          2.5   \n",
      "1   HD 123456  150.025 -45.123    12.7          0.35  10.2          3.0   \n",
      "\n",
      "   q or qmin  Mass Function Type1 Type2 Detection Method          Reference  \n",
      "0       0.25           0.45   B1V    NS  Radial Velocity  Smith et al. 2010  \n",
      "1       0.29           0.50   B1V    NS      Light Curve  Jones et al. 2015  \n"
     ]
    },
    {
     "name": "stderr",
     "output_type": "stream",
     "text": [
      "/var/folders/mc/hhcvbs7n2jq7d_hr2d6qvjhm0000gq/T/ipykernel_17518/1074752859.py:31: FutureWarning: The behavior of DataFrame concatenation with empty or all-NA entries is deprecated. In a future version, this will no longer exclude empty or all-NA columns when determining the result dtypes. To retain the old behavior, exclude the relevant entries before the concat operation.\n",
      "  return pd.concat([df, pd.DataFrame([new_row])], ignore_index=True)\n"
     ]
    }
   ],
   "source": [
    "import pandas as pd\n",
    "\n",
    "# Initialize an empty or preloaded DataFrame\n",
    "columns = [\n",
    "    \"System Name\", \"RA\", \"Dec\", \"Period\", \"Eccentricity\",\n",
    "    \"M1\", \"M2 or M2min\", \"q or qmin\", \"Mass Function\",\n",
    "    \"Type1\", \"Type2\", \"Detection Method\", \"Reference\"\n",
    "]\n",
    "\n",
    "# Start with an existing table or an empty one\n",
    "observations_df = pd.DataFrame(columns=columns)\n",
    "\n",
    "# Define a helper function to add a new entry\n",
    "def add_observation(df, system_name, ra, dec, period, ecc, m1, m2_or_min, q_or_min,\n",
    "                    mass_func, type1, type2, method, reference):\n",
    "    new_row = {\n",
    "        \"System Name\": system_name,\n",
    "        \"RA\": ra,\n",
    "        \"Dec\": dec,\n",
    "        \"Period\": period,\n",
    "        \"Eccentricity\": ecc,\n",
    "        \"M1\": m1,\n",
    "        \"M2 or M2min\": m2_or_min,\n",
    "        \"q or qmin\": q_or_min,\n",
    "        \"Mass Function\": mass_func,\n",
    "        \"Type1\": type1,\n",
    "        \"Type2\": type2,\n",
    "        \"Detection Method\": method,\n",
    "        \"Reference\": reference\n",
    "    }\n",
    "    return pd.concat([df, pd.DataFrame([new_row])], ignore_index=True)\n",
    "\n",
    "# Example: Adding two observations for the same system\n",
    "observations_df = add_observation(\n",
    "    observations_df, \"HD 123456\", 150.025, -45.123, 12.5, 0.30,\n",
    "    10.0, 2.5, 0.25, 0.45, \"B1V\", \"NS\", \"Radial Velocity\", \"Smith et al. 2010\"\n",
    ")\n",
    "\n",
    "observations_df = add_observation(\n",
    "    observations_df, \"HD 123456\", 150.025, -45.123, 12.7, 0.35,\n",
    "    10.2, 3.0, 0.29, 0.50, \"B1V\", \"NS\", \"Light Curve\", \"Jones et al. 2015\"\n",
    ")\n",
    "\n",
    "# Print or save to file\n",
    "print(observations_df)\n",
    "# observations_df.to_csv(\"binary_systems_updated.csv\", index=False)\n"
   ]
  },
  {
   "cell_type": "code",
   "execution_count": null,
   "id": "29db34f5",
   "metadata": {},
   "outputs": [],
   "source": []
  }
 ],
 "metadata": {
  "kernelspec": {
   "display_name": ".venv",
   "language": "python",
   "name": "python3"
  },
  "language_info": {
   "codemirror_mode": {
    "name": "ipython",
    "version": 3
   },
   "file_extension": ".py",
   "mimetype": "text/x-python",
   "name": "python",
   "nbconvert_exporter": "python",
   "pygments_lexer": "ipython3",
   "version": "3.11.5"
  }
 },
 "nbformat": 4,
 "nbformat_minor": 5
}
