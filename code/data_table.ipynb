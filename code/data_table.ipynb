{
 "cells": [
  {
   "cell_type": "markdown",
   "id": "e4f68519",
   "metadata": {},
   "source": [
    "# Template for the data structure \n",
    "\n",
    "We want to all use the same data structure as below\n"
   ]
  },
  {
   "cell_type": "code",
   "execution_count": 25,
   "id": "ca0005fa",
   "metadata": {},
   "outputs": [],
   "source": [
    "import numpy as np\n",
    "import pandas as pd\n",
    "import h5py"
   ]
  },
  {
   "cell_type": "code",
   "execution_count": 2,
   "id": "0dc5caf2",
   "metadata": {},
   "outputs": [],
   "source": [
    "import pandas as pd\n",
    "\n",
    "# Define columns, with key quantities stored as lists: [err-, value, err+]\n",
    "columns = [\n",
    "    \"System Name\", \"RA\", \"Dec\", \"Period\", \"Eccentricity\",\n",
    "    \"M1\",\"M1_sin3i\", \"M2\", \"M2_sin3i\", \"q\", \"Mass Function\",\n",
    "    \"Type1\", \"Type2\", \"Detection Method\", \"Reference\", \"Notes\"\n",
    "]\n",
    "\n",
    "# Initialize empty DataFrame\n",
    "example_obs_df = pd.DataFrame(columns=columns)\n",
    "\n",
    "# Define helper function using [err-, value, err+] triplets\n",
    "def add_observation(df, system_name,\n",
    "                    ra, dec, period, ecc,\n",
    "                    m1, m1_sin3i, m2, m2_sin3i, q, mass_func,\n",
    "                    type1, type2, method, reference, notes=\"\"):\n",
    "    # use np.inf if it is a lower limit (0 if it is an upper limit)\n",
    "    new_row = {\n",
    "        \"System Name\": system_name,\n",
    "        \"RA\": ra,                           # np.array([err-, value, err+])\n",
    "        \"Dec\": dec,                         # [err-, value, err+]\n",
    "\n",
    "        \"Period\": period,                   # day [err-, value, err+]\n",
    "        \"Eccentricity\": ecc,                # [err-, value, err+ ]\n",
    "\n",
    "        \"M1\": m1,                           # Accretor star [err-, value, err+]\n",
    "        \"M1_sin3i\": m1_sin3i,               # M1 sini^3 values [err-, value, err+] (= lower limit on m1)\n",
    "        \"M2\": m2,                           # Donor (post MT 1) [err-, value, err+,]\n",
    "        \"M2_sin3i\": m2_sin3i,               # M2 sini^3 values [err-, value, err+] (= lower limit on m2)\n",
    "        \"q\": q,                             # M2/M1 = donor/accretor [err-, value, err+, lower/upper limit? ]\n",
    "        \"Mass Function\": mass_func,         # [err-, value, err+, lower/upper limit? ]\n",
    "\n",
    "        \"Type1\": type1,                     # [\"MS\", \"WD\", \"NS\", \"BH\" \"RG\", \"O\", \"B\" ]\n",
    "        \"Type2\": type2,                     # [\"MS\", \"WD\", \"NS\", \"BH\" \"RG\", \"O\", \"B\" ]\n",
    "        \"Detection Method\": method,         # list of strings [\"Xray\", \"RV\"= Radial velocity, \"EB\"=Eclipsing binary, \"AB\" = Astrometric binary, \"Other\"]  \n",
    "        \"Reference\": reference,             # ADS Bibcode    \n",
    "        \"Notes\": notes\n",
    "    }\n",
    "    return pd.concat([df, pd.DataFrame([new_row])], ignore_index=True)\n",
    "\n",
    "# Example: Add two entries\n",
    "example_obs_df = add_observation(\n",
    "    example_obs_df,\n",
    "    \"Example system\",\n",
    "    np.array([0.005, 150.025, 0.005]),        # RA\n",
    "    np.array([0.004, -45.123, 0.004]),        # Dec\n",
    "\n",
    "    np.array([0.2, 12.5, 0.3]),            \n",
    "    # Period in days\n",
    "    np.array([0.02, 0.30, 0.03]),             # Eccentricity\n",
    "    np.array([0.5, 5.0, 0.5]),                # M1 values\n",
    "    np.array([0.5, 2.0, 0.5]),                # M1 sini^3 values (= lower limit on m1)\n",
    "    np.array([0.2, 2.5, 0.3]),                # M2 in Msun\n",
    "    np.array([0.5, 1.0, 0.5]),                # M2 sini^3 values (= lower limit om m2)\n",
    "    np.array([0.03, 0.25, 0.04]),             # q (mass ratio)\n",
    "    np.array([0.01, 1e-3, 0.02]),             # Mass Function\n",
    "    \n",
    "    \"MS\",                            # Type1\n",
    "    \"WD\",                            # Type2\n",
    "    [\"RV\", \"EB\"],                    # Detection Method\n",
    "    [\"2025arXiv250514780L\"],           # Reference (use Ads Bibcode)\n",
    "    \"This is an example system \",    # Notes\n",
    ")\n",
    "\n",
    "\n",
    "# Example: Add two entries\n",
    "example_obs_df = add_observation(\n",
    "    example_obs_df,\n",
    "    \"Example system 2\",\n",
    "    np.array([0.005, 159.025, 0.005]),        # RA\n",
    "    np.array([0.004, -45.123, 0.004]),        # Dec\n",
    "\n",
    "    np.array([0.2, 12.5, 0.3]),            \n",
    "    # Period in days\n",
    "    np.array([0.02, 0.50, 0.03]),             # Eccentricity\n",
    "    np.array([0.5, 10.0, 0.5]),                # M1 values\n",
    "    np.array([0.5, 3.0, 0.5]),                # M1 sini^3 values (= lower limit on m1)\n",
    "    np.array([0.2, 5, 0.3]),                # M2 in Msun\n",
    "    np.array([0.5, 1.0, 0.5]),                # M2 sini^3 values (= lower limit om m2)\n",
    "    np.array([0.03, 0.9, 0.04]),             # q (mass ratio)\n",
    "    np.array([0.01, 1e-3, 0.02]),             # Mass Function\n",
    "    \n",
    "    \"MS\",                            # Type1\n",
    "    \"WD\",                            # Type2\n",
    "    [\"RV\", \"EB\"],                    # Detection Method\n",
    "    [\"2025arXiv250514780L\"],           # Reference (use Ads Bibcode)\n",
    "    \"This is an example system \",    # Notes\n",
    ")"
   ]
  },
  {
   "cell_type": "markdown",
   "id": "a3c8a5d8",
   "metadata": {},
   "source": [
    "\n",
    "#### How to treat missing values? \n",
    "\n",
    "Add a `np.nan` values\n",
    "\n",
    "\n",
    "\n",
    "#### What if you have lower or upper limits? \n",
    "We assume there are only lower limits on masses,\n",
    "If you have a lower limit on the mass, you probably have the `m_1 sin(i)^3` value, so use the appropriate column for that\n",
    "\n",
    " \n",
    "#### What if you have pulled your values from multiple references?\n",
    "If your values were pulled from different sources, add a list of strings to the `Reference` column\n",
    "i.e.:  \n",
    "```python\n",
    "[\"2025arXiv250514780L\", \"2021AJ....161..248W\"]\n",
    "```\n"
   ]
  },
  {
   "cell_type": "code",
   "execution_count": 3,
   "id": "29db34f5",
   "metadata": {},
   "outputs": [
    {
     "data": {
      "text/html": [
       "<div>\n",
       "<style scoped>\n",
       "    .dataframe tbody tr th:only-of-type {\n",
       "        vertical-align: middle;\n",
       "    }\n",
       "\n",
       "    .dataframe tbody tr th {\n",
       "        vertical-align: top;\n",
       "    }\n",
       "\n",
       "    .dataframe thead th {\n",
       "        text-align: right;\n",
       "    }\n",
       "</style>\n",
       "<table border=\"1\" class=\"dataframe\">\n",
       "  <thead>\n",
       "    <tr style=\"text-align: right;\">\n",
       "      <th></th>\n",
       "      <th>System Name</th>\n",
       "      <th>RA</th>\n",
       "      <th>Dec</th>\n",
       "      <th>Period</th>\n",
       "      <th>Eccentricity</th>\n",
       "      <th>M1</th>\n",
       "      <th>M1_sin3i</th>\n",
       "      <th>M2</th>\n",
       "      <th>M2_sin3i</th>\n",
       "      <th>q</th>\n",
       "      <th>Mass Function</th>\n",
       "      <th>Type1</th>\n",
       "      <th>Type2</th>\n",
       "      <th>Detection Method</th>\n",
       "      <th>Reference</th>\n",
       "      <th>Notes</th>\n",
       "    </tr>\n",
       "  </thead>\n",
       "  <tbody>\n",
       "    <tr>\n",
       "      <th>0</th>\n",
       "      <td>Example system</td>\n",
       "      <td>[0.005, 150.025, 0.005]</td>\n",
       "      <td>[0.004, -45.123, 0.004]</td>\n",
       "      <td>[0.2, 12.5, 0.3]</td>\n",
       "      <td>[0.02, 0.3, 0.03]</td>\n",
       "      <td>[0.5, 5.0, 0.5]</td>\n",
       "      <td>[0.5, 2.0, 0.5]</td>\n",
       "      <td>[0.2, 2.5, 0.3]</td>\n",
       "      <td>[0.5, 1.0, 0.5]</td>\n",
       "      <td>[0.03, 0.25, 0.04]</td>\n",
       "      <td>[0.01, 0.001, 0.02]</td>\n",
       "      <td>MS</td>\n",
       "      <td>WD</td>\n",
       "      <td>[RV, EB]</td>\n",
       "      <td>[2025arXiv250514780L]</td>\n",
       "      <td>This is an example system</td>\n",
       "    </tr>\n",
       "    <tr>\n",
       "      <th>1</th>\n",
       "      <td>Example system 2</td>\n",
       "      <td>[0.005, 159.025, 0.005]</td>\n",
       "      <td>[0.004, -45.123, 0.004]</td>\n",
       "      <td>[0.2, 12.5, 0.3]</td>\n",
       "      <td>[0.02, 0.5, 0.03]</td>\n",
       "      <td>[0.5, 10.0, 0.5]</td>\n",
       "      <td>[0.5, 3.0, 0.5]</td>\n",
       "      <td>[0.2, 5.0, 0.3]</td>\n",
       "      <td>[0.5, 1.0, 0.5]</td>\n",
       "      <td>[0.03, 0.9, 0.04]</td>\n",
       "      <td>[0.01, 0.001, 0.02]</td>\n",
       "      <td>MS</td>\n",
       "      <td>WD</td>\n",
       "      <td>[RV, EB]</td>\n",
       "      <td>[2025arXiv250514780L]</td>\n",
       "      <td>This is an example system</td>\n",
       "    </tr>\n",
       "  </tbody>\n",
       "</table>\n",
       "</div>"
      ],
      "text/plain": [
       "        System Name                       RA                      Dec  \\\n",
       "0    Example system  [0.005, 150.025, 0.005]  [0.004, -45.123, 0.004]   \n",
       "1  Example system 2  [0.005, 159.025, 0.005]  [0.004, -45.123, 0.004]   \n",
       "\n",
       "             Period       Eccentricity                M1         M1_sin3i  \\\n",
       "0  [0.2, 12.5, 0.3]  [0.02, 0.3, 0.03]   [0.5, 5.0, 0.5]  [0.5, 2.0, 0.5]   \n",
       "1  [0.2, 12.5, 0.3]  [0.02, 0.5, 0.03]  [0.5, 10.0, 0.5]  [0.5, 3.0, 0.5]   \n",
       "\n",
       "                M2         M2_sin3i                   q        Mass Function  \\\n",
       "0  [0.2, 2.5, 0.3]  [0.5, 1.0, 0.5]  [0.03, 0.25, 0.04]  [0.01, 0.001, 0.02]   \n",
       "1  [0.2, 5.0, 0.3]  [0.5, 1.0, 0.5]   [0.03, 0.9, 0.04]  [0.01, 0.001, 0.02]   \n",
       "\n",
       "  Type1 Type2 Detection Method              Reference  \\\n",
       "0    MS    WD         [RV, EB]  [2025arXiv250514780L]   \n",
       "1    MS    WD         [RV, EB]  [2025arXiv250514780L]   \n",
       "\n",
       "                        Notes  \n",
       "0  This is an example system   \n",
       "1  This is an example system   "
      ]
     },
     "metadata": {},
     "output_type": "display_data"
    }
   ],
   "source": [
    "display(example_obs_df)"
   ]
  },
  {
   "cell_type": "markdown",
   "id": "c86e45d0",
   "metadata": {},
   "source": [
    "# When you are done creating your table, stack the triplet columns to make them much more accessible"
   ]
  },
  {
   "cell_type": "code",
   "execution_count": 27,
   "id": "67f8dd36",
   "metadata": {},
   "outputs": [],
   "source": [
    "def save_triplet_columns_as_arrays(df, triplet_columns, h5_filename):\n",
    "    \"\"\"\n",
    "    Save specified triplet columns from a pandas DataFrame as real 2D NumPy arrays in an HDF5 file.\n",
    "    Each column will be a dataset of shape (N, 3), suitable for slicing with [:, 1] for median values.\n",
    "    \"\"\"\n",
    "    with h5py.File(h5_filename, \"w\") as f:\n",
    "        for col in triplet_columns:\n",
    "            try:\n",
    "                arr = np.vstack(df[col].values)  # Convert Series of triplets to 2D array\n",
    "                f.create_dataset(col, data=arr)\n",
    "            except Exception as e:\n",
    "                print(f\"Skipping column '{col}' due to: {e}\")\n"
   ]
  },
  {
   "cell_type": "code",
   "execution_count": 29,
   "id": "838b1611",
   "metadata": {},
   "outputs": [],
   "source": [
    "triplet_cols = [\"RA\", \"Dec\", \"Period\", \"Eccentricity\", \"M1\", \"M1_sin3i\", \"M2\", \"M2_sin3i\", \"q\"]\n",
    "save_triplet_columns_as_arrays(example_obs_df, triplet_cols, \"../result_tables/example_obs_df.h5\")\n"
   ]
  },
  {
   "cell_type": "markdown",
   "id": "ae42b915",
   "metadata": {},
   "source": [
    "## This is how you read your data again:\n",
    "\n"
   ]
  },
  {
   "cell_type": "code",
   "execution_count": null,
   "id": "7cfbf236",
   "metadata": {},
   "outputs": [],
   "source": [
    "with h5py.File(\"../result_tables/example_obs_df.h5\", \"r\") as f:\n",
    "    eccentricity = f[\"Eccentricity\"][:]     # shape (N, 3)\n",
    "    ecc_median = ecc[:, 1]         # extract median values\n",
    "    m1_vals = f[\"M1\"][:, 1]        # median primary masses"
   ]
  },
  {
   "cell_type": "code",
   "execution_count": 35,
   "id": "d825cabd",
   "metadata": {},
   "outputs": [
    {
     "data": {
      "text/plain": [
       "array([0.3, 0.5])"
      ]
     },
     "metadata": {},
     "output_type": "display_data"
    }
   ],
   "source": [
    "display(eccentricity[:,1])"
   ]
  },
  {
   "cell_type": "code",
   "execution_count": null,
   "id": "c062165a",
   "metadata": {},
   "outputs": [],
   "source": []
  }
 ],
 "metadata": {
  "kernelspec": {
   "display_name": ".venv",
   "language": "python",
   "name": "python3"
  },
  "language_info": {
   "codemirror_mode": {
    "name": "ipython",
    "version": 3
   },
   "file_extension": ".py",
   "mimetype": "text/x-python",
   "name": "python",
   "nbconvert_exporter": "python",
   "pygments_lexer": "ipython3",
   "version": "3.11.5"
  }
 },
 "nbformat": 4,
 "nbformat_minor": 5
}
