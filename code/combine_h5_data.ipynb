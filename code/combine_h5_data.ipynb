{
 "cells": [
  {
   "cell_type": "markdown",
   "id": "ed7cb2bb",
   "metadata": {},
   "source": [
    "# Read and combine all the individual hdf5 data files\n",
    "\n"
   ]
  },
  {
   "cell_type": "code",
   "execution_count": 35,
   "id": "d6885999",
   "metadata": {},
   "outputs": [],
   "source": [
    "import pandas as pd\n",
    "import numpy as np\n",
    "import os\n",
    "import h5py\n",
    "import matplotlib.pyplot as plt\n",
    "\n",
    "from io import StringIO\n"
   ]
  },
  {
   "cell_type": "code",
   "execution_count": 36,
   "id": "df9fc6d4",
   "metadata": {},
   "outputs": [
    {
     "name": "stdout",
     "output_type": "stream",
     "text": [
      "List of tables: ['Be_sdOB_table.h5', 'ns_table.h5', 'WRs_SMC.h5', 'example_obs_df_full.h5', 'algols.h5', 'bh_table.h5', 'stripped_star_table.h5', 'example_obs_df.h5', 'BSS_data.h5', 'contact.h5', 'WDMS/WD_Binary_Pathways_X.h5', 'WDMS/RebassaMansergas2012.h5', 'WDMS/WD_Binary_Pathways_VI.h5', 'WDMS/Zorotovic2010.h5', 'WDMS/Escorza2019.h5', 'WDMS/Jorissen2019.h5', 'WDMS/Shahaf2024.h5']\n"
     ]
    }
   ],
   "source": [
    "# Directory where your .h5 files are stored\n",
    "base_path = \"../result_tables\"\n",
    "\n",
    "list_of_tables = []\n",
    "for table_name in os.listdir(base_path):\n",
    "    if table_name.endswith(\".h5\"):\n",
    "        list_of_tables.append(table_name)\n",
    "\n",
    "for table_name in os.listdir(os.path.join(base_path, \"WDMS\")):\n",
    "    if table_name.endswith(\".h5\"):\n",
    "        list_of_tables.append('WDMS/'+table_name)\n",
    "\n",
    "\n",
    "print(\"List of tables:\", list_of_tables)\n"
   ]
  },
  {
   "cell_type": "code",
   "execution_count": 37,
   "id": "0352b7c7",
   "metadata": {},
   "outputs": [
    {
     "name": "stdout",
     "output_type": "stream",
     "text": [
      "Processing table 1/17: ../result_tables/Be_sdOB_table.h5\n",
      "Processing table 2/17: ../result_tables/ns_table.h5\n",
      "Processing table 3/17: ../result_tables/WRs_SMC.h5\n",
      "Processing table 4/17: ../result_tables/example_obs_df_full.h5\n",
      "Processing table 5/17: ../result_tables/algols.h5\n",
      "Processing table 6/17: ../result_tables/bh_table.h5\n",
      "Processing table 7/17: ../result_tables/stripped_star_table.h5\n",
      "Processing table 8/17: ../result_tables/example_obs_df.h5\n",
      "Error processing ../result_tables/example_obs_df.h5: \"Unable to synchronously open object (object 'metadata_json' doesn't exist)\"\n",
      "Processing table 9/17: ../result_tables/BSS_data.h5\n",
      "Error processing ../result_tables/BSS_data.h5: Index (1) out of range for (0-0)\n",
      "Processing table 10/17: ../result_tables/contact.h5\n",
      "Error processing ../result_tables/contact.h5: \"Unable to synchronously open object (object 'metadata_json' doesn't exist)\"\n",
      "Processing table 11/17: ../result_tables/WDMS/WD_Binary_Pathways_X.h5\n",
      "Processing table 12/17: ../result_tables/WDMS/RebassaMansergas2012.h5\n",
      "Processing table 13/17: ../result_tables/WDMS/WD_Binary_Pathways_VI.h5\n",
      "Processing table 14/17: ../result_tables/WDMS/Zorotovic2010.h5\n",
      "Processing table 15/17: ../result_tables/WDMS/Escorza2019.h5\n",
      "Processing table 16/17: ../result_tables/WDMS/Jorissen2019.h5\n",
      "Processing table 17/17: ../result_tables/WDMS/Shahaf2024.h5\n"
     ]
    }
   ],
   "source": [
    "triplet_cols = [\"RA\", \"Dec\", \"Period\", \"Eccentricity\", \"M1\", \"M1_sin3i\", \"M2\", \"M2_sin3i\", \"q\", \"Mass Function\"]\n",
    "\n",
    "dfs = []\n",
    "\n",
    "for n, table_dir in enumerate([base_path + '/' + x for x in list_of_tables]):\n",
    "    print(f\"Processing table {n+1}/{len(list_of_tables)}: {table_dir}\")\n",
    "\n",
    "    new_df = pd.DataFrame()\n",
    "\n",
    "    try: \n",
    "        # Open all the hdf5 files\n",
    "        with h5py.File(table_dir, \"r\") as f:\n",
    "\n",
    "            # Load and parse metadata\n",
    "            metadata_json = f[\"metadata_json\"][()].decode(\"utf-8\")\n",
    "            metadata_df = pd.read_json(StringIO(metadata_json), orient=\"records\")\n",
    "\n",
    "            for col in triplet_cols:\n",
    "                # Load triplet arrays\n",
    "                loerr = f[col][:, 0]\n",
    "                vals = f[col][:, 1]\n",
    "                uperr = f[col][:, 2]\n",
    "                new_df[col] = vals\n",
    "                new_df[col + '_uperr'] = loerr\n",
    "                new_df[col + '_loerr'] = uperr\n",
    "\n",
    "        new_df = pd.concat([metadata_df, new_df], axis=1)\n",
    "        new_df['table'] = [list_of_tables[n] for x in range(len(new_df))]\n",
    "        dfs.append(new_df)\n",
    "        \n",
    "    except Exception as e:\n",
    "        print(f\"Error processing {table_dir}: {e}\")\n",
    "        continue\n",
    "    \n",
    "    df_final = pd.concat(dfs)"
   ]
  },
  {
   "cell_type": "code",
   "execution_count": 39,
   "id": "27afb673",
   "metadata": {},
   "outputs": [
    {
     "name": "stdout",
     "output_type": "stream",
     "text": [
      "<KeysViewHDF5 ['Dec', 'Eccentricity', 'M1', 'M1_sin3i', 'M2', 'M2_sin3i', 'Period', 'RA', 'q']>\n"
     ]
    },
    {
     "ename": "KeyError",
     "evalue": "\"Unable to synchronously open object (object 'metadata_json' doesn't exist)\"",
     "output_type": "error",
     "traceback": [
      "\u001b[31m---------------------------------------------------------------------------\u001b[39m",
      "\u001b[31mKeyError\u001b[39m                                  Traceback (most recent call last)",
      "\u001b[36mCell\u001b[39m\u001b[36m \u001b[39m\u001b[32mIn[39]\u001b[39m\u001b[32m, line 14\u001b[39m\n\u001b[32m     11\u001b[39m     mass1 = f[\u001b[33m\"\u001b[39m\u001b[33mM1\u001b[39m\u001b[33m\"\u001b[39m][:]\n\u001b[32m     13\u001b[39m     \u001b[38;5;66;03m# Load and parse metadata\u001b[39;00m\n\u001b[32m---> \u001b[39m\u001b[32m14\u001b[39m     metadata_json = \u001b[43mf\u001b[49m\u001b[43m[\u001b[49m\u001b[33;43m\"\u001b[39;49m\u001b[33;43mmetadata_json\u001b[39;49m\u001b[33;43m\"\u001b[39;49m\u001b[43m]\u001b[49m[()].decode(\u001b[33m\"\u001b[39m\u001b[33mutf-8\u001b[39m\u001b[33m\"\u001b[39m)\n\u001b[32m     15\u001b[39m     metadata_df = pd.read_json(StringIO(metadata_json), orient=\u001b[33m\"\u001b[39m\u001b[33mrecords\u001b[39m\u001b[33m\"\u001b[39m)\n\u001b[32m     17\u001b[39m \u001b[38;5;28mprint\u001b[39m(metadata_df.keys() )\n",
      "\u001b[36mFile \u001b[39m\u001b[32mh5py/_objects.pyx:54\u001b[39m, in \u001b[36mh5py._objects.with_phil.wrapper\u001b[39m\u001b[34m()\u001b[39m\n",
      "\u001b[36mFile \u001b[39m\u001b[32mh5py/_objects.pyx:55\u001b[39m, in \u001b[36mh5py._objects.with_phil.wrapper\u001b[39m\u001b[34m()\u001b[39m\n",
      "\u001b[36mFile \u001b[39m\u001b[32m~/Documents/Projects/post_mt_review/.venv/lib/python3.11/site-packages/h5py/_hl/group.py:360\u001b[39m, in \u001b[36mGroup.__getitem__\u001b[39m\u001b[34m(self, name)\u001b[39m\n\u001b[32m    358\u001b[39m         \u001b[38;5;28;01mraise\u001b[39;00m \u001b[38;5;167;01mValueError\u001b[39;00m(\u001b[33m\"\u001b[39m\u001b[33mInvalid HDF5 object reference\u001b[39m\u001b[33m\"\u001b[39m)\n\u001b[32m    359\u001b[39m \u001b[38;5;28;01melif\u001b[39;00m \u001b[38;5;28misinstance\u001b[39m(name, (\u001b[38;5;28mbytes\u001b[39m, \u001b[38;5;28mstr\u001b[39m)):\n\u001b[32m--> \u001b[39m\u001b[32m360\u001b[39m     oid = \u001b[43mh5o\u001b[49m\u001b[43m.\u001b[49m\u001b[43mopen\u001b[49m\u001b[43m(\u001b[49m\u001b[38;5;28;43mself\u001b[39;49m\u001b[43m.\u001b[49m\u001b[43mid\u001b[49m\u001b[43m,\u001b[49m\u001b[43m \u001b[49m\u001b[38;5;28;43mself\u001b[39;49m\u001b[43m.\u001b[49m\u001b[43m_e\u001b[49m\u001b[43m(\u001b[49m\u001b[43mname\u001b[49m\u001b[43m)\u001b[49m\u001b[43m,\u001b[49m\u001b[43m \u001b[49m\u001b[43mlapl\u001b[49m\u001b[43m=\u001b[49m\u001b[38;5;28;43mself\u001b[39;49m\u001b[43m.\u001b[49m\u001b[43m_lapl\u001b[49m\u001b[43m)\u001b[49m\n\u001b[32m    361\u001b[39m \u001b[38;5;28;01melse\u001b[39;00m:\n\u001b[32m    362\u001b[39m     \u001b[38;5;28;01mraise\u001b[39;00m \u001b[38;5;167;01mTypeError\u001b[39;00m(\u001b[33m\"\u001b[39m\u001b[33mAccessing a group is done with bytes or str, \u001b[39m\u001b[33m\"\u001b[39m\n\u001b[32m    363\u001b[39m                     \u001b[33m\"\u001b[39m\u001b[33mnot \u001b[39m\u001b[38;5;132;01m{}\u001b[39;00m\u001b[33m\"\u001b[39m.format(\u001b[38;5;28mtype\u001b[39m(name)))\n",
      "\u001b[36mFile \u001b[39m\u001b[32mh5py/_objects.pyx:54\u001b[39m, in \u001b[36mh5py._objects.with_phil.wrapper\u001b[39m\u001b[34m()\u001b[39m\n",
      "\u001b[36mFile \u001b[39m\u001b[32mh5py/_objects.pyx:55\u001b[39m, in \u001b[36mh5py._objects.with_phil.wrapper\u001b[39m\u001b[34m()\u001b[39m\n",
      "\u001b[36mFile \u001b[39m\u001b[32mh5py/h5o.pyx:257\u001b[39m, in \u001b[36mh5py.h5o.open\u001b[39m\u001b[34m()\u001b[39m\n",
      "\u001b[31mKeyError\u001b[39m: \"Unable to synchronously open object (object 'metadata_json' doesn't exist)\""
     ]
    }
   ],
   "source": [
    "# Debugging \n",
    "\n",
    "# Open all the hdf5 files\n",
    "with h5py.File('../result_tables/contact.h5', \"r\") as f:\n",
    "    print(f.keys() )\n",
    "\n",
    "\n",
    "with h5py.File( \"../result_tables/contact.h5\", \"r\") as f:\n",
    "    # Load triplet arrays\n",
    "    eccentricity = f[\"Eccentricity\"][:]\n",
    "    mass1 = f[\"M1\"][:]\n",
    "\n",
    "    # Load and parse metadata\n",
    "    metadata_json = f[\"metadata_json\"][()].decode(\"utf-8\")\n",
    "    metadata_df = pd.read_json(StringIO(metadata_json), orient=\"records\")\n",
    "\n",
    "print(metadata_df.keys() )\n",
    "\n",
    "print(metadata_df['System Name'])\n",
    "\n",
    "print(eccentricity)"
   ]
  },
  {
   "cell_type": "markdown",
   "id": "65e017b9",
   "metadata": {},
   "source": [
    "# Now plot the data "
   ]
  },
  {
   "cell_type": "markdown",
   "id": "a5e86ac1",
   "metadata": {},
   "source": []
  }
 ],
 "metadata": {
  "kernelspec": {
   "display_name": ".venv",
   "language": "python",
   "name": "python3"
  },
  "language_info": {
   "codemirror_mode": {
    "name": "ipython",
    "version": 3
   },
   "file_extension": ".py",
   "mimetype": "text/x-python",
   "name": "python",
   "nbconvert_exporter": "python",
   "pygments_lexer": "ipython3",
   "version": "3.11.5"
  }
 },
 "nbformat": 4,
 "nbformat_minor": 5
}
