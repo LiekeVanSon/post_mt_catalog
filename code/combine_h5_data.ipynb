{
 "cells": [
  {
   "cell_type": "markdown",
   "id": "ed7cb2bb",
   "metadata": {},
   "source": [
    "# Read and combine all the individual hdf5 data files\n",
    "\n"
   ]
  },
  {
   "cell_type": "code",
   "execution_count": 13,
   "id": "d6885999",
   "metadata": {},
   "outputs": [],
   "source": [
    "import pandas as pd\n",
    "import numpy as np\n",
    "import os\n",
    "import h5py\n",
    "import matplotlib.pyplot as plt\n",
    "\n",
    "from io import StringIO\n"
   ]
  },
  {
   "cell_type": "code",
   "execution_count": 14,
   "id": "df9fc6d4",
   "metadata": {},
   "outputs": [
    {
     "name": "stdout",
     "output_type": "stream",
     "text": [
      "List of tables: ['Be_sdOB_table.h5', 'ns_table.h5', 'WRs_SMC.h5', 'example_obs_df_full.h5', 'algols.h5', 'bh_table.h5', 'stripped_star_table.h5', 'example_obs_df.h5', 'contact.h5', 'WDMS/WD_Binary_Pathways_X.h5', 'WDMS/RebassaMansergas2012.h5', 'WDMS/WD_Binary_Pathways_VI.h5', 'WDMS/Zorotovic2010.h5', 'WDMS/Escorza2019.h5', 'WDMS/Jorissen2019.h5', 'WDMS/Shahaf2024.h5']\n"
     ]
    }
   ],
   "source": [
    "# Directory where your .h5 files are stored\n",
    "base_path = \"../result_tables\"\n",
    "\n",
    "list_of_tables = []\n",
    "for table_name in os.listdir(base_path):\n",
    "    if table_name.endswith(\".h5\"):\n",
    "        list_of_tables.append(table_name)\n",
    "\n",
    "for table_name in os.listdir(os.path.join(base_path, \"WDMS\")):\n",
    "    if table_name.endswith(\".h5\"):\n",
    "        list_of_tables.append('WDMS/'+table_name)\n",
    "\n",
    "\n",
    "print(\"List of tables:\", list_of_tables)\n"
   ]
  },
  {
   "cell_type": "code",
   "execution_count": 16,
   "id": "0352b7c7",
   "metadata": {},
   "outputs": [
    {
     "name": "stdout",
     "output_type": "stream",
     "text": [
      "Processing table 1/16: ../result_tables/Be_sdOB_table.h5\n",
      "Processing table 2/16: ../result_tables/ns_table.h5\n",
      "Processing table 3/16: ../result_tables/WRs_SMC.h5\n",
      "Error processing ../result_tables/WRs_SMC.h5: \"Unable to synchronously open object (object 'M1' doesn't exist)\"\n",
      "Processing table 4/16: ../result_tables/example_obs_df_full.h5\n",
      "Processing table 5/16: ../result_tables/algols.h5\n",
      "Processing table 6/16: ../result_tables/bh_table.h5\n",
      "Processing table 7/16: ../result_tables/stripped_star_table.h5\n",
      "Error processing ../result_tables/stripped_star_table.h5: Index (1) out of range for (0-0)\n",
      "Processing table 8/16: ../result_tables/example_obs_df.h5\n",
      "Error processing ../result_tables/example_obs_df.h5: \"Unable to synchronously open object (object 'metadata_json' doesn't exist)\"\n",
      "Processing table 9/16: ../result_tables/contact.h5\n",
      "Error processing ../result_tables/contact.h5: \"Unable to synchronously open object (object 'metadata_json' doesn't exist)\"\n",
      "Processing table 10/16: ../result_tables/WDMS/WD_Binary_Pathways_X.h5\n",
      "Processing table 11/16: ../result_tables/WDMS/RebassaMansergas2012.h5\n",
      "Processing table 12/16: ../result_tables/WDMS/WD_Binary_Pathways_VI.h5\n",
      "Processing table 13/16: ../result_tables/WDMS/Zorotovic2010.h5\n",
      "Processing table 14/16: ../result_tables/WDMS/Escorza2019.h5\n",
      "Processing table 15/16: ../result_tables/WDMS/Jorissen2019.h5\n",
      "Processing table 16/16: ../result_tables/WDMS/Shahaf2024.h5\n"
     ]
    }
   ],
   "source": [
    "triplet_cols = [\"RA\", \"Dec\", \"Period\", \"Eccentricity\", \"M1\", \"M1_sin3i\", \"M2\", \"M2_sin3i\", \"q\", \"Mass Function\"]\n",
    "\n",
    "dfs = []\n",
    "\n",
    "for n, table_dir in enumerate([base_path + '/' + x for x in list_of_tables]):\n",
    "    print(f\"Processing table {n+1}/{len(list_of_tables)}: {table_dir}\")\n",
    "\n",
    "    new_df = pd.DataFrame()\n",
    "\n",
    "    try: \n",
    "        # Open all the hdf5 files\n",
    "        with h5py.File(table_dir, \"r\") as f:\n",
    "\n",
    "            # Load and parse metadata\n",
    "            metadata_json = f[\"metadata_json\"][()].decode(\"utf-8\")\n",
    "            metadata_df = pd.read_json(StringIO(metadata_json), orient=\"records\")\n",
    "\n",
    "            for col in triplet_cols:\n",
    "                # Load triplet arrays\n",
    "                loerr = f[col][:, 0]\n",
    "                vals = f[col][:, 1]\n",
    "                uperr = f[col][:, 2]\n",
    "                new_df[col] = vals\n",
    "                new_df[col + '_uperr'] = loerr\n",
    "                new_df[col + '_loerr'] = uperr\n",
    "\n",
    "        new_df = pd.concat([metadata_df, new_df], axis=1)\n",
    "        new_df['table'] = [list_of_tables[n] for x in range(len(new_df))]\n",
    "        dfs.append(new_df)\n",
    "        \n",
    "    except Exception as e:\n",
    "        print(f\"Error processing {table_dir}: {e}\")\n",
    "        continue\n",
    "    \n",
    "    df_final = pd.concat(dfs)"
   ]
  },
  {
   "cell_type": "code",
   "execution_count": null,
   "id": "27afb673",
   "metadata": {},
   "outputs": [],
   "source": []
  },
  {
   "cell_type": "markdown",
   "id": "65e017b9",
   "metadata": {},
   "source": [
    "# Now plot the data "
   ]
  }
 ],
 "metadata": {
  "kernelspec": {
   "display_name": ".venv",
   "language": "python",
   "name": "python3"
  },
  "language_info": {
   "codemirror_mode": {
    "name": "ipython",
    "version": 3
   },
   "file_extension": ".py",
   "mimetype": "text/x-python",
   "name": "python",
   "nbconvert_exporter": "python",
   "pygments_lexer": "ipython3",
   "version": "3.11.5"
  }
 },
 "nbformat": 4,
 "nbformat_minor": 5
}
