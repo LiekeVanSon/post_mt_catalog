{
 "cells": [
  {
   "cell_type": "markdown",
   "id": "39fe6234",
   "metadata": {},
   "source": [
    "# Compiling the post mass transfer systems that contain a Be star"
   ]
  },
  {
   "cell_type": "code",
   "execution_count": 1,
   "id": "6ee65560",
   "metadata": {},
   "outputs": [],
   "source": [
    "import numpy as np\n",
    "import pandas as pd"
   ]
  },
  {
   "cell_type": "markdown",
   "id": "38784858",
   "metadata": {},
   "source": [
    "## What are the papers I "
   ]
  },
  {
   "cell_type": "code",
   "execution_count": null,
   "id": "a414d764",
   "metadata": {},
   "outputs": [],
   "source": [
    "\n",
    "# Define columns, with key quantities stored as lists: [err-, value, err+]\n",
    "columns = [\n",
    "    \"System Name\", \"RA\", \"Dec\", \"Period\", \"Eccentricity\",\n",
    "    \"M1\", \"M2\", \"q\", \"Mass Function\",\n",
    "    \"Type1\", \"Type2\", \"Detection Method\", \"Reference\", \"Notes\"\n",
    "]\n",
    "\n",
    "# Initialize empty DataFrame\n",
    "observations_df = pd.DataFrame(columns=columns)\n",
    "\n",
    "# Define helper function using [err-, value, err+] triplets\n",
    "def add_observation(df, system_name,\n",
    "                    ra, dec, period, ecc,\n",
    "                    m1, m2, q, mass_func,\n",
    "                    type1, type2, method, reference, notes=\"\"):\n",
    "    # use np.inf if it is a lower limit (0 if it is an upper limit)\n",
    "    new_row = {\n",
    "        \"System Name\": system_name,\n",
    "        \"RA\": ra,                           # [err-, value, err+]\n",
    "        \"Dec\": dec,                         # [err-, value, err+]\n",
    "        \"Period\": period,                   # day [err-, value, err+]\n",
    "        \"Eccentricity\": ecc,                # [err-, value, err+]\n",
    "        \"M1\": m1,                           # Accretor star [err-, value, err+]\n",
    "        \"M2\": m2,                           # Donor (post MT 1) [err-, value, err+]\n",
    "        \"q \": q,                            # between 0 and 1 [err-, value, err+]\n",
    "        \"Mass Function\": mass_func,         # [err-, value, err+]\n",
    "        \"Type1\": type1,                     # [\"MS\", \"WD\", \"NS\", \"BH\" \"RG\", \"O\", \"B\" ]\n",
    "        \"Type2\": type2,                     # [\"MS\", \"WD\", \"NS\", \"BH\" \"RG\", \"O\", \"B\" ]\n",
    "        \"Detection Method\": method,         # list of strings [\"Xray\", \"RV\"= Radial velocity, \"EB\"=Eclipsing binary, \"AB\" = Astrometric binary, \"Other\"]  \n",
    "        \"Reference\": reference,             # ADS Bibcode    \n",
    "        \"Notes\": notes\n",
    "    }\n",
    "    return pd.concat([df, pd.DataFrame([new_row])], ignore_index=True)\n",
    "\n",
    "# Example: Add two entries\n",
    "observations_df = add_observation(\n",
    "    observations_df,\n",
    "    \"Example system\",\n",
    "    [0.005, 150.025, 0.005],        # RA\n",
    "    [0.004, -45.123, 0.004],        # Dec\n",
    "    [0.2, 12.5, 0.3],               # Period in days\n",
    "    [0.02, 0.30, 0.03],             # Eccentricity\n",
    "    [0.3, 10.0, 0.4],               # M1 in Msun\n",
    "    [0.2, 2.5, 0.3],                # M2 in Msun\n",
    "    [0.03, 0.25, 0.04],             # q (mass ratio)\n",
    "    [0.01, 1e-3, 0.02],             # Mass Function\n",
    "    \"MS\",                            # Type1\n",
    "    \"WD\",                            # Type2\n",
    "    [\"RV\", \"EB\"],                    # Detection Method\n",
    "    \"2025arXiv250514780L\",           # Reference (use Ads Bibcode)\n",
    "    \"This is an example system \",    # Notes\n",
    ")\n",
    "\n",
    "\n"
   ]
  },
  {
   "cell_type": "code",
   "execution_count": null,
   "id": "5bf7e489",
   "metadata": {},
   "outputs": [],
   "source": []
  },
  {
   "cell_type": "markdown",
   "id": "fd5d36ad",
   "metadata": {},
   "source": []
  }
 ],
 "metadata": {
  "kernelspec": {
   "display_name": ".venv",
   "language": "python",
   "name": "python3"
  },
  "language_info": {
   "codemirror_mode": {
    "name": "ipython",
    "version": 3
   },
   "file_extension": ".py",
   "mimetype": "text/x-python",
   "name": "python",
   "nbconvert_exporter": "python",
   "pygments_lexer": "ipython3",
   "version": "3.11.5"
  }
 },
 "nbformat": 4,
 "nbformat_minor": 5
}
