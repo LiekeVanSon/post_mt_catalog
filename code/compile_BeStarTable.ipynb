{
 "cells": [
  {
   "cell_type": "markdown",
   "id": "39fe6234",
   "metadata": {},
   "source": [
    "# Compiling the post mass transfer systems that contain a Be star\n",
    "\n",
    " Be+sdOB binaries are particularly valuable for studying mass transfer, as they represent clear examples of past binary interaction"
   ]
  },
  {
   "cell_type": "code",
   "execution_count": 1,
   "id": "6ee65560",
   "metadata": {},
   "outputs": [],
   "source": [
    "import numpy as np\n",
    "import pandas as pd"
   ]
  },
  {
   "cell_type": "markdown",
   "id": "38784858",
   "metadata": {},
   "source": [
    "\n",
    "## Papers of interest :\n",
    "\n",
    "- **Lechien + 2025** compute the mass transfer efficiency \"Binary stars take what they get: Evidence for Efficient Mass Transfer from Stripped Stars with Rapidly Rotating Companion\" [2025arXiv250514780L](https://ui.adsabs.harvard.edu/abs/2025arXiv250514780L/abstract)\n",
    "\n",
    "- **Wang + 2021** \"The Detection and Characterization of Be+sdO Binaries from HST/STIS FUV Spectroscopy\" [2021AJ....161..248W](https://ui.adsabs.harvard.edu/abs/2021AJ....161..248W/abstract)\n",
    "\n",
    "- **Klement + 2024** The CHARA Array Interferometric Program on the Multiplicity of Classical Be Stars: New Detections and Orbits of Stripped Subdwarf Companions  [2024ApJ...962...70K](https://ui.adsabs.harvard.edu/abs/2024ApJ...962...70K/abstract)\n",
    "\n",
    "- **Klement + 2025**  VLTI/GRAVITY enables the determination of the first dynamical masses of a classical Be + stripped and bloated pre-subdwarf binary [2025A&A...694A.208K](https://ui.adsabs.harvard.edu/abs/2025A%26A...694A.208K/abstract)\n",
    "\n",
    "\n"
   ]
  },
  {
   "cell_type": "code",
   "execution_count": null,
   "id": "a414d764",
   "metadata": {},
   "outputs": [],
   "source": [
    "# Define columns, with key quantities stored as lists: [err-, value, err+]\n",
    "columns = [\n",
    "    \"System Name\", \"RA\", \"Dec\", \"Period\", \"Eccentricity\",\n",
    "    \"M1\", \"M2\", \"q\", \"Mass Function\",\n",
    "    \"Type1\", \"Type2\", \"Detection Method\", \"Reference\", \"Notes\"\n",
    "]\n",
    "\n",
    "# Initialize empty DataFrame\n",
    "observations_df = pd.DataFrame(columns=columns)\n",
    "\n",
    "# Define helper function using [err-, value, err+] triplets\n",
    "def add_observation(df, system_name,\n",
    "                    ra, dec, period, ecc,\n",
    "                    m1, m2, q, mass_func,\n",
    "                    type1, type2, method, reference, notes=\"\"):\n",
    "    # use np.inf if it is a lower limit (0 if it is an upper limit)\n",
    "    new_row = {\n",
    "        \"System Name\": system_name,\n",
    "        \"RA\": ra,                           # [err-, value, err+]\n",
    "        \"Dec\": dec,                         # [err-, value, err+]\n",
    "\n",
    "        \"Period\": period,                   # day [err-, value, err+, lower/upper limit? ]\n",
    "        \"Eccentricity\": ecc,                # [err-, value, err+, lower/upper limit? ]\n",
    "        \"M1\": m1,                           # Accretor star [err-, value, err+, lower/upper limit? ]\n",
    "        \"M2\": m2,                           # Donor (post MT 1) [err-, value, err+, lower/upper limit? ]\n",
    "        \"q\": q,                            # M2/M1 = donor/accretor [err-, value, err+, lower/upper limit? ]\n",
    "        \"Mass Function\": mass_func,         # [err-, value, err+, lower/upper limit? ]\n",
    "\n",
    "        \"Type1\": type1,                     # [\"MS\", \"WD\", \"NS\", \"BH\" \"RG\", \"O\", \"B\" ]\n",
    "        \"Type2\": type2,                     # [\"MS\", \"WD\", \"NS\", \"BH\" \"RG\", \"O\", \"B\" ]\n",
    "        \"Detection Method\": method,         # list of strings [\"Xray\", \"RV\"= Radial velocity, \"EB\"=Eclipsing binary, \"AB\" = Astrometric binary, \"Other\"]  \n",
    "        \"Reference\": reference,             # ADS Bibcode    \n",
    "        \"Notes\": notes\n",
    "    }\n",
    "    return pd.concat([df, pd.DataFrame([new_row])], ignore_index=True)\n",
    "\n",
    "\n",
    "\n",
    "\n"
   ]
  },
  {
   "cell_type": "code",
   "execution_count": null,
   "id": "5bf7e489",
   "metadata": {},
   "outputs": [],
   "source": [
    "# Example: add an entry\n",
    "observations_df = add_observation(\n",
    "    observations_df,\n",
    "    \"Example system\",\n",
    "    [0.005, 150.025, 0.005],        # RA\n",
    "    [0.004, -45.123, 0.004],        # Dec\n",
    "\n",
    "    [0.2, 12.5, 0.3, ''],               # Period in days\n",
    "    [0.02, 0.30, 0.03, ''],             # Eccentricity\n",
    "    [0.5, 5.0, 0.5, 'upper'],               # M1 upper limit (i.e upper limit of 5 +- 0.5 Msun)\n",
    "    [0.2, 2.5, 0.3, ''],                # M2 in Msun\n",
    "    [0.03, 0.25, 0.04, ''],             # q (mass ratio)\n",
    "    [0.01, 1e-3, 0.02, ''],             # Mass Function\n",
    "    \n",
    "    \"MS\",                            # Type1\n",
    "    \"WD\",                            # Type2\n",
    "    [\"RV\", \"EB\"],                    # Detection Method\n",
    "    \"2025arXiv250514780L\",           # Reference (use Ads Bibcode)\n",
    "    \"This is an example system \",    # Notes\n",
    ")"
   ]
  },
  {
   "cell_type": "markdown",
   "id": "fd5d36ad",
   "metadata": {},
   "source": []
  }
 ],
 "metadata": {
  "kernelspec": {
   "display_name": ".venv",
   "language": "python",
   "name": "python3"
  },
  "language_info": {
   "codemirror_mode": {
    "name": "ipython",
    "version": 3
   },
   "file_extension": ".py",
   "mimetype": "text/x-python",
   "name": "python",
   "nbconvert_exporter": "python",
   "pygments_lexer": "ipython3",
   "version": "3.11.5"
  }
 },
 "nbformat": 4,
 "nbformat_minor": 5
}
