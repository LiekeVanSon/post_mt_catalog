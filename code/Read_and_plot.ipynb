{
 "cells": [
  {
   "cell_type": "markdown",
   "id": "ce939f70",
   "metadata": {},
   "source": [
    "# Explore the catalog using interactive plotly graphs"
   ]
  },
  {
   "cell_type": "code",
   "execution_count": 15,
   "id": "58e17a20",
   "metadata": {},
   "outputs": [],
   "source": [
    "import json\n",
    "import numpy as np\n",
    "import pandas as pd\n",
    "\n",
    "import os\n",
    "from io import StringIO\n",
    "\n",
    "import matplotlib.pyplot as plt\n",
    "import plotly.express as px\n",
    "\n",
    "\n",
    "file_path = \"../data/post_mt_systems.json\"  # or dummy.json"
   ]
  },
  {
   "cell_type": "code",
   "execution_count": 16,
   "id": "ce43ffd8",
   "metadata": {},
   "outputs": [],
   "source": [
    "# === Load JSON ===\n",
    "def read_json_file(file_path):\n",
    "    try:\n",
    "        with open(file_path, \"r\") as f:\n",
    "            data = json.load(f)\n",
    "        return data\n",
    "    except Exception as e:\n",
    "        print(f\"Error reading file: {e}\")\n",
    "        return None\n",
    "\n",
    "# ==  Function to easily extract some of the cols ==    \n",
    "def extract_array(data, key):\n",
    "    \"\"\"Extracts a given key from each system and returns a NumPy array.\"\"\"\n",
    "    try:\n",
    "        values = [entry.get(key, np.nan) for entry in data]\n",
    "        return np.array(values)\n",
    "    except Exception as e:\n",
    "        print(f\"Error extracting {key}: {e}\")\n",
    "        return None\n",
    "\n",
    "def extract_multiple(data, keys):\n",
    "    return {key: extract_array(data, key) for key in keys}\n"
   ]
  },
  {
   "cell_type": "code",
   "execution_count": 17,
   "id": "aafea51c",
   "metadata": {},
   "outputs": [],
   "source": [
    "# === Interactive Plotting with Plotly ===\n",
    "def plotly_vars(col1, col2, catalog_data, data=None, logx=False, logy=False):\n",
    "    \"\"\"\n",
    "    Plot col2 vs. col1 from catalog_data (e.g. output of extract_multiple),\n",
    "    optionally using metadata (from JSON) for hover and coloring.\n",
    "    \n",
    "    Parameters:\n",
    "        col1, col2: str\n",
    "            Keys to plot (e.g. 'M1', 'q')\n",
    "        catalog_data: dict of str -> np.ndarray\n",
    "            Typically from extract_multiple()\n",
    "        data: list of dict\n",
    "            Raw JSON data for metadata (optional but enables color, hover)\n",
    "        logx, logy: bool\n",
    "            Whether to use logarithmic axes\n",
    "    \"\"\"\n",
    "    # Extract central values and uncertainties\n",
    "    x = catalog_data[col1][:, 1]\n",
    "    xerr_lo = x - catalog_data[col1][:, 0]\n",
    "    xerr_hi = catalog_data[col1][:, 2] - x\n",
    "\n",
    "    y = catalog_data[col2][:, 1]\n",
    "    yerr_lo = y - catalog_data[col2][:, 0]\n",
    "    yerr_hi = catalog_data[col2][:, 2] - y\n",
    "\n",
    "    # Default metadata\n",
    "    N = len(x)\n",
    "    system_name = [\"\"] * N\n",
    "    type1 = [\"\"] * N\n",
    "    type2 = [\"Unknown\"] * N\n",
    "    marker_size = [4] * N\n",
    "\n",
    "    if data is not None:\n",
    "        system_name = [entry.get(\"System Name\", \"\") for entry in data]\n",
    "        type1 = [entry.get(\"Type1\", \"\") for entry in data]\n",
    "        type2 = [entry.get(\"Type2\", \"Unknown\") for entry in data]\n",
    "        marker_size = [1 if t2 == \"WD\" else 5 for t2 in type2]\n",
    "\n",
    "    fig = px.scatter(\n",
    "        x=x,\n",
    "        y=y,\n",
    "        color=type2,\n",
    "        hover_data={\"System Name\": system_name, \"Type1\": type1},\n",
    "        error_x=xerr_hi,\n",
    "        error_x_minus=xerr_lo,\n",
    "        error_y=yerr_hi,\n",
    "        error_y_minus=yerr_lo,\n",
    "        size=marker_size,\n",
    "        size_max=5,\n",
    "        labels={\"x\": col1, \"y\": col2}\n",
    "    )\n",
    "\n",
    "    fig.update_layout(\n",
    "        width=900,\n",
    "        height=600,\n",
    "        xaxis_title=col1,\n",
    "        yaxis_title=col2,\n",
    "        xaxis_title_font=dict(size=18),\n",
    "        yaxis_title_font=dict(size=18),\n",
    "        legend=dict(font=dict(size=16)),\n",
    "    )\n",
    "\n",
    "    fig.update_yaxes(tickfont=dict(size=14))\n",
    "    fig.update_xaxes(tickfont=dict(size=14))\n",
    "\n",
    "    if logx:\n",
    "        fig.update_xaxes(type=\"log\")\n",
    "    if logy:\n",
    "        fig.update_yaxes(type=\"log\")\n",
    "\n",
    "    return fig\n"
   ]
  },
  {
   "cell_type": "code",
   "execution_count": 18,
   "id": "65a52174",
   "metadata": {},
   "outputs": [
    {
     "name": "stdout",
     "output_type": "stream",
     "text": [
      "['System Name', 'Type1', 'Type2', 'Detection Method', 'Reference', 'Notes', 'RA', 'Dec', 'Period', 'Eccentricity', 'M1', 'M1_sin3i', 'M2', 'M2_sin3i', 'q', 'Mass Function']\n"
     ]
    }
   ],
   "source": [
    "# Load json data \n",
    "data = read_json_file(\"../data/post_mt_systems.json\")\n",
    "# show_available_keys\n",
    "print(list(data[0].keys()))\n",
    "\n",
    "# extract variables\n",
    "catalog_data = extract_multiple(data, [\"M1\", \"q\", \"Period\"])\n"
   ]
  },
  {
   "cell_type": "code",
   "execution_count": 23,
   "id": "85de4810",
   "metadata": {},
   "outputs": [
    {
     "data": {
      "application/vnd.plotly.v1+json": {
       "config": {
        "plotlyServerURL": "https://plot.ly"
       },
       "data": [
        {
         "customdata": [
          [
           "BAT99 19",
           "O6 V"
          ],
          [
           "BAT99 49",
           "O9 V"
          ],
          [
           "BAT99 59",
           "O9 V"
          ],
          [
           "BAT99 64",
           "O9 V"
          ],
          [
           "SMC AB 7",
           "O-O6 I"
          ]
         ],
         "error_x": {
          "array": {
           "bdata": "oBov3SQG4b9SuB6F61HYvwAAAAAAAPh/AAAAAAAA+H8AAAAAAADgvw==",
           "dtype": "f8"
          },
          "arrayminus": {
           "bdata": "oBov3SQG4T9SuB6F61HYPwAAAAAAAPh/AAAAAAAA+H8AAAAAAADgPw==",
           "dtype": "f8"
          }
         },
         "error_y": {
          "array": {
           "bdata": "y6FFtvP9McApXI/C9ag/wEXY8PRK2RLApHA9CtfDQsCsHFpkO48zwA==",
           "dtype": "f8"
          },
          "arrayminus": {
           "bdata": "y6FFtvP9MUApXI/C9ag/QEXY8PRK2RJApHA9CtfDQkCsHFpkO48zQA==",
           "dtype": "f8"
          }
         },
         "hovertemplate": "color=WR-WN4<br>q=%{x}<br>Period=%{y}<br>size=%{marker.size}<br>System Name=%{customdata[0]}<br>Type1=%{customdata[1]}<extra></extra>",
         "legendgroup": "WR-WN4",
         "marker": {
          "color": "#636efa",
          "size": {
           "bdata": "BQUFBQU=",
           "dtype": "i1"
          },
          "sizemode": "area",
          "sizeref": 0.2,
          "symbol": "circle"
         },
         "mode": "markers",
         "name": "WR-WN4",
         "showlegend": true,
         "type": "scattergl",
         "x": {
          "bdata": "QmDl0CLb4T8AAAAAAADgPwAAAAAAAPh/AAAAAAAA+H+kcD0K16PgPw==",
          "dtype": "f8"
         },
         "xaxis": "x",
         "y": {
          "bdata": "WDm0yHb+MUBxPQrXo7A/QAtGJXUC2hJA7FG4HoXLQkCPwvUoXI8zQA==",
          "dtype": "f8"
         },
         "yaxis": "y"
        },
        {
         "customdata": [
          [
           "BAT99 28",
           "O5 V"
          ]
         ],
         "error_x": {
          "array": {
           "bdata": "oBov3SQG4b8=",
           "dtype": "f8"
          },
          "arrayminus": {
           "bdata": "oBov3SQG4T8=",
           "dtype": "f8"
          }
         },
         "error_y": {
          "array": {
           "bdata": "AAAAAAAA+H8=",
           "dtype": "f8"
          },
          "arrayminus": {
           "bdata": "AAAAAAAA+H8=",
           "dtype": "f8"
          }
         },
         "hovertemplate": "color=WR-WC6<br>q=%{x}<br>Period=%{y}<br>size=%{marker.size}<br>System Name=%{customdata[0]}<br>Type1=%{customdata[1]}<extra></extra>",
         "legendgroup": "WR-WC6",
         "marker": {
          "color": "#EF553B",
          "size": {
           "bdata": "BQ==",
           "dtype": "i1"
          },
          "sizemode": "area",
          "sizeref": 0.2,
          "symbol": "circle"
         },
         "mode": "markers",
         "name": "WR-WC6",
         "showlegend": true,
         "type": "scattergl",
         "x": {
          "bdata": "QmDl0CLb4T8=",
          "dtype": "f8"
         },
         "xaxis": "x",
         "y": {
          "bdata": "JzEIrBzaLUA=",
          "dtype": "f8"
         },
         "yaxis": "y"
        },
        {
         "customdata": [
          [
           "BAT99 29",
           "B1.5 V"
          ],
          [
           "BAT99 43",
           "O9 V"
          ],
          [
           "BAT99 71",
           "O6.5 V"
          ],
          [
           "BAT99 92",
           "O6 V"
          ],
          [
           "BAT99 126",
           "O7 V"
          ],
          [
           "SMC AB 3",
           "O-O9"
          ],
          [
           "SMC AB 6",
           "O-O5.5 V"
          ]
         ],
         "error_x": {
          "array": {
           "bdata": "AAAAAAAA+H8AAAAAAAD4fwAAAAAAAPh/AAAAAAAA+H8AAAAAAAD4fwAAAAAAAPh/PQrXo3A92r8=",
           "dtype": "f8"
          },
          "arrayminus": {
           "bdata": "AAAAAAAA+H8AAAAAAAD4fwAAAAAAAPh/AAAAAAAA+H8AAAAAAAD4fwAAAAAAAPh/PQrXo3A92j8=",
           "dtype": "f8"
          }
         },
         "error_y": {
          "array": {
           "bdata": "eHqlLEOcAcBJnYAmwoYGwJYhjnVxmwLAVn2utmI/EcD2KFyPwnU5wH9qvHSTGCTA8+UF2EcnGsA=",
           "dtype": "f8"
          },
          "arrayminus": {
           "bdata": "eHqlLEOcAUBJnYAmwoYGQJYhjnVxmwJAVn2utmI/EUD2KFyPwnU5QH9qvHSTGCRA8+UF2EcnGkA=",
           "dtype": "f8"
          }
         },
         "hovertemplate": "color=WR-WN3<br>q=%{x}<br>Period=%{y}<br>size=%{marker.size}<br>System Name=%{customdata[0]}<br>Type1=%{customdata[1]}<extra></extra>",
         "legendgroup": "WR-WN3",
         "marker": {
          "color": "#00cc96",
          "size": {
           "bdata": "BQUFBQUFBQ==",
           "dtype": "i1"
          },
          "sizemode": "area",
          "sizeref": 0.2,
          "symbol": "circle"
         },
         "mode": "markers",
         "name": "WR-WN3",
         "showlegend": true,
         "type": "scattergl",
         "x": {
          "bdata": "AAAAAAAA+H8AAAAAAAD4fwAAAAAAAPh/AAAAAAAA+H8AAAAAAAD4fwAAAAAAAPh/hetRuB6F2z8=",
          "dtype": "f8"
         },
         "xaxis": "x",
         "y": {
          "bdata": "Iv32deCcAUC6SQwCK4cGQLFQa5p3nAJAAAAAAABAEUAAAAAAAIA5QEJg5dAiGyRAZapgVFInGkA=",
          "dtype": "f8"
         },
         "yaxis": "y"
        },
        {
         "customdata": [
          [
           "BAT99 38",
           "O-uncertain"
          ],
          [
           "BAT99 39",
           "O6 V"
          ]
         ],
         "error_x": {
          "array": {
           "bdata": "AAAAAAAA+H9I4XoUrkfBvw==",
           "dtype": "f8"
          },
          "arrayminus": {
           "bdata": "AAAAAAAA+H9I4XoUrkfBPw==",
           "dtype": "f8"
          }
         },
         "error_y": {
          "array": {
           "bdata": "AAAAAAAA+H8AAAAAAAD4fw==",
           "dtype": "f8"
          },
          "arrayminus": {
           "bdata": "AAAAAAAA+H8AAAAAAAD4fw==",
           "dtype": "f8"
          }
         },
         "hovertemplate": "color=WR-WC4<br>q=%{x}<br>Period=%{y}<br>size=%{marker.size}<br>System Name=%{customdata[0]}<br>Type1=%{customdata[1]}<extra></extra>",
         "legendgroup": "WR-WC4",
         "marker": {
          "color": "#ab63fa",
          "size": {
           "bdata": "BQU=",
           "dtype": "i1"
          },
          "sizemode": "area",
          "sizeref": 0.2,
          "symbol": "circle"
         },
         "mode": "markers",
         "name": "WR-WC4",
         "showlegend": true,
         "type": "scattergl",
         "x": {
          "bdata": "AAAAAAAA+H/HSzeJQWDFPw==",
          "dtype": "f8"
         },
         "xaxis": "x",
         "y": {
          "bdata": "+z+H+fJCCED7P4f58kIIQA==",
          "dtype": "f8"
         },
         "yaxis": "y"
        },
        {
         "customdata": [
          [
           "BAT99 77",
           "O7.5 III"
          ]
         ],
         "error_x": {
          "array": {
           "bdata": "uB6F61G43r8=",
           "dtype": "f8"
          },
          "arrayminus": {
           "bdata": "uB6F61G43j8=",
           "dtype": "f8"
          }
         },
         "error_y": {
          "array": {
           "bdata": "2SCTjJwFCMA=",
           "dtype": "f8"
          },
          "arrayminus": {
           "bdata": "2SCTjJwFCEA=",
           "dtype": "f8"
          }
         },
         "hovertemplate": "color=WR-WN7<br>q=%{x}<br>Period=%{y}<br>size=%{marker.size}<br>System Name=%{customdata[0]}<br>Type1=%{customdata[1]}<extra></extra>",
         "legendgroup": "WR-WN7",
         "marker": {
          "color": "#FFA15A",
          "size": {
           "bdata": "BQ==",
           "dtype": "i1"
          },
          "sizemode": "area",
          "sizeref": 0.2,
          "symbol": "circle"
         },
         "mode": "markers",
         "name": "WR-WN7",
         "showlegend": true,
         "type": "scattergl",
         "x": {
          "bdata": "MzMzMzMz4z8=",
          "dtype": "f8"
         },
         "xaxis": "x",
         "y": {
          "bdata": "SkG3lzQGCEA=",
          "dtype": "f8"
         },
         "yaxis": "y"
        },
        {
         "customdata": [
          [
           "BAT99 103",
           "O4 V"
          ],
          [
           "BAT99 129",
           "O4 V"
          ]
         ],
         "error_x": {
          "array": {
           "bdata": "hutRuB6F27/hehSuR+Hivw==",
           "dtype": "f8"
          },
          "arrayminus": {
           "bdata": "hutRuB6F2z/hehSuR+HiPw==",
           "dtype": "f8"
          }
         },
         "error_y": {
          "array": {
           "bdata": "xZRIopcRBsDZzvdT4yUGwA==",
           "dtype": "f8"
          },
          "arrayminus": {
           "bdata": "xZRIopcRBkDZzvdT4yUGQA==",
           "dtype": "f8"
          }
         },
         "hovertemplate": "color=WR-WN5<br>q=%{x}<br>Period=%{y}<br>size=%{marker.size}<br>System Name=%{customdata[0]}<br>Type1=%{customdata[1]}<extra></extra>",
         "legendgroup": "WR-WN5",
         "marker": {
          "color": "#19d3f3",
          "size": {
           "bdata": "BQU=",
           "dtype": "i1"
          },
          "sizemode": "area",
          "sizeref": 0.2,
          "symbol": "circle"
         },
         "mode": "markers",
         "name": "WR-WN5",
         "showlegend": true,
         "type": "scattergl",
         "x": {
          "bdata": "pHA9Ctej4D9aZDvfT43jPw==",
          "dtype": "f8"
         },
         "xaxis": "x",
         "y": {
          "bdata": "4X8r2bERBkBKe4MvTCYGQA==",
          "dtype": "f8"
         },
         "yaxis": "y"
        },
        {
         "customdata": [
          [
           "HD58978",
           "Be"
          ],
          [
           "HD200120",
           "Be"
          ],
          [
           "HD10516",
           "Be"
          ],
          [
           "HD55606",
           "Be"
          ],
          [
           "HD109387",
           "Be"
          ],
          [
           "HD113120",
           "Be"
          ],
          [
           "HD137387",
           "Be"
          ],
          [
           "HD152478",
           "Be"
          ],
          [
           "HD157042",
           "Be"
          ],
          [
           "HD41335",
           "Be"
          ],
          [
           "HD161306",
           "Be"
          ],
          [
           "HD183537",
           "Be"
          ],
          [
           "HD191610",
           "Be"
          ],
          [
           "HD194335",
           "Be"
          ],
          [
           "HD200310",
           "Be"
          ],
          [
           "HD167128",
           "Be"
          ]
         ],
         "error_x": {
          "array": {
           "bdata": "tjLhl/p5s79nJ4Oj5NWpv9iZQuc1drm/veMUHcnlv7/EA8qmXOG1v19jl6jeGrC/501FKowtvL97FK5H4Xqkv3x+GCE82pi//H5qvHSTiL8mBoGVQ4u8v47uIHam0Lm/xNMrZRnisL+EZAETuHW/v8DPuHAgJLu/wAmFCDiEqr8=",
           "dtype": "f8"
          },
          "arrayminus": {
           "bdata": "myDqPgCptT/eGtgqweKwP12nkZbK27k/DY6SV+cYwD8hq1s9J723PzwBTYQNT7c/bCHIQQkzvT+neccpOpKrP5YEqKlla60/zvxqDhDMoT+qE9BE2PC8PwVu3c1THbo/U+3T8ZiBsj97MZQT7SrAP5rOTgZHybs/RgiPNo5Yqz8=",
           "dtype": "f8"
          }
         },
         "error_y": {
          "array": {
           "bdata": "c2iR7XyfQsBWDi2ynS88wP8h/fZ1rF/AkML1KFxvV8BLyAc9m8VOwPUoXI/CrWbAAAAAAAAAaMAK16NwPYptwFyPwvUoBGbApN++Dpw3VMBwPQrXo9BYwL7BFyZTYVHAL90kBoFzdsA1gLdAgpJPwEkMAiuHcmLA0t7gC5MpRMA=",
           "dtype": "f8"
          },
          "arrayminus": {
           "bdata": "c2iR7XyfQkBWDi2ynS88QP8h/fZ1rF9AkML1KFxvV0BLyAc9m8VOQPUoXI/CrWZAAAAAAAAAaEAK16NwPYptQFyPwvUoBGZApN++Dpw3VEBwPQrXo9BYQL7BFyZTYVFAL90kBoFzdkA1gLdAgpJPQEkMAiuHcmJA0t7gC5MpREA=",
           "dtype": "f8"
          }
         },
         "hovertemplate": "color=sdOB<br>q=%{x}<br>Period=%{y}<br>size=%{marker.size}<br>System Name=%{customdata[0]}<br>Type1=%{customdata[1]}<extra></extra>",
         "legendgroup": "sdOB",
         "marker": {
          "color": "#FF6692",
          "size": {
           "bdata": "BQUFBQUFBQUFBQUFBQUFBQ==",
           "dtype": "i1"
          },
          "sizemode": "area",
          "sizeref": 0.2,
          "symbol": "circle"
         },
         "mode": "markers",
         "name": "sdOB",
         "showlegend": true,
         "type": "scattergl",
         "x": {
          "bdata": "jswjfzDwvD9txf6ye/K4PwAAAAAAAMA/idLe4AuTwT+pvB3htOC9P1dD4h5LH8I/7BLVWwNbwT/k2lAxzt+0P7n8h/Tb17k/LudSXFX2rT9eonprYKvAPwiUTbnCu7w/v0hoy7kUvz+mYfiImBLFP6Q2cXK/Q8E/k8ZoHVVNsD8=",
          "dtype": "f8"
         },
         "xaxis": "x",
         "y": {
          "bdata": "qvHSTWKgQkDkFB3J5S88QE2EDU+vrF9AcT0K16NwV0DY8PRKWcZOQOF6FK5HsWZAMzMzMzMDaEAAAAAAAJBtQD0K16NwBWZAMuauJeQ3VEBcj8L1KNRYQCgPC7WmYVFAXI/C9Sh0dkB7FK5H4ZJPQDm0yHa+c2JA4JwRpb0pREA=",
          "dtype": "f8"
         },
         "yaxis": "y"
        },
        {
         "customdata": [
          [
           "Gaia NS1",
           "MS"
          ],
          [
           "J0553-1349",
           "MS"
          ],
          [
           "J2057-4742",
           "MS"
          ],
          [
           "J1553-6846",
           "MS"
          ],
          [
           "J2102+3703",
           "MS"
          ],
          [
           "J0742-4749",
           "MS"
          ],
          [
           "J0152-2049",
           "MS"
          ],
          [
           "J0003-5604",
           "MS"
          ],
          [
           "J1733+5808",
           "MS"
          ],
          [
           "J1150-2203",
           "MS"
          ],
          [
           "J1449+6919",
           "MS"
          ],
          [
           "J0217-7541",
           "MS"
          ],
          [
           "J0639-3655",
           "MS"
          ],
          [
           "J1739+4502",
           "MS"
          ],
          [
           "J0036-0932",
           "MS"
          ],
          [
           "J1048+6547",
           "MS"
          ],
          [
           "J2145+2837",
           "MS"
          ],
          [
           "J2244-2236",
           "MS"
          ],
          [
           "J0824+5254",
           "MS"
          ],
          [
           "J0230+5950",
           "MS"
          ],
          [
           "J0634+6256",
           "MS"
          ],
          [
           "PSR B1820-11",
           "MS/WD?"
          ],
          [
           "PSR J1954+2529",
           "MS/WD?"
          ]
         ],
         "error_x": {
          "array": {
           "bdata": "AAAAAAAA+H8AAAAAAAD4fwAAAAAAAPh/AAAAAAAA+H8AAAAAAAD4fwAAAAAAAPh/AAAAAAAA+H8AAAAAAAD4fwAAAAAAAPh/AAAAAAAA+H8AAAAAAAD4fwAAAAAAAPh/AAAAAAAA+H8AAAAAAAD4fwAAAAAAAPh/AAAAAAAA+H8AAAAAAAD4fwAAAAAAAPh/AAAAAAAA+H8AAAAAAAD4fwAAAAAAAPh/AAAAAAAA+H8AAAAAAAD4fw==",
           "dtype": "f8"
          },
          "arrayminus": {
           "bdata": "AAAAAAAA+H8AAAAAAAD4fwAAAAAAAPh/AAAAAAAA+H8AAAAAAAD4fwAAAAAAAPh/AAAAAAAA+H8AAAAAAAD4fwAAAAAAAPh/AAAAAAAA+H8AAAAAAAD4fwAAAAAAAPh/AAAAAAAA+H8AAAAAAAD4fwAAAAAAAPh/AAAAAAAA+H8AAAAAAAD4fwAAAAAAAPh/AAAAAAAA+H8AAAAAAAD4fwAAAAAAAPh/AAAAAAAA+H8AAAAAAAD4fw==",
           "dtype": "f8"
          }
         },
         "error_y": {
          "array": {
           "bdata": "MzMzMzPThsCZmZmZmaFnwMP1KFyPwmzAKVyPwvVgc8AVrkfhegx+wDQzMzMzE3/ASOF6FK6/gMC5HoXrUYyBwNijcD0K1YHAHoXrUbi8g8DrUbgehcODwDMzMzMz24PAAAAAAABwhMBmZmZmZoaEwDMzMzMzd4bAAAAAAACwicBmZmZmZsaLwGZmZmZmTo3ANDMzMzP7j8AAAAAAAACQwJqZmZmZT5DAKe0NvjBcdsDLhF/q561UwA==",
           "dtype": "f8"
          },
          "arrayminus": {
           "bdata": "MzMzMzPThkCZmZmZmaFnQMP1KFyPwmxAKVyPwvVgc0AVrkfhegx+QDQzMzMzE39ASOF6FK6/gEC5HoXrUYyBQNijcD0K1YFAHoXrUbi8g0DrUbgehcODQDMzMzMz24NAAAAAAABwhEBmZmZmZoaEQDMzMzMzd4ZAAAAAAACwiUBmZmZmZsaLQGZmZmZmTo1ANDMzMzP7j0AAAAAAAACQQJqZmZmZT5BAKe0NvjBcdkDLhF/q561UQA==",
           "dtype": "f8"
          }
         },
         "hovertemplate": "color=NS<br>q=%{x}<br>Period=%{y}<br>size=%{marker.size}<br>System Name=%{customdata[0]}<br>Type1=%{customdata[1]}<extra></extra>",
         "legendgroup": "NS",
         "marker": {
          "color": "#B6E880",
          "size": {
           "bdata": "BQUFBQUFBQUFBQUFBQUFBQUFBQUFBQU=",
           "dtype": "i1"
          },
          "sizemode": "area",
          "sizeref": 0.2,
          "symbol": "circle"
         },
         "mode": "markers",
         "name": "NS",
         "showlegend": true,
         "type": "scattergl",
         "x": {
          "bdata": "AAAAAAAA+H8AAAAAAAD4fwAAAAAAAPh/AAAAAAAA+H8AAAAAAAD4fwAAAAAAAPh/AAAAAAAA+H8AAAAAAAD4fwAAAAAAAPh/AAAAAAAA+H8AAAAAAAD4fwAAAAAAAPh/AAAAAAAA+H8AAAAAAAD4fwAAAAAAAPh/AAAAAAAA+H8AAAAAAAD4fwAAAAAAAPh/AAAAAAAA+H8AAAAAAAD4fwAAAAAAAPh/AAAAAAAA+H8AAAAAAAD4fw==",
          "dtype": "f8"
         },
         "xaxis": "x",
         "y": {
          "bdata": "MzMzMzPXhkAzMzMzM6NnQM3MzMzMxGxAH4XrUbhic0BxPQrXoxB+QJqZmZmZGX9AhetRuB7BgEBxPQrXo46BQOxRuB6F14FAFK5H4Xq+g0AzMzMzM8WDQM3MzMzM4INAzczMzMx0hEAzMzMzM4uEQGZmZmZmfoZAAAAAAADYiUAAAAAAAMyLQGZmZmZmUo1AzczMzMwKkEAAAAAAABSQQAAAAAAAWJBALpCg+DFcdkAknBa86K1UQA==",
          "dtype": "f8"
         },
         "yaxis": "y"
        },
        {
         "customdata": [
          [
           "2XMM J1255",
           "MS"
          ],
          [
           "2MASS J06163552",
           "MS"
          ],
          [
           "LAMOST J1123",
           "MS"
          ],
          [
           "56 UMa",
           "RG"
          ],
          [
           "J0606+2132",
           "MS"
          ],
          [
           "G3431",
           "MS"
          ]
         ],
         "error_x": {
          "array": {
           "bdata": "AAAAAAAA8L8AAAAAAAD4fwAAAAAAAADAAAAAAAAA+H8AAAAAAAD4fwAAAAAAAPh/",
           "dtype": "f8"
          },
          "arrayminus": {
           "bdata": "exSuR+F68D8AAAAAAAD4fwAAAAAAAABAAAAAAAAA+H8AAAAAAAD4fwAAAAAAAPh/",
           "dtype": "f8"
          }
         },
         "error_y": {
          "array": {
           "bdata": "Emba/pUVBsDQ1VbsL7vrv4KLFTWYhtG/AAAAAEAW0MA486s5QDAGwNejcD0KF17A",
           "dtype": "f8"
          },
          "arrayminus": {
           "bdata": "Emba/pUVBkDQ1VbsL7vrP4KLFTWYhtE/AAAAAIAf0EA486s5QDAGQEjhehSuF15A",
           "dtype": "f8"
          }
         },
         "hovertemplate": "color=NS/WD?<br>q=%{x}<br>Period=%{y}<br>size=%{marker.size}<br>System Name=%{customdata[0]}<br>Type1=%{customdata[1]}<extra></extra>",
         "legendgroup": "NS/WD?",
         "marker": {
          "color": "#FF97FF",
          "size": {
           "bdata": "BQUFBQUF",
           "dtype": "i1"
          },
          "sizemode": "area",
          "sizeref": 0.2,
          "symbol": "circle"
         },
         "mode": "markers",
         "name": "NS/WD?",
         "showlegend": true,
         "type": "scattergl",
         "x": {
          "bdata": "MzMzMzMz8z8AAAAAAAD4f1K4HoXrUQBAAAAAAAAA+H8AAAAAAAD4fwAAAAAAAPh/",
          "dtype": "f8"
         },
         "xaxis": "x",
         "y": {
          "bdata": "S8gHPZsVBkDQ1VbsL7vrP4KLFTWYhtE/AAAAAMCD0ECqtwa2SjAGQKRwPQrXI15A",
          "dtype": "f8"
         },
         "yaxis": "y"
        },
        {
         "customdata": [
          [
           "G8441",
           "RG"
          ]
         ],
         "error_x": {
          "array": {
           "bdata": "AAAAAAAA+H8=",
           "dtype": "f8"
          },
          "arrayminus": {
           "bdata": "AAAAAAAA+H8=",
           "dtype": "f8"
          }
         },
         "error_y": {
          "array": {
           "bdata": "uR6F61FYR8A=",
           "dtype": "f8"
          },
          "arrayminus": {
           "bdata": "PgrXo3BdR0A=",
           "dtype": "f8"
          }
         },
         "hovertemplate": "color=NS/WD/MS?<br>q=%{x}<br>Period=%{y}<br>size=%{marker.size}<br>System Name=%{customdata[0]}<br>Type1=%{customdata[1]}<extra></extra>",
         "legendgroup": "NS/WD/MS?",
         "marker": {
          "color": "#FECB52",
          "size": {
           "bdata": "BQ==",
           "dtype": "i1"
          },
          "sizemode": "area",
          "sizeref": 0.2,
          "symbol": "circle"
         },
         "mode": "markers",
         "name": "NS/WD/MS?",
         "showlegend": true,
         "type": "scattergl",
         "x": {
          "bdata": "AAAAAAAA+H8=",
          "dtype": "f8"
         },
         "xaxis": "x",
         "y": {
          "bdata": "SOF6FK5nR0A=",
          "dtype": "f8"
         },
         "yaxis": "y"
        },
        {
         "customdata": [
          [
           "LAMOST J2354",
           "MS"
          ],
          [
           "2MASS J1527",
           "MS"
          ]
         ],
         "error_x": {
          "array": {
           "bdata": "AAAAAAAA+H8AAAAAAAD4fw==",
           "dtype": "f8"
          },
          "arrayminus": {
           "bdata": "AAAAAAAA+H8AAAAAAAD4fw==",
           "dtype": "f8"
          }
         },
         "error_y": {
          "array": {
           "bdata": "u37Bbti23r9bXyS05VzQvw==",
           "dtype": "f8"
          },
          "arrayminus": {
           "bdata": "u37Bbti23j9bXyS05VzQPw==",
           "dtype": "f8"
          }
         },
         "hovertemplate": "color=WD/NS?<br>q=%{x}<br>Period=%{y}<br>size=%{marker.size}<br>System Name=%{customdata[0]}<br>Type1=%{customdata[1]}<extra></extra>",
         "legendgroup": "WD/NS?",
         "marker": {
          "color": "#636efa",
          "size": {
           "bdata": "BQU=",
           "dtype": "i1"
          },
          "sizemode": "area",
          "sizeref": 0.2,
          "symbol": "circle"
         },
         "mode": "markers",
         "name": "WD/NS?",
         "showlegend": true,
         "type": "scattergl",
         "x": {
          "bdata": "AAAAAAAA+H8AAAAAAAD4fw==",
          "dtype": "f8"
         },
         "xaxis": "x",
         "y": {
          "bdata": "gpAsYAK33j9bXyS05VzQPw==",
          "dtype": "f8"
         },
         "yaxis": "y"
        },
        {
         "customdata": [
          [
           "G4031",
           "MS"
          ],
          [
           "Example system",
           "MS"
          ],
          [
           "Example system 2",
           "MS"
          ],
          [
           "Example system 3",
           "MS"
          ],
          [
           "Cl* NGC 188 PKM 451",
           "MS"
          ],
          [
           "Cl* NGC 188 PKM 1888",
           "MS"
          ],
          [
           "Cl* NGC 188 PKM 2679",
           "MS"
          ],
          [
           "Cl* NGC 188 PKM 4348",
           "MS"
          ],
          [
           "Cl* NGC 188 PKM 4540",
           "MS"
          ],
          [
           "Cl* NGC 188 PKM 4581",
           "MS"
          ],
          [
           "Cl* NGC 188 PKM 4589",
           "MS"
          ],
          [
           "Cl* NGC 188 PKM 4970",
           "MS"
          ],
          [
           "Cl* NGC 188 PKM 5325",
           "MS"
          ],
          [
           "Cl* NGC 188 PKM 5350",
           "MS"
          ],
          [
           "Cl* NGC 188 PKM 5379",
           "MS"
          ],
          [
           "Cl* NGC 188 PKM 5434",
           "MS"
          ],
          [
           "Cl* NGC 188 PKM 5671",
           "MS"
          ],
          [
           "[NMM2020] WOCS 5011",
           "MS"
          ],
          [
           "[NMM2020] WOCS 10011",
           "MS"
          ],
          [
           "[NMM2020] WOCS 20009",
           "MS"
          ],
          [
           "[NMM2020] WOCS 36011",
           "MS"
          ],
          [
           "TYC 6992-827-1",
           "MS"
          ],
          [
           "TYC 6419-603-1",
           "MS"
          ],
          [
           "BD-13 6521",
           "MS"
          ],
          [
           "TYC 5263-340-1",
           "MS"
          ],
          [
           "TYC 4670-766-1",
           "MS"
          ],
          [
           "BD-16 210",
           "MS"
          ],
          [
           "UCAC3 161-284029",
           "MS"
          ],
          [
           "TYC 5214-445-1",
           "MS"
          ],
          [
           "CD-33 2004",
           "MS"
          ],
          [
           "TYC 5202-162-1",
           "MS"
          ],
          [
           "UCAC2 28312072",
           "MS"
          ],
          [
           "UCAC2 27412837",
           "MS"
          ],
          [
           "TYC 4727-2020-1",
           "MS"
          ],
          [
           "TYC 7218-934-1",
           "MS"
          ],
          [
           "2MASS J11225617-2545549",
           "MS"
          ],
          [
           "TYC 6086-1317-1",
           "MS"
          ],
          [
           "TYC 6465-1734-1",
           "MS"
          ],
          [
           "HD 5284",
           "MS"
          ],
          [
           "Lamost J111853.41-084457.3",
           "MS"
          ],
          [
           "TYC 9494-1067-1",
           "MS"
          ],
          [
           "TYC 9490-135-1",
           "MS"
          ],
          [
           "TYC 9151-303-1",
           "MS"
          ],
          [
           "TYC 9148-665-1",
           "MS"
          ],
          [
           "TYC 8492-1419-1",
           "MS"
          ],
          [
           "TYC 7587-1569-1",
           "MS"
          ],
          [
           "CD-40 1212",
           "MS"
          ],
          [
           "TYC 8842-131-1",
           "MS"
          ],
          [
           "2MASS J00005502-5738534",
           "MS"
          ],
          [
           "UCAC2 7669754",
           "MS"
          ],
          [
           "TYC 8027-437-1",
           "MS"
          ],
          [
           "TYC 6996-449-1",
           "MS"
          ],
          [
           "UCAC2 15655859",
           "MS"
          ],
          [
           "TYC 6427-300-1",
           "MS"
          ],
          [
           "2MASS J03414227-2221335",
           "MS"
          ],
          [
           "TYC 6434-457-1",
           "MS"
          ],
          [
           "UCAC2 25681781",
           "MS"
          ],
          [
           "BD-11 454",
           "MS"
          ],
          [
           "2MASS J06281844-7621467",
           "MS"
          ],
          [
           "HD 44269",
           "MS"
          ],
          [
           "UCAC3 153-157052",
           "MS"
          ],
          [
           "TYC 6135-35-1",
           "MS"
          ],
          [
           "UCAC2 27111980",
           "MS"
          ],
          [
           "UCAC2 31344683",
           "MS"
          ],
          [
           "CPD-82 849",
           "MS"
          ],
          [
           "TYC 9344-137-1",
           "MS"
          ],
          [
           "TYC 9114-1232-1",
           "MS"
          ],
          [
           "CD-59 7840",
           "MS"
          ],
          [
           "TYC 8823-1109-1",
           "MS"
          ],
          [
           "TYC 8010-1325-1",
           "MS"
          ],
          [
           "2MASS J21194124-4338332",
           "MS"
          ],
          [
           "LTT 9210",
           "MS"
          ],
          [
           "TYC 8384-1121-1",
           "MS"
          ],
          [
           "TYC 7933-1623-1",
           "MS"
          ],
          [
           "TYC 7464-910-1",
           "MS"
          ],
          [
           "TYC 6329-410-1",
           "MS"
          ],
          [
           "Lamost J035311.09+290033.4",
           "MS"
          ],
          [
           "Lamost J043826.34+394739.7",
           "MS"
          ],
          [
           "Lamost J053056.93+460345.7",
           "MS"
          ],
          [
           "Lamost J054307.98+502435.6",
           "MS"
          ],
          [
           "Lamost J051005.99+492321.9",
           "MS"
          ],
          [
           "Lamost J050413.97+530343.8",
           "MS"
          ],
          [
           "TYC 1749-1463-1",
           "MS"
          ],
          [
           "Lamost J081003.39+152258.8",
           "MS"
          ],
          [
           "Lamost J075157.73+180735.0",
           "MS"
          ],
          [
           "Lamost J084109.22+254236.1",
           "MS"
          ],
          [
           "Lamost J083358.62+333406.8",
           "MS"
          ],
          [
           "Lamost J101919.40+364829.7",
           "MS"
          ],
          [
           "Lamost J091818.67+432413.0",
           "MS"
          ],
          [
           "Lamost J095006.98+512853.8",
           "MS"
          ],
          [
           "Lamost J103123.83+470735.2",
           "MS"
          ],
          [
           "Lamost J101617.39+532139.6",
           "MS"
          ],
          [
           "Lamost J075139.13+252453.5",
           "MS"
          ],
          [
           "Lamost J073714.10+385838.6",
           "MS"
          ],
          [
           "Lamost J081802.99+441226.5",
           "MS"
          ],
          [
           "Lamost J064418.07+480750.5",
           "MS"
          ],
          [
           "Lamost J065633.93+513231.8",
           "MS"
          ],
          [
           "Lamost J091303.88+454400.9",
           "MS"
          ],
          [
           "Lamost J091115.59+493739.2",
           "MS"
          ],
          [
           "Lamost J164112.73+402825.6",
           "MS"
          ],
          [
           "Lamost J091429.35+550646.9",
           "MS"
          ],
          [
           "Lamost J154719.55+180132.7",
           "MS"
          ],
          [
           "Lamost J155358.08+203013.1",
           "MS"
          ],
          [
           "Lamost J144610.56+254516.0",
           "MS"
          ],
          [
           "TYC 2562-1312-1",
           "MS"
          ],
          [
           "Lamost J162626.10+230302.5",
           "MS"
          ],
          [
           "Lamost J135037.82+273404.6",
           "MS"
          ],
          [
           "Lamost J142836.22+335819.0",
           "MS"
          ],
          [
           "Lamost J140757.38+390704.9",
           "MS"
          ],
          [
           "Lamost J141458.45+450416.6",
           "MS"
          ],
          [
           "Lamost J125130.12+354736.0",
           "MS"
          ],
          [
           "Lamost J124228.82+390749.1",
           "MS"
          ],
          [
           "Lamost J120055.26+475237.4",
           "MS"
          ],
          [
           "Lamost J125136.19+522035.9",
           "MS"
          ],
          [
           "Lamost J225648.20+295539.6",
           "MS"
          ],
          [
           "Lamost J234107.01+481814.2",
           "MS"
          ],
          [
           "Lamost J214342.42+305608.5",
           "MS"
          ],
          [
           "Lamost J182018.54+404129.7",
           "MS"
          ],
          [
           "Lamost J184342.78+451950.4",
           "MS"
          ],
          [
           "Lamost J000652.08+012950.4",
           "MS"
          ],
          [
           "Lamost J001641.20+300238.4",
           "MS"
          ],
          [
           "Lamost J182834.83+502834.6",
           "MS"
          ],
          [
           "Lamost J191035.23+451433.7",
           "MS"
          ],
          [
           "Lamost J011824.58+042300.3",
           "MS"
          ],
          [
           "Lamost J012650.22+113530.3",
           "MS"
          ],
          [
           "Lamost J233826.60+010639.6",
           "MS"
          ],
          [
           "Lamost J212845.18+054626.4",
           "MS"
          ],
          [
           "Lamost J002122.99+334237.1",
           "MS"
          ],
          [
           "Lamost J074041.26+014255.2",
           "MS"
          ],
          [
           "Lamost J081545.27+004453.5",
           "MS"
          ],
          [
           "Lamost J042927.31-072033.1",
           "MS"
          ],
          [
           "Lamost J061323.70+334347.6",
           "MS"
          ],
          [
           "Lamost J120911.63+010125.3",
           "MS"
          ],
          [
           "Lamost J123121.28+015446.4",
           "MS"
          ],
          [
           "Lamost J133848.38+022652.8",
           "MS"
          ],
          [
           "Lamost J101401.81-005256.3",
           "MS"
          ],
          [
           "Lamost J093246.86+044307.6",
           "MS"
          ],
          [
           "Lamost J121538.01+044438.8",
           "MS"
          ],
          [
           "Lamost J123054.19+075253.6",
           "MS"
          ],
          [
           "Lamost J131258.93+191647.2",
           "MS"
          ],
          [
           "Lamost J121543.47+185039.4",
           "MS"
          ],
          [
           "Lamost J123658.22+281943.8",
           "MS"
          ],
          [
           "Lamost J120113.99+390607.8",
           "MS"
          ],
          [
           "Lamost J171438.84+062237.1",
           "MS"
          ],
          [
           "Lamost J172437.66+173446.6",
           "MS"
          ],
          [
           "Lamost J174545.18+300751.5",
           "MS"
          ],
          [
           "TYC 1241-181-1",
           "MS"
          ],
          [
           "TYC 1218-1456-1",
           "MS"
          ],
          [
           "TYC 1765-1371-1",
           "MS"
          ],
          [
           "TYC 1783-665-1",
           "MS"
          ],
          [
           "TYC 2803-978-1",
           "MS"
          ],
          [
           "TYC 3251-1514-1",
           "MS"
          ],
          [
           "TYC 3273-808-1",
           "MS"
          ],
          [
           "TYC 4615-1151-1",
           "MS"
          ],
          [
           "TYC 1388-1459-1",
           "MS"
          ],
          [
           "TYC 2982-1137-1",
           "MS"
          ],
          [
           "TYC 3016-178-1",
           "MS"
          ],
          [
           "TYC 3823-1006-1",
           "MS"
          ],
          [
           "TYC 3080-957-1",
           "MS"
          ],
          [
           "TYC 2574-813-1",
           "MS"
          ],
          [
           "TYC 1911-715-1",
           "MS"
          ],
          [
           "TYC 2458-1786-1",
           "MS"
          ],
          [
           "TYC 3411-1186-1",
           "MS"
          ],
          [
           "TYC 2989-80-1",
           "MS"
          ],
          [
           "TYC 3417-1354-1",
           "MS"
          ],
          [
           "TYC 3807-183-1",
           "MS"
          ],
          [
           "TYC 3803-1500-1",
           "MS"
          ],
          [
           "TYC 3808-1388-1",
           "MS"
          ],
          [
           "TYC 3818-137-1",
           "MS"
          ],
          [
           "TYC 4365-1087-1",
           "MS"
          ],
          [
           "TYC 4534-1261-1",
           "MS"
          ],
          [
           "TYC 4534-113-1",
           "MS"
          ],
          [
           "TYC 2036-1214-1",
           "MS"
          ],
          [
           "TYC 2582-686-1",
           "MS"
          ],
          [
           "TYC 2573-1018-1",
           "MS"
          ],
          [
           "TYC 3027-976-1",
           "MS"
          ],
          [
           "TYC 3037-695-1",
           "MS"
          ],
          [
           "TYC 3457-852-1",
           "MS"
          ],
          [
           "TYC 4161-1087-1",
           "MS"
          ],
          [
           "TYC 4641-523-1",
           "MS"
          ],
          [
           "TYC 1663-1940-1",
           "MS"
          ],
          [
           "TYC 6408-126-1",
           "MS"
          ],
          [
           "TYC 2222-272-1",
           "MS"
          ],
          [
           "TYC 2719-866-1",
           "MS"
          ],
          [
           "TYC 3647-1742-1",
           "MS"
          ],
          [
           "TYC 3129-1848-1",
           "MS"
          ],
          [
           "TYC 3104-932-1",
           "MS"
          ],
          [
           "TYC 3115-1811-1",
           "MS"
          ],
          [
           "TYC 3531-1624-1",
           "MS"
          ],
          [
           "TYC 4448-1486-1",
           "MS"
          ],
          [
           "TYC 4442-1466-1",
           "MS"
          ],
          [
           "TYC 5281-507-1",
           "MS"
          ],
          [
           "TYC 4686-615-1",
           "MS"
          ],
          [
           "TYC 12-20-1",
           "MS"
          ],
          [
           "TYC 4665-621-1",
           "MS"
          ],
          [
           "TYC 7059-84-1",
           "MS"
          ],
          [
           "TYC 6500-1002-1",
           "MS"
          ],
          [
           "TYC 6474-1141-1",
           "MS"
          ],
          [
           "TYC 5723-2389-1",
           "MS"
          ],
          [
           "TYC 169-1942-1",
           "MS"
          ],
          [
           "TYC 6695-505-1",
           "MS"
          ],
          [
           "TYC 6697-77-1",
           "MS"
          ],
          [
           "TYC 6657-315-1",
           "MS"
          ],
          [
           "TYC 4962-778-1",
           "MS"
          ],
          [
           "TYC 236-1252-1",
           "MS"
          ],
          [
           "TYC 5616-599-1",
           "MS"
          ],
          [
           "TYC 418-2364-1",
           "MS"
          ],
          [
           "TYC 5051-1033-1",
           "MS"
          ],
          [
           "TYC 406-2955-1",
           "MS"
          ],
          [
           "TYC 368-1591-1",
           "MS"
          ],
          [
           "TYC 969-1420-1",
           "MS"
          ],
          [
           "TYC 1027-1804-1",
           "MS"
          ],
          [
           "TYC 1012-788-1",
           "MS"
          ],
          [
           "TYC 8872-1488-1",
           "MS"
          ],
          [
           "TYC 9137-1861-1",
           "MS"
          ],
          [
           "TYC 8861-1221-1",
           "MS"
          ],
          [
           "TYC 8493-1040-1",
           "MS"
          ],
          [
           "TYC 8491-648-1",
           "MS"
          ],
          [
           "TYC 8058-987-1",
           "MS"
          ],
          [
           "TYC 7592-466-1",
           "MS"
          ],
          [
           "TYC 8059-408-1",
           "MS"
          ],
          [
           "TYC 7035-438-1",
           "MS"
          ],
          [
           "TYC 7035-725-1",
           "MS"
          ],
          [
           "TYC 7042-211-1",
           "MS"
          ],
          [
           "TYC 7049-377-1",
           "MS"
          ],
          [
           "TYC 6472-1267-1",
           "MS"
          ],
          [
           "TYC 8841-1320-1",
           "MS"
          ],
          [
           "TYC 6613-842-1",
           "MS"
          ],
          [
           "TYC 6576-2109-1",
           "MS"
          ],
          [
           "TYC 8470-800-1",
           "MS"
          ],
          [
           "TYC 8050-166-1",
           "MS"
          ],
          [
           "TYC 7543-981-1",
           "MS"
          ],
          [
           "TYC 7009-1398-1",
           "MS"
          ],
          [
           "TYC 7538-607-1",
           "MS"
          ],
          [
           "TYC 7004-2305-1",
           "MS"
          ],
          [
           "TYC 6053-1387-1",
           "MS"
          ],
          [
           "TYC 6039-373-1",
           "MS"
          ],
          [
           "TYC 7006-1242-1",
           "MS"
          ],
          [
           "TYC 6450-490-1",
           "MS"
          ],
          [
           "TYC 5294-1200-1",
           "MS"
          ],
          [
           "TYC 9515-698-1",
           "MS"
          ],
          [
           "TYC 8220-950-1",
           "MS"
          ],
          [
           "TYC 7748-302-1",
           "MS"
          ],
          [
           "TYC 7734-1851-1",
           "MS"
          ],
          [
           "TYC 7158-1155-1",
           "MS"
          ],
          [
           "TYC 7203-113-1",
           "MS"
          ],
          [
           "TYC 6632-292-1",
           "MS"
          ],
          [
           "TYC 5451-469-1",
           "MS"
          ],
          [
           "TYC 4889-1238-1",
           "MS"
          ],
          [
           "TYC 4869-418-1",
           "MS"
          ],
          [
           "TYC 9252-1415-1",
           "MS"
          ],
          [
           "TYC 9280-796-1",
           "MS"
          ],
          [
           "TYC 7256-504-1",
           "MS"
          ],
          [
           "TYC 7788-2065-1",
           "MS"
          ],
          [
           "TYC 7254-875-1",
           "MS"
          ],
          [
           "TYC 9464-272-1",
           "MS"
          ],
          [
           "TYC 9460-411-1",
           "MS"
          ],
          [
           "TYC 9104-773-1",
           "MS"
          ],
          [
           "TYC 8019-58-1",
           "MS"
          ],
          [
           "TYC 8440-1484-1",
           "MS"
          ],
          [
           "TYC 7994-5-1",
           "MS"
          ],
          [
           "TYC 8744-7-1",
           "MS"
          ],
          [
           "TYC 7963-13-1",
           "MS"
          ],
          [
           "TYC 7458-64-1",
           "MS"
          ],
          [
           "TYC 6347-183-1",
           "MS"
          ],
          [
           "TYC 5765-1211-1",
           "MS"
          ],
          [
           "TYC 5782-1504-1",
           "MS"
          ],
          [
           "SDSSJ011009.09+132616.1",
           "MS"
          ],
          [
           "SDSSJ024642.55+004137.2",
           "MS"
          ],
          [
           "SDSSJ080736.96+072412.0",
           "MS"
          ],
          [
           "SDSSJ082145.27+455923.4",
           "MS"
          ],
          [
           "SDSSJ083354.84+070240.1",
           "MS"
          ],
          [
           "SDSSJ092452.39+002449.0",
           "MS"
          ],
          [
           "SDSSJ092741.73+332959.1",
           "MS"
          ],
          [
           "SDSSJ094634.49+203003.4",
           "MS"
          ],
          [
           "SDSSJ094913.37+032254.5",
           "MS"
          ],
          [
           "SDSSJ095737.59+300136.5",
           "MS"
          ],
          [
           "SDSSJ100609.18+004417.0",
           "MS"
          ],
          [
           "SDSSJ104738.24+052320.3",
           "MS"
          ],
          [
           "SDSSJ105756.93+130703.5",
           "MS"
          ],
          [
           "SDSSJ114312.57+000926.5",
           "MS"
          ],
          [
           "SDSSJ131334.74+023750.7",
           "MS"
          ],
          [
           "SDSSJ141134.70+102839.7",
           "MS"
          ],
          [
           "SDSSJ143443.24+533521.2",
           "MS"
          ],
          [
           "SDSSJ143547.87+373338.5",
           "MS"
          ],
          [
           "SDSSJ143746.69+573706.0",
           "MS"
          ],
          [
           "SDSSJ151921.72+353625.8",
           "MS"
          ],
          [
           "SDSSJ152359.22+460448.9",
           "MS"
          ],
          [
           "SDSSJ152425.21+504009.7",
           "MS"
          ],
          [
           "SDSSJ152821.45+344314.9",
           "MS"
          ],
          [
           "SDSSJ152933.25+002031.2",
           "MS"
          ],
          [
           "SDSSJ154846.00+405728.8",
           "MS"
          ],
          [
           "SDSSJ160821.47+085149.9",
           "MS"
          ],
          [
           "SDSSJ161113.13+464044.2",
           "MS"
          ],
          [
           "SDSSJ161145.88+010327.8",
           "MS"
          ],
          [
           "SDSSJ164615.60+422349.2",
           "MS"
          ],
          [
           "SDSSJ170509.65+210904.4",
           "MS"
          ],
          [
           "SDSSJ171810.15+610114.0",
           "MS"
          ],
          [
           "SDSSJ172406.14+562003.0",
           "MS"
          ],
          [
           "SDSSJ173101.49+623315.9",
           "MS"
          ],
          [
           "SDSSJ211205.31+101427.9",
           "MS"
          ],
          [
           "SDSSJ212320.74+002455.5",
           "MS"
          ],
          [
           "SDSSJ213218.11+003158.8",
           "MS"
          ],
          [
           "SDSSJ221616.59+010205.6",
           "MS"
          ],
          [
           "SDSSJ222108.45+002927.7",
           "MS"
          ],
          [
           "SDSSJ140847.14+295044.9",
           "MS"
          ],
          [
           "SDSSJ162552.91+640024.9",
           "MS"
          ],
          [
           "SDSSJ030138.24+050218.9",
           "MS"
          ],
          [
           "SDSSJ102102.25+174439.9",
           "MS"
          ],
          [
           "SDSSJ102857.78+093129.8",
           "MS"
          ],
          [
           "SDSSJ110517.60+385125.7",
           "MS"
          ],
          [
           "SDSSJ130012.49+190857.4",
           "MS"
          ],
          [
           "SDSSJ134841.61+183410.5",
           "MS"
          ],
          [
           "SDSSJ142951.19+575949.0",
           "MS"
          ],
          [
           "SDSSJ155808.49+264225.7",
           "MS"
          ],
          [
           "SDSSJ162354.45+630640.4",
           "MS"
          ],
          [
           "SDSSJ184412.58+412029.4",
           "MS"
          ],
          [
           "SDSSJ121010.1+334722.9",
           "MS"
          ],
          [
           "TYC 110-755-1",
           "MS"
          ],
          [
           "TYC 4962-1205-1",
           "MS"
          ],
          [
           "TYC 1380-957-1",
           "MS"
          ],
          [
           "TYC 3858-1215-1",
           "MS"
          ],
          [
           "TYC 4700-815-1",
           "MS"
          ],
          [
           "KIC 8145411",
           "MS"
          ],
          [
           "KIC 3835482",
           "MS"
          ],
          [
           "KIC 6233093",
           "MS"
          ],
          [
           "KIC 12254688",
           "MS"
          ],
          [
           "GPX-TF16E-48",
           "MS"
          ],
          [
           "TYC 6760-497-1",
           "MS"
          ],
          [
           "V471 Tau",
           "MS"
          ],
          [
           "WD0137−3457",
           "MS"
          ],
          [
           "GD 448",
           "MS"
          ],
          [
           "NN Ser",
           "MS"
          ],
          [
           "LTT 560",
           "MS"
          ],
          [
           "MS Peg",
           "MS"
          ],
          [
           "LM Com",
           "MS"
          ],
          [
           "CC Cet",
           "MS"
          ],
          [
           "CSS 080502",
           "MS"
          ],
          [
           "RR Cae",
           "MS"
          ],
          [
           "BPM 6502",
           "MS"
          ],
          [
           "GK Vir",
           "MS"
          ],
          [
           "EC 12477 − 1738",
           "MS"
          ],
          [
           "EC 14329 − 1625",
           "MS"
          ],
          [
           "EC 13349 − 3237",
           "MS"
          ],
          [
           "DE CVn",
           "MS"
          ],
          [
           "RXJ2130.6 + 4710",
           "MS"
          ],
          [
           "HZ 9",
           "MS"
          ],
          [
           "UX CVn",
           "MS"
          ],
          [
           "UZ Sex",
           "MS"
          ],
          [
           "EG UMa",
           "MS"
          ],
          [
           "RE J2013 + 4002",
           "MS"
          ],
          [
           "RE J1016 − 0520",
           "MS"
          ],
          [
           "IN CMa",
           "MS"
          ],
          [
           "Feige 24",
           "MS"
          ],
          [
           "IK Peg",
           "MS"
          ],
          [
           "SDSS0052 − 0053",
           "MS"
          ],
          [
           "SDSS0110 + 1326",
           "MS"
          ],
          [
           "SDSS0238 − 0005",
           "MS"
          ],
          [
           "SDSS0246 + 0041",
           "MS"
          ],
          [
           "SDSS0303 + 0054",
           "MS"
          ],
          [
           "SDSS0833 + 0702",
           "MS"
          ],
          [
           "SDSS0924 + 0024",
           "MS"
          ],
          [
           "SDSS0949 + 0322",
           "MS"
          ],
          [
           "SDSS1047 + 0523",
           "MS"
          ],
          [
           "SDSS1143 + 0009",
           "MS"
          ],
          [
           "SDSS1212 − 0123",
           "MS"
          ],
          [
           "SDSS1348 + 1834",
           "MS"
          ],
          [
           "SDSS1411 + 1028",
           "MS"
          ],
          [
           "SDSS1414 − 0132",
           "MS"
          ],
          [
           "SDSS1429 + 5759",
           "MS"
          ],
          [
           "SDSS1434 + 5335",
           "MS"
          ],
          [
           "SDSS1435 + 3733",
           "MS"
          ],
          [
           "SDSS1506 − 0120",
           "MS"
          ],
          [
           "SDSS1519 + 3536",
           "MS"
          ],
          [
           "SDSS1524 + 5040",
           "MS"
          ],
          [
           "SDSS1529 + 0020",
           "MS"
          ],
          [
           "SDSS1548 + 4057",
           "MS"
          ],
          [
           "SDSS1558 + 2642",
           "MS"
          ],
          [
           "SDSS1646 + 4223",
           "MS"
          ],
          [
           "SDSS1705 + 2109",
           "MS"
          ],
          [
           "SDSS1718 + 6101",
           "MS"
          ],
          [
           "SDSS1724 + 5620",
           "MS"
          ],
          [
           "SDSS1731 + 6233",
           "MS"
          ],
          [
           "SDSS2112 + 1014",
           "MS"
          ],
          [
           "SDSS2114 − 0103",
           "MS"
          ],
          [
           "SDSS2120 − 0058",
           "MS"
          ],
          [
           "SDSS2123 + 0024",
           "MS"
          ],
          [
           "SDSS2132 + 0031",
           "MS"
          ],
          [
           "SDSS2216 + 0102",
           "MS"
          ],
          [
           "SDSS2240 − 0935",
           "MS"
          ],
          [
           "SDSS2318 − 0935",
           "MS"
          ],
          [
           "SDSS2339 − 0020",
           "MS"
          ],
          [
           "BD-10d4311",
           "sgCH"
          ],
          [
           "BD-18d255",
           "dBa"
          ],
          [
           "BD+18d5215",
           "dBa"
          ],
          [
           "HD15306",
           "dBa"
          ],
          [
           "HD22589",
           "gBa"
          ],
          [
           "HD24864",
           "dBa"
          ],
          [
           "HD34654",
           "dBa"
          ],
          [
           "HD50264",
           "dBa"
          ],
          [
           "HD76225",
           "dBa"
          ],
          [
           "HD87080",
           "sgCH"
          ],
          [
           "HD89948",
           "sgCH"
          ],
          [
           "HD95241",
           "dBa"
          ],
          [
           "HD98991",
           "dBa"
          ],
          [
           "HD106191",
           "dBa"
          ],
          [
           "HD107574",
           "dBa"
          ],
          [
           "HD120620",
           "gBa"
          ],
          [
           "HD123585",
           "sgCH"
          ],
          [
           "HD127392",
           "sgCH"
          ],
          [
           "HD141804",
           "sgCH"
          ],
          [
           "HD147609",
           "dBa"
          ],
          [
           "HD150862",
           "sgCH"
          ],
          [
           "HD182274",
           "sgCH"
          ],
          [
           "HD207585",
           "sgCH"
          ],
          [
           "HD216219",
           "gBa"
          ],
          [
           "HD221531",
           "dBa"
          ],
          [
           "HD 119185",
           "Ba"
          ],
          [
           "HD 104979",
           "Ba"
          ],
          [
           "HD 98839",
           "Ba"
          ],
          [
           "HD 134698",
           "Ba"
          ],
          [
           "HD 51959",
           "Ba"
          ],
          [
           "HD 123949",
           "Ba"
          ],
          [
           "HD 53199",
           "Ba"
          ],
          [
           "HD 18182",
           "Ba"
          ],
          [
           "HD 196673",
           "Ba"
          ],
          [
           "HD 202109",
           "Ba"
          ],
          [
           "HD 40430",
           "Ba"
          ],
          [
           "HD 139195",
           "Ba"
          ],
          [
           "HD 183915",
           "Ba"
          ],
          [
           "HD 180622",
           "Ba"
          ],
          [
           "HD 107541",
           "Ba"
          ],
          [
           "DM −14d2678",
           "Ba"
          ],
          [
           "HD 59852",
           "Ba"
          ],
          [
           "DM −42d2048",
           "Ba"
          ],
          [
           "DM −01d3022",
           "Ba"
          ],
          [
           "HD 50082",
           "Ba"
          ],
          [
           "HD 178717",
           "Ba"
          ],
          [
           "HD 201824",
           "Ba"
          ],
          [
           "HD 205011",
           "Ba"
          ],
          [
           "HD 204075",
           "Ba"
          ],
          [
           "HD 20394",
           "Ba"
          ],
          [
           "HD 16458",
           "Ba"
          ],
          [
           "HD 5424",
           "Ba"
          ],
          [
           "HD 49641",
           "Ba"
          ],
          [
           "HD 91208",
           "Ba"
          ],
          [
           "HD 200063",
           "Ba"
          ],
          [
           "HD 101013",
           "Ba"
          ],
          [
           "HD 201657",
           "Ba"
          ],
          [
           "HD 27271",
           "Ba"
          ],
          [
           "HD 43389",
           "Ba"
          ],
          [
           "HD 154430",
           "Ba"
          ],
          [
           "HD 95193",
           "Ba"
          ],
          [
           "HD 84678",
           "Ba"
          ],
          [
           "HD 210946",
           "Ba"
          ],
          [
           "NGC2420-173",
           "Ba"
          ],
          [
           "HD 143899",
           "Ba"
          ],
          [
           "HD 88562",
           "Ba"
          ],
          [
           "HD 223617",
           "Ba"
          ],
          [
           "HD 58121",
           "Ba"
          ],
          [
           "HD 31487",
           "Ba"
          ],
          [
           "HD 211594",
           "Ba"
          ],
          [
           "HD 92626",
           "Ba"
          ],
          [
           "HD 49841",
           "Ba"
          ],
          [
           "HD 58368",
           "Ba"
          ],
          [
           "HD 44896",
           "Ba"
          ],
          [
           "HD 199939",
           "Ba"
          ],
          [
           "HD 46407",
           "Ba"
          ],
          [
           "DM −64d4333",
           "Ba"
          ],
          [
           "HD 24035",
           "Ba"
          ],
          [
           "HD 121447",
           "Ba"
          ],
          [
           "HD 218356",
           "Ba"
          ],
          [
           "HD 77247",
           "Ba"
          ],
          [
           "Gaia DR3 22172240385273088",
           "MS"
          ],
          [
           "Gaia DR3 41408333753757056",
           "MS"
          ],
          [
           "Gaia DR3 43892267960691840",
           "MS"
          ],
          [
           "Gaia DR3 45281840202132224",
           "MS"
          ],
          [
           "Gaia DR3 50144812630106240",
           "MS"
          ],
          [
           "Gaia DR3 50446216255058176",
           "MS"
          ],
          [
           "Gaia DR3 51425331359858816",
           "MS"
          ],
          [
           "Gaia DR3 52122761031936256",
           "MS"
          ],
          [
           "Gaia DR3 69582425861677312",
           "MS"
          ],
          [
           "Gaia DR3 71764166169849856",
           "MS"
          ],
          [
           "Gaia DR3 83367552894277120",
           "MS"
          ],
          [
           "Gaia DR3 96399136505046400",
           "MS"
          ],
          [
           "Gaia DR3 103637496428550400",
           "MS"
          ],
          [
           "Gaia DR3 120683289617897856",
           "MS"
          ],
          [
           "Gaia DR3 130932662134120960",
           "MS"
          ],
          [
           "Gaia DR3 136287116259343744",
           "MS"
          ],
          [
           "Gaia DR3 156986384725473152",
           "MS"
          ],
          [
           "Gaia DR3 164350260774981248",
           "MS"
          ],
          [
           "Gaia DR3 172072062216272512",
           "MS"
          ],
          [
           "Gaia DR3 173282448421955584",
           "MS"
          ],
          [
           "Gaia DR3 173364709931953536",
           "MS"
          ],
          [
           "Gaia DR3 175772498661489536",
           "MS"
          ],
          [
           "Gaia DR3 187665714080395776",
           "MS"
          ],
          [
           "Gaia DR3 189875766811864832",
           "MS"
          ],
          [
           "Gaia DR3 193686502314902400",
           "MS"
          ],
          [
           "Gaia DR3 196552271996570368",
           "MS"
          ],
          [
           "Gaia DR3 198408698596299520",
           "MS"
          ],
          [
           "Gaia DR3 198931207138840448",
           "MS"
          ],
          [
           "Gaia DR3 199153274128487936",
           "MS"
          ],
          [
           "Gaia DR3 199273361413506688",
           "MS"
          ],
          [
           "Gaia DR3 205091457254043904",
           "MS"
          ],
          [
           "Gaia DR3 205868816271892864",
           "MS"
          ],
          [
           "Gaia DR3 207440121467583232",
           "MS"
          ],
          [
           "Gaia DR3 209347701124702720",
           "MS"
          ],
          [
           "Gaia DR3 209710612977619840",
           "MS"
          ],
          [
           "Gaia DR3 220012968211559296",
           "MS"
          ],
          [
           "Gaia DR3 224549450109569536",
           "MS"
          ],
          [
           "Gaia DR3 231936312825697152",
           "MS"
          ],
          [
           "Gaia DR3 232447998047640192",
           "MS"
          ],
          [
           "Gaia DR3 233150963936432384",
           "MS"
          ],
          [
           "Gaia DR3 234178010872755200",
           "MS"
          ],
          [
           "Gaia DR3 236059790662125696",
           "MS"
          ],
          [
           "Gaia DR3 239216797782313344",
           "MS"
          ],
          [
           "Gaia DR3 239581698204302848",
           "MS"
          ],
          [
           "Gaia DR3 240365065880624896",
           "MS"
          ],
          [
           "Gaia DR3 241378403286611712",
           "MS"
          ],
          [
           "Gaia DR3 242918819077754624",
           "MS"
          ],
          [
           "Gaia DR3 243423323114716800",
           "MS"
          ],
          [
           "Gaia DR3 245417459251223808",
           "MS"
          ],
          [
           "Gaia DR3 247263230039564288",
           "MS"
          ],
          [
           "Gaia DR3 248693694664076288",
           "MS"
          ],
          [
           "Gaia DR3 250910103946201216",
           "MS"
          ],
          [
           "Gaia DR3 259250002724746112",
           "MS"
          ],
          [
           "Gaia DR3 259468049624418560",
           "MS"
          ],
          [
           "Gaia DR3 259956026624539648",
           "MS"
          ],
          [
           "Gaia DR3 263445842170418432",
           "MS"
          ],
          [
           "Gaia DR3 266163319519633792",
           "MS"
          ],
          [
           "Gaia DR3 269207798495519744",
           "MS"
          ],
          [
           "Gaia DR3 269449141297963904",
           "MS"
          ],
          [
           "Gaia DR3 275961514316978432",
           "MS"
          ],
          [
           "Gaia DR3 280000501556723328",
           "MS"
          ],
          [
           "Gaia DR3 283592571683665408",
           "MS"
          ],
          [
           "Gaia DR3 286821012700999552",
           "MS"
          ],
          [
           "Gaia DR3 287816998437179008",
           "MS"
          ],
          [
           "Gaia DR3 287825313493793152",
           "MS"
          ],
          [
           "Gaia DR3 289464169932549888",
           "MS"
          ],
          [
           "Gaia DR3 305458765582177408",
           "MS"
          ],
          [
           "Gaia DR3 314069006779562496",
           "MS"
          ],
          [
           "Gaia DR3 315027952717630464",
           "MS"
          ],
          [
           "Gaia DR3 315209097258635648",
           "MS"
          ],
          [
           "Gaia DR3 319823575761294336",
           "MS"
          ],
          [
           "Gaia DR3 321671201972746368",
           "MS"
          ],
          [
           "Gaia DR3 330469798960512128",
           "MS"
          ],
          [
           "Gaia DR3 336939673272548992",
           "MS"
          ],
          [
           "Gaia DR3 343906385103576064",
           "MS"
          ],
          [
           "Gaia DR3 345053411954083712",
           "MS"
          ],
          [
           "Gaia DR3 347695336533949440",
           "MS"
          ],
          [
           "Gaia DR3 357324275254090112",
           "MS"
          ],
          [
           "Gaia DR3 357701953200877056",
           "MS"
          ],
          [
           "Gaia DR3 360751178118411520",
           "MS"
          ],
          [
           "Gaia DR3 365387543774925696",
           "MS"
          ],
          [
           "Gaia DR3 368117287549503104",
           "MS"
          ],
          [
           "Gaia DR3 368443773783502592",
           "MS"
          ],
          [
           "Gaia DR3 370430041539226624",
           "MS"
          ],
          [
           "Gaia DR3 371796459614476032",
           "MS"
          ],
          [
           "Gaia DR3 375530194944372608",
           "MS"
          ],
          [
           "Gaia DR3 376817070227079424",
           "MS"
          ],
          [
           "Gaia DR3 380834479554795776",
           "MS"
          ],
          [
           "Gaia DR3 383837142732140288",
           "MS"
          ],
          [
           "Gaia DR3 386726689353612288",
           "MS"
          ],
          [
           "Gaia DR3 391021523508437888",
           "MS"
          ],
          [
           "Gaia DR3 392524658982652416",
           "MS"
          ],
          [
           "Gaia DR3 393728521136929792",
           "MS"
          ],
          [
           "Gaia DR3 394253091261901568",
           "MS"
          ],
          [
           "Gaia DR3 394996670360744192",
           "MS"
          ],
          [
           "Gaia DR3 396039660220113408",
           "MS"
          ],
          [
           "Gaia DR3 396307906699990912",
           "MS"
          ],
          [
           "Gaia DR3 398911889528502912",
           "MS"
          ],
          [
           "Gaia DR3 402520658490182016",
           "MS"
          ],
          [
           "Gaia DR3 402925454864961024",
           "MS"
          ],
          [
           "Gaia DR3 405785318968101248",
           "MS"
          ],
          [
           "Gaia DR3 405831081841923456",
           "MS"
          ],
          [
           "Gaia DR3 408180776850558336",
           "MS"
          ],
          [
           "Gaia DR3 410436832973475072",
           "MS"
          ],
          [
           "Gaia DR3 411589606494995968",
           "MS"
          ],
          [
           "Gaia DR3 413612810975600256",
           "MS"
          ],
          [
           "Gaia DR3 416775281289027712",
           "MS"
          ],
          [
           "Gaia DR3 417606409003742720",
           "MS"
          ],
          [
           "Gaia DR3 417907606468517376",
           "MS"
          ],
          [
           "Gaia DR3 418947710105132416",
           "MS"
          ],
          [
           "Gaia DR3 419939194719858304",
           "MS"
          ],
          [
           "Gaia DR3 420676481682347520",
           "MS"
          ],
          [
           "Gaia DR3 422050085247562880",
           "MS"
          ],
          [
           "Gaia DR3 423864210713892224",
           "MS"
          ],
          [
           "Gaia DR3 424461623486081536",
           "MS"
          ],
          [
           "Gaia DR3 426388002217558016",
           "MS"
          ],
          [
           "Gaia DR3 426419475739116288",
           "MS"
          ],
          [
           "Gaia DR3 426682224659118208",
           "MS"
          ],
          [
           "Gaia DR3 427168243155009408",
           "MS"
          ],
          [
           "Gaia DR3 428221678373358336",
           "MS"
          ],
          [
           "Gaia DR3 428554521159813376",
           "MS"
          ],
          [
           "Gaia DR3 428565241398264576",
           "MS"
          ],
          [
           "Gaia DR3 431594224139437056",
           "MS"
          ],
          [
           "Gaia DR3 433978068414145920",
           "MS"
          ],
          [
           "Gaia DR3 439773697286211968",
           "MS"
          ],
          [
           "Gaia DR3 441270819807111296",
           "MS"
          ],
          [
           "Gaia DR3 443028870179884672",
           "MS"
          ],
          [
           "Gaia DR3 446067576721271680",
           "MS"
          ],
          [
           "Gaia DR3 446685845853797376",
           "MS"
          ],
          [
           "Gaia DR3 447157501982506240",
           "MS"
          ],
          [
           "Gaia DR3 467669750400782080",
           "MS"
          ],
          [
           "Gaia DR3 468564203104203904",
           "MS"
          ],
          [
           "Gaia DR3 471967157230679552",
           "MS"
          ],
          [
           "Gaia DR3 472877346698558720",
           "MS"
          ],
          [
           "Gaia DR3 474698996949103744",
           "MS"
          ],
          [
           "Gaia DR3 474731879218078336",
           "MS"
          ],
          [
           "Gaia DR3 479321172031832832",
           "MS"
          ],
          [
           "Gaia DR3 481332144440256256",
           "MS"
          ],
          [
           "Gaia DR3 483319649145283840",
           "MS"
          ],
          [
           "Gaia DR3 483917336793776640",
           "MS"
          ],
          [
           "Gaia DR3 485451327313616512",
           "MS"
          ],
          [
           "Gaia DR3 485862063625905920",
           "MS"
          ],
          [
           "Gaia DR3 486282351944595712",
           "MS"
          ],
          [
           "Gaia DR3 487070323826538624",
           "MS"
          ],
          [
           "Gaia DR3 488072563034562304",
           "MS"
          ],
          [
           "Gaia DR3 490041857077985536",
           "MS"
          ],
          [
           "Gaia DR3 495700115714075776",
           "MS"
          ],
          [
           "Gaia DR3 500090671801415936",
           "MS"
          ],
          [
           "Gaia DR3 500919050733395968",
           "MS"
          ],
          [
           "Gaia DR3 501512580853259392",
           "MS"
          ],
          [
           "Gaia DR3 503705007039648896",
           "MS"
          ],
          [
           "Gaia DR3 504490230143439872",
           "MS"
          ],
          [
           "Gaia DR3 504612825693407360",
           "MS"
          ],
          [
           "Gaia DR3 506096891512418944",
           "MS"
          ],
          [
           "Gaia DR3 507644621623440768",
           "MS"
          ],
          [
           "Gaia DR3 508012103330489216",
           "MS"
          ],
          [
           "Gaia DR3 509631924476800768",
           "MS"
          ],
          [
           "Gaia DR3 510293486882816768",
           "MS"
          ],
          [
           "Gaia DR3 515065882742739968",
           "MS"
          ],
          [
           "Gaia DR3 517989071840392192",
           "MS"
          ],
          [
           "Gaia DR3 529794253307478784",
           "MS"
          ],
          [
           "Gaia DR3 531151875287819008",
           "MS"
          ],
          [
           "Gaia DR3 531905865386876928",
           "MS"
          ],
          [
           "Gaia DR3 532408032963133056",
           "MS"
          ],
          [
           "Gaia DR3 534667872954294016",
           "MS"
          ],
          [
           "Gaia DR3 535748040048903680",
           "MS"
          ],
          [
           "Gaia DR3 538003241476580992",
           "MS"
          ],
          [
           "Gaia DR3 540082658482092416",
           "MS"
          ],
          [
           "Gaia DR3 540539917881144064",
           "MS"
          ],
          [
           "Gaia DR3 540906570648623872",
           "MS"
          ],
          [
           "Gaia DR3 542088923604821760",
           "MS"
          ],
          [
           "Gaia DR3 543120299872273024",
           "MS"
          ],
          [
           "Gaia DR3 543273475585783424",
           "MS"
          ],
          [
           "Gaia DR3 543666757150385920",
           "MS"
          ],
          [
           "Gaia DR3 544109963416376192",
           "MS"
          ],
          [
           "Gaia DR3 545821284544739328",
           "MS"
          ],
          [
           "Gaia DR3 547445430721196672",
           "MS"
          ],
          [
           "Gaia DR3 547894345000347904",
           "MS"
          ],
          [
           "Gaia DR3 548375484415607168",
           "MS"
          ],
          [
           "Gaia DR3 549579758886535936",
           "MS"
          ],
          [
           "Gaia DR3 550295472236496768",
           "MS"
          ],
          [
           "Gaia DR3 550975279660584192",
           "MS"
          ],
          [
           "Gaia DR3 551084955945162368",
           "MS"
          ],
          [
           "Gaia DR3 551298261200212864",
           "MS"
          ],
          [
           "Gaia DR3 552723296990132096",
           "MS"
          ],
          [
           "Gaia DR3 553483712359821952",
           "MS"
          ],
          [
           "Gaia DR3 554280549051831552",
           "MS"
          ],
          [
           "Gaia DR3 554967572021565440",
           "MS"
          ],
          [
           "Gaia DR3 556119173011837952",
           "MS"
          ],
          [
           "Gaia DR3 561753585988699776",
           "MS"
          ],
          [
           "Gaia DR3 561807565137470848",
           "MS"
          ],
          [
           "Gaia DR3 561826080739041920",
           "MS"
          ],
          [
           "Gaia DR3 565797383597184128",
           "MS"
          ],
          [
           "Gaia DR3 566232511026308480",
           "MS"
          ],
          [
           "Gaia DR3 569379558119837056",
           "MS"
          ],
          [
           "Gaia DR3 571231376219501184",
           "MS"
          ],
          [
           "Gaia DR3 574181743873821568",
           "MS"
          ],
          [
           "Gaia DR3 574429168350064384",
           "MS"
          ],
          [
           "Gaia DR3 575958966980808576",
           "MS"
          ],
          [
           "Gaia DR3 577733265213934464",
           "MS"
          ],
          [
           "Gaia DR3 580257026652307072",
           "MS"
          ],
          [
           "Gaia DR3 581949548711220352",
           "MS"
          ],
          [
           "Gaia DR3 582717905474154496",
           "MS"
          ],
          [
           "Gaia DR3 590257630367235968",
           "MS"
          ],
          [
           "Gaia DR3 595287316244278784",
           "MS"
          ],
          [
           "Gaia DR3 603163938372199296",
           "MS"
          ],
          [
           "Gaia DR3 603393156483280640",
           "MS"
          ],
          [
           "Gaia DR3 607358613887311616",
           "MS"
          ],
          [
           "Gaia DR3 607500416527666816",
           "MS"
          ],
          [
           "Gaia DR3 609555128882825984",
           "MS"
          ],
          [
           "Gaia DR3 611285828903700224",
           "MS"
          ],
          [
           "Gaia DR3 619152628442144640",
           "MS"
          ],
          [
           "Gaia DR3 624133828432520576",
           "MS"
          ],
          [
           "Gaia DR3 630708736168090368",
           "MS"
          ],
          [
           "Gaia DR3 636233713378308352",
           "MS"
          ],
          [
           "Gaia DR3 642071089329512576",
           "MS"
          ],
          [
           "Gaia DR3 642242819301705600",
           "MS"
          ],
          [
           "Gaia DR3 644786878754589824",
           "MS"
          ],
          [
           "Gaia DR3 650361303926256128",
           "MS"
          ],
          [
           "Gaia DR3 651161576591149440",
           "MS"
          ],
          [
           "Gaia DR3 653171788788458368",
           "MS"
          ],
          [
           "Gaia DR3 657108800626900992",
           "MS"
          ],
          [
           "Gaia DR3 657173534373753216",
           "MS"
          ],
          [
           "Gaia DR3 658369287627546368",
           "MS"
          ],
          [
           "Gaia DR3 666365795178829824",
           "MS"
          ],
          [
           "Gaia DR3 667502277885517824",
           "MS"
          ],
          [
           "Gaia DR3 672105795632048512",
           "MS"
          ],
          [
           "Gaia DR3 675364473218864256",
           "MS"
          ],
          [
           "Gaia DR3 675945702552494976",
           "MS"
          ],
          [
           "Gaia DR3 678085695778294784",
           "MS"
          ],
          [
           "Gaia DR3 684815772091563136",
           "MS"
          ],
          [
           "Gaia DR3 687414399103917440",
           "MS"
          ],
          [
           "Gaia DR3 689413173804883072",
           "MS"
          ],
          [
           "Gaia DR3 690135965260821632",
           "MS"
          ],
          [
           "Gaia DR3 692788708862316288",
           "MS"
          ],
          [
           "Gaia DR3 692995928147102592",
           "MS"
          ],
          [
           "Gaia DR3 693339426748886784",
           "MS"
          ],
          [
           "Gaia DR3 700677223754540032",
           "MS"
          ],
          [
           "Gaia DR3 701978598846122880",
           "MS"
          ],
          [
           "Gaia DR3 705738447576061312",
           "MS"
          ],
          [
           "Gaia DR3 707843252132654976",
           "MS"
          ],
          [
           "Gaia DR3 709956620857398400",
           "MS"
          ],
          [
           "Gaia DR3 710128453908659328",
           "MS"
          ],
          [
           "Gaia DR3 710536334066375040",
           "MS"
          ],
          [
           "Gaia DR3 720551171304288512",
           "MS"
          ],
          [
           "Gaia DR3 720760078512673792",
           "MS"
          ],
          [
           "Gaia DR3 722742704136085120",
           "MS"
          ],
          [
           "Gaia DR3 724776044732898176",
           "MS"
          ],
          [
           "Gaia DR3 726836319069968000",
           "MS"
          ],
          [
           "Gaia DR3 728348667249429632",
           "MS"
          ],
          [
           "Gaia DR3 734244042439001600",
           "MS"
          ],
          [
           "Gaia DR3 735946116503186304",
           "MS"
          ],
          [
           "Gaia DR3 738156173530009216",
           "MS"
          ],
          [
           "Gaia DR3 746115022807859712",
           "MS"
          ],
          [
           "Gaia DR3 746434843252490752",
           "MS"
          ],
          [
           "Gaia DR3 747174436620510976",
           "MS"
          ],
          [
           "Gaia DR3 747276583827410944",
           "MS"
          ],
          [
           "Gaia DR3 747362075151940096",
           "MS"
          ],
          [
           "Gaia DR3 748527248239650560",
           "MS"
          ],
          [
           "Gaia DR3 752157320238800768",
           "MS"
          ],
          [
           "Gaia DR3 752460579289442816",
           "MS"
          ],
          [
           "Gaia DR3 754497974335846912",
           "MS"
          ],
          [
           "Gaia DR3 756891061393347072",
           "MS"
          ],
          [
           "Gaia DR3 756908889802603776",
           "MS"
          ],
          [
           "Gaia DR3 757990637445680384",
           "MS"
          ],
          [
           "Gaia DR3 760918121514690304",
           "MS"
          ],
          [
           "Gaia DR3 767786671869455360",
           "MS"
          ],
          [
           "Gaia DR3 768642435513276544",
           "MS"
          ],
          [
           "Gaia DR3 769372644377101312",
           "MS"
          ],
          [
           "Gaia DR3 774454797574988288",
           "MS"
          ],
          [
           "Gaia DR3 775066912018534144",
           "MS"
          ],
          [
           "Gaia DR3 780381641989821312",
           "MS"
          ],
          [
           "Gaia DR3 780762798862741248",
           "MS"
          ],
          [
           "Gaia DR3 785780866855608192",
           "MS"
          ],
          [
           "Gaia DR3 788522808336764672",
           "MS"
          ],
          [
           "Gaia DR3 788587507734102912",
           "MS"
          ],
          [
           "Gaia DR3 790537285437872896",
           "MS"
          ],
          [
           "Gaia DR3 790871811849614080",
           "MS"
          ],
          [
           "Gaia DR3 791766573796604416",
           "MS"
          ],
          [
           "Gaia DR3 792255925189845632",
           "MS"
          ],
          [
           "Gaia DR3 794277342957783424",
           "MS"
          ],
          [
           "Gaia DR3 794782877788724992",
           "MS"
          ],
          [
           "Gaia DR3 800547475516832384",
           "MS"
          ],
          [
           "Gaia DR3 800617367521681152",
           "MS"
          ],
          [
           "Gaia DR3 802749526730295808",
           "MS"
          ],
          [
           "Gaia DR3 805188896354174464",
           "MS"
          ],
          [
           "Gaia DR3 806438285158186368",
           "MS"
          ],
          [
           "Gaia DR3 809252931846227072",
           "MS"
          ],
          [
           "Gaia DR3 809741149368202752",
           "MS"
          ],
          [
           "Gaia DR3 813135719719859456",
           "MS"
          ],
          [
           "Gaia DR3 816986037641347584",
           "MS"
          ],
          [
           "Gaia DR3 821961740073824128",
           "MS"
          ],
          [
           "Gaia DR3 822851107542642432",
           "MS"
          ],
          [
           "Gaia DR3 823307404867816320",
           "MS"
          ],
          [
           "Gaia DR3 823725906481217024",
           "MS"
          ],
          [
           "Gaia DR3 824567616991491456",
           "MS"
          ],
          [
           "Gaia DR3 825066997132825216",
           "MS"
          ],
          [
           "Gaia DR3 827780115089819008",
           "MS"
          ],
          [
           "Gaia DR3 834253627237080448",
           "MS"
          ],
          [
           "Gaia DR3 836076853738398336",
           "MS"
          ],
          [
           "Gaia DR3 844354393885308672",
           "MS"
          ],
          [
           "Gaia DR3 845176072668207744",
           "MS"
          ],
          [
           "Gaia DR3 846206521222057088",
           "MS"
          ],
          [
           "Gaia DR3 855112084370684416",
           "MS"
          ],
          [
           "Gaia DR3 863043789454863744",
           "MS"
          ],
          [
           "Gaia DR3 865608537767016320",
           "MS"
          ],
          [
           "Gaia DR3 868471356807004416",
           "MS"
          ],
          [
           "Gaia DR3 869805992124789504",
           "MS"
          ],
          [
           "Gaia DR3 873921601587503872",
           "MS"
          ],
          [
           "Gaia DR3 881862068404277248",
           "MS"
          ],
          [
           "Gaia DR3 883495014969648512",
           "MS"
          ],
          [
           "Gaia DR3 887105914234678144",
           "MS"
          ],
          [
           "Gaia DR3 887491430499750784",
           "MS"
          ],
          [
           "Gaia DR3 891423107985715200",
           "MS"
          ],
          [
           "Gaia DR3 893961605455283328",
           "MS"
          ],
          [
           "Gaia DR3 895729040334169472",
           "MS"
          ],
          [
           "Gaia DR3 901570951770279296",
           "MS"
          ],
          [
           "Gaia DR3 904867253270348928",
           "MS"
          ],
          [
           "Gaia DR3 905593034023768960",
           "MS"
          ],
          [
           "Gaia DR3 907173307111134592",
           "MS"
          ],
          [
           "Gaia DR3 915576221646915456",
           "MS"
          ],
          [
           "Gaia DR3 916185557247094784",
           "MS"
          ],
          [
           "Gaia DR3 918535243659491328",
           "MS"
          ],
          [
           "Gaia DR3 919914379134629760",
           "MS"
          ],
          [
           "Gaia DR3 921229463760383232",
           "MS"
          ],
          [
           "Gaia DR3 921943940160449792",
           "MS"
          ],
          [
           "Gaia DR3 928717550262082048",
           "MS"
          ],
          [
           "Gaia DR3 931192791454932992",
           "MS"
          ],
          [
           "Gaia DR3 931488869320571648",
           "MS"
          ],
          [
           "Gaia DR3 932358548658258944",
           "MS"
          ],
          [
           "Gaia DR3 943864108914056448",
           "MS"
          ],
          [
           "Gaia DR3 952741054696568704",
           "MS"
          ],
          [
           "Gaia DR3 959592760187343872",
           "MS"
          ],
          [
           "Gaia DR3 959951926830189952",
           "MS"
          ],
          [
           "Gaia DR3 961408161262350080",
           "MS"
          ],
          [
           "Gaia DR3 963185384368801920",
           "MS"
          ],
          [
           "Gaia DR3 967450797993125760",
           "MS"
          ],
          [
           "Gaia DR3 969732838672644480",
           "MS"
          ],
          [
           "Gaia DR3 973360849086817152",
           "MS"
          ],
          [
           "Gaia DR3 984783194350933248",
           "MS"
          ],
          [
           "Gaia DR3 988173469736683136",
           "MS"
          ],
          [
           "Gaia DR3 989155574137539712",
           "MS"
          ],
          [
           "Gaia DR3 989566276091246592",
           "MS"
          ],
          [
           "Gaia DR3 989892556166737792",
           "MS"
          ],
          [
           "Gaia DR3 991228565873230848",
           "MS"
          ],
          [
           "Gaia DR3 996865517175157760",
           "MS"
          ],
          [
           "Gaia DR3 997424073377504640",
           "MS"
          ],
          [
           "Gaia DR3 1001369739574454528",
           "MS"
          ],
          [
           "Gaia DR3 1001590226014497152",
           "MS"
          ],
          [
           "Gaia DR3 1003128133544552832",
           "MS"
          ],
          [
           "Gaia DR3 1006121450872309760",
           "MS"
          ],
          [
           "Gaia DR3 1006730820831295616",
           "MS"
          ],
          [
           "Gaia DR3 1010981360985547008",
           "MS"
          ],
          [
           "Gaia DR3 1012306031978693632",
           "MS"
          ],
          [
           "Gaia DR3 1014108750012408192",
           "MS"
          ],
          [
           "Gaia DR3 1016690368954975360",
           "MS"
          ],
          [
           "Gaia DR3 1019712479742281728",
           "MS"
          ],
          [
           "Gaia DR3 1021698472619542656",
           "MS"
          ],
          [
           "Gaia DR3 1022761249391412480",
           "MS"
          ],
          [
           "Gaia DR3 1028887114002082432",
           "MS"
          ],
          [
           "Gaia DR3 1039264098586757376",
           "MS"
          ],
          [
           "Gaia DR3 1039973004412665600",
           "MS"
          ],
          [
           "Gaia DR3 1041180959671154304",
           "MS"
          ],
          [
           "Gaia DR3 1042890287935118464",
           "MS"
          ],
          [
           "Gaia DR3 1043641288737059072",
           "MS"
          ],
          [
           "Gaia DR3 1047241158525220096",
           "MS"
          ],
          [
           "Gaia DR3 1047279916309991808",
           "MS"
          ],
          [
           "Gaia DR3 1048253838798105600",
           "MS"
          ],
          [
           "Gaia DR3 1050053709269590272",
           "MS"
          ],
          [
           "Gaia DR3 1050086385380736768",
           "MS"
          ],
          [
           "Gaia DR3 1051818734669320320",
           "MS"
          ],
          [
           "Gaia DR3 1052725934841506176",
           "MS"
          ],
          [
           "Gaia DR3 1053852728101546368",
           "MS"
          ],
          [
           "Gaia DR3 1054045589312981376",
           "MS"
          ],
          [
           "Gaia DR3 1054916917918192000",
           "MS"
          ],
          [
           "Gaia DR3 1058677969239705600",
           "MS"
          ],
          [
           "Gaia DR3 1060507419149236992",
           "MS"
          ],
          [
           "Gaia DR3 1061145445131194240",
           "MS"
          ],
          [
           "Gaia DR3 1061408709446139776",
           "MS"
          ],
          [
           "Gaia DR3 1062245540874205952",
           "MS"
          ],
          [
           "Gaia DR3 1062355148439440512",
           "MS"
          ],
          [
           "Gaia DR3 1062891675754462976",
           "MS"
          ],
          [
           "Gaia DR3 1069681709811602944",
           "MS"
          ],
          [
           "Gaia DR3 1073479732211726976",
           "MS"
          ],
          [
           "Gaia DR3 1076202294800574848",
           "MS"
          ],
          [
           "Gaia DR3 1079564670078194816",
           "MS"
          ],
          [
           "Gaia DR3 1080111196076768512",
           "MS"
          ],
          [
           "Gaia DR3 1086005914135704448",
           "MS"
          ],
          [
           "Gaia DR3 1093910685481201152",
           "MS"
          ],
          [
           "Gaia DR3 1094967762832995584",
           "MS"
          ],
          [
           "Gaia DR3 1097811787096204800",
           "MS"
          ],
          [
           "Gaia DR3 1098489704734299648",
           "MS"
          ],
          [
           "Gaia DR3 1101162067745007104",
           "MS"
          ],
          [
           "Gaia DR3 1104431156333029120",
           "MS"
          ],
          [
           "Gaia DR3 1105433876580322176",
           "MS"
          ],
          [
           "Gaia DR3 1105580283426107648",
           "MS"
          ],
          [
           "Gaia DR3 1105596157624820352",
           "MS"
          ],
          [
           "Gaia DR3 1107690074438959872",
           "MS"
          ],
          [
           "Gaia DR3 1109330270910049408",
           "MS"
          ],
          [
           "Gaia DR3 1109330305269874688",
           "MS"
          ],
          [
           "Gaia DR3 1110190982355592064",
           "MS"
          ],
          [
           "Gaia DR3 1112819811578309504",
           "MS"
          ],
          [
           "Gaia DR3 1114288793472478720",
           "MS"
          ],
          [
           "Gaia DR3 1116716961823496192",
           "MS"
          ],
          [
           "Gaia DR3 1117302898440905472",
           "MS"
          ],
          [
           "Gaia DR3 1120368165060488832",
           "MS"
          ],
          [
           "Gaia DR3 1122741495269108608",
           "MS"
          ],
          [
           "Gaia DR3 1122808599838039296",
           "MS"
          ],
          [
           "Gaia DR3 1128064093619994880",
           "MS"
          ],
          [
           "Gaia DR3 1131608884748619520",
           "MS"
          ],
          [
           "Gaia DR3 1131703545827247360",
           "MS"
          ],
          [
           "Gaia DR3 1132449152149715456",
           "MS"
          ],
          [
           "Gaia DR3 1132468904703337984",
           "MS"
          ],
          [
           "Gaia DR3 1133054811257638272",
           "MS"
          ],
          [
           "Gaia DR3 1133075663322971392",
           "MS"
          ],
          [
           "Gaia DR3 1133366694603383040",
           "MS"
          ],
          [
           "Gaia DR3 1134125804303241728",
           "MS"
          ],
          [
           "Gaia DR3 1135446867524387968",
           "MS"
          ],
          [
           "Gaia DR3 1137445882742653824",
           "MS"
          ],
          [
           "Gaia DR3 1138001892028620032",
           "MS"
          ],
          [
           "Gaia DR3 1138575390422310400",
           "MS"
          ],
          [
           "Gaia DR3 1138641567278397440",
           "MS"
          ],
          [
           "Gaia DR3 1141632651223406080",
           "MS"
          ],
          [
           "Gaia DR3 1141991435610545792",
           "MS"
          ],
          [
           "Gaia DR3 1142691034243095168",
           "MS"
          ],
          [
           "Gaia DR3 1143555593980592256",
           "MS"
          ],
          [
           "Gaia DR3 1144238940456937600",
           "MS"
          ],
          [
           "Gaia DR3 1144458499185107840",
           "MS"
          ],
          [
           "Gaia DR3 1145155142880498560",
           "MS"
          ],
          [
           "Gaia DR3 1146513830014124928",
           "MS"
          ],
          [
           "Gaia DR3 1150032954418086656",
           "MS"
          ],
          [
           "Gaia DR3 1150480764888435840",
           "MS"
          ],
          [
           "Gaia DR3 1154552943640359552",
           "MS"
          ],
          [
           "Gaia DR3 1177303110528977280",
           "MS"
          ],
          [
           "Gaia DR3 1185994853025817088",
           "MS"
          ],
          [
           "Gaia DR3 1190048443163814272",
           "MS"
          ],
          [
           "Gaia DR3 1190397847339774080",
           "MS"
          ],
          [
           "Gaia DR3 1192514475944978048",
           "MS"
          ],
          [
           "Gaia DR3 1193599281602314112",
           "MS"
          ],
          [
           "Gaia DR3 1195211852843544704",
           "MS"
          ],
          [
           "Gaia DR3 1198113051714155264",
           "MS"
          ],
          [
           "Gaia DR3 1199853647339149312",
           "MS"
          ],
          [
           "Gaia DR3 1200985354042097152",
           "MS"
          ],
          [
           "Gaia DR3 1202679529663209856",
           "MS"
          ],
          [
           "Gaia DR3 1203856247622849280",
           "MS"
          ],
          [
           "Gaia DR3 1203860783108300416",
           "MS"
          ],
          [
           "Gaia DR3 1204225752248147968",
           "MS"
          ],
          [
           "Gaia DR3 1204789870432946048",
           "MS"
          ],
          [
           "Gaia DR3 1206396291281045120",
           "MS"
          ],
          [
           "Gaia DR3 1208766082434753792",
           "MS"
          ],
          [
           "Gaia DR3 1211131200668599424",
           "MS"
          ],
          [
           "Gaia DR3 1211497269318307840",
           "MS"
          ],
          [
           "Gaia DR3 1216635974351016448",
           "MS"
          ],
          [
           "Gaia DR3 1218108770176356480",
           "MS"
          ],
          [
           "Gaia DR3 1218979480306205952",
           "MS"
          ],
          [
           "Gaia DR3 1221223751039854976",
           "MS"
          ],
          [
           "Gaia DR3 1232959942450260608",
           "MS"
          ],
          [
           "Gaia DR3 1235429239407880576",
           "MS"
          ],
          [
           "Gaia DR3 1235614846419065600",
           "MS"
          ],
          [
           "Gaia DR3 1242066544428486784",
           "MS"
          ],
          [
           "Gaia DR3 1245919920367127040",
           "MS"
          ],
          [
           "Gaia DR3 1246338868657068800",
           "MS"
          ],
          [
           "Gaia DR3 1247307847638371968",
           "MS"
          ],
          [
           "Gaia DR3 1249545388160005376",
           "MS"
          ],
          [
           "Gaia DR3 1250865798546576256",
           "MS"
          ],
          [
           "Gaia DR3 1251278459004307456",
           "MS"
          ],
          [
           "Gaia DR3 1251294711160534144",
           "MS"
          ],
          [
           "Gaia DR3 1251502312699814528",
           "MS"
          ],
          [
           "Gaia DR3 1258132677052807424",
           "MS"
          ],
          [
           "Gaia DR3 1260782225197846144",
           "MS"
          ],
          [
           "Gaia DR3 1261712824352013952",
           "MS"
          ],
          [
           "Gaia DR3 1263117209938726912",
           "MS"
          ],
          [
           "Gaia DR3 1271884715659786880",
           "MS"
          ],
          [
           "Gaia DR3 1273420355446355840",
           "MS"
          ],
          [
           "Gaia DR3 1276531389237826944",
           "MS"
          ],
          [
           "Gaia DR3 1276599868196445312",
           "MS"
          ],
          [
           "Gaia DR3 1277554141209534720",
           "MS"
          ],
          [
           "Gaia DR3 1279619745600063744",
           "MS"
          ],
          [
           "Gaia DR3 1285779244098359040",
           "MS"
          ],
          [
           "Gaia DR3 1289121862527056768",
           "MS"
          ],
          [
           "Gaia DR3 1291907440876115456",
           "MS"
          ],
          [
           "Gaia DR3 1292011104206628096",
           "MS"
          ],
          [
           "Gaia DR3 1295100938039190784",
           "MS"
          ],
          [
           "Gaia DR3 1296047548831206144",
           "MS"
          ],
          [
           "Gaia DR3 1298859446740704128",
           "MS"
          ],
          [
           "Gaia DR3 1299383810707816960",
           "MS"
          ],
          [
           "Gaia DR3 1301041736802149504",
           "MS"
          ],
          [
           "Gaia DR3 1302010887584230784",
           "MS"
          ],
          [
           "Gaia DR3 1302344314485094144",
           "MS"
          ],
          [
           "Gaia DR3 1306321797798905728",
           "MS"
          ],
          [
           "Gaia DR3 1306363922837606016",
           "MS"
          ],
          [
           "Gaia DR3 1307385712737457664",
           "MS"
          ],
          [
           "Gaia DR3 1308342322213284224",
           "MS"
          ],
          [
           "Gaia DR3 1310177372760277504",
           "MS"
          ],
          [
           "Gaia DR3 1310248016382385536",
           "MS"
          ],
          [
           "Gaia DR3 1312551115284709632",
           "MS"
          ],
          [
           "Gaia DR3 1315947506703332352",
           "MS"
          ],
          [
           "Gaia DR3 1317268535564398592",
           "MS"
          ],
          [
           "Gaia DR3 1318775068356153088",
           "MS"
          ],
          [
           "Gaia DR3 1319064862686155776",
           "MS"
          ],
          [
           "Gaia DR3 1320469694949255296",
           "MS"
          ],
          [
           "Gaia DR3 1322763310564257280",
           "MS"
          ],
          [
           "Gaia DR3 1326678362233383552",
           "MS"
          ],
          [
           "Gaia DR3 1327927751039463680",
           "MS"
          ],
          [
           "Gaia DR3 1328451702689775104",
           "MS"
          ],
          [
           "Gaia DR3 1328675659464564608",
           "MS"
          ],
          [
           "Gaia DR3 1329451364918111232",
           "MS"
          ],
          [
           "Gaia DR3 1332086928649703040",
           "MS"
          ],
          [
           "Gaia DR3 1333341570199812352",
           "MS"
          ],
          [
           "Gaia DR3 1337854760491621248",
           "MS"
          ],
          [
           "Gaia DR3 1338164818473267072",
           "MS"
          ],
          [
           "Gaia DR3 1338665439860900480",
           "MS"
          ],
          [
           "Gaia DR3 1340932877652218880",
           "MS"
          ],
          [
           "Gaia DR3 1341026267420926592",
           "MS"
          ],
          [
           "Gaia DR3 1342278473726609920",
           "MS"
          ],
          [
           "Gaia DR3 1342560257940908160",
           "MS"
          ],
          [
           "Gaia DR3 1343506147178121600",
           "MS"
          ],
          [
           "Gaia DR3 1345279281476995968",
           "MS"
          ],
          [
           "Gaia DR3 1345394764557744384",
           "MS"
          ],
          [
           "Gaia DR3 1345834191251444864",
           "MS"
          ],
          [
           "Gaia DR3 1346711086134194304",
           "MS"
          ],
          [
           "Gaia DR3 1347207996670759680",
           "MS"
          ],
          [
           "Gaia DR3 1347749299988332544",
           "MS"
          ],
          [
           "Gaia DR3 1349878744773960064",
           "MS"
          ],
          [
           "Gaia DR3 1350086415032807936",
           "MS"
          ],
          [
           "Gaia DR3 1350529037182282752",
           "MS"
          ],
          [
           "Gaia DR3 1350738043175871232",
           "MS"
          ],
          [
           "Gaia DR3 1352242591694523520",
           "MS"
          ],
          [
           "Gaia DR3 1356012606612285312",
           "MS"
          ],
          [
           "Gaia DR3 1356070507066365696",
           "MS"
          ],
          [
           "Gaia DR3 1359465764613192576",
           "MS"
          ],
          [
           "Gaia DR3 1362820507732676480",
           "MS"
          ],
          [
           "Gaia DR3 1365609900012747776",
           "MS"
          ],
          [
           "Gaia DR3 1368072947794540928",
           "MS"
          ],
          [
           "Gaia DR3 1369353294725518720",
           "MS"
          ],
          [
           "Gaia DR3 1369573506288108288",
           "MS"
          ],
          [
           "Gaia DR3 1370002930003027712",
           "MS"
          ],
          [
           "Gaia DR3 1371431337341518592",
           "MS"
          ],
          [
           "Gaia DR3 1371940308145975296",
           "MS"
          ],
          [
           "Gaia DR3 1372860496299403136",
           "MS"
          ],
          [
           "Gaia DR3 1373873112148822784",
           "MS"
          ],
          [
           "Gaia DR3 1375386315026397440",
           "MS"
          ],
          [
           "Gaia DR3 1379769037094732288",
           "MS"
          ],
          [
           "Gaia DR3 1380336453813557888",
           "MS"
          ],
          [
           "Gaia DR3 1385746119741609984",
           "MS"
          ],
          [
           "Gaia DR3 1386484270001150720",
           "MS"
          ],
          [
           "Gaia DR3 1386979565629462912",
           "MS"
          ],
          [
           "Gaia DR3 1389475216506841472",
           "MS"
          ],
          [
           "Gaia DR3 1390652930898790400",
           "MS"
          ],
          [
           "Gaia DR3 1390841084826205952",
           "MS"
          ],
          [
           "Gaia DR3 1391913761498016768",
           "MS"
          ],
          [
           "Gaia DR3 1392177846151047424",
           "MS"
          ],
          [
           "Gaia DR3 1392394213719756672",
           "MS"
          ],
          [
           "Gaia DR3 1393801348085065728",
           "MS"
          ],
          [
           "Gaia DR3 1394121134170224512",
           "MS"
          ],
          [
           "Gaia DR3 1394504554490564608",
           "MS"
          ],
          [
           "Gaia DR3 1395395536866217088",
           "MS"
          ],
          [
           "Gaia DR3 1396651213505240832",
           "MS"
          ],
          [
           "Gaia DR3 1397252268408030464",
           "MS"
          ],
          [
           "Gaia DR3 1399671949903431552",
           "MS"
          ],
          [
           "Gaia DR3 1401647939801476480",
           "MS"
          ],
          [
           "Gaia DR3 1403790376863435904",
           "MS"
          ],
          [
           "Gaia DR3 1403938467336316032",
           "MS"
          ],
          [
           "Gaia DR3 1408598296398542464",
           "MS"
          ],
          [
           "Gaia DR3 1410272856902767104",
           "MS"
          ],
          [
           "Gaia DR3 1410369545206698624",
           "MS"
          ],
          [
           "Gaia DR3 1411702668695905664",
           "MS"
          ],
          [
           "Gaia DR3 1412062312077481984",
           "MS"
          ],
          [
           "Gaia DR3 1412374367221245824",
           "MS"
          ],
          [
           "Gaia DR3 1413960069146958080",
           "MS"
          ],
          [
           "Gaia DR3 1414435092529902464",
           "MS"
          ],
          [
           "Gaia DR3 1414552946432492032",
           "MS"
          ],
          [
           "Gaia DR3 1415273057828860928",
           "MS"
          ],
          [
           "Gaia DR3 1415612596467815424",
           "MS"
          ],
          [
           "Gaia DR3 1415780241927328768",
           "MS"
          ],
          [
           "Gaia DR3 1416776055864456960",
           "MS"
          ],
          [
           "Gaia DR3 1419393477653996800",
           "MS"
          ],
          [
           "Gaia DR3 1420328990250391680",
           "MS"
          ],
          [
           "Gaia DR3 1421142972452621952",
           "MS"
          ],
          [
           "Gaia DR3 1421166543233291904",
           "MS"
          ],
          [
           "Gaia DR3 1422986338056731392",
           "MS"
          ],
          [
           "Gaia DR3 1423731016666454656",
           "MS"
          ],
          [
           "Gaia DR3 1423778020788574464",
           "MS"
          ],
          [
           "Gaia DR3 1423914978705213824",
           "MS"
          ],
          [
           "Gaia DR3 1424872722052364416",
           "MS"
          ],
          [
           "Gaia DR3 1425590737504748544",
           "MS"
          ],
          [
           "Gaia DR3 1427195234207485952",
           "MS"
          ],
          [
           "Gaia DR3 1430344063710712704",
           "MS"
          ],
          [
           "Gaia DR3 1431165085362960768",
           "MS"
          ],
          [
           "Gaia DR3 1431825380751544960",
           "MS"
          ],
          [
           "Gaia DR3 1434445448240677376",
           "MS"
          ],
          [
           "Gaia DR3 1435434905626849280",
           "MS"
          ],
          [
           "Gaia DR3 1437971375872603008",
           "MS"
          ],
          [
           "Gaia DR3 1439252822315595392",
           "MS"
          ],
          [
           "Gaia DR3 1439339443215585792",
           "MS"
          ],
          [
           "Gaia DR3 1441768367480484736",
           "MS"
          ],
          [
           "Gaia DR3 1442404091359396224",
           "MS"
          ],
          [
           "Gaia DR3 1446730841413412608",
           "MS"
          ],
          [
           "Gaia DR3 1446967098974473856",
           "MS"
          ],
          [
           "Gaia DR3 1451543369448740224",
           "MS"
          ],
          [
           "Gaia DR3 1451589961253902976",
           "MS"
          ],
          [
           "Gaia DR3 1452167857693464448",
           "MS"
          ],
          [
           "Gaia DR3 1452919992366109056",
           "MS"
          ],
          [
           "Gaia DR3 1456415026297476992",
           "MS"
          ],
          [
           "Gaia DR3 1456994262767115136",
           "MS"
          ],
          [
           "Gaia DR3 1457288283344007424",
           "MS"
          ],
          [
           "Gaia DR3 1461700864025122176",
           "MS"
          ],
          [
           "Gaia DR3 1462176815120528512",
           "MS"
          ],
          [
           "Gaia DR3 1466745492092679168",
           "MS"
          ],
          [
           "Gaia DR3 1467692476545370112",
           "MS"
          ],
          [
           "Gaia DR3 1468505363532939904",
           "MS"
          ],
          [
           "Gaia DR3 1470354192334908032",
           "MS"
          ],
          [
           "Gaia DR3 1470687722314940800",
           "MS"
          ],
          [
           "Gaia DR3 1473353213378665600",
           "MS"
          ],
          [
           "Gaia DR3 1475724241484726784",
           "MS"
          ],
          [
           "Gaia DR3 1479598198906350336",
           "MS"
          ],
          [
           "Gaia DR3 1480193928050014592",
           "MS"
          ],
          [
           "Gaia DR3 1482989951759946624",
           "MS"
          ],
          [
           "Gaia DR3 1483641103161355520",
           "MS"
          ],
          [
           "Gaia DR3 1484984672010735488",
           "MS"
          ],
          [
           "Gaia DR3 1485554974948152704",
           "MS"
          ],
          [
           "Gaia DR3 1485578683167595648",
           "MS"
          ],
          [
           "Gaia DR3 1485913828055470592",
           "MS"
          ],
          [
           "Gaia DR3 1486435477603020928",
           "MS"
          ],
          [
           "Gaia DR3 1489111963783471360",
           "MS"
          ],
          [
           "Gaia DR3 1491819682965877632",
           "MS"
          ],
          [
           "Gaia DR3 1492136445393915008",
           "MS"
          ],
          [
           "Gaia DR3 1494960059973023360",
           "MS"
          ],
          [
           "Gaia DR3 1496909184851679616",
           "MS"
          ],
          [
           "Gaia DR3 1497373419276764800",
           "MS"
          ],
          [
           "Gaia DR3 1498102223687048192",
           "MS"
          ],
          [
           "Gaia DR3 1498322641409140224",
           "MS"
          ],
          [
           "Gaia DR3 1499019937939409408",
           "MS"
          ],
          [
           "Gaia DR3 1501109078751806592",
           "MS"
          ],
          [
           "Gaia DR3 1502611595750572544",
           "MS"
          ],
          [
           "Gaia DR3 1504537905762838656",
           "MS"
          ],
          [
           "Gaia DR3 1505513894131064576",
           "MS"
          ],
          [
           "Gaia DR3 1506883988698622080",
           "MS"
          ],
          [
           "Gaia DR3 1512633541158940928",
           "MS"
          ],
          [
           "Gaia DR3 1518603820576991360",
           "MS"
          ],
          [
           "Gaia DR3 1525186356175188736",
           "MS"
          ],
          [
           "Gaia DR3 1525829295599805184",
           "MS"
          ],
          [
           "Gaia DR3 1526018068002598528",
           "MS"
          ],
          [
           "Gaia DR3 1526979968878054656",
           "MS"
          ],
          [
           "Gaia DR3 1527946297863133312",
           "MS"
          ],
          [
           "Gaia DR3 1528603981912268544",
           "MS"
          ],
          [
           "Gaia DR3 1528621780256720256",
           "MS"
          ],
          [
           "Gaia DR3 1529690127601558400",
           "MS"
          ],
          [
           "Gaia DR3 1536905019822585856",
           "MS"
          ],
          [
           "Gaia DR3 1537399147219947776",
           "MS"
          ],
          [
           "Gaia DR3 1538567721922127872",
           "MS"
          ],
          [
           "Gaia DR3 1540197026356420608",
           "MS"
          ],
          [
           "Gaia DR3 1540470323716410624",
           "MS"
          ],
          [
           "Gaia DR3 1541904121237324032",
           "MS"
          ],
          [
           "Gaia DR3 1542865502420928000",
           "MS"
          ],
          [
           "Gaia DR3 1542883717380730752",
           "MS"
          ],
          [
           "Gaia DR3 1545704235286103680",
           "MS"
          ],
          [
           "Gaia DR3 1546294780409630592",
           "MS"
          ],
          [
           "Gaia DR3 1546478879887634048",
           "MS"
          ],
          [
           "Gaia DR3 1546665865583070080",
           "MS"
          ],
          [
           "Gaia DR3 1546972045211087616",
           "MS"
          ],
          [
           "Gaia DR3 1546979535634042752",
           "MS"
          ],
          [
           "Gaia DR3 1549545177295352832",
           "MS"
          ],
          [
           "Gaia DR3 1551840339099212928",
           "MS"
          ],
          [
           "Gaia DR3 1552575156463562368",
           "MS"
          ],
          [
           "Gaia DR3 1552689643112102528",
           "MS"
          ],
          [
           "Gaia DR3 1554616193642689408",
           "MS"
          ],
          [
           "Gaia DR3 1556894313015091456",
           "MS"
          ],
          [
           "Gaia DR3 1557413419942508928",
           "MS"
          ],
          [
           "Gaia DR3 1558586388394283648",
           "MS"
          ],
          [
           "Gaia DR3 1559904432254848256",
           "MS"
          ],
          [
           "Gaia DR3 1560077227379405568",
           "MS"
          ],
          [
           "Gaia DR3 1564080514855695360",
           "MS"
          ],
          [
           "Gaia DR3 1564584366058918144",
           "MS"
          ],
          [
           "Gaia DR3 1568899090205245184",
           "MS"
          ],
          [
           "Gaia DR3 1569917409771276928",
           "MS"
          ],
          [
           "Gaia DR3 1572435531916730496",
           "MS"
          ],
          [
           "Gaia DR3 1572491572650125824",
           "MS"
          ],
          [
           "Gaia DR3 1574135308173609088",
           "MS"
          ],
          [
           "Gaia DR3 1577111995387071232",
           "MS"
          ],
          [
           "Gaia DR3 1580110707193352832",
           "MS"
          ],
          [
           "Gaia DR3 1581117310088807552",
           "MS"
          ],
          [
           "Gaia DR3 1581266019036318080",
           "MS"
          ],
          [
           "Gaia DR3 1583415117592149120",
           "MS"
          ],
          [
           "Gaia DR3 1583896085209675392",
           "MS"
          ],
          [
           "Gaia DR3 1586478322627595904",
           "MS"
          ],
          [
           "Gaia DR3 1586949806959008768",
           "MS"
          ],
          [
           "Gaia DR3 1587040447947813760",
           "MS"
          ],
          [
           "Gaia DR3 1587711248823230848",
           "MS"
          ],
          [
           "Gaia DR3 1591195124431687040",
           "MS"
          ],
          [
           "Gaia DR3 1601668866039159424",
           "MS"
          ],
          [
           "Gaia DR3 1601951126994003200",
           "MS"
          ],
          [
           "Gaia DR3 1602638704014314880",
           "MS"
          ],
          [
           "Gaia DR3 1604754026948160512",
           "MS"
          ],
          [
           "Gaia DR3 1605228844172042368",
           "MS"
          ],
          [
           "Gaia DR3 1606064232491269120",
           "MS"
          ],
          [
           "Gaia DR3 1607260638580969088",
           "MS"
          ],
          [
           "Gaia DR3 1608384133306158336",
           "MS"
          ],
          [
           "Gaia DR3 1610415412318686848",
           "MS"
          ],
          [
           "Gaia DR3 1611866286631020544",
           "MS"
          ],
          [
           "Gaia DR3 1619073619710824832",
           "MS"
          ],
          [
           "Gaia DR3 1620496250318290944",
           "MS"
          ],
          [
           "Gaia DR3 1620969693153177472",
           "MS"
          ],
          [
           "Gaia DR3 1624071827771928704",
           "MS"
          ],
          [
           "Gaia DR3 1624151885962373248",
           "MS"
          ],
          [
           "Gaia DR3 1626845895609073536",
           "MS"
          ],
          [
           "Gaia DR3 1627362185038477824",
           "MS"
          ],
          [
           "Gaia DR3 1628984754963014784",
           "MS"
          ],
          [
           "Gaia DR3 1630905631839881472",
           "MS"
          ],
          [
           "Gaia DR3 1631784072911554432",
           "MS"
          ],
          [
           "Gaia DR3 1632417017948792832",
           "MS"
          ],
          [
           "Gaia DR3 1632602010778931712",
           "MS"
          ],
          [
           "Gaia DR3 1636130412312502272",
           "MS"
          ],
          [
           "Gaia DR3 1636785789961578624",
           "MS"
          ],
          [
           "Gaia DR3 1639117957203463552",
           "MS"
          ],
          [
           "Gaia DR3 1639950905981496960",
           "MS"
          ],
          [
           "Gaia DR3 1642742050608107264",
           "MS"
          ],
          [
           "Gaia DR3 1643758927064583552",
           "MS"
          ],
          [
           "Gaia DR3 1644227692679216512",
           "MS"
          ],
          [
           "Gaia DR3 1646746059638996992",
           "MS"
          ],
          [
           "Gaia DR3 1648068119292700288",
           "MS"
          ],
          [
           "Gaia DR3 1649469756099782400",
           "MS"
          ],
          [
           "Gaia DR3 1652016289457948672",
           "MS"
          ],
          [
           "Gaia DR3 1653000734613270144",
           "MS"
          ],
          [
           "Gaia DR3 1653342614010138496",
           "MS"
          ],
          [
           "Gaia DR3 1653891373391678848",
           "MS"
          ],
          [
           "Gaia DR3 1656436433572106880",
           "MS"
          ],
          [
           "Gaia DR3 1657024741012494464",
           "MS"
          ],
          [
           "Gaia DR3 1657555152293606912",
           "MS"
          ],
          [
           "Gaia DR3 1662113280825127424",
           "MS"
          ],
          [
           "Gaia DR3 1662484365999592704",
           "MS"
          ],
          [
           "Gaia DR3 1663426406946497280",
           "MS"
          ],
          [
           "Gaia DR3 1665286643181564672",
           "MS"
          ],
          [
           "Gaia DR3 1667383858532448000",
           "MS"
          ],
          [
           "Gaia DR3 1669385519450965248",
           "MS"
          ],
          [
           "Gaia DR3 1670778184070901632",
           "MS"
          ],
          [
           "Gaia DR3 1671770909927411584",
           "MS"
          ],
          [
           "Gaia DR3 1671994729262991232",
           "MS"
          ],
          [
           "Gaia DR3 1672651000266199040",
           "MS"
          ],
          [
           "Gaia DR3 1674635034638596608",
           "MS"
          ],
          [
           "Gaia DR3 1675265192240419584",
           "MS"
          ],
          [
           "Gaia DR3 1677112681012455040",
           "MS"
          ],
          [
           "Gaia DR3 1678830805369710208",
           "MS"
          ],
          [
           "Gaia DR3 1682115218400594560",
           "MS"
          ],
          [
           "Gaia DR3 1683575679079854848",
           "MS"
          ],
          [
           "Gaia DR3 1685514289878351744",
           "MS"
          ],
          [
           "Gaia DR3 1687484477276459136",
           "MS"
          ],
          [
           "Gaia DR3 1690364785424482816",
           "MS"
          ],
          [
           "Gaia DR3 1690975151817096960",
           "MS"
          ],
          [
           "Gaia DR3 1692027728041999872",
           "MS"
          ],
          [
           "Gaia DR3 1692574563278256128",
           "MS"
          ],
          [
           "Gaia DR3 1695880240691683968",
           "MS"
          ],
          [
           "Gaia DR3 1698784536232347904",
           "MS"
          ],
          [
           "Gaia DR3 1699635145915324416",
           "MS"
          ],
          [
           "Gaia DR3 1701705453295364864",
           "MS"
          ],
          [
           "Gaia DR3 1704433895695488128",
           "MS"
          ],
          [
           "Gaia DR3 1705634699832082944",
           "MS"
          ],
          [
           "Gaia DR3 1708812460235098880",
           "MS"
          ],
          [
           "Gaia DR3 1710621672258944128",
           "MS"
          ],
          [
           "Gaia DR3 1711442011012567552",
           "MS"
          ],
          [
           "Gaia DR3 1714601835632111232",
           "MS"
          ],
          [
           "Gaia DR3 1715314800203251840",
           "MS"
          ],
          [
           "Gaia DR3 1717783856642415872",
           "MS"
          ],
          [
           "Gaia DR3 1718037534590827776",
           "MS"
          ],
          [
           "Gaia DR3 1718221565349474176",
           "MS"
          ],
          [
           "Gaia DR3 1718256887160537088",
           "MS"
          ],
          [
           "Gaia DR3 1719256446309589248",
           "MS"
          ],
          [
           "Gaia DR3 1720105647243105024",
           "MS"
          ],
          [
           "Gaia DR3 1720200995517179520",
           "MS"
          ],
          [
           "Gaia DR3 1721619502956076928",
           "MS"
          ],
          [
           "Gaia DR3 1722695581242382720",
           "MS"
          ],
          [
           "Gaia DR3 1723116041360607488",
           "MS"
          ],
          [
           "Gaia DR3 1723691670057543552",
           "MS"
          ],
          [
           "Gaia DR3 1724580419050159744",
           "MS"
          ],
          [
           "Gaia DR3 1728521481041777664",
           "MS"
          ],
          [
           "Gaia DR3 1730080652953443840",
           "MS"
          ],
          [
           "Gaia DR3 1730634742391203968",
           "MS"
          ],
          [
           "Gaia DR3 1735654287848560256",
           "MS"
          ],
          [
           "Gaia DR3 1736035406067607424",
           "MS"
          ],
          [
           "Gaia DR3 1736194938332553728",
           "MS"
          ],
          [
           "Gaia DR3 1736316228207818496",
           "MS"
          ],
          [
           "Gaia DR3 1738096852929539584",
           "MS"
          ],
          [
           "Gaia DR3 1745505740234476160",
           "MS"
          ],
          [
           "Gaia DR3 1746802270602232832",
           "MS"
          ],
          [
           "Gaia DR3 1746878446141859968",
           "MS"
          ],
          [
           "Gaia DR3 1749302972361330048",
           "MS"
          ],
          [
           "Gaia DR3 1749780641444938240",
           "MS"
          ],
          [
           "Gaia DR3 1751268005798801280",
           "MS"
          ],
          [
           "Gaia DR3 1751309203125577088",
           "MS"
          ],
          [
           "Gaia DR3 1752956237185401728",
           "MS"
          ],
          [
           "Gaia DR3 1759904875793195904",
           "MS"
          ],
          [
           "Gaia DR3 1764717197670024576",
           "MS"
          ],
          [
           "Gaia DR3 1765680369854528256",
           "MS"
          ],
          [
           "Gaia DR3 1770812409097004544",
           "MS"
          ],
          [
           "Gaia DR3 1771481736800541568",
           "MS"
          ],
          [
           "Gaia DR3 1780535218622509056",
           "MS"
          ],
          [
           "Gaia DR3 1780752303449428992",
           "MS"
          ],
          [
           "Gaia DR3 1785670212802544896",
           "MS"
          ],
          [
           "Gaia DR3 1788132981409653120",
           "MS"
          ],
          [
           "Gaia DR3 1792154616987433600",
           "MS"
          ],
          [
           "Gaia DR3 1792221201863555200",
           "MS"
          ],
          [
           "Gaia DR3 1793576526040126080",
           "MS"
          ],
          [
           "Gaia DR3 1798077686126174976",
           "MS"
          ],
          [
           "Gaia DR3 1801110822095134848",
           "MS"
          ],
          [
           "Gaia DR3 1802645366676085632",
           "MS"
          ],
          [
           "Gaia DR3 1803080360967961856",
           "MS"
          ],
          [
           "Gaia DR3 1803902005378574464",
           "MS"
          ],
          [
           "Gaia DR3 1804564388117404160",
           "MS"
          ],
          [
           "Gaia DR3 1805228703601998336",
           "MS"
          ],
          [
           "Gaia DR3 1806982459017442944",
           "MS"
          ],
          [
           "Gaia DR3 1808124091372758528",
           "MS"
          ],
          [
           "Gaia DR3 1811179054367025920",
           "MS"
          ],
          [
           "Gaia DR3 1811204789811017088",
           "MS"
          ],
          [
           "Gaia DR3 1812202940212742912",
           "MS"
          ],
          [
           "Gaia DR3 1818458371105244288",
           "MS"
          ],
          [
           "Gaia DR3 1819927215587352320",
           "MS"
          ],
          [
           "Gaia DR3 1820377083313087360",
           "MS"
          ],
          [
           "Gaia DR3 1820819950320873472",
           "MS"
          ],
          [
           "Gaia DR3 1822534810477428992",
           "MS"
          ],
          [
           "Gaia DR3 1822959531217872512",
           "MS"
          ],
          [
           "Gaia DR3 1824816331489091584",
           "MS"
          ],
          [
           "Gaia DR3 1827022398482755712",
           "MS"
          ],
          [
           "Gaia DR3 1828408539033962112",
           "MS"
          ],
          [
           "Gaia DR3 1828571782146727296",
           "MS"
          ],
          [
           "Gaia DR3 1829461218328840576",
           "MS"
          ],
          [
           "Gaia DR3 1830607390486696832",
           "MS"
          ],
          [
           "Gaia DR3 1831986448634671488",
           "MS"
          ],
          [
           "Gaia DR3 1833037689154421120",
           "MS"
          ],
          [
           "Gaia DR3 1834028692715683200",
           "MS"
          ],
          [
           "Gaia DR3 1834159087926329472",
           "MS"
          ],
          [
           "Gaia DR3 1834608990029533312",
           "MS"
          ],
          [
           "Gaia DR3 1835153733635133056",
           "MS"
          ],
          [
           "Gaia DR3 1835749359701653632",
           "MS"
          ],
          [
           "Gaia DR3 1835843539739198208",
           "MS"
          ],
          [
           "Gaia DR3 1836561623906278784",
           "MS"
          ],
          [
           "Gaia DR3 1837947317780120448",
           "MS"
          ],
          [
           "Gaia DR3 1837989919560250112",
           "MS"
          ],
          [
           "Gaia DR3 1838384373651819136",
           "MS"
          ],
          [
           "Gaia DR3 1839454370264154624",
           "MS"
          ],
          [
           "Gaia DR3 1840170873888647552",
           "MS"
          ],
          [
           "Gaia DR3 1842582618284571776",
           "MS"
          ],
          [
           "Gaia DR3 1842768779346959232",
           "MS"
          ],
          [
           "Gaia DR3 1844298406179576832",
           "MS"
          ],
          [
           "Gaia DR3 1846386305746235776",
           "MS"
          ],
          [
           "Gaia DR3 1853454967219031552",
           "MS"
          ],
          [
           "Gaia DR3 1857426300147841408",
           "MS"
          ],
          [
           "Gaia DR3 1857569271022123392",
           "MS"
          ],
          [
           "Gaia DR3 1860726205116568960",
           "MS"
          ],
          [
           "Gaia DR3 1861705565045317888",
           "MS"
          ],
          [
           "Gaia DR3 1861907286759471872",
           "MS"
          ],
          [
           "Gaia DR3 1862027653242247040",
           "MS"
          ],
          [
           "Gaia DR3 1862289852396121344",
           "MS"
          ],
          [
           "Gaia DR3 1862686020176606720",
           "MS"
          ],
          [
           "Gaia DR3 1865761697796127488",
           "MS"
          ],
          [
           "Gaia DR3 1866316263976078080",
           "MS"
          ],
          [
           "Gaia DR3 1866338322925480704",
           "MS"
          ],
          [
           "Gaia DR3 1866649106759972352",
           "MS"
          ],
          [
           "Gaia DR3 1867779782668247552",
           "MS"
          ],
          [
           "Gaia DR3 1868365616211997312",
           "MS"
          ],
          [
           "Gaia DR3 1869248970729240320",
           "MS"
          ],
          [
           "Gaia DR3 1869923418035316352",
           "MS"
          ],
          [
           "Gaia DR3 1870770041991670272",
           "MS"
          ],
          [
           "Gaia DR3 1871419337958702720",
           "MS"
          ],
          [
           "Gaia DR3 1877654737106831360",
           "MS"
          ],
          [
           "Gaia DR3 1879351695866110720",
           "MS"
          ],
          [
           "Gaia DR3 1880281367306370816",
           "MS"
          ],
          [
           "Gaia DR3 1881855524360650496",
           "MS"
          ],
          [
           "Gaia DR3 1885655505265993472",
           "MS"
          ],
          [
           "Gaia DR3 1887313534441593216",
           "MS"
          ],
          [
           "Gaia DR3 1888265436634333568",
           "MS"
          ],
          [
           "Gaia DR3 1890007200489883648",
           "MS"
          ],
          [
           "Gaia DR3 1893262888779553536",
           "MS"
          ],
          [
           "Gaia DR3 1895154083140093440",
           "MS"
          ],
          [
           "Gaia DR3 1895167930114632960",
           "MS"
          ],
          [
           "Gaia DR3 1897254150348341504",
           "MS"
          ],
          [
           "Gaia DR3 1897283424845015168",
           "MS"
          ],
          [
           "Gaia DR3 1898143242940859136",
           "MS"
          ],
          [
           "Gaia DR3 1898278757746324352",
           "MS"
          ],
          [
           "Gaia DR3 1899686678092413056",
           "MS"
          ],
          [
           "Gaia DR3 1901235241435006080",
           "MS"
          ],
          [
           "Gaia DR3 1904552330576685440",
           "MS"
          ],
          [
           "Gaia DR3 1908307884342873088",
           "MS"
          ],
          [
           "Gaia DR3 1909326856742554752",
           "MS"
          ],
          [
           "Gaia DR3 1911706642282753280",
           "MS"
          ],
          [
           "Gaia DR3 1913565405346493568",
           "MS"
          ],
          [
           "Gaia DR3 1913681541261858816",
           "MS"
          ],
          [
           "Gaia DR3 1915290985767239552",
           "MS"
          ],
          [
           "Gaia DR3 1919448239232653312",
           "MS"
          ],
          [
           "Gaia DR3 1919775721898098688",
           "MS"
          ],
          [
           "Gaia DR3 1921522089959888896",
           "MS"
          ],
          [
           "Gaia DR3 1921795112440622720",
           "MS"
          ],
          [
           "Gaia DR3 1923201422173419136",
           "MS"
          ],
          [
           "Gaia DR3 1923613773393975296",
           "MS"
          ],
          [
           "Gaia DR3 1924475687431050880",
           "MS"
          ],
          [
           "Gaia DR3 1924744414945506048",
           "MS"
          ],
          [
           "Gaia DR3 1926910555931744128",
           "MS"
          ],
          [
           "Gaia DR3 1926970719834048640",
           "MS"
          ],
          [
           "Gaia DR3 1927426673561409536",
           "MS"
          ],
          [
           "Gaia DR3 1928138641699053696",
           "MS"
          ],
          [
           "Gaia DR3 1930362953722106752",
           "MS"
          ],
          [
           "Gaia DR3 1930517847422580864",
           "MS"
          ],
          [
           "Gaia DR3 1930909548440830464",
           "MS"
          ],
          [
           "Gaia DR3 1931280461816513920",
           "MS"
          ],
          [
           "Gaia DR3 1933528378979949696",
           "MS"
          ],
          [
           "Gaia DR3 1937355916394803328",
           "MS"
          ],
          [
           "Gaia DR3 1939390184707073792",
           "MS"
          ],
          [
           "Gaia DR3 1940596348963238016",
           "MS"
          ],
          [
           "Gaia DR3 1941779079874800000",
           "MS"
          ],
          [
           "Gaia DR3 1942051105924343552",
           "MS"
          ],
          [
           "Gaia DR3 1943396530199430400",
           "MS"
          ],
          [
           "Gaia DR3 1944567407005545984",
           "MS"
          ],
          [
           "Gaia DR3 1944737247191914752",
           "MS"
          ],
          [
           "Gaia DR3 1944828987694163840",
           "MS"
          ],
          [
           "Gaia DR3 1947989671306277120",
           "MS"
          ],
          [
           "Gaia DR3 1949973190282649088",
           "MS"
          ],
          [
           "Gaia DR3 1950799026595070336",
           "MS"
          ],
          [
           "Gaia DR3 1951201035534889088",
           "MS"
          ],
          [
           "Gaia DR3 1951704474422858496",
           "MS"
          ],
          [
           "Gaia DR3 1953170913695934976",
           "MS"
          ],
          [
           "Gaia DR3 1953626352026473984",
           "MS"
          ],
          [
           "Gaia DR3 1954437585449717504",
           "MS"
          ],
          [
           "Gaia DR3 1956622452490874112",
           "MS"
          ],
          [
           "Gaia DR3 1957788656371012608",
           "MS"
          ],
          [
           "Gaia DR3 1960064542361395840",
           "MS"
          ],
          [
           "Gaia DR3 1960216859082175872",
           "MS"
          ],
          [
           "Gaia DR3 1962476183678332672",
           "MS"
          ],
          [
           "Gaia DR3 1962838919439040128",
           "MS"
          ],
          [
           "Gaia DR3 1963233437956756096",
           "MS"
          ],
          [
           "Gaia DR3 1964014400449484032",
           "MS"
          ],
          [
           "Gaia DR3 1964398885922194048",
           "MS"
          ],
          [
           "Gaia DR3 1966041689429219072",
           "MS"
          ],
          [
           "Gaia DR3 1966716720848592512",
           "MS"
          ],
          [
           "Gaia DR3 1968567100147157248",
           "MS"
          ],
          [
           "Gaia DR3 1968724532160141056",
           "MS"
          ],
          [
           "Gaia DR3 1969015494731315072",
           "MS"
          ],
          [
           "Gaia DR3 1970463306727336064",
           "MS"
          ],
          [
           "Gaia DR3 1970483926872076416",
           "MS"
          ],
          [
           "Gaia DR3 1971190053855492608",
           "MS"
          ],
          [
           "Gaia DR3 1972351275571839104",
           "MS"
          ],
          [
           "Gaia DR3 1976973691183849088",
           "MS"
          ],
          [
           "Gaia DR3 1977084054655937152",
           "MS"
          ],
          [
           "Gaia DR3 1979712437208258944",
           "MS"
          ],
          [
           "Gaia DR3 1980356132545977088",
           "MS"
          ],
          [
           "Gaia DR3 1983620960512786432",
           "MS"
          ],
          [
           "Gaia DR3 1983636594193374336",
           "MS"
          ],
          [
           "Gaia DR3 1983937207542749056",
           "MS"
          ],
          [
           "Gaia DR3 1984454493406542976",
           "MS"
          ],
          [
           "Gaia DR3 1984699375260371072",
           "MS"
          ],
          [
           "Gaia DR3 1985420517450487040",
           "MS"
          ],
          [
           "Gaia DR3 1986145679728690176",
           "MS"
          ],
          [
           "Gaia DR3 1988302681031065856",
           "MS"
          ],
          [
           "Gaia DR3 1990635844696996096",
           "MS"
          ],
          [
           "Gaia DR3 1992968836574893568",
           "MS"
          ],
          [
           "Gaia DR3 1995902157498274304",
           "MS"
          ],
          [
           "Gaia DR3 1997047749837441920",
           "MS"
          ],
          [
           "Gaia DR3 1997498236062929280",
           "MS"
          ],
          [
           "Gaia DR3 1998069024339740800",
           "MS"
          ],
          [
           "Gaia DR3 1999444341589582976",
           "MS"
          ],
          [
           "Gaia DR3 2001106562661537152",
           "MS"
          ],
          [
           "Gaia DR3 2002123610913835904",
           "MS"
          ],
          [
           "Gaia DR3 2004578957821312768",
           "MS"
          ],
          [
           "Gaia DR3 2007290005588541056",
           "MS"
          ],
          [
           "Gaia DR3 2009304139089565824",
           "MS"
          ],
          [
           "Gaia DR3 2010176193550262656",
           "MS"
          ],
          [
           "Gaia DR3 2010794909359868416",
           "MS"
          ],
          [
           "Gaia DR3 2011687850240884992",
           "MS"
          ],
          [
           "Gaia DR3 2017034947083193984",
           "MS"
          ],
          [
           "Gaia DR3 2017496845043608064",
           "MS"
          ],
          [
           "Gaia DR3 2017952042886057216",
           "MS"
          ],
          [
           "Gaia DR3 2018126074965696384",
           "MS"
          ],
          [
           "Gaia DR3 2018466442513901824",
           "MS"
          ],
          [
           "Gaia DR3 2020302936181557248",
           "MS"
          ],
          [
           "Gaia DR3 2020606882416091648",
           "MS"
          ],
          [
           "Gaia DR3 2021506416061779456",
           "MS"
          ],
          [
           "Gaia DR3 2023127100531572864",
           "MS"
          ],
          [
           "Gaia DR3 2024388824497839616",
           "MS"
          ],
          [
           "Gaia DR3 2024551139902259328",
           "MS"
          ],
          [
           "Gaia DR3 2025295917239679360",
           "MS"
          ],
          [
           "Gaia DR3 2027347988210186240",
           "MS"
          ],
          [
           "Gaia DR3 2027456290109283968",
           "MS"
          ],
          [
           "Gaia DR3 2028818172727368960",
           "MS"
          ],
          [
           "Gaia DR3 2028823842084716416",
           "MS"
          ],
          [
           "Gaia DR3 2029223205293163776",
           "MS"
          ],
          [
           "Gaia DR3 2029454996084346624",
           "MS"
          ],
          [
           "Gaia DR3 2030262346884878464",
           "MS"
          ],
          [
           "Gaia DR3 2031956866111734784",
           "MS"
          ],
          [
           "Gaia DR3 2032579979951732736",
           "MS"
          ],
          [
           "Gaia DR3 2032673953832907520",
           "MS"
          ],
          [
           "Gaia DR3 2034512680874479104",
           "MS"
          ],
          [
           "Gaia DR3 2034516769683521408",
           "MS"
          ],
          [
           "Gaia DR3 2035495300665473792",
           "MS"
          ],
          [
           "Gaia DR3 2035876899906114432",
           "MS"
          ],
          [
           "Gaia DR3 2036785577537148672",
           "MS"
          ],
          [
           "Gaia DR3 2037181676598170752",
           "MS"
          ],
          [
           "Gaia DR3 2038294210577929216",
           "MS"
          ],
          [
           "Gaia DR3 2041415517917809152",
           "MS"
          ],
          [
           "Gaia DR3 2042925834580482176",
           "MS"
          ],
          [
           "Gaia DR3 2044808507747321216",
           "MS"
          ],
          [
           "Gaia DR3 2045157877559454976",
           "MS"
          ],
          [
           "Gaia DR3 2045304971609955072",
           "MS"
          ],
          [
           "Gaia DR3 2046656683694951808",
           "MS"
          ],
          [
           "Gaia DR3 2047180394837955840",
           "MS"
          ],
          [
           "Gaia DR3 2049359970469353984",
           "MS"
          ],
          [
           "Gaia DR3 2049405634562294656",
           "MS"
          ],
          [
           "Gaia DR3 2051256795521049472",
           "MS"
          ],
          [
           "Gaia DR3 2051356030746995200",
           "MS"
          ],
          [
           "Gaia DR3 2051557069577232640",
           "MS"
          ],
          [
           "Gaia DR3 2051678874848089088",
           "MS"
          ],
          [
           "Gaia DR3 2052124829897596416",
           "MS"
          ],
          [
           "Gaia DR3 2053107827648893440",
           "MS"
          ],
          [
           "Gaia DR3 2053365216447537152",
           "MS"
          ],
          [
           "Gaia DR3 2055097565756591488",
           "MS"
          ],
          [
           "Gaia DR3 2055169102735108480",
           "MS"
          ],
          [
           "Gaia DR3 2055286853544636416",
           "MS"
          ],
          [
           "Gaia DR3 2055531563595438464",
           "MS"
          ],
          [
           "Gaia DR3 2056434674957466112",
           "MS"
          ],
          [
           "Gaia DR3 2056884581368618496",
           "MS"
          ],
          [
           "Gaia DR3 2057496420927811200",
           "MS"
          ],
          [
           "Gaia DR3 2060164562034878208",
           "MS"
          ],
          [
           "Gaia DR3 2060202800090470656",
           "MS"
          ],
          [
           "Gaia DR3 2061542250085122176",
           "MS"
          ],
          [
           "Gaia DR3 2061745517972456576",
           "MS"
          ],
          [
           "Gaia DR3 2062147050188427392",
           "MS"
          ],
          [
           "Gaia DR3 2062534834190468224",
           "MS"
          ],
          [
           "Gaia DR3 2062658426167552640",
           "MS"
          ],
          [
           "Gaia DR3 2062738896677221376",
           "MS"
          ],
          [
           "Gaia DR3 2064204236428171264",
           "MS"
          ],
          [
           "Gaia DR3 2064341194345004288",
           "MS"
          ],
          [
           "Gaia DR3 2064476915311766272",
           "MS"
          ],
          [
           "Gaia DR3 2065374803998632064",
           "MS"
          ],
          [
           "Gaia DR3 2065774231657324672",
           "MS"
          ],
          [
           "Gaia DR3 2066970676407984256",
           "MS"
          ],
          [
           "Gaia DR3 2067299911417407744",
           "MS"
          ],
          [
           "Gaia DR3 2067331728535101568",
           "MS"
          ],
          [
           "Gaia DR3 2068839605657384064",
           "MS"
          ],
          [
           "Gaia DR3 2069540711816027392",
           "MS"
          ],
          [
           "Gaia DR3 2070052744937281664",
           "MS"
          ],
          [
           "Gaia DR3 2073794589176162176",
           "MS"
          ],
          [
           "Gaia DR3 2074301051734248064",
           "MS"
          ],
          [
           "Gaia DR3 2076237051177330048",
           "MS"
          ],
          [
           "Gaia DR3 2076447843862777984",
           "MS"
          ],
          [
           "Gaia DR3 2076717606476091648",
           "MS"
          ],
          [
           "Gaia DR3 2077195378636299776",
           "MS"
          ],
          [
           "Gaia DR3 2078069318579951744",
           "MS"
          ],
          [
           "Gaia DR3 2078740707868605696",
           "MS"
          ],
          [
           "Gaia DR3 2078869522526885248",
           "MS"
          ],
          [
           "Gaia DR3 2080945469200565248",
           "MS"
          ],
          [
           "Gaia DR3 2082289793965673728",
           "MS"
          ],
          [
           "Gaia DR3 2084957106094693632",
           "MS"
          ],
          [
           "Gaia DR3 2085008267746614912",
           "MS"
          ],
          [
           "Gaia DR3 2085786172220637952",
           "MS"
          ],
          [
           "Gaia DR3 2087845007742190976",
           "MS"
          ],
          [
           "Gaia DR3 2088772617598260608",
           "MS"
          ],
          [
           "Gaia DR3 2089618107677746432",
           "MS"
          ],
          [
           "Gaia DR3 2090919929445723136",
           "MS"
          ],
          [
           "Gaia DR3 2093473064164219904",
           "MS"
          ],
          [
           "Gaia DR3 2093994473195033472",
           "MS"
          ],
          [
           "Gaia DR3 2095119411027374592",
           "MS"
          ],
          [
           "Gaia DR3 2095412018559046016",
           "MS"
          ],
          [
           "Gaia DR3 2095578354052726528",
           "MS"
          ],
          [
           "Gaia DR3 2096847293550748416",
           "MS"
          ],
          [
           "Gaia DR3 2097059980331156480",
           "MS"
          ],
          [
           "Gaia DR3 2097684537296708480",
           "MS"
          ],
          [
           "Gaia DR3 2101021486368393216",
           "MS"
          ],
          [
           "Gaia DR3 2101034508709497472",
           "MS"
          ],
          [
           "Gaia DR3 2101785818747862016",
           "MS"
          ],
          [
           "Gaia DR3 2104353487633484800",
           "MS"
          ],
          [
           "Gaia DR3 2104358916473379328",
           "MS"
          ],
          [
           "Gaia DR3 2106740939694726784",
           "MS"
          ],
          [
           "Gaia DR3 2107236338402873728",
           "MS"
          ],
          [
           "Gaia DR3 2108337980333052672",
           "MS"
          ],
          [
           "Gaia DR3 2109744839820851456",
           "MS"
          ],
          [
           "Gaia DR3 2112539660938951808",
           "MS"
          ],
          [
           "Gaia DR3 2113087355168085632",
           "MS"
          ],
          [
           "Gaia DR3 2113334642204975872",
           "MS"
          ],
          [
           "Gaia DR3 2114159722601926528",
           "MS"
          ],
          [
           "Gaia DR3 2114610453650273792",
           "MS"
          ],
          [
           "Gaia DR3 2115136054568456064",
           "MS"
          ],
          [
           "Gaia DR3 2115566169772391168",
           "MS"
          ],
          [
           "Gaia DR3 2117731039449300736",
           "MS"
          ],
          [
           "Gaia DR3 2117959359910412544",
           "MS"
          ],
          [
           "Gaia DR3 2120615024088574336",
           "MS"
          ],
          [
           "Gaia DR3 2120674191558186240",
           "MS"
          ],
          [
           "Gaia DR3 2120827229832632448",
           "MS"
          ],
          [
           "Gaia DR3 2120876432978089088",
           "MS"
          ],
          [
           "Gaia DR3 2121284008194410240",
           "MS"
          ],
          [
           "Gaia DR3 2123235022857922176",
           "MS"
          ],
          [
           "Gaia DR3 2124026121474451328",
           "MS"
          ],
          [
           "Gaia DR3 2124249013097682944",
           "MS"
          ],
          [
           "Gaia DR3 2124514029759377152",
           "MS"
          ],
          [
           "Gaia DR3 2127822872567047808",
           "MS"
          ],
          [
           "Gaia DR3 2128081635759801216",
           "MS"
          ],
          [
           "Gaia DR3 2128216154135172864",
           "MS"
          ],
          [
           "Gaia DR3 2129267940084108160",
           "MS"
          ],
          [
           "Gaia DR3 2130104565352751360",
           "MS"
          ],
          [
           "Gaia DR3 2130220598189285248",
           "MS"
          ],
          [
           "Gaia DR3 2133994362612801024",
           "MS"
          ],
          [
           "Gaia DR3 2134256252538743936",
           "MS"
          ],
          [
           "Gaia DR3 2134850126258766464",
           "MS"
          ],
          [
           "Gaia DR3 2135144589216086400",
           "MS"
          ],
          [
           "Gaia DR3 2135623357810766848",
           "MS"
          ],
          [
           "Gaia DR3 2135896380291504896",
           "MS"
          ],
          [
           "Gaia DR3 2137016026727091072",
           "MS"
          ],
          [
           "Gaia DR3 2137257644405598208",
           "MS"
          ],
          [
           "Gaia DR3 2138054687256514432",
           "MS"
          ],
          [
           "Gaia DR3 2138802561320926848",
           "MS"
          ],
          [
           "Gaia DR3 2139903172460638592",
           "MS"
          ],
          [
           "Gaia DR3 2140595723050062720",
           "MS"
          ],
          [
           "Gaia DR3 2141069376339534080",
           "MS"
          ],
          [
           "Gaia DR3 2141399332906814208",
           "MS"
          ],
          [
           "Gaia DR3 2142730016854269312",
           "MS"
          ],
          [
           "Gaia DR3 2145858780269659008",
           "MS"
          ],
          [
           "Gaia DR3 2150242223892004096",
           "MS"
          ],
          [
           "Gaia DR3 2150966046140279552",
           "MS"
          ],
          [
           "Gaia DR3 2151393206408068224",
           "MS"
          ],
          [
           "Gaia DR3 2153793818248908544",
           "MS"
          ],
          [
           "Gaia DR3 2153961764352439296",
           "MS"
          ],
          [
           "Gaia DR3 2154938616011987712",
           "MS"
          ],
          [
           "Gaia DR3 2155188961065480832",
           "MS"
          ],
          [
           "Gaia DR3 2158929774499978368",
           "MS"
          ],
          [
           "Gaia DR3 2163375065669526784",
           "MS"
          ],
          [
           "Gaia DR3 2164871878948766336",
           "MS"
          ],
          [
           "Gaia DR3 2169069917414450432",
           "MS"
          ],
          [
           "Gaia DR3 2170988290338731136",
           "MS"
          ],
          [
           "Gaia DR3 2170995883841193088",
           "MS"
          ],
          [
           "Gaia DR3 2173911823033237248",
           "MS"
          ],
          [
           "Gaia DR3 2174144885141418496",
           "MS"
          ],
          [
           "Gaia DR3 2176888956917121024",
           "MS"
          ],
          [
           "Gaia DR3 2179633750258705792",
           "MS"
          ],
          [
           "Gaia DR3 2180349115711367296",
           "MS"
          ],
          [
           "Gaia DR3 2181538104401952512",
           "MS"
          ],
          [
           "Gaia DR3 2181644172912924288",
           "MS"
          ],
          [
           "Gaia DR3 2182219591145466752",
           "MS"
          ],
          [
           "Gaia DR3 2183351714470201216",
           "MS"
          ],
          [
           "Gaia DR3 2188138129095925120",
           "MS"
          ],
          [
           "Gaia DR3 2191446284709410816",
           "MS"
          ],
          [
           "Gaia DR3 2193200692949095552",
           "MS"
          ],
          [
           "Gaia DR3 2193456707359807488",
           "MS"
          ],
          [
           "Gaia DR3 2195203144140911232",
           "MS"
          ],
          [
           "Gaia DR3 2196607735884261120",
           "MS"
          ],
          [
           "Gaia DR3 2197889285419854848",
           "MS"
          ],
          [
           "Gaia DR3 2200029003760692096",
           "MS"
          ],
          [
           "Gaia DR3 2200473069016427392",
           "MS"
          ],
          [
           "Gaia DR3 2201092265861897216",
           "MS"
          ],
          [
           "Gaia DR3 2201146485529818880",
           "MS"
          ],
          [
           "Gaia DR3 2204839126614413312",
           "MS"
          ],
          [
           "Gaia DR3 2207309179480215296",
           "MS"
          ],
          [
           "Gaia DR3 2207352369668424448",
           "MS"
          ],
          [
           "Gaia DR3 2207588180556691840",
           "MS"
          ],
          [
           "Gaia DR3 2207826873365268480",
           "MS"
          ],
          [
           "Gaia DR3 2208943221256515712",
           "MS"
          ],
          [
           "Gaia DR3 2210568406820802688",
           "MS"
          ],
          [
           "Gaia DR3 2213316636135111552",
           "MS"
          ],
          [
           "Gaia DR3 2214757271246482048",
           "MS"
          ],
          [
           "Gaia DR3 2220568533795088256",
           "MS"
          ],
          [
           "Gaia DR3 2221770231283644416",
           "MS"
          ],
          [
           "Gaia DR3 2222069332806232832",
           "MS"
          ],
          [
           "Gaia DR3 2223660429210502144",
           "MS"
          ],
          [
           "Gaia DR3 2224807632155947008",
           "MS"
          ],
          [
           "Gaia DR3 2225482732296382976",
           "MS"
          ],
          [
           "Gaia DR3 2226312210739872896",
           "MS"
          ],
          [
           "Gaia DR3 2226426181992625664",
           "MS"
          ],
          [
           "Gaia DR3 2226750327466579968",
           "MS"
          ],
          [
           "Gaia DR3 2228520786002758912",
           "MS"
          ],
          [
           "Gaia DR3 2229219594360709760",
           "MS"
          ],
          [
           "Gaia DR3 2230890817674906496",
           "MS"
          ],
          [
           "Gaia DR3 2232773181581889536",
           "MS"
          ],
          [
           "Gaia DR3 2233328366233888128",
           "MS"
          ],
          [
           "Gaia DR3 2234310470637963904",
           "MS"
          ],
          [
           "Gaia DR3 2234986665989592960",
           "MS"
          ],
          [
           "Gaia DR3 2235848412525583616",
           "MS"
          ],
          [
           "Gaia DR3 2236190120124714112",
           "MS"
          ],
          [
           "Gaia DR3 2236478260889978368",
           "MS"
          ],
          [
           "Gaia DR3 2240581015510805376",
           "MS"
          ],
          [
           "Gaia DR3 2241134726993779456",
           "MS"
          ],
          [
           "Gaia DR3 2241144863116780928",
           "MS"
          ],
          [
           "Gaia DR3 2242188127852046208",
           "MS"
          ],
          [
           "Gaia DR3 2244342002411219712",
           "MS"
          ],
          [
           "Gaia DR3 2245834039689790976",
           "MS"
          ],
          [
           "Gaia DR3 2249298635187564800",
           "MS"
          ],
          [
           "Gaia DR3 2258343183477798016",
           "MS"
          ],
          [
           "Gaia DR3 2259686580528199424",
           "MS"
          ],
          [
           "Gaia DR3 2263151004229528576",
           "MS"
          ],
          [
           "Gaia DR3 2264578032882249472",
           "MS"
          ],
          [
           "Gaia DR3 2266634390207543680",
           "MS"
          ],
          [
           "Gaia DR3 2267896668212843008",
           "MS"
          ],
          [
           "Gaia DR3 2271349272164191104",
           "MS"
          ],
          [
           "Gaia DR3 2276538348570988928",
           "MS"
          ],
          [
           "Gaia DR3 2280534416206601088",
           "MS"
          ],
          [
           "Gaia DR3 2280959514888914048",
           "MS"
          ],
          [
           "Gaia DR3 2282681113877109888",
           "MS"
          ],
          [
           "Gaia DR3 2284149202419136896",
           "MS"
          ],
          [
           "Gaia DR3 2286490749869385344",
           "MS"
          ],
          [
           "Gaia DR3 2286606748345257984",
           "MS"
          ],
          [
           "Gaia DR3 2289000075921694080",
           "MS"
          ],
          [
           "Gaia DR3 2289424349971159680",
           "MS"
          ],
          [
           "Gaia DR3 2290202937345356800",
           "MS"
          ],
          [
           "Gaia DR3 2294626723596790912",
           "MS"
          ],
          [
           "Gaia DR3 2295815707982819200",
           "MS"
          ],
          [
           "Gaia DR3 2296428376477901056",
           "MS"
          ],
          [
           "Gaia DR3 2296758642283731712",
           "MS"
          ],
          [
           "Gaia DR3 2298197628126963200",
           "MS"
          ],
          [
           "Gaia DR3 2299234806891810688",
           "MS"
          ],
          [
           "Gaia DR3 2300870781411307008",
           "MS"
          ],
          [
           "Gaia DR3 2303581043213858944",
           "MS"
          ],
          [
           "Gaia DR3 2307189777814506752",
           "MS"
          ],
          [
           "Gaia DR3 2308083818207042816",
           "MS"
          ],
          [
           "Gaia DR3 2310112279721127168",
           "MS"
          ],
          [
           "Gaia DR3 2310475977551810048",
           "MS"
          ],
          [
           "Gaia DR3 2311898230201992320",
           "MS"
          ],
          [
           "Gaia DR3 2315102683826560896",
           "MS"
          ],
          [
           "Gaia DR3 2318621812525517952",
           "MS"
          ],
          [
           "Gaia DR3 2323236016150494848",
           "MS"
          ],
          [
           "Gaia DR3 2326712912435796352",
           "MS"
          ],
          [
           "Gaia DR3 2330195409358128256",
           "MS"
          ],
          [
           "Gaia DR3 2343910098928012928",
           "MS"
          ],
          [
           "Gaia DR3 2352696639943008896",
           "MS"
          ],
          [
           "Gaia DR3 2354476886707268480",
           "MS"
          ],
          [
           "Gaia DR3 2359264984968466944",
           "MS"
          ],
          [
           "Gaia DR3 2362346022708005376",
           "MS"
          ],
          [
           "Gaia DR3 2362658833765924736",
           "MS"
          ],
          [
           "Gaia DR3 2369407979734283392",
           "MS"
          ],
          [
           "Gaia DR3 2370550303596199296",
           "MS"
          ],
          [
           "Gaia DR3 2371587074342036608",
           "MS"
          ],
          [
           "Gaia DR3 2371945652571603840",
           "MS"
          ],
          [
           "Gaia DR3 2372616148506262656",
           "MS"
          ],
          [
           "Gaia DR3 2374212497654870784",
           "MS"
          ],
          [
           "Gaia DR3 2390650544382807808",
           "MS"
          ],
          [
           "Gaia DR3 2395637619888864000",
           "MS"
          ],
          [
           "Gaia DR3 2397135910639986304",
           "MS"
          ],
          [
           "Gaia DR3 2429817622465693312",
           "MS"
          ],
          [
           "Gaia DR3 2436150255390344320",
           "MS"
          ],
          [
           "Gaia DR3 2457817957377137792",
           "MS"
          ],
          [
           "Gaia DR3 2460257876758340224",
           "MS"
          ],
          [
           "Gaia DR3 2463134370975329280",
           "MS"
          ],
          [
           "Gaia DR3 2467285130449354624",
           "MS"
          ],
          [
           "Gaia DR3 2467678996130183808",
           "MS"
          ],
          [
           "Gaia DR3 2469926638416055168",
           "MS"
          ],
          [
           "Gaia DR3 2473303032466703872",
           "MS"
          ],
          [
           "Gaia DR3 2478991905628545408",
           "MS"
          ],
          [
           "Gaia DR3 2479455379843705216",
           "MS"
          ],
          [
           "Gaia DR3 2505477938150534016",
           "MS"
          ],
          [
           "Gaia DR3 2507419263368252928",
           "MS"
          ],
          [
           "Gaia DR3 2510761744356930176",
           "MS"
          ],
          [
           "Gaia DR3 2511502609035559040",
           "MS"
          ],
          [
           "Gaia DR3 2519225956666168448",
           "MS"
          ],
          [
           "Gaia DR3 2523859058148170112",
           "MS"
          ],
          [
           "Gaia DR3 2524037007233296000",
           "MS"
          ],
          [
           "Gaia DR3 2524579169545277056",
           "MS"
          ],
          [
           "Gaia DR3 2525001583872348032",
           "MS"
          ],
          [
           "Gaia DR3 2525425896577965056",
           "MS"
          ],
          [
           "Gaia DR3 2530682180633749888",
           "MS"
          ],
          [
           "Gaia DR3 2538089899707097472",
           "MS"
          ],
          [
           "Gaia DR3 2539728000233676416",
           "MS"
          ],
          [
           "Gaia DR3 2542167576018703744",
           "MS"
          ],
          [
           "Gaia DR3 2542287113548084352",
           "MS"
          ],
          [
           "Gaia DR3 2545472433093014912",
           "MS"
          ],
          [
           "Gaia DR3 2547603114829254912",
           "MS"
          ],
          [
           "Gaia DR3 2550719646178077696",
           "MS"
          ],
          [
           "Gaia DR3 2552264356935705728",
           "MS"
          ],
          [
           "Gaia DR3 2554375865937636480",
           "MS"
          ],
          [
           "Gaia DR3 2560455409324925056",
           "MS"
          ],
          [
           "Gaia DR3 2561185313247006720",
           "MS"
          ],
          [
           "Gaia DR3 2562287951610874112",
           "MS"
          ],
          [
           "Gaia DR3 2566461354152574976",
           "MS"
          ],
          [
           "Gaia DR3 2568779051652688128",
           "MS"
          ],
          [
           "Gaia DR3 2569223189922751616",
           "MS"
          ],
          [
           "Gaia DR3 2574867704662509568",
           "MS"
          ],
          [
           "Gaia DR3 2581557958039687296",
           "MS"
          ],
          [
           "Gaia DR3 2583228558583268992",
           "MS"
          ],
          [
           "Gaia DR3 2600643791975931264",
           "MS"
          ],
          [
           "Gaia DR3 2605394231962904064",
           "MS"
          ],
          [
           "Gaia DR3 2613379267656842240",
           "MS"
          ],
          [
           "Gaia DR3 2615634086831740544",
           "MS"
          ],
          [
           "Gaia DR3 2616906015627057536",
           "MS"
          ],
          [
           "Gaia DR3 2633101516961623168",
           "MS"
          ],
          [
           "Gaia DR3 2639279294841026432",
           "MS"
          ],
          [
           "Gaia DR3 2641701617740887808",
           "MS"
          ],
          [
           "Gaia DR3 2664097608742346880",
           "MS"
          ],
          [
           "Gaia DR3 2672612772247916416",
           "MS"
          ],
          [
           "Gaia DR3 2673760597963293824",
           "MS"
          ],
          [
           "Gaia DR3 2674382474868089728",
           "MS"
          ],
          [
           "Gaia DR3 2676441413470120192",
           "MS"
          ],
          [
           "Gaia DR3 2682585347007232640",
           "MS"
          ],
          [
           "Gaia DR3 2686027196359676928",
           "MS"
          ],
          [
           "Gaia DR3 2688078678898681472",
           "MS"
          ],
          [
           "Gaia DR3 2690319135703639680",
           "MS"
          ],
          [
           "Gaia DR3 2691767884007289216",
           "MS"
          ],
          [
           "Gaia DR3 2697884772134290432",
           "MS"
          ],
          [
           "Gaia DR3 2698404776710537856",
           "MS"
          ],
          [
           "Gaia DR3 2699264354285725568",
           "MS"
          ],
          [
           "Gaia DR3 2727869111354678784",
           "MS"
          ],
          [
           "Gaia DR3 2728763254826010880",
           "MS"
          ],
          [
           "Gaia DR3 2738942327317821440",
           "MS"
          ],
          [
           "Gaia DR3 2740031874622041216",
           "MS"
          ],
          [
           "Gaia DR3 2742280547699791232",
           "MS"
          ],
          [
           "Gaia DR3 2746704226575881344",
           "MS"
          ],
          [
           "Gaia DR3 2753720515213414656",
           "MS"
          ],
          [
           "Gaia DR3 2758701960019076224",
           "MS"
          ],
          [
           "Gaia DR3 2764357779113097984",
           "MS"
          ],
          [
           "Gaia DR3 2768782798017609728",
           "MS"
          ],
          [
           "Gaia DR3 2770929319593593472",
           "MS"
          ],
          [
           "Gaia DR3 2772755264809336832",
           "MS"
          ],
          [
           "Gaia DR3 2786381203174386944",
           "MS"
          ],
          [
           "Gaia DR3 2790201525044593152",
           "MS"
          ],
          [
           "Gaia DR3 2791828797958994688",
           "MS"
          ],
          [
           "Gaia DR3 2793585615676566144",
           "MS"
          ],
          [
           "Gaia DR3 2796348581023126400",
           "MS"
          ],
          [
           "Gaia DR3 2796837490035246976",
           "MS"
          ],
          [
           "Gaia DR3 2800293117642445824",
           "MS"
          ],
          [
           "Gaia DR3 2802238802251794688",
           "MS"
          ],
          [
           "Gaia DR3 2806716120974410240",
           "MS"
          ],
          [
           "Gaia DR3 2807329751542036096",
           "MS"
          ],
          [
           "Gaia DR3 2808159844165804544",
           "MS"
          ],
          [
           "Gaia DR3 2808994137268673152",
           "MS"
          ],
          [
           "Gaia DR3 2814284265667573376",
           "MS"
          ],
          [
           "Gaia DR3 2818978355684061312",
           "MS"
          ],
          [
           "Gaia DR3 2820143425693297920",
           "MS"
          ],
          [
           "Gaia DR3 2823771607907085312",
           "MS"
          ],
          [
           "Gaia DR3 2825740764512951808",
           "MS"
          ],
          [
           "Gaia DR3 2825772238033428224",
           "MS"
          ],
          [
           "Gaia DR3 2830524670884791552",
           "MS"
          ],
          [
           "Gaia DR3 2833858385844333440",
           "MS"
          ],
          [
           "Gaia DR3 2836729661677019392",
           "MS"
          ],
          [
           "Gaia DR3 2837015706498998144",
           "MS"
          ],
          [
           "Gaia DR3 2838311721471168896",
           "MS"
          ],
          [
           "Gaia DR3 2842015976145287040",
           "MS"
          ],
          [
           "Gaia DR3 2846749201903437184",
           "MS"
          ],
          [
           "Gaia DR3 2848022814325411328",
           "MS"
          ],
          [
           "Gaia DR3 2851458582003696512",
           "MS"
          ],
          [
           "Gaia DR3 2851512423713780352",
           "MS"
          ],
          [
           "Gaia DR3 2851747478683919104",
           "MS"
          ],
          [
           "Gaia DR3 2862409305498940544",
           "MS"
          ],
          [
           "Gaia DR3 2863056677329789184",
           "MS"
          ],
          [
           "Gaia DR3 2865703064379688320",
           "MS"
          ],
          [
           "Gaia DR3 2865763846757032192",
           "MS"
          ],
          [
           "Gaia DR3 2868589041883997568",
           "MS"
          ],
          [
           "Gaia DR3 2868686451742261888",
           "MS"
          ],
          [
           "Gaia DR3 2868731840956582656",
           "MS"
          ],
          [
           "Gaia DR3 2876427597717672704",
           "MS"
          ],
          [
           "Gaia DR3 2878248148455033600",
           "MS"
          ],
          [
           "Gaia DR3 2878717639920380928",
           "MS"
          ],
          [
           "Gaia DR3 2879283682251095552",
           "MS"
          ],
          [
           "Gaia DR3 2879474275718899712",
           "MS"
          ],
          [
           "Gaia DR3 2882075612854368000",
           "MS"
          ],
          [
           "Gaia DR3 2882758615733638272",
           "MS"
          ],
          [
           "Gaia DR3 2884336591015376128",
           "MS"
          ],
          [
           "Gaia DR3 2885749291656359552",
           "MS"
          ],
          [
           "Gaia DR3 2885872059004028800",
           "MS"
          ],
          [
           "Gaia DR3 2887184910246706432",
           "MS"
          ],
          [
           "Gaia DR3 2888153064594884224",
           "MS"
          ],
          [
           "Gaia DR3 2890676856097956480",
           "MS"
          ],
          [
           "Gaia DR3 2890685583471624192",
           "MS"
          ],
          [
           "Gaia DR3 2892322790646353024",
           "MS"
          ],
          [
           "Gaia DR3 2894725223553232128",
           "MS"
          ],
          [
           "Gaia DR3 2894848437575059072",
           "MS"
          ],
          [
           "Gaia DR3 2897149955928648960",
           "MS"
          ],
          [
           "Gaia DR3 2897454142692579712",
           "MS"
          ],
          [
           "Gaia DR3 2898059630002570752",
           "MS"
          ],
          [
           "Gaia DR3 2898144326757867520",
           "MS"
          ],
          [
           "Gaia DR3 2901332150265734784",
           "MS"
          ],
          [
           "Gaia DR3 2903882609222743808",
           "MS"
          ],
          [
           "Gaia DR3 2908252893065345664",
           "MS"
          ],
          [
           "Gaia DR3 2911328192728836352",
           "MS"
          ],
          [
           "Gaia DR3 2912535593935612288",
           "MS"
          ],
          [
           "Gaia DR3 2912606718594749696",
           "MS"
          ],
          [
           "Gaia DR3 2913678055237567360",
           "MS"
          ],
          [
           "Gaia DR3 2914005812780342272",
           "MS"
          ],
          [
           "Gaia DR3 2914334326239306624",
           "MS"
          ],
          [
           "Gaia DR3 2915657927782122624",
           "MS"
          ],
          [
           "Gaia DR3 2916061040532260864",
           "MS"
          ],
          [
           "Gaia DR3 2916249675495722496",
           "MS"
          ],
          [
           "Gaia DR3 2918135853332237696",
           "MS"
          ],
          [
           "Gaia DR3 2919218116374012416",
           "MS"
          ],
          [
           "Gaia DR3 2919286664051008640",
           "MS"
          ],
          [
           "Gaia DR3 2919995917769953408",
           "MS"
          ],
          [
           "Gaia DR3 2920263717573569152",
           "MS"
          ],
          [
           "Gaia DR3 2921738678061195392",
           "MS"
          ],
          [
           "Gaia DR3 2922145566083667584",
           "MS"
          ],
          [
           "Gaia DR3 2922244109815491584",
           "MS"
          ],
          [
           "Gaia DR3 2922710130946775552",
           "MS"
          ],
          [
           "Gaia DR3 2922893233988494080",
           "MS"
          ],
          [
           "Gaia DR3 2923388216079981568",
           "MS"
          ],
          [
           "Gaia DR3 2923409729576118912",
           "MS"
          ],
          [
           "Gaia DR3 2923820637686349568",
           "MS"
          ],
          [
           "Gaia DR3 2924360635334362880",
           "MS"
          ],
          [
           "Gaia DR3 2924560162335403264",
           "MS"
          ],
          [
           "Gaia DR3 2926678886884781696",
           "MS"
          ],
          [
           "Gaia DR3 2927550868333231232",
           "MS"
          ],
          [
           "Gaia DR3 2928954321898302592",
           "MS"
          ],
          [
           "Gaia DR3 2930227182714575104",
           "MS"
          ],
          [
           "Gaia DR3 2931839307271611392",
           "MS"
          ],
          [
           "Gaia DR3 2931872636219991040",
           "MS"
          ],
          [
           "Gaia DR3 2933937175458047744",
           "MS"
          ],
          [
           "Gaia DR3 2935923718096310400",
           "MS"
          ],
          [
           "Gaia DR3 2936585658447249152",
           "MS"
          ],
          [
           "Gaia DR3 2936857993733904384",
           "MS"
          ],
          [
           "Gaia DR3 2938359651740345088",
           "MS"
          ],
          [
           "Gaia DR3 2939565541119140864",
           "MS"
          ],
          [
           "Gaia DR3 2941388806272692864",
           "MS"
          ],
          [
           "Gaia DR3 2944323196649187072",
           "MS"
          ],
          [
           "Gaia DR3 2947988865338734080",
           "MS"
          ],
          [
           "Gaia DR3 2949614184045611648",
           "MS"
          ],
          [
           "Gaia DR3 2956440639420272384",
           "MS"
          ],
          [
           "Gaia DR3 2958334307681455744",
           "MS"
          ],
          [
           "Gaia DR3 2959319229581181952",
           "MS"
          ],
          [
           "Gaia DR3 2960354174963184128",
           "MS"
          ],
          [
           "Gaia DR3 2961109578108704896",
           "MS"
          ],
          [
           "Gaia DR3 2961631743053266176",
           "MS"
          ],
          [
           "Gaia DR3 2962857939037106176",
           "MS"
          ],
          [
           "Gaia DR3 2963292898963812992",
           "MS"
          ],
          [
           "Gaia DR3 2963461880157611520",
           "MS"
          ],
          [
           "Gaia DR3 2966060575889910144",
           "MS"
          ],
          [
           "Gaia DR3 2966114550741693440",
           "MS"
          ],
          [
           "Gaia DR3 2966770516804195584",
           "MS"
          ],
          [
           "Gaia DR3 2967516398005403008",
           "MS"
          ],
          [
           "Gaia DR3 2968045297461133568",
           "MS"
          ],
          [
           "Gaia DR3 2969417728487042432",
           "MS"
          ],
          [
           "Gaia DR3 2974279322227525504",
           "MS"
          ],
          [
           "Gaia DR3 2974952670020857600",
           "MS"
          ],
          [
           "Gaia DR3 2975840727520534272",
           "MS"
          ],
          [
           "Gaia DR3 2976921448668589696",
           "MS"
          ],
          [
           "Gaia DR3 2976943610699807872",
           "MS"
          ],
          [
           "Gaia DR3 2977283634670773248",
           "MS"
          ],
          [
           "Gaia DR3 2977891458442799744",
           "MS"
          ],
          [
           "Gaia DR3 2982138493903524608",
           "MS"
          ],
          [
           "Gaia DR3 2982337505508142080",
           "MS"
          ],
          [
           "Gaia DR3 2984875556302490112",
           "MS"
          ],
          [
           "Gaia DR3 2985598863155755264",
           "MS"
          ],
          [
           "Gaia DR3 2988932822928377600",
           "MS"
          ],
          [
           "Gaia DR3 2989234428414931840",
           "MS"
          ],
          [
           "Gaia DR3 2989246767857777792",
           "MS"
          ],
          [
           "Gaia DR3 2989538791273939200",
           "MS"
          ],
          [
           "Gaia DR3 2990664622462566528",
           "MS"
          ],
          [
           "Gaia DR3 2992963529478960768",
           "MS"
          ],
          [
           "Gaia DR3 2995545595095252224",
           "MS"
          ],
          [
           "Gaia DR3 2995961897685517312",
           "MS"
          ],
          [
           "Gaia DR3 2998711737609662336",
           "MS"
          ],
          [
           "Gaia DR3 3000074311694995584",
           "MS"
          ],
          [
           "Gaia DR3 3007275043405150720",
           "MS"
          ],
          [
           "Gaia DR3 3009156861852066432",
           "MS"
          ],
          [
           "Gaia DR3 3012871287009431040",
           "MS"
          ],
          [
           "Gaia DR3 3014953968190911872",
           "MS"
          ],
          [
           "Gaia DR3 3029458072753718400",
           "MS"
          ],
          [
           "Gaia DR3 3029872897880912384",
           "MS"
          ],
          [
           "Gaia DR3 3031302808449695616",
           "MS"
          ],
          [
           "Gaia DR3 3032792960242016384",
           "MS"
          ],
          [
           "Gaia DR3 3033745652707224960",
           "MS"
          ],
          [
           "Gaia DR3 3035454499933755008",
           "MS"
          ],
          [
           "Gaia DR3 3036788173176962048",
           "MS"
          ],
          [
           "Gaia DR3 3037595867545918976",
           "MS"
          ],
          [
           "Gaia DR3 3042365377189096192",
           "MS"
          ],
          [
           "Gaia DR3 3043517631015173248",
           "MS"
          ],
          [
           "Gaia DR3 3044464035654890624",
           "MS"
          ],
          [
           "Gaia DR3 3045595845433918720",
           "MS"
          ],
          [
           "Gaia DR3 3047635233349460736",
           "MS"
          ],
          [
           "Gaia DR3 3051268363360154240",
           "MS"
          ],
          [
           "Gaia DR3 3051370205626567040",
           "MS"
          ],
          [
           "Gaia DR3 3053816618999167616",
           "MS"
          ],
          [
           "Gaia DR3 3054288309485629312",
           "MS"
          ],
          [
           "Gaia DR3 3056520348147973632",
           "MS"
          ],
          [
           "Gaia DR3 3061473824128829184",
           "MS"
          ],
          [
           "Gaia DR3 3062722457017009664",
           "MS"
          ],
          [
           "Gaia DR3 3062934559681782144",
           "MS"
          ],
          [
           "Gaia DR3 3065135816319950592",
           "MS"
          ],
          [
           "Gaia DR3 3067645314171941376",
           "MS"
          ],
          [
           "Gaia DR3 3070420378441541120",
           "MS"
          ],
          [
           "Gaia DR3 3071104377752430080",
           "MS"
          ],
          [
           "Gaia DR3 3072288654854260864",
           "MS"
          ],
          [
           "Gaia DR3 3073365660853834368",
           "MS"
          ],
          [
           "Gaia DR3 3074476408115507328",
           "MS"
          ],
          [
           "Gaia DR3 3075883233243117184",
           "MS"
          ],
          [
           "Gaia DR3 3076011910463891328",
           "MS"
          ],
          [
           "Gaia DR3 3077495323448798208",
           "MS"
          ],
          [
           "Gaia DR3 3078643797703187968",
           "MS"
          ],
          [
           "Gaia DR3 3079183073796765056",
           "MS"
          ],
          [
           "Gaia DR3 3079375037360765184",
           "MS"
          ],
          [
           "Gaia DR3 3081351345090310912",
           "MS"
          ],
          [
           "Gaia DR3 3084994164553515136",
           "MS"
          ],
          [
           "Gaia DR3 3088929454106731520",
           "MS"
          ],
          [
           "Gaia DR3 3102278934019032704",
           "MS"
          ],
          [
           "Gaia DR3 3105216726008352640",
           "MS"
          ],
          [
           "Gaia DR3 3114552816679893376",
           "MS"
          ],
          [
           "Gaia DR3 3115060992908854528",
           "MS"
          ],
          [
           "Gaia DR3 3117464044290715904",
           "MS"
          ],
          [
           "Gaia DR3 3120742139429443712",
           "MS"
          ],
          [
           "Gaia DR3 3125337857514655232",
           "MS"
          ],
          [
           "Gaia DR3 3137717155853409024",
           "MS"
          ],
          [
           "Gaia DR3 3143683105944820608",
           "MS"
          ],
          [
           "Gaia DR3 3146127698249413504",
           "MS"
          ],
          [
           "Gaia DR3 3147020501691147136",
           "MS"
          ],
          [
           "Gaia DR3 3147042801161881472",
           "MS"
          ],
          [
           "Gaia DR3 3147673779099297408",
           "MS"
          ],
          [
           "Gaia DR3 3148642762378898304",
           "MS"
          ],
          [
           "Gaia DR3 3171753328561821824",
           "MS"
          ],
          [
           "Gaia DR3 3172122317792469504",
           "MS"
          ],
          [
           "Gaia DR3 3172770857854411776",
           "MS"
          ],
          [
           "Gaia DR3 3182421958606538752",
           "MS"
          ],
          [
           "Gaia DR3 3182586090780111616",
           "MS"
          ],
          [
           "Gaia DR3 3183604586440564224",
           "MS"
          ],
          [
           "Gaia DR3 3183886061417317760",
           "MS"
          ],
          [
           "Gaia DR3 3184973512776788352",
           "MS"
          ],
          [
           "Gaia DR3 3191658474754735744",
           "MS"
          ],
          [
           "Gaia DR3 3192979056939164928",
           "MS"
          ],
          [
           "Gaia DR3 3198818769353393792",
           "MS"
          ],
          [
           "Gaia DR3 3205400819617452160",
           "MS"
          ],
          [
           "Gaia DR3 3206074274785211008",
           "MS"
          ],
          [
           "Gaia DR3 3207651313760339968",
           "MS"
          ],
          [
           "Gaia DR3 3208829887146528384",
           "MS"
          ],
          [
           "Gaia DR3 3216414528809116032",
           "MS"
          ],
          [
           "Gaia DR3 3217995450437124992",
           "MS"
          ],
          [
           "Gaia DR3 3222459776882349312",
           "MS"
          ],
          [
           "Gaia DR3 3223302930502043264",
           "MS"
          ],
          [
           "Gaia DR3 3236163097674579072",
           "MS"
          ],
          [
           "Gaia DR3 3237337955911613696",
           "MS"
          ],
          [
           "Gaia DR3 3239425932790814592",
           "MS"
          ],
          [
           "Gaia DR3 3245817977997302528",
           "MS"
          ],
          [
           "Gaia DR3 3250665587324812544",
           "MS"
          ],
          [
           "Gaia DR3 3253873309421802624",
           "MS"
          ],
          [
           "Gaia DR3 3254803668055562624",
           "MS"
          ],
          [
           "Gaia DR3 3261805564258966272",
           "MS"
          ],
          [
           "Gaia DR3 3274047939040922752",
           "MS"
          ],
          [
           "Gaia DR3 3278719931448895744",
           "MS"
          ],
          [
           "Gaia DR3 3280267257843415680",
           "MS"
          ],
          [
           "Gaia DR3 3281924458088654464",
           "MS"
          ],
          [
           "Gaia DR3 3283448419860700672",
           "MS"
          ],
          [
           "Gaia DR3 3287503143865329792",
           "MS"
          ],
          [
           "Gaia DR3 3291370263701597952",
           "MS"
          ],
          [
           "Gaia DR3 3313739548592178048",
           "MS"
          ],
          [
           "Gaia DR3 3316943117456776576",
           "MS"
          ],
          [
           "Gaia DR3 3319261884398674048",
           "MS"
          ],
          [
           "Gaia DR3 3322894773897606016",
           "MS"
          ],
          [
           "Gaia DR3 3323122368506789504",
           "MS"
          ],
          [
           "Gaia DR3 3326921529075782784",
           "MS"
          ],
          [
           "Gaia DR3 3329035958658172288",
           "MS"
          ],
          [
           "Gaia DR3 3329385672073897728",
           "MS"
          ],
          [
           "Gaia DR3 3331788444281926656",
           "MS"
          ],
          [
           "Gaia DR3 3333381847083227648",
           "MS"
          ],
          [
           "Gaia DR3 3337031985170809216",
           "MS"
          ],
          [
           "Gaia DR3 3338239936131547264",
           "MS"
          ],
          [
           "Gaia DR3 3345807221831622272",
           "MS"
          ],
          [
           "Gaia DR3 3353115091506000384",
           "MS"
          ],
          [
           "Gaia DR3 3353857674171392896",
           "MS"
          ],
          [
           "Gaia DR3 3354436154728610304",
           "MS"
          ],
          [
           "Gaia DR3 3363321273831412352",
           "MS"
          ],
          [
           "Gaia DR3 3363639445008582272",
           "MS"
          ],
          [
           "Gaia DR3 3363671159047035136",
           "MS"
          ],
          [
           "Gaia DR3 3365678759903416064",
           "MS"
          ],
          [
           "Gaia DR3 3375440292853211392",
           "MS"
          ],
          [
           "Gaia DR3 3378502093435769728",
           "MS"
          ],
          [
           "Gaia DR3 3378965395851267968",
           "MS"
          ],
          [
           "Gaia DR3 3396443855459250816",
           "MS"
          ],
          [
           "Gaia DR3 3399966244037528448",
           "MS"
          ],
          [
           "Gaia DR3 3400202909617500416",
           "MS"
          ],
          [
           "Gaia DR3 3400704802317280256",
           "MS"
          ],
          [
           "Gaia DR3 3403177402106367104",
           "MS"
          ],
          [
           "Gaia DR3 3413708799353022720",
           "MS"
          ],
          [
           "Gaia DR3 3414985843452941184",
           "MS"
          ],
          [
           "Gaia DR3 3424368358427633536",
           "MS"
          ],
          [
           "Gaia DR3 3426128023710565248",
           "MS"
          ],
          [
           "Gaia DR3 3427165168116134656",
           "MS"
          ],
          [
           "Gaia DR3 3428282344945526784",
           "MS"
          ],
          [
           "Gaia DR3 3436964806015151488",
           "MS"
          ],
          [
           "Gaia DR3 3439298656883180160",
           "MS"
          ],
          [
           "Gaia DR3 3451775884773584128",
           "MS"
          ],
          [
           "Gaia DR3 3451983383233496192",
           "MS"
          ],
          [
           "Gaia DR3 3454119283353158144",
           "MS"
          ],
          [
           "Gaia DR3 3454323453217307648",
           "MS"
          ],
          [
           "Gaia DR3 3455424029995014144",
           "MS"
          ],
          [
           "Gaia DR3 3459276375139950208",
           "MS"
          ],
          [
           "Gaia DR3 3459443088591155712",
           "MS"
          ],
          [
           "Gaia DR3 3460567098712146688",
           "MS"
          ],
          [
           "Gaia DR3 3466095099578873600",
           "MS"
          ],
          [
           "Gaia DR3 3467751513846090368",
           "MS"
          ],
          [
           "Gaia DR3 3469605737126228864",
           "MS"
          ],
          [
           "Gaia DR3 3473446709200409216",
           "MS"
          ],
          [
           "Gaia DR3 3474329544020730496",
           "MS"
          ],
          [
           "Gaia DR3 3474907818417986688",
           "MS"
          ],
          [
           "Gaia DR3 3476087491315472000",
           "MS"
          ],
          [
           "Gaia DR3 3476098044050559616",
           "MS"
          ],
          [
           "Gaia DR3 3477253940011371008",
           "MS"
          ],
          [
           "Gaia DR3 3479650428681811328",
           "MS"
          ],
          [
           "Gaia DR3 3481912398978709376",
           "MS"
          ],
          [
           "Gaia DR3 3482383814588898048",
           "MS"
          ],
          [
           "Gaia DR3 3484588369762730496",
           "MS"
          ],
          [
           "Gaia DR3 3484820057478249472",
           "MS"
          ],
          [
           "Gaia DR3 3485872427544306560",
           "MS"
          ],
          [
           "Gaia DR3 3491374108851425152",
           "MS"
          ],
          [
           "Gaia DR3 3494419893499313152",
           "MS"
          ],
          [
           "Gaia DR3 3496965052462801664",
           "MS"
          ],
          [
           "Gaia DR3 3500676625761310976",
           "MS"
          ],
          [
           "Gaia DR3 3501526724344019840",
           "MS"
          ],
          [
           "Gaia DR3 3503082292778926592",
           "MS"
          ],
          [
           "Gaia DR3 3510221456137907584",
           "MS"
          ],
          [
           "Gaia DR3 3516037902713526528",
           "MS"
          ],
          [
           "Gaia DR3 3516832235440182656",
           "MS"
          ],
          [
           "Gaia DR3 3527088548623441664",
           "MS"
          ],
          [
           "Gaia DR3 3529368660861660928",
           "MS"
          ],
          [
           "Gaia DR3 3531028339305166464",
           "MS"
          ],
          [
           "Gaia DR3 3532922935278534528",
           "MS"
          ],
          [
           "Gaia DR3 3533638030153988992",
           "MS"
          ],
          [
           "Gaia DR3 3533879304236243968",
           "MS"
          ],
          [
           "Gaia DR3 3537473642107179264",
           "MS"
          ],
          [
           "Gaia DR3 3538585317082494848",
           "MS"
          ],
          [
           "Gaia DR3 3545012714164524672",
           "MS"
          ],
          [
           "Gaia DR3 3549488314901078912",
           "MS"
          ],
          [
           "Gaia DR3 3560207659919304448",
           "MS"
          ],
          [
           "Gaia DR3 3560656359445758336",
           "MS"
          ],
          [
           "Gaia DR3 3562207946447390080",
           "MS"
          ],
          [
           "Gaia DR3 3562473684664214784",
           "MS"
          ],
          [
           "Gaia DR3 3571596122186232192",
           "MS"
          ],
          [
           "Gaia DR3 3576887182592338432",
           "MS"
          ],
          [
           "Gaia DR3 3577655844299407232",
           "MS"
          ],
          [
           "Gaia DR3 3580124419702540416",
           "MS"
          ],
          [
           "Gaia DR3 3580258044725032064",
           "MS"
          ],
          [
           "Gaia DR3 3582395873287146880",
           "MS"
          ],
          [
           "Gaia DR3 3583697179657730816",
           "MS"
          ],
          [
           "Gaia DR3 3585642628044795648",
           "MS"
          ],
          [
           "Gaia DR3 3596382485826334208",
           "MS"
          ],
          [
           "Gaia DR3 3607091454202072832",
           "MS"
          ],
          [
           "Gaia DR3 3609270445730028160",
           "MS"
          ],
          [
           "Gaia DR3 3610086180278660608",
           "MS"
          ],
          [
           "Gaia DR3 3618751220962948736",
           "MS"
          ],
          [
           "Gaia DR3 3633619813626022784",
           "MS"
          ],
          [
           "Gaia DR3 3633910260790279936",
           "MS"
          ],
          [
           "Gaia DR3 3635198854058206080",
           "MS"
          ],
          [
           "Gaia DR3 3636598635439511936",
           "MS"
          ],
          [
           "Gaia DR3 3638395477957700736",
           "MS"
          ],
          [
           "Gaia DR3 3657119336344892032",
           "MS"
          ],
          [
           "Gaia DR3 3659801217003580160",
           "MS"
          ],
          [
           "Gaia DR3 3663255057904285440",
           "MS"
          ],
          [
           "Gaia DR3 3666047847503176960",
           "MS"
          ],
          [
           "Gaia DR3 3667512847963414784",
           "MS"
          ],
          [
           "Gaia DR3 3668390253947402240",
           "MS"
          ],
          [
           "Gaia DR3 3674248731073204992",
           "MS"
          ],
          [
           "Gaia DR3 3677106224355037184",
           "MS"
          ],
          [
           "Gaia DR3 3694892130604751488",
           "MS"
          ],
          [
           "Gaia DR3 3697174751104247808",
           "MS"
          ],
          [
           "Gaia DR3 3711125320276535680",
           "MS"
          ],
          [
           "Gaia DR3 3713957593510243712",
           "MS"
          ],
          [
           "Gaia DR3 3727207533258624640",
           "MS"
          ],
          [
           "Gaia DR3 3727822160258535296",
           "MS"
          ],
          [
           "Gaia DR3 3737761607935166336",
           "MS"
          ],
          [
           "Gaia DR3 3742147044422151040",
           "MS"
          ],
          [
           "Gaia DR3 3746641641798252416",
           "MS"
          ],
          [
           "Gaia DR3 3767655370588875008",
           "MS"
          ],
          [
           "Gaia DR3 3772123820203876736",
           "MS"
          ],
          [
           "Gaia DR3 3785142725072026368",
           "MS"
          ],
          [
           "Gaia DR3 3797110806060705920",
           "MS"
          ],
          [
           "Gaia DR3 3797967737935625856",
           "MS"
          ],
          [
           "Gaia DR3 3799394319912877056",
           "MS"
          ],
          [
           "Gaia DR3 3803660115790901632",
           "MS"
          ],
          [
           "Gaia DR3 3806065125677817984",
           "MS"
          ],
          [
           "Gaia DR3 3841643329088169728",
           "MS"
          ],
          [
           "Gaia DR3 3890642338929824640",
           "MS"
          ],
          [
           "Gaia DR3 3893353154784712704",
           "MS"
          ],
          [
           "Gaia DR3 3920808269367546368",
           "MS"
          ],
          [
           "Gaia DR3 3930679474307449344",
           "MS"
          ],
          [
           "Gaia DR3 3936856878525523712",
           "MS"
          ],
          [
           "Gaia DR3 3937745146481718272",
           "MS"
          ],
          [
           "Gaia DR3 3940481521685438080",
           "MS"
          ],
          [
           "Gaia DR3 3943493461991184640",
           "MS"
          ],
          [
           "Gaia DR3 3954520601544854272",
           "MS"
          ],
          [
           "Gaia DR3 3959659890691902592",
           "MS"
          ],
          [
           "Gaia DR3 3961077573496841344",
           "MS"
          ],
          [
           "Gaia DR3 3981295977423773312",
           "MS"
          ],
          [
           "Gaia DR3 3995868457861692928",
           "MS"
          ],
          [
           "Gaia DR3 4005730424327879040",
           "MS"
          ],
          [
           "Gaia DR3 4017686238890245888",
           "MS"
          ],
          [
           "Gaia DR3 4028369231304934784",
           "MS"
          ],
          [
           "Gaia DR3 4030183253692024192",
           "MS"
          ],
          [
           "Gaia DR3 4035847761507069696",
           "MS"
          ],
          [
           "Gaia DR3 4035945691120684672",
           "MS"
          ],
          [
           "Gaia DR3 4037066437114342784",
           "MS"
          ],
          [
           "Gaia DR3 4039744877394943232",
           "MS"
          ],
          [
           "Gaia DR3 4040127576266563584",
           "MS"
          ],
          [
           "Gaia DR3 4042154044984306048",
           "MS"
          ],
          [
           "Gaia DR3 4056072285820538624",
           "MS"
          ],
          [
           "Gaia DR3 4065680952327206784",
           "MS"
          ],
          [
           "Gaia DR3 4065778224715865344",
           "MS"
          ],
          [
           "Gaia DR3 4090718481357761792",
           "MS"
          ],
          [
           "Gaia DR3 4111830204091975808",
           "MS"
          ],
          [
           "Gaia DR3 4126263287032194048",
           "MS"
          ],
          [
           "Gaia DR3 4167652752976371840",
           "MS"
          ],
          [
           "Gaia DR3 4180663991323400192",
           "MS"
          ],
          [
           "Gaia DR3 4183289869908406784",
           "MS"
          ],
          [
           "Gaia DR3 4185554760790410112",
           "MS"
          ],
          [
           "Gaia DR3 4195942843564260224",
           "MS"
          ],
          [
           "Gaia DR3 4201271489247822080",
           "MS"
          ],
          [
           "Gaia DR3 4212627137946990336",
           "MS"
          ],
          [
           "Gaia DR3 4220988103536975872",
           "MS"
          ],
          [
           "Gaia DR3 4225676077514817280",
           "MS"
          ],
          [
           "Gaia DR3 4228370705635864320",
           "MS"
          ],
          [
           "Gaia DR3 4228485634664394496",
           "MS"
          ],
          [
           "Gaia DR3 4228771889940775808",
           "MS"
          ],
          [
           "Gaia DR3 4229011755275894528",
           "MS"
          ],
          [
           "Gaia DR3 4229668812256245376",
           "MS"
          ],
          [
           "Gaia DR3 4230198158385687424",
           "MS"
          ],
          [
           "Gaia DR3 4237613470960339456",
           "MS"
          ],
          [
           "Gaia DR3 4237986003552772480",
           "MS"
          ],
          [
           "Gaia DR3 4238635127725660672",
           "MS"
          ],
          [
           "Gaia DR3 4240540718818313984",
           "MS"
          ],
          [
           "Gaia DR3 4243158140598580352",
           "MS"
          ],
          [
           "Gaia DR3 4245803359418070272",
           "MS"
          ],
          [
           "Gaia DR3 4246017970343178752",
           "MS"
          ],
          [
           "Gaia DR3 4247422424659753472",
           "MS"
          ],
          [
           "Gaia DR3 4254154219022518016",
           "MS"
          ],
          [
           "Gaia DR3 4254362164119828096",
           "MS"
          ],
          [
           "Gaia DR3 4258404346796582784",
           "MS"
          ],
          [
           "Gaia DR3 4263071704959743360",
           "MS"
          ],
          [
           "Gaia DR3 4266476445766478976",
           "MS"
          ],
          [
           "Gaia DR3 4269381183747093248",
           "MS"
          ],
          [
           "Gaia DR3 4276058346008276352",
           "MS"
          ],
          [
           "Gaia DR3 4279372682068135936",
           "MS"
          ],
          [
           "Gaia DR3 4285978139909143936",
           "MS"
          ],
          [
           "Gaia DR3 4287620604134241152",
           "MS"
          ],
          [
           "Gaia DR3 4295030419172426880",
           "MS"
          ],
          [
           "Gaia DR3 4297937321740049920",
           "MS"
          ],
          [
           "Gaia DR3 4299945614081802752",
           "MS"
          ],
          [
           "Gaia DR3 4300125074994455808",
           "MS"
          ],
          [
           "Gaia DR3 4304897299066844672",
           "MS"
          ],
          [
           "Gaia DR3 4305216707201604480",
           "MS"
          ],
          [
           "Gaia DR3 4305383077052666880",
           "MS"
          ],
          [
           "Gaia DR3 4314070936941431936",
           "MS"
          ],
          [
           "Gaia DR3 4314780156268993024",
           "MS"
          ],
          [
           "Gaia DR3 4315806138056614912",
           "MS"
          ],
          [
           "Gaia DR3 4316729727829331968",
           "MS"
          ],
          [
           "Gaia DR3 4317453687509570688",
           "MS"
          ],
          [
           "Gaia DR3 4320350110407373696",
           "MS"
          ],
          [
           "Gaia DR3 4320637632685061248",
           "MS"
          ],
          [
           "Gaia DR3 4320878116460393856",
           "MS"
          ],
          [
           "Gaia DR3 4321800263146299392",
           "MS"
          ],
          [
           "Gaia DR3 4322637609934234496",
           "MS"
          ],
          [
           "Gaia DR3 4333863383125689344",
           "MS"
          ],
          [
           "Gaia DR3 4337967065458574208",
           "MS"
          ],
          [
           "Gaia DR3 4338638837001403776",
           "MS"
          ],
          [
           "Gaia DR3 4339577235815113984",
           "MS"
          ],
          [
           "Gaia DR3 4340357889070538240",
           "MS"
          ],
          [
           "Gaia DR3 4341192246597973248",
           "MS"
          ],
          [
           "Gaia DR3 4342322853790668672",
           "MS"
          ],
          [
           "Gaia DR3 4346259930053416064",
           "MS"
          ],
          [
           "Gaia DR3 4347912496029353600",
           "MS"
          ],
          [
           "Gaia DR3 4350265279115076352",
           "MS"
          ],
          [
           "Gaia DR3 4351456011547825536",
           "MS"
          ],
          [
           "Gaia DR3 4352142970093804800",
           "MS"
          ],
          [
           "Gaia DR3 4354935592189759488",
           "MS"
          ],
          [
           "Gaia DR3 4359019998711438848",
           "MS"
          ],
          [
           "Gaia DR3 4372981532941444096",
           "MS"
          ],
          [
           "Gaia DR3 4375186839728870528",
           "MS"
          ],
          [
           "Gaia DR3 4377035844628282624",
           "MS"
          ],
          [
           "Gaia DR3 4377690603802567424",
           "MS"
          ],
          [
           "Gaia DR3 4379198515279686144",
           "MS"
          ],
          [
           "Gaia DR3 4380881867581403904",
           "MS"
          ],
          [
           "Gaia DR3 4383998708168576128",
           "MS"
          ],
          [
           "Gaia DR3 4384724901239698816",
           "MS"
          ],
          [
           "Gaia DR3 4385759541680773376",
           "MS"
          ],
          [
           "Gaia DR3 4388390329409936256",
           "MS"
          ],
          [
           "Gaia DR3 4389299144490975488",
           "MS"
          ],
          [
           "Gaia DR3 4391491467595797888",
           "MS"
          ],
          [
           "Gaia DR3 4395039488539148416",
           "MS"
          ],
          [
           "Gaia DR3 4398678013035200640",
           "MS"
          ],
          [
           "Gaia DR3 4407480393887247232",
           "MS"
          ],
          [
           "Gaia DR3 4413047805375144832",
           "MS"
          ],
          [
           "Gaia DR3 4415669350331115136",
           "MS"
          ],
          [
           "Gaia DR3 4429564978284010624",
           "MS"
          ],
          [
           "Gaia DR3 4432485590405689088",
           "MS"
          ],
          [
           "Gaia DR3 4436704072926402048",
           "MS"
          ],
          [
           "Gaia DR3 4442024850209092608",
           "MS"
          ],
          [
           "Gaia DR3 4445914162136830848",
           "MS"
          ],
          [
           "Gaia DR3 4447780896658839552",
           "MS"
          ],
          [
           "Gaia DR3 4448242828981821824",
           "MS"
          ],
          [
           "Gaia DR3 4449101478843219584",
           "MS"
          ],
          [
           "Gaia DR3 4449298428864135040",
           "MS"
          ],
          [
           "Gaia DR3 4450112789024083072",
           "MS"
          ],
          [
           "Gaia DR3 4450537299293392000",
           "MS"
          ],
          [
           "Gaia DR3 4453497326331809280",
           "MS"
          ],
          [
           "Gaia DR3 4457688183620652672",
           "MS"
          ],
          [
           "Gaia DR3 4461062584811363840",
           "MS"
          ],
          [
           "Gaia DR3 4462168934022698368",
           "MS"
          ],
          [
           "Gaia DR3 4462182677918089472",
           "MS"
          ],
          [
           "Gaia DR3 4463782295536949632",
           "MS"
          ],
          [
           "Gaia DR3 4464636203754757248",
           "MS"
          ],
          [
           "Gaia DR3 4465420396063544704",
           "MS"
          ],
          [
           "Gaia DR3 4465538043807424384",
           "MS"
          ],
          [
           "Gaia DR3 4465818006955657216",
           "MS"
          ],
          [
           "Gaia DR3 4467425080638797952",
           "MS"
          ],
          [
           "Gaia DR3 4472067665416926464",
           "MS"
          ],
          [
           "Gaia DR3 4472164113196505728",
           "MS"
          ],
          [
           "Gaia DR3 4473921029698159872",
           "MS"
          ],
          [
           "Gaia DR3 4474838327337670912",
           "MS"
          ],
          [
           "Gaia DR3 4476965886644017920",
           "MS"
          ],
          [
           "Gaia DR3 4479600453961940864",
           "MS"
          ],
          [
           "Gaia DR3 4485210127905490304",
           "MS"
          ],
          [
           "Gaia DR3 4485356672183582592",
           "MS"
          ],
          [
           "Gaia DR3 4486205735675856000",
           "MS"
          ],
          [
           "Gaia DR3 4487323732841597184",
           "MS"
          ],
          [
           "Gaia DR3 4489408093351869952",
           "MS"
          ],
          [
           "Gaia DR3 4490323372360088960",
           "MS"
          ],
          [
           "Gaia DR3 4490822138323997312",
           "MS"
          ],
          [
           "Gaia DR3 4491211743397529216",
           "MS"
          ],
          [
           "Gaia DR3 4492668252706583680",
           "MS"
          ],
          [
           "Gaia DR3 4496419545863915264",
           "MS"
          ],
          [
           "Gaia DR3 4496448133165072768",
           "MS"
          ],
          [
           "Gaia DR3 4496595639522137984",
           "MS"
          ],
          [
           "Gaia DR3 4497082757537595904",
           "MS"
          ],
          [
           "Gaia DR3 4502103398203560960",
           "MS"
          ],
          [
           "Gaia DR3 4503079150355284608",
           "MS"
          ],
          [
           "Gaia DR3 4507653324903087360",
           "MS"
          ],
          [
           "Gaia DR3 4508485517756875776",
           "MS"
          ],
          [
           "Gaia DR3 4513930814764916608",
           "MS"
          ],
          [
           "Gaia DR3 4514206242416262656",
           "MS"
          ],
          [
           "Gaia DR3 4514781493159621632",
           "MS"
          ],
          [
           "Gaia DR3 4517178046224599168",
           "MS"
          ],
          [
           "Gaia DR3 4521877191422702592",
           "MS"
          ],
          [
           "Gaia DR3 4522649186021647744",
           "MS"
          ],
          [
           "Gaia DR3 4526711950202650240",
           "MS"
          ],
          [
           "Gaia DR3 4530006636798269184",
           "MS"
          ],
          [
           "Gaia DR3 4531614294600793600",
           "MS"
          ],
          [
           "Gaia DR3 4532008022845211648",
           "MS"
          ],
          [
           "Gaia DR3 4532042554376123136",
           "MS"
          ],
          [
           "Gaia DR3 4532149000849260928",
           "MS"
          ],
          [
           "Gaia DR3 4532710851291080704",
           "MS"
          ],
          [
           "Gaia DR3 4532776409670204160",
           "MS"
          ],
          [
           "Gaia DR3 4533373994245323264",
           "MS"
          ],
          [
           "Gaia DR3 4534069465403072640",
           "MS"
          ],
          [
           "Gaia DR3 4534192786806919424",
           "MS"
          ],
          [
           "Gaia DR3 4534416022026409600",
           "MS"
          ],
          [
           "Gaia DR3 4537203730675203456",
           "MS"
          ],
          [
           "Gaia DR3 4537557635981965184",
           "MS"
          ],
          [
           "Gaia DR3 4538346191977928704",
           "MS"
          ],
          [
           "Gaia DR3 4540061258311469312",
           "MS"
          ],
          [
           "Gaia DR3 4540755909141672960",
           "MS"
          ],
          [
           "Gaia DR3 4541869954939780864",
           "MS"
          ],
          [
           "Gaia DR3 4546051157140575104",
           "MS"
          ],
          [
           "Gaia DR3 4546396640014970496",
           "MS"
          ],
          [
           "Gaia DR3 4546726291640517248",
           "MS"
          ],
          [
           "Gaia DR3 4547512682972180992",
           "MS"
          ],
          [
           "Gaia DR3 4548735855300621184",
           "MS"
          ],
          [
           "Gaia DR3 4549815163401321088",
           "MS"
          ],
          [
           "Gaia DR3 4550913953474925312",
           "MS"
          ],
          [
           "Gaia DR3 4551614170584301312",
           "MS"
          ],
          [
           "Gaia DR3 4554644424634336512",
           "MS"
          ],
          [
           "Gaia DR3 4556257270752314624",
           "MS"
          ],
          [
           "Gaia DR3 4556432471057503488",
           "MS"
          ],
          [
           "Gaia DR3 4557442647363176704",
           "MS"
          ],
          [
           "Gaia DR3 4558998829974329600",
           "MS"
          ],
          [
           "Gaia DR3 4559709153142796672",
           "MS"
          ],
          [
           "Gaia DR3 4560767295647122560",
           "MS"
          ],
          [
           "Gaia DR3 4561225826355346176",
           "MS"
          ],
          [
           "Gaia DR3 4563741337159029504",
           "MS"
          ],
          [
           "Gaia DR3 4566039969296448128",
           "MS"
          ],
          [
           "Gaia DR3 4568645811854980224",
           "MS"
          ],
          [
           "Gaia DR3 4569612454375333888",
           "MS"
          ],
          [
           "Gaia DR3 4569966153521791232",
           "MS"
          ],
          [
           "Gaia DR3 4570139326603110144",
           "MS"
          ],
          [
           "Gaia DR3 4570237286217131904",
           "MS"
          ],
          [
           "Gaia DR3 4570914894616842624",
           "MS"
          ],
          [
           "Gaia DR3 4571358822437221760",
           "MS"
          ],
          [
           "Gaia DR3 4571658714233104256",
           "MS"
          ],
          [
           "Gaia DR3 4573263073496643072",
           "MS"
          ],
          [
           "Gaia DR3 4573408896226514432",
           "MS"
          ],
          [
           "Gaia DR3 4575301087017915776",
           "MS"
          ],
          [
           "Gaia DR3 4575470240009768064",
           "MS"
          ],
          [
           "Gaia DR3 4575710070986700160",
           "MS"
          ],
          [
           "Gaia DR3 4576077548388608256",
           "MS"
          ],
          [
           "Gaia DR3 4576678637654618496",
           "MS"
          ],
          [
           "Gaia DR3 4579463666244171904",
           "MS"
          ],
          [
           "Gaia DR3 4579791561227952512",
           "MS"
          ],
          [
           "Gaia DR3 4581029469581884032",
           "MS"
          ],
          [
           "Gaia DR3 4582408433260667136",
           "MS"
          ],
          [
           "Gaia DR3 4582581846860570624",
           "MS"
          ],
          [
           "Gaia DR3 4583446028640397440",
           "MS"
          ],
          [
           "Gaia DR3 4583584395306532224",
           "MS"
          ],
          [
           "Gaia DR3 4583915588824600064",
           "MS"
          ],
          [
           "Gaia DR3 4583952078866955904",
           "MS"
          ],
          [
           "Gaia DR3 4584380304286433664",
           "MS"
          ],
          [
           "Gaia DR3 4584848490083515904",
           "MS"
          ],
          [
           "Gaia DR3 4587361389547847936",
           "MS"
          ],
          [
           "Gaia DR3 4589733345365571456",
           "MS"
          ],
          [
           "Gaia DR3 4590359723395746688",
           "MS"
          ],
          [
           "Gaia DR3 4591748372222652928",
           "MS"
          ],
          [
           "Gaia DR3 4591977517318070016",
           "MS"
          ],
          [
           "Gaia DR3 4593194367451582080",
           "MS"
          ],
          [
           "Gaia DR3 4593821844992533888",
           "MS"
          ],
          [
           "Gaia DR3 4594177811881883264",
           "MS"
          ],
          [
           "Gaia DR3 4594337550305936640",
           "MS"
          ],
          [
           "Gaia DR3 4595950052827614848",
           "MS"
          ],
          [
           "Gaia DR3 4596059763472780032",
           "MS"
          ],
          [
           "Gaia DR3 4596110306647389440",
           "MS"
          ],
          [
           "Gaia DR3 4596513724335183744",
           "MS"
          ],
          [
           "Gaia DR3 4597300184386198912",
           "MS"
          ],
          [
           "Gaia DR3 4600695716810882304",
           "MS"
          ],
          [
           "Gaia DR3 4601137170729260288",
           "MS"
          ],
          [
           "Gaia DR3 4604482950253324672",
           "MS"
          ],
          [
           "Gaia DR3 4604587163339756672",
           "MS"
          ],
          [
           "Gaia DR3 4606274913688497792",
           "MS"
          ],
          [
           "Gaia DR3 4607951050445408896",
           "MS"
          ],
          [
           "Gaia DR3 4608193870716042880",
           "MS"
          ],
          [
           "Gaia DR3 4608282896798203776",
           "MS"
          ],
          [
           "Gaia DR3 4610131794320647424",
           "MS"
          ],
          [
           "Gaia DR3 4610349050945243264",
           "MS"
          ],
          [
           "Gaia DR3 4614044165928125440",
           "MS"
          ],
          [
           "Gaia DR3 4616146191642331008",
           "MS"
          ],
          [
           "Gaia DR3 4616369701740206336",
           "MS"
          ],
          [
           "Gaia DR3 4617859265118113664",
           "MS"
          ],
          [
           "Gaia DR3 4618483684643367040",
           "MS"
          ],
          [
           "Gaia DR3 4618701800262902656",
           "MS"
          ],
          [
           "Gaia DR3 4618917819937488128",
           "MS"
          ],
          [
           "Gaia DR3 4619371059246314880",
           "MS"
          ],
          [
           "Gaia DR3 4625443696326193408",
           "MS"
          ],
          [
           "Gaia DR3 4626898796886477184",
           "MS"
          ],
          [
           "Gaia DR3 4628803425905634688",
           "MS"
          ],
          [
           "Gaia DR3 4629741034445213568",
           "MS"
          ],
          [
           "Gaia DR3 4631243551443235072",
           "MS"
          ],
          [
           "Gaia DR3 4633056646117350912",
           "MS"
          ],
          [
           "Gaia DR3 4634536687551935744",
           "MS"
          ],
          [
           "Gaia DR3 4634780542910878848",
           "MS"
          ],
          [
           "Gaia DR3 4636627207049317632",
           "MS"
          ],
          [
           "Gaia DR3 4637648618992050176",
           "MS"
          ],
          [
           "Gaia DR3 4638295715945158144",
           "MS"
          ],
          [
           "Gaia DR3 4638608527003431680",
           "MS"
          ],
          [
           "Gaia DR3 4640209037975567744",
           "MS"
          ],
          [
           "Gaia DR3 4643516162793545344",
           "MS"
          ],
          [
           "Gaia DR3 4650039354829199616",
           "MS"
          ],
          [
           "Gaia DR3 4652577856594863616",
           "MS"
          ],
          [
           "Gaia DR3 4653781684386976384",
           "MS"
          ],
          [
           "Gaia DR3 4655636659286696960",
           "MS"
          ],
          [
           "Gaia DR3 4657538337678128384",
           "MS"
          ],
          [
           "Gaia DR3 4660089135939517824",
           "MS"
          ],
          [
           "Gaia DR3 4660940982575633920",
           "MS"
          ],
          [
           "Gaia DR3 4661897317181746816",
           "MS"
          ],
          [
           "Gaia DR3 4662021184055426048",
           "MS"
          ],
          [
           "Gaia DR3 4662841247885111424",
           "MS"
          ],
          [
           "Gaia DR3 4663003906893909888",
           "MS"
          ],
          [
           "Gaia DR3 4668842382347406336",
           "MS"
          ],
          [
           "Gaia DR3 4669403786112446336",
           "MS"
          ],
          [
           "Gaia DR3 4672322096130813696",
           "MS"
          ],
          [
           "Gaia DR3 4678214482023385344",
           "MS"
          ],
          [
           "Gaia DR3 4679113264059281664",
           "MS"
          ],
          [
           "Gaia DR3 4680583517264731648",
           "MS"
          ],
          [
           "Gaia DR3 4680718001280058240",
           "MS"
          ],
          [
           "Gaia DR3 4683651841900691328",
           "MS"
          ],
          [
           "Gaia DR3 4683736435576469248",
           "MS"
          ],
          [
           "Gaia DR3 4684889582756038400",
           "MS"
          ],
          [
           "Gaia DR3 4685317739458532224",
           "MS"
          ],
          [
           "Gaia DR3 4685667830852507008",
           "MS"
          ],
          [
           "Gaia DR3 4687679490434301824",
           "MS"
          ],
          [
           "Gaia DR3 4690443147268458240",
           "MS"
          ],
          [
           "Gaia DR3 4690739122056717184",
           "MS"
          ],
          [
           "Gaia DR3 4691589731742320128",
           "MS"
          ],
          [
           "Gaia DR3 4694729077952649984",
           "MS"
          ],
          [
           "Gaia DR3 4695097379988307584",
           "MS"
          ],
          [
           "Gaia DR3 4695149469351652864",
           "MS"
          ],
          [
           "Gaia DR3 4696985104014191104",
           "MS"
          ],
          [
           "Gaia DR3 4697163224897947392",
           "MS"
          ],
          [
           "Gaia DR3 4697473115378342400",
           "MS"
          ],
          [
           "Gaia DR3 4698654128305330176",
           "MS"
          ],
          [
           "Gaia DR3 4698687869568471552",
           "MS"
          ],
          [
           "Gaia DR3 4701230524567420928",
           "MS"
          ],
          [
           "Gaia DR3 4706271166905670784",
           "MS"
          ],
          [
           "Gaia DR3 4706878921957850368",
           "MS"
          ],
          [
           "Gaia DR3 4706929396413539328",
           "MS"
          ],
          [
           "Gaia DR3 4707616350663016320",
           "MS"
          ],
          [
           "Gaia DR3 4708995206963495040",
           "MS"
          ],
          [
           "Gaia DR3 4709260876460210944",
           "MS"
          ],
          [
           "Gaia DR3 4711592425226666368",
           "MS"
          ],
          [
           "Gaia DR3 4711726600005893376",
           "MS"
          ],
          [
           "Gaia DR3 4712006253915643520",
           "MS"
          ],
          [
           "Gaia DR3 4712016939794270720",
           "MS"
          ],
          [
           "Gaia DR3 4712448772986116480",
           "MS"
          ],
          [
           "Gaia DR3 4712683793596730496",
           "MS"
          ],
          [
           "Gaia DR3 4713381708602489728",
           "MS"
          ],
          [
           "Gaia DR3 4713866180913591040",
           "MS"
          ],
          [
           "Gaia DR3 4715339423415175808",
           "MS"
          ],
          [
           "Gaia DR3 4715657250995403648",
           "MS"
          ],
          [
           "Gaia DR3 4717013945264863616",
           "MS"
          ],
          [
           "Gaia DR3 4717393345496182272",
           "MS"
          ],
          [
           "Gaia DR3 4718013744932230912",
           "MS"
          ],
          [
           "Gaia DR3 4719971219226778880",
           "MS"
          ],
          [
           "Gaia DR3 4722335134866879104",
           "MS"
          ],
          [
           "Gaia DR3 4722462403337867520",
           "MS"
          ],
          [
           "Gaia DR3 4722605374208852352",
           "MS"
          ],
          [
           "Gaia DR3 4724868650175216128",
           "MS"
          ],
          [
           "Gaia DR3 4728151001622036608",
           "MS"
          ],
          [
           "Gaia DR3 4732009875118815616",
           "MS"
          ],
          [
           "Gaia DR3 4732071928806253312",
           "MS"
          ],
          [
           "Gaia DR3 4733628665472866432",
           "MS"
          ],
          [
           "Gaia DR3 4737748226303896320",
           "MS"
          ],
          [
           "Gaia DR3 4740260163696818176",
           "MS"
          ],
          [
           "Gaia DR3 4741144892600308736",
           "MS"
          ],
          [
           "Gaia DR3 4742674725591127424",
           "MS"
          ],
          [
           "Gaia DR3 4746089877426994048",
           "MS"
          ],
          [
           "Gaia DR3 4747096858278897280",
           "MS"
          ],
          [
           "Gaia DR3 4749835638664539648",
           "MS"
          ],
          [
           "Gaia DR3 4751045067095359488",
           "MS"
          ],
          [
           "Gaia DR3 4755511317687026176",
           "MS"
          ],
          [
           "Gaia DR3 4756640035097695488",
           "MS"
          ],
          [
           "Gaia DR3 4757649691711275776",
           "MS"
          ],
          [
           "Gaia DR3 4762231425380560640",
           "MS"
          ],
          [
           "Gaia DR3 4762306677503854080",
           "MS"
          ],
          [
           "Gaia DR3 4768315542909556480",
           "MS"
          ],
          [
           "Gaia DR3 4768921133298225536",
           "MS"
          ],
          [
           "Gaia DR3 4770286211343800960",
           "MS"
          ],
          [
           "Gaia DR3 4771481174324678016",
           "MS"
          ],
          [
           "Gaia DR3 4771707364482882432",
           "MS"
          ],
          [
           "Gaia DR3 4771965887154020992",
           "MS"
          ],
          [
           "Gaia DR3 4774266821393569792",
           "MS"
          ],
          [
           "Gaia DR3 4775917428864656384",
           "MS"
          ],
          [
           "Gaia DR3 4777062772088122880",
           "MS"
          ],
          [
           "Gaia DR3 4780089353938503552",
           "MS"
          ],
          [
           "Gaia DR3 4781941068957965056",
           "MS"
          ],
          [
           "Gaia DR3 4787811533337542144",
           "MS"
          ],
          [
           "Gaia DR3 4790658375100436736",
           "MS"
          ],
          [
           "Gaia DR3 4791850623662195328",
           "MS"
          ],
          [
           "Gaia DR3 4795397270215851776",
           "MS"
          ],
          [
           "Gaia DR3 4795585179328518016",
           "MS"
          ],
          [
           "Gaia DR3 4795835906635551488",
           "MS"
          ],
          [
           "Gaia DR3 4796961325506359936",
           "MS"
          ],
          [
           "Gaia DR3 4797034679252578560",
           "MS"
          ],
          [
           "Gaia DR3 4798661234906328448",
           "MS"
          ],
          [
           "Gaia DR3 4801340130563980288",
           "MS"
          ],
          [
           "Gaia DR3 4804478927024064000",
           "MS"
          ],
          [
           "Gaia DR3 4804895745010228608",
           "MS"
          ],
          [
           "Gaia DR3 4804898390710092928",
           "MS"
          ],
          [
           "Gaia DR3 4807112532250705280",
           "MS"
          ],
          [
           "Gaia DR3 4807278558506542848",
           "MS"
          ],
          [
           "Gaia DR3 4807307558125608704",
           "MS"
          ],
          [
           "Gaia DR3 4809834407644791040",
           "MS"
          ],
          [
           "Gaia DR3 4809894056150647296",
           "MS"
          ],
          [
           "Gaia DR3 4810205969559395584",
           "MS"
          ],
          [
           "Gaia DR3 4810917323518887168",
           "MS"
          ],
          [
           "Gaia DR3 4812320231636478336",
           "MS"
          ],
          [
           "Gaia DR3 4813394763734372096",
           "MS"
          ],
          [
           "Gaia DR3 4813693246781700480",
           "MS"
          ],
          [
           "Gaia DR3 4814513516815693312",
           "MS"
          ],
          [
           "Gaia DR3 4814531246440663168",
           "MS"
          ],
          [
           "Gaia DR3 4815193392958678272",
           "MS"
          ],
          [
           "Gaia DR3 4818846211104209664",
           "MS"
          ],
          [
           "Gaia DR3 4820783550592807168",
           "MS"
          ],
          [
           "Gaia DR3 4822157871408007168",
           "MS"
          ],
          [
           "Gaia DR3 4825438436147999104",
           "MS"
          ],
          [
           "Gaia DR3 4826336049953469824",
           "MS"
          ],
          [
           "Gaia DR3 4827119658146507648",
           "MS"
          ],
          [
           "Gaia DR3 4827449511634891264",
           "MS"
          ],
          [
           "Gaia DR3 4827464355041878784",
           "MS"
          ],
          [
           "Gaia DR3 4829490067776871424",
           "MS"
          ],
          [
           "Gaia DR3 4830802742924763520",
           "MS"
          ],
          [
           "Gaia DR3 4832647933890967424",
           "MS"
          ],
          [
           "Gaia DR3 4838435350783177856",
           "MS"
          ],
          [
           "Gaia DR3 4839019706853090304",
           "MS"
          ],
          [
           "Gaia DR3 4839187725973902464",
           "MS"
          ],
          [
           "Gaia DR3 4839544448777853056",
           "MS"
          ],
          [
           "Gaia DR3 4840403270438104448",
           "MS"
          ],
          [
           "Gaia DR3 4841502885145203712",
           "MS"
          ],
          [
           "Gaia DR3 4842142487378882560",
           "MS"
          ],
          [
           "Gaia DR3 4843106832091646464",
           "MS"
          ],
          [
           "Gaia DR3 4843144181127222272",
           "MS"
          ],
          [
           "Gaia DR3 4844336051732090624",
           "MS"
          ],
          [
           "Gaia DR3 4847718871053268480",
           "MS"
          ],
          [
           "Gaia DR3 4847883316761143168",
           "MS"
          ],
          [
           "Gaia DR3 4850017571910088320",
           "MS"
          ],
          [
           "Gaia DR3 4853311193350752768",
           "MS"
          ],
          [
           "Gaia DR3 4853349057782110592",
           "MS"
          ],
          [
           "Gaia DR3 4853488730118754688",
           "MS"
          ],
          [
           "Gaia DR3 4854040616236539648",
           "MS"
          ],
          [
           "Gaia DR3 4855617212831672960",
           "MS"
          ],
          [
           "Gaia DR3 4857963536285271808",
           "MS"
          ],
          [
           "Gaia DR3 4859584422583070208",
           "MS"
          ],
          [
           "Gaia DR3 4860588104900837120",
           "MS"
          ],
          [
           "Gaia DR3 4863685635315115904",
           "MS"
          ],
          [
           "Gaia DR3 4863905778158761088",
           "MS"
          ],
          [
           "Gaia DR3 4864761679241064832",
           "MS"
          ],
          [
           "Gaia DR3 4865700662171265536",
           "MS"
          ],
          [
           "Gaia DR3 4866673523803521408",
           "MS"
          ],
          [
           "Gaia DR3 4867042684832557056",
           "MS"
          ],
          [
           "Gaia DR3 4867204553559902848",
           "MS"
          ],
          [
           "Gaia DR3 4868510429775953280",
           "MS"
          ],
          [
           "Gaia DR3 4868601586161880448",
           "MS"
          ],
          [
           "Gaia DR3 4873352404107489664",
           "MS"
          ],
          [
           "Gaia DR3 4873655079042558976",
           "MS"
          ],
          [
           "Gaia DR3 4874321211290417152",
           "MS"
          ],
          [
           "Gaia DR3 4875030155772188288",
           "MS"
          ],
          [
           "Gaia DR3 4877335724279916032",
           "MS"
          ],
          [
           "Gaia DR3 4878036323641744384",
           "MS"
          ],
          [
           "Gaia DR3 4878877965433123456",
           "MS"
          ],
          [
           "Gaia DR3 4880323479626343168",
           "MS"
          ],
          [
           "Gaia DR3 4881348087024892416",
           "MS"
          ],
          [
           "Gaia DR3 4885076427874348544",
           "MS"
          ],
          [
           "Gaia DR3 4886547024677008000",
           "MS"
          ],
          [
           "Gaia DR3 4890441975899090432",
           "MS"
          ],
          [
           "Gaia DR3 4890805845528332800",
           "MS"
          ],
          [
           "Gaia DR3 4891142021208429440",
           "MS"
          ],
          [
           "Gaia DR3 4891406178877052416",
           "MS"
          ],
          [
           "Gaia DR3 4892704461591538560",
           "MS"
          ],
          [
           "Gaia DR3 4893979070446500864",
           "MS"
          ],
          [
           "Gaia DR3 4894254601188437632",
           "MS"
          ],
          [
           "Gaia DR3 4894520816144021632",
           "MS"
          ],
          [
           "Gaia DR3 4895210317310900352",
           "MS"
          ],
          [
           "Gaia DR3 4897943325260208256",
           "MS"
          ],
          [
           "Gaia DR3 4902331785403134080",
           "MS"
          ],
          [
           "Gaia DR3 4903686005771529856",
           "MS"
          ],
          [
           "Gaia DR3 4904940308020754432",
           "MS"
          ],
          [
           "Gaia DR3 4905858464653858944",
           "MS"
          ],
          [
           "Gaia DR3 4905980514740082048",
           "MS"
          ],
          [
           "Gaia DR3 4905981854769949952",
           "MS"
          ],
          [
           "Gaia DR3 4907403037972497792",
           "MS"
          ],
          [
           "Gaia DR3 4907589061595812224",
           "MS"
          ],
          [
           "Gaia DR3 4908597146256327424",
           "MS"
          ],
          [
           "Gaia DR3 4909179028424664192",
           "MS"
          ],
          [
           "Gaia DR3 4911730616956437504",
           "MS"
          ],
          [
           "Gaia DR3 4913532888313166464",
           "MS"
          ],
          [
           "Gaia DR3 4914984552899171840",
           "MS"
          ],
          [
           "Gaia DR3 4915159203449760896",
           "MS"
          ],
          [
           "Gaia DR3 4917286036895061248",
           "MS"
          ],
          [
           "Gaia DR3 4917537618899423616",
           "MS"
          ],
          [
           "Gaia DR3 4919485747344631808",
           "MS"
          ],
          [
           "Gaia DR3 4920008462044214272",
           "MS"
          ],
          [
           "Gaia DR3 4920417892687242752",
           "MS"
          ],
          [
           "Gaia DR3 4921555096948072832",
           "MS"
          ],
          [
           "Gaia DR3 4921951024213463040",
           "MS"
          ],
          [
           "Gaia DR3 4922270432341238912",
           "MS"
          ],
          [
           "Gaia DR3 4922744974687373440",
           "MS"
          ],
          [
           "Gaia DR3 4924765430383255040",
           "MS"
          ],
          [
           "Gaia DR3 4925562026557622656",
           "MS"
          ],
          [
           "Gaia DR3 4930257594043729792",
           "MS"
          ],
          [
           "Gaia DR3 4937659265803092224",
           "MS"
          ],
          [
           "Gaia DR3 4937956237021782656",
           "MS"
          ],
          [
           "Gaia DR3 4942144173732586240",
           "MS"
          ],
          [
           "Gaia DR3 4943055119116405632",
           "MS"
          ],
          [
           "Gaia DR3 4944216340834192768",
           "MS"
          ],
          [
           "Gaia DR3 4945540152833876864",
           "MS"
          ],
          [
           "Gaia DR3 4947762300193300736",
           "MS"
          ],
          [
           "Gaia DR3 4948215539502594816",
           "MS"
          ],
          [
           "Gaia DR3 4950685351855702912",
           "MS"
          ],
          [
           "Gaia DR3 4952107879384225920",
           "MS"
          ],
          [
           "Gaia DR3 4954513267228494592",
           "MS"
          ],
          [
           "Gaia DR3 4955127894228442496",
           "MS"
          ],
          [
           "Gaia DR3 4962099553863317376",
           "MS"
          ],
          [
           "Gaia DR3 4962109621266598656",
           "MS"
          ],
          [
           "Gaia DR3 4963644195900832000",
           "MS"
          ],
          [
           "Gaia DR3 4964685055455425280",
           "MS"
          ],
          [
           "Gaia DR3 4965529892702752512",
           "MS"
          ],
          [
           "Gaia DR3 4966351434046897024",
           "MS"
          ],
          [
           "Gaia DR3 4968789738520547456",
           "MS"
          ],
          [
           "Gaia DR3 4970585103570821376",
           "MS"
          ],
          [
           "Gaia DR3 4971585178113308032",
           "MS"
          ],
          [
           "Gaia DR3 4974564064352093056",
           "MS"
          ],
          [
           "Gaia DR3 4977846793757197312",
           "MS"
          ],
          [
           "Gaia DR3 4979269596162087552",
           "MS"
          ],
          [
           "Gaia DR3 4979419782578884224",
           "MS"
          ],
          [
           "Gaia DR3 4982193850415125504",
           "MS"
          ],
          [
           "Gaia DR3 4982627264155280256",
           "MS"
          ],
          [
           "Gaia DR3 4983401560858949248",
           "MS"
          ],
          [
           "Gaia DR3 4989452688741904640",
           "MS"
          ],
          [
           "Gaia DR3 4989803982707084032",
           "MS"
          ],
          [
           "Gaia DR3 4990157200817268608",
           "MS"
          ],
          [
           "Gaia DR3 4999974946299966592",
           "MS"
          ],
          [
           "Gaia DR3 5000026039230548352",
           "MS"
          ],
          [
           "Gaia DR3 5004180131599285376",
           "MS"
          ],
          [
           "Gaia DR3 5006928532711985152",
           "MS"
          ],
          [
           "Gaia DR3 5008041478998363136",
           "MS"
          ],
          [
           "Gaia DR3 5008147891108095232",
           "MS"
          ],
          [
           "Gaia DR3 5008369163526765824",
           "MS"
          ],
          [
           "Gaia DR3 5008799317387291136",
           "MS"
          ],
          [
           "Gaia DR3 5009431021177209856",
           "MS"
          ],
          [
           "Gaia DR3 5013624794747524736",
           "MS"
          ],
          [
           "Gaia DR3 5015030696458723712",
           "MS"
          ],
          [
           "Gaia DR3 5015634534500904960",
           "MS"
          ],
          [
           "Gaia DR3 5015791524146225792",
           "MS"
          ],
          [
           "Gaia DR3 5017979277407639808",
           "MS"
          ],
          [
           "Gaia DR3 5018671591775403776",
           "MS"
          ],
          [
           "Gaia DR3 5019867448108353152",
           "MS"
          ],
          [
           "Gaia DR3 5022310562945311104",
           "MS"
          ],
          [
           "Gaia DR3 5025604390544579968",
           "MS"
          ],
          [
           "Gaia DR3 5025883975735520640",
           "MS"
          ],
          [
           "Gaia DR3 5027044716417929600",
           "MS"
          ],
          [
           "Gaia DR3 5027940165559254784",
           "MS"
          ],
          [
           "Gaia DR3 5030092871887678208",
           "MS"
          ],
          [
           "Gaia DR3 5032135970650010368",
           "MS"
          ],
          [
           "Gaia DR3 5033767233588649856",
           "MS"
          ],
          [
           "Gaia DR3 5038153700868018304",
           "MS"
          ],
          [
           "Gaia DR3 5038436034838307328",
           "MS"
          ],
          [
           "Gaia DR3 5039979680444075392",
           "MS"
          ],
          [
           "Gaia DR3 5041836755583488512",
           "MS"
          ],
          [
           "Gaia DR3 5049243375146501376",
           "MS"
          ],
          [
           "Gaia DR3 5049477502403404672",
           "MS"
          ],
          [
           "Gaia DR3 5050341649823746816",
           "MS"
          ],
          [
           "Gaia DR3 5050402088603649280",
           "MS"
          ],
          [
           "Gaia DR3 5050635322508114944",
           "MS"
          ],
          [
           "Gaia DR3 5054033569351875200",
           "MS"
          ],
          [
           "Gaia DR3 5054063393603447296",
           "MS"
          ],
          [
           "Gaia DR3 5056087830733254656",
           "MS"
          ],
          [
           "Gaia DR3 5056532450043861248",
           "MS"
          ],
          [
           "Gaia DR3 5056700881481592320",
           "MS"
          ],
          [
           "Gaia DR3 5057064373153576448",
           "MS"
          ],
          [
           "Gaia DR3 5058577060636059008",
           "MS"
          ],
          [
           "Gaia DR3 5059469279964160768",
           "MS"
          ],
          [
           "Gaia DR3 5062673291205929088",
           "MS"
          ],
          [
           "Gaia DR3 5063685597816375552",
           "MS"
          ],
          [
           "Gaia DR3 5063867841869368704",
           "MS"
          ],
          [
           "Gaia DR3 5068098109776359040",
           "MS"
          ],
          [
           "Gaia DR3 5069421612539345792",
           "MS"
          ],
          [
           "Gaia DR3 5070882141937345920",
           "MS"
          ],
          [
           "Gaia DR3 5073554092632638848",
           "MS"
          ],
          [
           "Gaia DR3 5073679673179771136",
           "MS"
          ],
          [
           "Gaia DR3 5078134829873591680",
           "MS"
          ],
          [
           "Gaia DR3 5080994316019175936",
           "MS"
          ],
          [
           "Gaia DR3 5081874853034129152",
           "MS"
          ],
          [
           "Gaia DR3 5082196150948356864",
           "MS"
          ],
          [
           "Gaia DR3 5082530024525815296",
           "MS"
          ],
          [
           "Gaia DR3 5087533386548040448",
           "MS"
          ],
          [
           "Gaia DR3 5090888477560254976",
           "MS"
          ],
          [
           "Gaia DR3 5091887624392418816",
           "MS"
          ],
          [
           "Gaia DR3 5092889726161772416",
           "MS"
          ],
          [
           "Gaia DR3 5094776213237250560",
           "MS"
          ],
          [
           "Gaia DR3 5095404584132873088",
           "MS"
          ],
          [
           "Gaia DR3 5096510933347975424",
           "MS"
          ],
          [
           "Gaia DR3 5101870812014364160",
           "MS"
          ],
          [
           "Gaia DR3 5107837861619763072",
           "MS"
          ],
          [
           "Gaia DR3 5114378100377992192",
           "MS"
          ],
          [
           "Gaia DR3 5118716532742525056",
           "MS"
          ],
          [
           "Gaia DR3 5119937334246966656",
           "MS"
          ],
          [
           "Gaia DR3 5120499356487487104",
           "MS"
          ],
          [
           "Gaia DR3 5120791964019316608",
           "MS"
          ],
          [
           "Gaia DR3 5122674740242912640",
           "MS"
          ],
          [
           "Gaia DR3 5123272702769818752",
           "MS"
          ],
          [
           "Gaia DR3 5124382865916428544",
           "MS"
          ],
          [
           "Gaia DR3 5126260728697711488",
           "MS"
          ],
          [
           "Gaia DR3 5134449547703752576",
           "MS"
          ],
          [
           "Gaia DR3 5135277136362090368",
           "MS"
          ],
          [
           "Gaia DR3 5136114483186289408",
           "MS"
          ],
          [
           "Gaia DR3 5138908582750506112",
           "MS"
          ],
          [
           "Gaia DR3 5143766293841396736",
           "MS"
          ],
          [
           "Gaia DR3 5147603344608769408",
           "MS"
          ],
          [
           "Gaia DR3 5154970351688964736",
           "MS"
          ],
          [
           "Gaia DR3 5157817640127486976",
           "MS"
          ],
          [
           "Gaia DR3 5164360455867611264",
           "MS"
          ],
          [
           "Gaia DR3 5170651105487182080",
           "MS"
          ],
          [
           "Gaia DR3 5170777648108310912",
           "MS"
          ],
          [
           "Gaia DR3 5175044891390672128",
           "MS"
          ],
          [
           "Gaia DR3 5181717312063574912",
           "MS"
          ],
          [
           "Gaia DR3 5192559802386491776",
           "MS"
          ],
          [
           "Gaia DR3 5193953021056648960",
           "MS"
          ],
          [
           "Gaia DR3 5195215805864560256",
           "MS"
          ],
          [
           "Gaia DR3 5198452050840773760",
           "MS"
          ],
          [
           "Gaia DR3 5206819403045075200",
           "MS"
          ],
          [
           "Gaia DR3 5207308548280814976",
           "MS"
          ],
          [
           "Gaia DR3 5208640778416890752",
           "MS"
          ],
          [
           "Gaia DR3 5208864937053933952",
           "MS"
          ],
          [
           "Gaia DR3 5209676002973972864",
           "MS"
          ],
          [
           "Gaia DR3 5212664063261320704",
           "MS"
          ],
          [
           "Gaia DR3 5213080743808714112",
           "MS"
          ],
          [
           "Gaia DR3 5213339781876466816",
           "MS"
          ],
          [
           "Gaia DR3 5213370430762839168",
           "MS"
          ],
          [
           "Gaia DR3 5213769308668585216",
           "MS"
          ],
          [
           "Gaia DR3 5216108283436276352",
           "MS"
          ],
          [
           "Gaia DR3 5216573716155310848",
           "MS"
          ],
          [
           "Gaia DR3 5216631754050166656",
           "MS"
          ],
          [
           "Gaia DR3 5216985212679264128",
           "MS"
          ],
          [
           "Gaia DR3 5217331180885818240",
           "MS"
          ],
          [
           "Gaia DR3 5218091115220268032",
           "MS"
          ],
          [
           "Gaia DR3 5218586170330656512",
           "MS"
          ],
          [
           "Gaia DR3 5220199772361950976",
           "MS"
          ],
          [
           "Gaia DR3 5220320649921581824",
           "MS"
          ],
          [
           "Gaia DR3 5223927563458221440",
           "MS"
          ],
          [
           "Gaia DR3 5232769732899175680",
           "MS"
          ],
          [
           "Gaia DR3 5235661551583105664",
           "MS"
          ],
          [
           "Gaia DR3 5236177841023169152",
           "MS"
          ],
          [
           "Gaia DR3 5236763296596819328",
           "MS"
          ],
          [
           "Gaia DR3 5239439645324648320",
           "MS"
          ],
          [
           "Gaia DR3 5242888847640652672",
           "MS"
          ],
          [
           "Gaia DR3 5243252098795757952",
           "MS"
          ],
          [
           "Gaia DR3 5254610431908503808",
           "MS"
          ],
          [
           "Gaia DR3 5255362291690744832",
           "MS"
          ],
          [
           "Gaia DR3 5255942558950937216",
           "MS"
          ],
          [
           "Gaia DR3 5259865925653661824",
           "MS"
          ],
          [
           "Gaia DR3 5260402384238267264",
           "MS"
          ],
          [
           "Gaia DR3 5263498162306171264",
           "MS"
          ],
          [
           "Gaia DR3 5264602140699620224",
           "MS"
          ],
          [
           "Gaia DR3 5264622069347930880",
           "MS"
          ],
          [
           "Gaia DR3 5267597863208424448",
           "MS"
          ],
          [
           "Gaia DR3 5270266446649786112",
           "MS"
          ],
          [
           "Gaia DR3 5272695955030163328",
           "MS"
          ],
          [
           "Gaia DR3 5273767326031324544",
           "MS"
          ],
          [
           "Gaia DR3 5280078282257211008",
           "MS"
          ],
          [
           "Gaia DR3 5281761153523384320",
           "MS"
          ],
          [
           "Gaia DR3 5281879282304833920",
           "MS"
          ],
          [
           "Gaia DR3 5282994874301024512",
           "MS"
          ],
          [
           "Gaia DR3 5285775401756385920",
           "MS"
          ],
          [
           "Gaia DR3 5287112682773147776",
           "MS"
          ],
          [
           "Gaia DR3 5290922043888601984",
           "MS"
          ],
          [
           "Gaia DR3 5295503674480698752",
           "MS"
          ],
          [
           "Gaia DR3 5297130951694797824",
           "MS"
          ],
          [
           "Gaia DR3 5297287219786647680",
           "MS"
          ],
          [
           "Gaia DR3 5299929002634004480",
           "MS"
          ],
          [
           "Gaia DR3 5300976493612529664",
           "MS"
          ],
          [
           "Gaia DR3 5302559652919496960",
           "MS"
          ],
          [
           "Gaia DR3 5302564532002275072",
           "MS"
          ],
          [
           "Gaia DR3 5303494340888017024",
           "MS"
          ],
          [
           "Gaia DR3 5303594465168400896",
           "MS"
          ],
          [
           "Gaia DR3 5304267263200972544",
           "MS"
          ],
          [
           "Gaia DR3 5306042768343157120",
           "MS"
          ],
          [
           "Gaia DR3 5310538121630464640",
           "MS"
          ],
          [
           "Gaia DR3 5312767312718769536",
           "MS"
          ],
          [
           "Gaia DR3 5314419088413026048",
           "MS"
          ],
          [
           "Gaia DR3 5317649453578542208",
           "MS"
          ],
          [
           "Gaia DR3 5317828124219671168",
           "MS"
          ],
          [
           "Gaia DR3 5321107417649266176",
           "MS"
          ],
          [
           "Gaia DR3 5321499290462507392",
           "MS"
          ],
          [
           "Gaia DR3 5327240562221030528",
           "MS"
          ],
          [
           "Gaia DR3 5327926279526192768",
           "MS"
          ],
          [
           "Gaia DR3 5328083612770810496",
           "MS"
          ],
          [
           "Gaia DR3 5329433194583181952",
           "MS"
          ],
          [
           "Gaia DR3 5331196501983131904",
           "MS"
          ],
          [
           "Gaia DR3 5331513195692864768",
           "MS"
          ],
          [
           "Gaia DR3 5331827999607787520",
           "MS"
          ],
          [
           "Gaia DR3 5335969756897837568",
           "MS"
          ],
          [
           "Gaia DR3 5337497283422432512",
           "MS"
          ],
          [
           "Gaia DR3 5340112132560759168",
           "MS"
          ],
          [
           "Gaia DR3 5340131958129165952",
           "MS"
          ],
          [
           "Gaia DR3 5340335745749233664",
           "MS"
          ],
          [
           "Gaia DR3 5340792932092224000",
           "MS"
          ],
          [
           "Gaia DR3 5342211581294564864",
           "MS"
          ],
          [
           "Gaia DR3 5343407678132281984",
           "MS"
          ],
          [
           "Gaia DR3 5345289286123061888",
           "MS"
          ],
          [
           "Gaia DR3 5347081730598507648",
           "MS"
          ],
          [
           "Gaia DR3 5347088121509962240",
           "MS"
          ],
          [
           "Gaia DR3 5349515465215478400",
           "MS"
          ],
          [
           "Gaia DR3 5349526700849726208",
           "MS"
          ],
          [
           "Gaia DR3 5351291623193859200",
           "MS"
          ],
          [
           "Gaia DR3 5351909102037400192",
           "MS"
          ],
          [
           "Gaia DR3 5353876712466124672",
           "MS"
          ],
          [
           "Gaia DR3 5359439828969599744",
           "MS"
          ],
          [
           "Gaia DR3 5359871868317321472",
           "MS"
          ],
          [
           "Gaia DR3 5361511411952947840",
           "MS"
          ],
          [
           "Gaia DR3 5362481146844816640",
           "MS"
          ],
          [
           "Gaia DR3 5363208336349003648",
           "MS"
          ],
          [
           "Gaia DR3 5367489628467390336",
           "MS"
          ],
          [
           "Gaia DR3 5368239701554208256",
           "MS"
          ],
          [
           "Gaia DR3 5369816160719780352",
           "MS"
          ],
          [
           "Gaia DR3 5369913089539518464",
           "MS"
          ],
          [
           "Gaia DR3 5371342557733444608",
           "MS"
          ],
          [
           "Gaia DR3 5372214539170822656",
           "MS"
          ],
          [
           "Gaia DR3 5372238041230253696",
           "MS"
          ],
          [
           "Gaia DR3 5372355311018816512",
           "MS"
          ],
          [
           "Gaia DR3 5372539444854984064",
           "MS"
          ],
          [
           "Gaia DR3 5372542434152281472",
           "MS"
          ],
          [
           "Gaia DR3 5372706433183137536",
           "MS"
          ],
          [
           "Gaia DR3 5376823279594060672",
           "MS"
          ],
          [
           "Gaia DR3 5379805017688193664",
           "MS"
          ],
          [
           "Gaia DR3 5381381339404484864",
           "MS"
          ],
          [
           "Gaia DR3 5383574074829105024",
           "MS"
          ],
          [
           "Gaia DR3 5384923828432397952",
           "MS"
          ],
          [
           "Gaia DR3 5385081608349062784",
           "MS"
          ],
          [
           "Gaia DR3 5388430033574830720",
           "MS"
          ],
          [
           "Gaia DR3 5393707036551555968",
           "MS"
          ],
          [
           "Gaia DR3 5394072795966555008",
           "MS"
          ],
          [
           "Gaia DR3 5397347794427206656",
           "MS"
          ],
          [
           "Gaia DR3 5399526339280028928",
           "MS"
          ],
          [
           "Gaia DR3 5402626962070169984",
           "MS"
          ],
          [
           "Gaia DR3 5406092141695263872",
           "MS"
          ],
          [
           "Gaia DR3 5406275553988543104",
           "MS"
          ],
          [
           "Gaia DR3 5406806102703951360",
           "MS"
          ],
          [
           "Gaia DR3 5411110828160486144",
           "MS"
          ],
          [
           "Gaia DR3 5411563311554135040",
           "MS"
          ],
          [
           "Gaia DR3 5411734388690957184",
           "MS"
          ],
          [
           "Gaia DR3 5414605076107962112",
           "MS"
          ],
          [
           "Gaia DR3 5414937334777988864",
           "MS"
          ],
          [
           "Gaia DR3 5415226575054860160",
           "MS"
          ],
          [
           "Gaia DR3 5417037333266424704",
           "MS"
          ],
          [
           "Gaia DR3 5417611518853324416",
           "MS"
          ],
          [
           "Gaia DR3 5418405160093540352",
           "MS"
          ],
          [
           "Gaia DR3 5420152863882552448",
           "MS"
          ],
          [
           "Gaia DR3 5420713859630974720",
           "MS"
          ],
          [
           "Gaia DR3 5421623499343901440",
           "MS"
          ],
          [
           "Gaia DR3 5423133850369270528",
           "MS"
          ],
          [
           "Gaia DR3 5423602139241729920",
           "MS"
          ],
          [
           "Gaia DR3 5424750750933552256",
           "MS"
          ],
          [
           "Gaia DR3 5426196814882490624",
           "MS"
          ],
          [
           "Gaia DR3 5427266433540007936",
           "MS"
          ],
          [
           "Gaia DR3 5428211910462399616",
           "MS"
          ],
          [
           "Gaia DR3 5431111700578361728",
           "MS"
          ],
          [
           "Gaia DR3 5433121603533437184",
           "MS"
          ],
          [
           "Gaia DR3 5434603783864729472",
           "MS"
          ],
          [
           "Gaia DR3 5435278879707776256",
           "MS"
          ],
          [
           "Gaia DR3 5435770125183875200",
           "MS"
          ],
          [
           "Gaia DR3 5438404761202926464",
           "MS"
          ],
          [
           "Gaia DR3 5439434075885965952",
           "MS"
          ],
          [
           "Gaia DR3 5442274458015491072",
           "MS"
          ],
          [
           "Gaia DR3 5444901534892958848",
           "MS"
          ],
          [
           "Gaia DR3 5445417686882153728",
           "MS"
          ],
          [
           "Gaia DR3 5445580792559583104",
           "MS"
          ],
          [
           "Gaia DR3 5445944112432780800",
           "MS"
          ],
          [
           "Gaia DR3 5446064165359392256",
           "MS"
          ],
          [
           "Gaia DR3 5447868910616194432",
           "MS"
          ],
          [
           "Gaia DR3 5449029960535394944",
           "MS"
          ],
          [
           "Gaia DR3 5453630076667367680",
           "MS"
          ],
          [
           "Gaia DR3 5454454676028735872",
           "MS"
          ],
          [
           "Gaia DR3 5454495357958870016",
           "MS"
          ],
          [
           "Gaia DR3 5455146097044098816",
           "MS"
          ],
          [
           "Gaia DR3 5457696414263817216",
           "MS"
          ],
          [
           "Gaia DR3 5458502699886396032",
           "MS"
          ],
          [
           "Gaia DR3 5459247928252629504",
           "MS"
          ],
          [
           "Gaia DR3 5459446218302273408",
           "MS"
          ],
          [
           "Gaia DR3 5460362386364701312",
           "MS"
          ],
          [
           "Gaia DR3 5461587001799216384",
           "MS"
          ],
          [
           "Gaia DR3 5465606094755544704",
           "MS"
          ],
          [
           "Gaia DR3 5467622873958750848",
           "MS"
          ],
          [
           "Gaia DR3 5469275298200318336",
           "MS"
          ],
          [
           "Gaia DR3 5469927278531800960",
           "MS"
          ],
          [
           "Gaia DR3 5471745767685167232",
           "MS"
          ],
          [
           "Gaia DR3 5474897895723596928",
           "MS"
          ],
          [
           "Gaia DR3 5481000082179442432",
           "MS"
          ],
          [
           "Gaia DR3 5484327857198943232",
           "MS"
          ],
          [
           "Gaia DR3 5487637108025656192",
           "MS"
          ],
          [
           "Gaia DR3 5490500584197980800",
           "MS"
          ],
          [
           "Gaia DR3 5491104349224057984",
           "MS"
          ],
          [
           "Gaia DR3 5491686854165100928",
           "MS"
          ],
          [
           "Gaia DR3 5492030966945417216",
           "MS"
          ],
          [
           "Gaia DR3 5493953188149197568",
           "MS"
          ],
          [
           "Gaia DR3 5494679793533842560",
           "MS"
          ],
          [
           "Gaia DR3 5498542206084438144",
           "MS"
          ],
          [
           "Gaia DR3 5500831148780688000",
           "MS"
          ],
          [
           "Gaia DR3 5502025733798966400",
           "MS"
          ],
          [
           "Gaia DR3 5510748743659698944",
           "MS"
          ],
          [
           "Gaia DR3 5511937418808704640",
           "MS"
          ],
          [
           "Gaia DR3 5517670478598751744",
           "MS"
          ],
          [
           "Gaia DR3 5517969270884519296",
           "MS"
          ],
          [
           "Gaia DR3 5519153273110551552",
           "MS"
          ],
          [
           "Gaia DR3 5520139844280896512",
           "MS"
          ],
          [
           "Gaia DR3 5520673588453646080",
           "MS"
          ],
          [
           "Gaia DR3 5520963069251343872",
           "MS"
          ],
          [
           "Gaia DR3 5522317152181414144",
           "MS"
          ],
          [
           "Gaia DR3 5523045303752557184",
           "MS"
          ],
          [
           "Gaia DR3 5523561142200458752",
           "MS"
          ],
          [
           "Gaia DR3 5526270240077177216",
           "MS"
          ],
          [
           "Gaia DR3 5527077075452669440",
           "MS"
          ],
          [
           "Gaia DR3 5532748390791335808",
           "MS"
          ],
          [
           "Gaia DR3 5535534656332393472",
           "MS"
          ],
          [
           "Gaia DR3 5535958655503490304",
           "MS"
          ],
          [
           "Gaia DR3 5538350024574737408",
           "MS"
          ],
          [
           "Gaia DR3 5540535956775983488",
           "MS"
          ],
          [
           "Gaia DR3 5541715767108021632",
           "MS"
          ],
          [
           "Gaia DR3 5546723905142724096",
           "MS"
          ],
          [
           "Gaia DR3 5546836295844467456",
           "MS"
          ],
          [
           "Gaia DR3 5547038365463031296",
           "MS"
          ],
          [
           "Gaia DR3 5547100659671587328",
           "MS"
          ],
          [
           "Gaia DR3 5548332078333133312",
           "MS"
          ],
          [
           "Gaia DR3 5548810022279673088",
           "MS"
          ],
          [
           "Gaia DR3 5549119122486463744",
           "MS"
          ],
          [
           "Gaia DR3 5550210112898557440",
           "MS"
          ],
          [
           "Gaia DR3 5550653490962830976",
           "MS"
          ],
          [
           "Gaia DR3 5550772577519454464",
           "MS"
          ],
          [
           "Gaia DR3 5550993819875234688",
           "MS"
          ],
          [
           "Gaia DR3 5551971358728457728",
           "MS"
          ],
          [
           "Gaia DR3 5555592973934225536",
           "MS"
          ],
          [
           "Gaia DR3 5555698909304748928",
           "MS"
          ],
          [
           "Gaia DR3 5558043617852387840",
           "MS"
          ],
          [
           "Gaia DR3 5560032496948654336",
           "MS"
          ],
          [
           "Gaia DR3 5562744785975793280",
           "MS"
          ],
          [
           "Gaia DR3 5564757579449162752",
           "MS"
          ],
          [
           "Gaia DR3 5574396551211606528",
           "MS"
          ],
          [
           "Gaia DR3 5577189482546277760",
           "MS"
          ],
          [
           "Gaia DR3 5578132893586454656",
           "MS"
          ],
          [
           "Gaia DR3 5580667169105160192",
           "MS"
          ],
          [
           "Gaia DR3 5581718027342946688",
           "MS"
          ],
          [
           "Gaia DR3 5582033445443614080",
           "MS"
          ],
          [
           "Gaia DR3 5583029401118274176",
           "MS"
          ],
          [
           "Gaia DR3 5583655607350948224",
           "MS"
          ],
          [
           "Gaia DR3 5588026921990187136",
           "MS"
          ],
          [
           "Gaia DR3 5588374642543584512",
           "MS"
          ],
          [
           "Gaia DR3 5590962927271507712",
           "MS"
          ],
          [
           "Gaia DR3 5591892839235890816",
           "MS"
          ],
          [
           "Gaia DR3 5592667788771712896",
           "MS"
          ],
          [
           "Gaia DR3 5593448716911932416",
           "MS"
          ],
          [
           "Gaia DR3 5594639487997294464",
           "MS"
          ],
          [
           "Gaia DR3 5596882869682824576",
           "MS"
          ],
          [
           "Gaia DR3 5597222687494214400",
           "MS"
          ],
          [
           "Gaia DR3 5597528351730625408",
           "MS"
          ],
          [
           "Gaia DR3 5597695855451821952",
           "MS"
          ],
          [
           "Gaia DR3 5600043828171716992",
           "MS"
          ],
          [
           "Gaia DR3 5600604235504962048",
           "MS"
          ],
          [
           "Gaia DR3 5603419943036008064",
           "MS"
          ],
          [
           "Gaia DR3 5603467501216786816",
           "MS"
          ],
          [
           "Gaia DR3 5604395935706347264",
           "MS"
          ],
          [
           "Gaia DR3 5605796163771546880",
           "MS"
          ],
          [
           "Gaia DR3 5605805750138357760",
           "MS"
          ],
          [
           "Gaia DR3 5608254942340292352",
           "MS"
          ],
          [
           "Gaia DR3 5608546347283308160",
           "MS"
          ],
          [
           "Gaia DR3 5608791989350934656",
           "MS"
          ],
          [
           "Gaia DR3 5610743828649418624",
           "MS"
          ],
          [
           "Gaia DR3 5610982594474901632",
           "MS"
          ],
          [
           "Gaia DR3 5612356056297876736",
           "MS"
          ],
          [
           "Gaia DR3 5613093038328710016",
           "MS"
          ],
          [
           "Gaia DR3 5614532367772969216",
           "MS"
          ],
          [
           "Gaia DR3 5615318896539365632",
           "MS"
          ],
          [
           "Gaia DR3 5616618828518736128",
           "MS"
          ],
          [
           "Gaia DR3 5618348257236206208",
           "MS"
          ],
          [
           "Gaia DR3 5619404922263994624",
           "MS"
          ],
          [
           "Gaia DR3 5620705644518714752",
           "MS"
          ],
          [
           "Gaia DR3 5621015908651742720",
           "MS"
          ],
          [
           "Gaia DR3 5622874912240737792",
           "MS"
          ],
          [
           "Gaia DR3 5627885043128766080",
           "MS"
          ],
          [
           "Gaia DR3 5629837432180978304",
           "MS"
          ],
          [
           "Gaia DR3 5630326852295609600",
           "MS"
          ],
          [
           "Gaia DR3 5630973949247953536",
           "MS"
          ],
          [
           "Gaia DR3 5633014574105661568",
           "MS"
          ],
          [
           "Gaia DR3 5633020827578893568",
           "MS"
          ],
          [
           "Gaia DR3 5634863471628329728",
           "MS"
          ],
          [
           "Gaia DR3 5634917755716121216",
           "MS"
          ],
          [
           "Gaia DR3 5634976480807455744",
           "MS"
          ],
          [
           "Gaia DR3 5635283622509374208",
           "MS"
          ],
          [
           "Gaia DR3 5639180669681988480",
           "MS"
          ],
          [
           "Gaia DR3 5641117493772774016",
           "MS"
          ],
          [
           "Gaia DR3 5642181614869191424",
           "MS"
          ],
          [
           "Gaia DR3 5643921695102463488",
           "MS"
          ],
          [
           "Gaia DR3 5644410290585908480",
           "MS"
          ],
          [
           "Gaia DR3 5648087126177999872",
           "MS"
          ],
          [
           "Gaia DR3 5648541293198448512",
           "MS"
          ],
          [
           "Gaia DR3 5649773914452646272",
           "MS"
          ],
          [
           "Gaia DR3 5653241224370577792",
           "MS"
          ],
          [
           "Gaia DR3 5653817127944124032",
           "MS"
          ],
          [
           "Gaia DR3 5656193894125511168",
           "MS"
          ],
          [
           "Gaia DR3 5664106971935028608",
           "MS"
          ],
          [
           "Gaia DR3 5664714937442270848",
           "MS"
          ],
          [
           "Gaia DR3 5666784076590224256",
           "MS"
          ],
          [
           "Gaia DR3 5666956974793913344",
           "MS"
          ],
          [
           "Gaia DR3 5674676783372468352",
           "MS"
          ],
          [
           "Gaia DR3 5674875520098896000",
           "MS"
          ],
          [
           "Gaia DR3 5678917672735345792",
           "MS"
          ],
          [
           "Gaia DR3 5681911574178198400",
           "MS"
          ],
          [
           "Gaia DR3 5682743251645581952",
           "MS"
          ],
          [
           "Gaia DR3 5682842585649179776",
           "MS"
          ],
          [
           "Gaia DR3 5683704602765212160",
           "MS"
          ],
          [
           "Gaia DR3 5693115288437455616",
           "MS"
          ],
          [
           "Gaia DR3 5693240254808387584",
           "MS"
          ],
          [
           "Gaia DR3 5695014385537792384",
           "MS"
          ],
          [
           "Gaia DR3 5695283078688454016",
           "MS"
          ],
          [
           "Gaia DR3 5695558433329110144",
           "MS"
          ],
          [
           "Gaia DR3 5696744741954413568",
           "MS"
          ],
          [
           "Gaia DR3 5699332476933981952",
           "MS"
          ],
          [
           "Gaia DR3 5700890691069543424",
           "MS"
          ],
          [
           "Gaia DR3 5700906251730197760",
           "MS"
          ],
          [
           "Gaia DR3 5701678216267079424",
           "MS"
          ],
          [
           "Gaia DR3 5706950924278467072",
           "MS"
          ],
          [
           "Gaia DR3 5710363292973827328",
           "MS"
          ],
          [
           "Gaia DR3 5712968310903681536",
           "MS"
          ],
          [
           "Gaia DR3 5713292666834644864",
           "MS"
          ],
          [
           "Gaia DR3 5718387803716662400",
           "MS"
          ],
          [
           "Gaia DR3 5719934301181158016",
           "MS"
          ],
          [
           "Gaia DR3 5722036670487652352",
           "MS"
          ],
          [
           "Gaia DR3 5722712938857848192",
           "MS"
          ],
          [
           "Gaia DR3 5723379517782254080",
           "MS"
          ],
          [
           "Gaia DR3 5725867643880586880",
           "MS"
          ],
          [
           "Gaia DR3 5726457531864727040",
           "MS"
          ],
          [
           "Gaia DR3 5728330171967104896",
           "MS"
          ],
          [
           "Gaia DR3 5734027909939057792",
           "MS"
          ],
          [
           "Gaia DR3 5734099030301533184",
           "MS"
          ],
          [
           "Gaia DR3 5734642395204909696",
           "MS"
          ],
          [
           "Gaia DR3 5736366571171028992",
           "MS"
          ],
          [
           "Gaia DR3 5737084483544543104",
           "MS"
          ],
          [
           "Gaia DR3 5739985579333845248",
           "MS"
          ],
          [
           "Gaia DR3 5743508311510332800",
           "MS"
          ],
          [
           "Gaia DR3 5744310130364616576",
           "MS"
          ],
          [
           "Gaia DR3 5747220090967355776",
           "MS"
          ],
          [
           "Gaia DR3 5747248746989126272",
           "MS"
          ],
          [
           "Gaia DR3 5747657249918491008",
           "MS"
          ],
          [
           "Gaia DR3 5749312976990702848",
           "MS"
          ],
          [
           "Gaia DR3 5750994886183841792",
           "MS"
          ],
          [
           "Gaia DR3 5751492518275403392",
           "MS"
          ],
          [
           "Gaia DR3 5755783843438274944",
           "MS"
          ],
          [
           "Gaia DR3 5756819205434479232",
           "MS"
          ],
          [
           "Gaia DR3 5760633956731841920",
           "MS"
          ],
          [
           "Gaia DR3 5762513674937876224",
           "MS"
          ],
          [
           "Gaia DR3 5763779006662989056",
           "MS"
          ],
          [
           "Gaia DR3 5765512940798058240",
           "MS"
          ],
          [
           "Gaia DR3 5766304486090402944",
           "MS"
          ],
          [
           "Gaia DR3 5767427224901401600",
           "MS"
          ],
          [
           "Gaia DR3 5769515781598841088",
           "MS"
          ],
          [
           "Gaia DR3 5774275636154586880",
           "MS"
          ],
          [
           "Gaia DR3 5775396691339258112",
           "MS"
          ],
          [
           "Gaia DR3 5776411471851713664",
           "MS"
          ],
          [
           "Gaia DR3 5777729133458952576",
           "MS"
          ],
          [
           "Gaia DR3 5779033257329504896",
           "MS"
          ],
          [
           "Gaia DR3 5779453408210954240",
           "MS"
          ],
          [
           "Gaia DR3 5780641155646533504",
           "MS"
          ],
          [
           "Gaia DR3 5780839170818954880",
           "MS"
          ],
          [
           "Gaia DR3 5780917407944157696",
           "MS"
          ],
          [
           "Gaia DR3 5781929405319378048",
           "MS"
          ],
          [
           "Gaia DR3 5782557260820510080",
           "MS"
          ],
          [
           "Gaia DR3 5782949958264238848",
           "MS"
          ],
          [
           "Gaia DR3 5784537957996522624",
           "MS"
          ],
          [
           "Gaia DR3 5785273501213820672",
           "MS"
          ],
          [
           "Gaia DR3 5785705678004050304",
           "MS"
          ],
          [
           "Gaia DR3 5786880884135546496",
           "MS"
          ],
          [
           "Gaia DR3 5786973689789416192",
           "MS"
          ],
          [
           "Gaia DR3 5787948887883220864",
           "MS"
          ],
          [
           "Gaia DR3 5789750712563952896",
           "MS"
          ],
          [
           "Gaia DR3 5790161689395101696",
           "MS"
          ],
          [
           "Gaia DR3 5791326175292512000",
           "MS"
          ],
          [
           "Gaia DR3 5791658227797957120",
           "MS"
          ],
          [
           "Gaia DR3 5793436928379520640",
           "MS"
          ],
          [
           "Gaia DR3 5794351584612727552",
           "MS"
          ],
          [
           "Gaia DR3 5794772113451129344",
           "MS"
          ],
          [
           "Gaia DR3 5795606707192913536",
           "MS"
          ],
          [
           "Gaia DR3 5796257416221546880",
           "MS"
          ],
          [
           "Gaia DR3 5797350571301129216",
           "MS"
          ],
          [
           "Gaia DR3 5797855144058611072",
           "MS"
          ],
          [
           "Gaia DR3 5799639891956937216",
           "MS"
          ],
          [
           "Gaia DR3 5801542150135201408",
           "MS"
          ],
          [
           "Gaia DR3 5802368467484121600",
           "MS"
          ],
          [
           "Gaia DR3 5802791538943531008",
           "MS"
          ],
          [
           "Gaia DR3 5802892006817445632",
           "MS"
          ],
          [
           "Gaia DR3 5803473442308979584",
           "MS"
          ],
          [
           "Gaia DR3 5805281829700529280",
           "MS"
          ],
          [
           "Gaia DR3 5805374085599273344",
           "MS"
          ],
          [
           "Gaia DR3 5808438493230860160",
           "MS"
          ],
          [
           "Gaia DR3 5808652623120555008",
           "MS"
          ],
          [
           "Gaia DR3 5808800404354336512",
           "MS"
          ],
          [
           "Gaia DR3 5808981342738732672",
           "MS"
          ],
          [
           "Gaia DR3 5810398888098085120",
           "MS"
          ],
          [
           "Gaia DR3 5810535772995677312",
           "MS"
          ],
          [
           "Gaia DR3 5811066978851847424",
           "MS"
          ],
          [
           "Gaia DR3 5811118312301762048",
           "MS"
          ],
          [
           "Gaia DR3 5812710473856662144",
           "MS"
          ],
          [
           "Gaia DR3 5812956695741817728",
           "MS"
          ],
          [
           "Gaia DR3 5814506904064163584",
           "MS"
          ],
          [
           "Gaia DR3 5815056110123768192",
           "MS"
          ],
          [
           "Gaia DR3 5815624007882845056",
           "MS"
          ],
          [
           "Gaia DR3 5815833774090600192",
           "MS"
          ],
          [
           "Gaia DR3 5816077418992853760",
           "MS"
          ],
          [
           "Gaia DR3 5816647481405228160",
           "MS"
          ],
          [
           "Gaia DR3 5818241601465947264",
           "MS"
          ],
          [
           "Gaia DR3 5818630210112864256",
           "MS"
          ],
          [
           "Gaia DR3 5818773833812247552",
           "MS"
          ],
          [
           "Gaia DR3 5818986520593632128",
           "MS"
          ],
          [
           "Gaia DR3 5819088259780222976",
           "MS"
          ],
          [
           "Gaia DR3 5820250993333201792",
           "MS"
          ],
          [
           "Gaia DR3 5820382041374661888",
           "MS"
          ],
          [
           "Gaia DR3 5820548720466577664",
           "MS"
          ],
          [
           "Gaia DR3 5821010854634239744",
           "MS"
          ],
          [
           "Gaia DR3 5821642940693593088",
           "MS"
          ],
          [
           "Gaia DR3 5822009524749320448",
           "MS"
          ],
          [
           "Gaia DR3 5822535709788715776",
           "MS"
          ],
          [
           "Gaia DR3 5822549350605649920",
           "MS"
          ],
          [
           "Gaia DR3 5823903605331625856",
           "MS"
          ],
          [
           "Gaia DR3 5827290788360167168",
           "MS"
          ],
          [
           "Gaia DR3 5827798419108258432",
           "MS"
          ],
          [
           "Gaia DR3 5834780180560247168",
           "MS"
          ],
          [
           "Gaia DR3 5837297340559218176",
           "MS"
          ],
          [
           "Gaia DR3 5837680073687853824",
           "MS"
          ],
          [
           "Gaia DR3 5837985978437669248",
           "MS"
          ],
          [
           "Gaia DR3 5838363454523723264",
           "MS"
          ],
          [
           "Gaia DR3 5839342878867619840",
           "MS"
          ],
          [
           "Gaia DR3 5839685308022836096",
           "MS"
          ],
          [
           "Gaia DR3 5843662482110102656",
           "MS"
          ],
          [
           "Gaia DR3 5845489733011037312",
           "MS"
          ],
          [
           "Gaia DR3 5849841290826020736",
           "MS"
          ],
          [
           "Gaia DR3 5851640469795065600",
           "MS"
          ],
          [
           "Gaia DR3 5851667407832653440",
           "MS"
          ],
          [
           "Gaia DR3 5852193214941366272",
           "MS"
          ],
          [
           "Gaia DR3 5852456719744495232",
           "MS"
          ],
          [
           "Gaia DR3 5853965490207246080",
           "MS"
          ],
          [
           "Gaia DR3 5854424222727142528",
           "MS"
          ],
          [
           "Gaia DR3 5856320571045840512",
           "MS"
          ],
          [
           "Gaia DR3 5856942173075423360",
           "MS"
          ],
          [
           "Gaia DR3 5857241416371848448",
           "MS"
          ],
          [
           "Gaia DR3 5858186343550781056",
           "MS"
          ],
          [
           "Gaia DR3 5859747959289618816",
           "MS"
          ],
          [
           "Gaia DR3 5864438510266844800",
           "MS"
          ],
          [
           "Gaia DR3 5865342446260566400",
           "MS"
          ],
          [
           "Gaia DR3 5869738637349332352",
           "MS"
          ],
          [
           "Gaia DR3 5870227954397720576",
           "MS"
          ],
          [
           "Gaia DR3 5870326669906840576",
           "MS"
          ],
          [
           "Gaia DR3 5873209348873220096",
           "MS"
          ],
          [
           "Gaia DR3 5874328960960829312",
           "MS"
          ],
          [
           "Gaia DR3 5874592706315569408",
           "MS"
          ],
          [
           "Gaia DR3 5874872630747655552",
           "MS"
          ],
          [
           "Gaia DR3 5875467299108483968",
           "MS"
          ],
          [
           "Gaia DR3 5881709565845191296",
           "MS"
          ],
          [
           "Gaia DR3 5889472912567746560",
           "MS"
          ],
          [
           "Gaia DR3 5890631694717361408",
           "MS"
          ],
          [
           "Gaia DR3 5897649121508092544",
           "MS"
          ],
          [
           "Gaia DR3 5897673963599894016",
           "MS"
          ],
          [
           "Gaia DR3 5904344906802032000",
           "MS"
          ],
          [
           "Gaia DR3 5907277235586053248",
           "MS"
          ],
          [
           "Gaia DR3 5909770756154575104",
           "MS"
          ],
          [
           "Gaia DR3 5909945200545895808",
           "MS"
          ],
          [
           "Gaia DR3 5910551611268510848",
           "MS"
          ],
          [
           "Gaia DR3 5910605972675866496",
           "MS"
          ],
          [
           "Gaia DR3 5910701939423723392",
           "MS"
          ],
          [
           "Gaia DR3 5912930649499702784",
           "MS"
          ],
          [
           "Gaia DR3 5913083820909384576",
           "MS"
          ],
          [
           "Gaia DR3 5914798238722782720",
           "MS"
          ],
          [
           "Gaia DR3 5915140560483385984",
           "MS"
          ],
          [
           "Gaia DR3 5915156301557499264",
           "MS"
          ],
          [
           "Gaia DR3 5915181315448145280",
           "MS"
          ],
          [
           "Gaia DR3 5917258292921121792",
           "MS"
          ],
          [
           "Gaia DR3 5918202532868338560",
           "MS"
          ],
          [
           "Gaia DR3 5919545685103677184",
           "MS"
          ],
          [
           "Gaia DR3 5924009534833824128",
           "MS"
          ],
          [
           "Gaia DR3 5931498372926810368",
           "MS"
          ],
          [
           "Gaia DR3 5933411218257207424",
           "MS"
          ],
          [
           "Gaia DR3 5938730445019006592",
           "MS"
          ],
          [
           "Gaia DR3 5941200223013836416",
           "MS"
          ],
          [
           "Gaia DR3 5949129699048627072",
           "MS"
          ],
          [
           "Gaia DR3 5952587422643860736",
           "MS"
          ],
          [
           "Gaia DR3 5953753248523191424",
           "MS"
          ],
          [
           "Gaia DR3 5953913841603513984",
           "MS"
          ],
          [
           "Gaia DR3 5960197035162007296",
           "MS"
          ],
          [
           "Gaia DR3 5967239033485784320",
           "MS"
          ],
          [
           "Gaia DR3 5969839442902506624",
           "MS"
          ],
          [
           "Gaia DR3 5976802856198782976",
           "MS"
          ],
          [
           "Gaia DR3 5979878155858301440",
           "MS"
          ],
          [
           "Gaia DR3 5980266528374506752",
           "MS"
          ],
          [
           "Gaia DR3 5986895827509695872",
           "MS"
          ],
          [
           "Gaia DR3 5988645906432931072",
           "MS"
          ],
          [
           "Gaia DR3 5992613081828524288",
           "MS"
          ],
          [
           "Gaia DR3 5994801281743859456",
           "MS"
          ],
          [
           "Gaia DR3 5998337036260617728",
           "MS"
          ],
          [
           "Gaia DR3 5999300586404644096",
           "MS"
          ],
          [
           "Gaia DR3 6000130820762740608",
           "MS"
          ],
          [
           "Gaia DR3 6000615808469189632",
           "MS"
          ],
          [
           "Gaia DR3 6002781674574739584",
           "MS"
          ],
          [
           "Gaia DR3 6004316283557635328",
           "MS"
          ],
          [
           "Gaia DR3 6004693549181596544",
           "MS"
          ],
          [
           "Gaia DR3 6005212626051866368",
           "MS"
          ],
          [
           "Gaia DR3 6005451872909592192",
           "MS"
          ],
          [
           "Gaia DR3 6005844776519053056",
           "MS"
          ],
          [
           "Gaia DR3 6008871525879079552",
           "MS"
          ],
          [
           "Gaia DR3 6011264819091967488",
           "MS"
          ],
          [
           "Gaia DR3 6018012487600483200",
           "MS"
          ],
          [
           "Gaia DR3 6019519363975648640",
           "MS"
          ],
          [
           "Gaia DR3 6027901735719641856",
           "MS"
          ],
          [
           "Gaia DR3 6032254152481010432",
           "MS"
          ],
          [
           "Gaia DR3 6035189058246882304",
           "MS"
          ],
          [
           "Gaia DR3 6035850208330022528",
           "MS"
          ],
          [
           "Gaia DR3 6040305326362230400",
           "MS"
          ],
          [
           "Gaia DR3 6040454619422757248",
           "MS"
          ],
          [
           "Gaia DR3 6044214639951327232",
           "MS"
          ],
          [
           "Gaia DR3 6049713057080603264",
           "MS"
          ],
          [
           "Gaia DR3 6053747543236684544",
           "MS"
          ],
          [
           "Gaia DR3 6055915986334732288",
           "MS"
          ],
          [
           "Gaia DR3 6056375788345604992",
           "MS"
          ],
          [
           "Gaia DR3 6058473484730563968",
           "MS"
          ],
          [
           "Gaia DR3 6060006856770923520",
           "MS"
          ],
          [
           "Gaia DR3 6064015676146793088",
           "MS"
          ],
          [
           "Gaia DR3 6066491089149670656",
           "MS"
          ],
          [
           "Gaia DR3 6071449714796392448",
           "MS"
          ],
          [
           "Gaia DR3 6074348714629919488",
           "MS"
          ],
          [
           "Gaia DR3 6075370435811668736",
           "MS"
          ],
          [
           "Gaia DR3 6075644179845013760",
           "MS"
          ],
          [
           "Gaia DR3 6076084809126349568",
           "MS"
          ],
          [
           "Gaia DR3 6078342003411258752",
           "MS"
          ],
          [
           "Gaia DR3 6078544932026440960",
           "MS"
          ],
          [
           "Gaia DR3 6081919436288801024",
           "MS"
          ],
          [
           "Gaia DR3 6087210389318578176",
           "MS"
          ],
          [
           "Gaia DR3 6088527157573723008",
           "MS"
          ],
          [
           "Gaia DR3 6091100873778091392",
           "MS"
          ],
          [
           "Gaia DR3 6092937367434945024",
           "MS"
          ],
          [
           "Gaia DR3 6100070036799279104",
           "MS"
          ],
          [
           "Gaia DR3 6100776125121685888",
           "MS"
          ],
          [
           "Gaia DR3 6108842902638453888",
           "MS"
          ],
          [
           "Gaia DR3 6108928183508998144",
           "MS"
          ],
          [
           "Gaia DR3 6111826805398353408",
           "MS"
          ],
          [
           "Gaia DR3 6112729435724905344",
           "MS"
          ],
          [
           "Gaia DR3 6113256239229397888",
           "MS"
          ],
          [
           "Gaia DR3 6119752016486727808",
           "MS"
          ],
          [
           "Gaia DR3 6121226770816770944",
           "MS"
          ],
          [
           "Gaia DR3 6123915351624055808",
           "MS"
          ],
          [
           "Gaia DR3 6125143162529439360",
           "MS"
          ],
          [
           "Gaia DR3 6127019376034047360",
           "MS"
          ],
          [
           "Gaia DR3 6131728893575250176",
           "MS"
          ],
          [
           "Gaia DR3 6135505097535537920",
           "MS"
          ],
          [
           "Gaia DR3 6135906969035562368",
           "MS"
          ],
          [
           "Gaia DR3 6137010122795046144",
           "MS"
          ],
          [
           "Gaia DR3 6138145402909728768",
           "MS"
          ],
          [
           "Gaia DR3 6138776488224962176",
           "MS"
          ],
          [
           "Gaia DR3 6139691350618204032",
           "MS"
          ],
          [
           "Gaia DR3 6140530793386059264",
           "MS"
          ],
          [
           "Gaia DR3 6141232350524222336",
           "MS"
          ],
          [
           "Gaia DR3 6142040800808233088",
           "MS"
          ],
          [
           "Gaia DR3 6142779157225722880",
           "MS"
          ],
          [
           "Gaia DR3 6145650325683810816",
           "MS"
          ],
          [
           "Gaia DR3 6146054533645884160",
           "MS"
          ],
          [
           "Gaia DR3 6146143181770774912",
           "MS"
          ],
          [
           "Gaia DR3 6149209066866224512",
           "MS"
          ],
          [
           "Gaia DR3 6154740297547603328",
           "MS"
          ],
          [
           "Gaia DR3 6155432023504330112",
           "MS"
          ],
          [
           "Gaia DR3 6156615926945555840",
           "MS"
          ],
          [
           "Gaia DR3 6159048115385383680",
           "MS"
          ],
          [
           "Gaia DR3 6160785000159663360",
           "MS"
          ],
          [
           "Gaia DR3 6162068263374429184",
           "MS"
          ],
          [
           "Gaia DR3 6164066733131853312",
           "MS"
          ],
          [
           "Gaia DR3 6165382230074531968",
           "MS"
          ],
          [
           "Gaia DR3 6166034240470033024",
           "MS"
          ],
          [
           "Gaia DR3 6169594184243050752",
           "MS"
          ],
          [
           "Gaia DR3 6169863324073048448",
           "MS"
          ],
          [
           "Gaia DR3 6175018899736168576",
           "MS"
          ],
          [
           "Gaia DR3 6176571341434760448",
           "MS"
          ],
          [
           "Gaia DR3 6180113899180457216",
           "MS"
          ],
          [
           "Gaia DR3 6181668466886465280",
           "MS"
          ],
          [
           "Gaia DR3 6192268549252191872",
           "MS"
          ],
          [
           "Gaia DR3 6192821814055372800",
           "MS"
          ],
          [
           "Gaia DR3 6194898860239820160",
           "MS"
          ],
          [
           "Gaia DR3 6199317969276935936",
           "MS"
          ],
          [
           "Gaia DR3 6201410065022542976",
           "MS"
          ],
          [
           "Gaia DR3 6204084042944428032",
           "MS"
          ],
          [
           "Gaia DR3 6205572369370664064",
           "MS"
          ],
          [
           "Gaia DR3 6227957532761532416",
           "MS"
          ],
          [
           "Gaia DR3 6234920877336151040",
           "MS"
          ],
          [
           "Gaia DR3 6246901843229041280",
           "MS"
          ],
          [
           "Gaia DR3 6251405099259306752",
           "MS"
          ],
          [
           "Gaia DR3 6255410757558213760",
           "MS"
          ],
          [
           "Gaia DR3 6256038471317017728",
           "MS"
          ],
          [
           "Gaia DR3 6256637984328204416",
           "MS"
          ],
          [
           "Gaia DR3 6259070138408794112",
           "MS"
          ],
          [
           "Gaia DR3 6263056246024382592",
           "MS"
          ],
          [
           "Gaia DR3 6263108026147240832",
           "MS"
          ],
          [
           "Gaia DR3 6263491583906921984",
           "MS"
          ],
          [
           "Gaia DR3 6263885999343632128",
           "MS"
          ],
          [
           "Gaia DR3 6271052032012360704",
           "MS"
          ],
          [
           "Gaia DR3 6273146429864511488",
           "MS"
          ],
          [
           "Gaia DR3 6276650676500243072",
           "MS"
          ],
          [
           "Gaia DR3 6280132761107034112",
           "MS"
          ],
          [
           "Gaia DR3 6293584044626425728",
           "MS"
          ],
          [
           "Gaia DR3 6297473021549590784",
           "MS"
          ],
          [
           "Gaia DR3 6298526800365669632",
           "MS"
          ],
          [
           "Gaia DR3 6300835156308377344",
           "MS"
          ],
          [
           "Gaia DR3 6306663117691837440",
           "MS"
          ],
          [
           "Gaia DR3 6307572173290160256",
           "MS"
          ],
          [
           "Gaia DR3 6338526140031035392",
           "MS"
          ],
          [
           "Gaia DR3 6342040174897233792",
           "MS"
          ],
          [
           "Gaia DR3 6342760118792079232",
           "MS"
          ],
          [
           "Gaia DR3 6344197627166228096",
           "MS"
          ],
          [
           "Gaia DR3 6345215740573418240",
           "MS"
          ],
          [
           "Gaia DR3 6345831226567781120",
           "MS"
          ],
          [
           "Gaia DR3 6345844833024140160",
           "MS"
          ],
          [
           "Gaia DR3 6346103286976026624",
           "MS"
          ],
          [
           "Gaia DR3 6346991864169638016",
           "MS"
          ],
          [
           "Gaia DR3 6353009560027648768",
           "MS"
          ],
          [
           "Gaia DR3 6356723229269981952",
           "MS"
          ],
          [
           "Gaia DR3 6358543780007054080",
           "MS"
          ],
          [
           "Gaia DR3 6359617006436105472",
           "MS"
          ],
          [
           "Gaia DR3 6359659612510866816",
           "MS"
          ],
          [
           "Gaia DR3 6360402603196666624",
           "MS"
          ],
          [
           "Gaia DR3 6362403168900156800",
           "MS"
          ],
          [
           "Gaia DR3 6363014497365641728",
           "MS"
          ],
          [
           "Gaia DR3 6363206632725892096",
           "MS"
          ],
          [
           "Gaia DR3 6365177030580000384",
           "MS"
          ],
          [
           "Gaia DR3 6367724938320782208",
           "MS"
          ],
          [
           "Gaia DR3 6368493260727414272",
           "MS"
          ],
          [
           "Gaia DR3 6369616961611463552",
           "MS"
          ],
          [
           "Gaia DR3 6370472862693635968",
           "MS"
          ],
          [
           "Gaia DR3 6370883736445166464",
           "MS"
          ],
          [
           "Gaia DR3 6373414537334619008",
           "MS"
          ],
          [
           "Gaia DR3 6374173475235956224",
           "MS"
          ],
          [
           "Gaia DR3 6374826653862530432",
           "MS"
          ],
          [
           "Gaia DR3 6375152899577512064",
           "MS"
          ],
          [
           "Gaia DR3 6375200384735940224",
           "MS"
          ],
          [
           "Gaia DR3 6375425028705433216",
           "MS"
          ],
          [
           "Gaia DR3 6376352020087444736",
           "MS"
          ],
          [
           "Gaia DR3 6376837729348720384",
           "MS"
          ],
          [
           "Gaia DR3 6378805580283585408",
           "MS"
          ],
          [
           "Gaia DR3 6378866293941396352",
           "MS"
          ],
          [
           "Gaia DR3 6380360186645909760",
           "MS"
          ],
          [
           "Gaia DR3 6380426672739801856",
           "MS"
          ],
          [
           "Gaia DR3 6380717184327856768",
           "MS"
          ],
          [
           "Gaia DR3 6383785234086354688",
           "MS"
          ],
          [
           "Gaia DR3 6384552658842400000",
           "MS"
          ],
          [
           "Gaia DR3 6387446642166201344",
           "MS"
          ],
          [
           "Gaia DR3 6388192695165366528",
           "MS"
          ],
          [
           "Gaia DR3 6389025987540171776",
           "MS"
          ],
          [
           "Gaia DR3 6390038569030026240",
           "MS"
          ],
          [
           "Gaia DR3 6395401677513062784",
           "MS"
          ],
          [
           "Gaia DR3 6396062277843095296",
           "MS"
          ],
          [
           "Gaia DR3 6396191848416258560",
           "MS"
          ],
          [
           "Gaia DR3 6396878115470803584",
           "MS"
          ],
          [
           "Gaia DR3 6397946737693209600",
           "MS"
          ],
          [
           "Gaia DR3 6398579369196480768",
           "MS"
          ],
          [
           "Gaia DR3 6398730483325882880",
           "MS"
          ],
          [
           "Gaia DR3 6398737183474834432",
           "MS"
          ],
          [
           "Gaia DR3 6398776387936159232",
           "MS"
          ],
          [
           "Gaia DR3 6398931419075825024",
           "MS"
          ],
          [
           "Gaia DR3 6400424865103976704",
           "MS"
          ],
          [
           "Gaia DR3 6401995105147577216",
           "MS"
          ],
          [
           "Gaia DR3 6402565030127956736",
           "MS"
          ],
          [
           "Gaia DR3 6402712399045698560",
           "MS"
          ],
          [
           "Gaia DR3 6403671448064318592",
           "MS"
          ],
          [
           "Gaia DR3 6404973407268787200",
           "MS"
          ],
          [
           "Gaia DR3 6405155685680884096",
           "MS"
          ],
          [
           "Gaia DR3 6405706678445456384",
           "MS"
          ],
          [
           "Gaia DR3 6405804157023440128",
           "MS"
          ],
          [
           "Gaia DR3 6407143602703976064",
           "MS"
          ],
          [
           "Gaia DR3 6407160061018695168",
           "MS"
          ],
          [
           "Gaia DR3 6407382265446722304",
           "MS"
          ],
          [
           "Gaia DR3 6408316128775985408",
           "MS"
          ],
          [
           "Gaia DR3 6409382723774888448",
           "MS"
          ],
          [
           "Gaia DR3 6409485940428746880",
           "MS"
          ],
          [
           "Gaia DR3 6410195400305811968",
           "MS"
          ],
          [
           "Gaia DR3 6410239415130686720",
           "MS"
          ],
          [
           "Gaia DR3 6410320813350902656",
           "MS"
          ],
          [
           "Gaia DR3 6414125913858830208",
           "MS"
          ],
          [
           "Gaia DR3 6414336745213758848",
           "MS"
          ],
          [
           "Gaia DR3 6416572288572864512",
           "MS"
          ],
          [
           "Gaia DR3 6416940251309234048",
           "MS"
          ],
          [
           "Gaia DR3 6417019106909008512",
           "MS"
          ],
          [
           "Gaia DR3 6417148746201706880",
           "MS"
          ],
          [
           "Gaia DR3 6418641848632898048",
           "MS"
          ],
          [
           "Gaia DR3 6419214110075562112",
           "MS"
          ],
          [
           "Gaia DR3 6419330898826092288",
           "MS"
          ],
          [
           "Gaia DR3 6419697139278317440",
           "MS"
          ],
          [
           "Gaia DR3 6420163504006142080",
           "MS"
          ],
          [
           "Gaia DR3 6420400448762028928",
           "MS"
          ],
          [
           "Gaia DR3 6420560977460583040",
           "MS"
          ],
          [
           "Gaia DR3 6422171624554798080",
           "MS"
          ],
          [
           "Gaia DR3 6424393084719016320",
           "MS"
          ],
          [
           "Gaia DR3 6425034340516434432",
           "MS"
          ],
          [
           "Gaia DR3 6425183083823607552",
           "MS"
          ],
          [
           "Gaia DR3 6425969131558981504",
           "MS"
          ],
          [
           "Gaia DR3 6431960473500128768",
           "MS"
          ],
          [
           "Gaia DR3 6432343962540975616",
           "MS"
          ],
          [
           "Gaia DR3 6432540637683626880",
           "MS"
          ],
          [
           "Gaia DR3 6433599329941940224",
           "MS"
          ],
          [
           "Gaia DR3 6434582293334289920",
           "MS"
          ],
          [
           "Gaia DR3 6438110797947606656",
           "MS"
          ],
          [
           "Gaia DR3 6438128321414241920",
           "MS"
          ],
          [
           "Gaia DR3 6438868430176820352",
           "MS"
          ],
          [
           "Gaia DR3 6439749138990704128",
           "MS"
          ],
          [
           "Gaia DR3 6439925267009745664",
           "MS"
          ],
          [
           "Gaia DR3 6441225886185109632",
           "MS"
          ],
          [
           "Gaia DR3 6441620542140488192",
           "MS"
          ],
          [
           "Gaia DR3 6443347977986544768",
           "MS"
          ],
          [
           "Gaia DR3 6444180823684832512",
           "MS"
          ],
          [
           "Gaia DR3 6446939326560401536",
           "MS"
          ],
          [
           "Gaia DR3 6448505546514450944",
           "MS"
          ],
          [
           "Gaia DR3 6450782394577541888",
           "MS"
          ],
          [
           "Gaia DR3 6451749483772943360",
           "MS"
          ],
          [
           "Gaia DR3 6452947573490641152",
           "MS"
          ],
          [
           "Gaia DR3 6454049833898308096",
           "MS"
          ],
          [
           "Gaia DR3 6456174914995922432",
           "MS"
          ],
          [
           "Gaia DR3 6457874622533668224",
           "MS"
          ],
          [
           "Gaia DR3 6458838138316614784",
           "MS"
          ],
          [
           "Gaia DR3 6459487262493475456",
           "MS"
          ],
          [
           "Gaia DR3 6459766504087393792",
           "MS"
          ],
          [
           "Gaia DR3 6460663327618308992",
           "MS"
          ],
          [
           "Gaia DR3 6462993089678963584",
           "MS"
          ],
          [
           "Gaia DR3 6464514813771614848",
           "MS"
          ],
          [
           "Gaia DR3 6465030141127643392",
           "MS"
          ],
          [
           "Gaia DR3 6466795338326632832",
           "MS"
          ],
          [
           "Gaia DR3 6473542250912622848",
           "MS"
          ],
          [
           "Gaia DR3 6479352207792265600",
           "MS"
          ],
          [
           "Gaia DR3 6479708827516783744",
           "MS"
          ],
          [
           "Gaia DR3 6479954052969723008",
           "MS"
          ],
          [
           "Gaia DR3 6481502062263141504",
           "MS"
          ],
          [
           "Gaia DR3 6482159398416510848",
           "MS"
          ],
          [
           "Gaia DR3 6484345158814770432",
           "MS"
          ],
          [
           "Gaia DR3 6485122994571077504",
           "MS"
          ],
          [
           "Gaia DR3 6486722680909517696",
           "MS"
          ],
          [
           "Gaia DR3 6487375653377526016",
           "MS"
          ],
          [
           "Gaia DR3 6491730956374201600",
           "MS"
          ],
          [
           "Gaia DR3 6493825044988907648",
           "MS"
          ],
          [
           "Gaia DR3 6494775160472760448",
           "MS"
          ],
          [
           "Gaia DR3 6495774891421805952",
           "MS"
          ],
          [
           "Gaia DR3 6496911717725300736",
           "MS"
          ],
          [
           "Gaia DR3 6499714819541443200",
           "MS"
          ],
          [
           "Gaia DR3 6499785153925944192",
           "MS"
          ],
          [
           "Gaia DR3 6503021428963059712",
           "MS"
          ],
          [
           "Gaia DR3 6503476970374514688",
           "MS"
          ],
          [
           "Gaia DR3 6503789162957176832",
           "MS"
          ],
          [
           "Gaia DR3 6506701425661591808",
           "MS"
          ],
          [
           "Gaia DR3 6507961397267435648",
           "MS"
          ],
          [
           "Gaia DR3 6510447839734571904",
           "MS"
          ],
          [
           "Gaia DR3 6511135584257748608",
           "MS"
          ],
          [
           "Gaia DR3 6513008911553537024",
           "MS"
          ],
          [
           "Gaia DR3 6513171570554919936",
           "MS"
          ],
          [
           "Gaia DR3 6515856303071680640",
           "MS"
          ],
          [
           "Gaia DR3 6516823357908929408",
           "MS"
          ],
          [
           "Gaia DR3 6518524542914283008",
           "MS"
          ],
          [
           "Gaia DR3 6522068475051150336",
           "MS"
          ],
          [
           "Gaia DR3 6522906646508612736",
           "MS"
          ],
          [
           "Gaia DR3 6526409175158605824",
           "MS"
          ],
          [
           "Gaia DR3 6530522168982610176",
           "MS"
          ],
          [
           "Gaia DR3 6537673225106728704",
           "MS"
          ],
          [
           "Gaia DR3 6539367675607599744",
           "MS"
          ],
          [
           "Gaia DR3 6539769237868161920",
           "MS"
          ],
          [
           "Gaia DR3 6539776075456099456",
           "MS"
          ],
          [
           "Gaia DR3 6541758769796749952",
           "MS"
          ],
          [
           "Gaia DR3 6542671158289237248",
           "MS"
          ],
          [
           "Gaia DR3 6550647771551326208",
           "MS"
          ],
          [
           "Gaia DR3 6553961665237915008",
           "MS"
          ],
          [
           "Gaia DR3 6556109183245558272",
           "MS"
          ],
          [
           "Gaia DR3 6557692514350188288",
           "MS"
          ],
          [
           "Gaia DR3 6563148840803695104",
           "MS"
          ],
          [
           "Gaia DR3 6563444746869997056",
           "MS"
          ],
          [
           "Gaia DR3 6565536670821170048",
           "MS"
          ],
          [
           "Gaia DR3 6568063967017197696",
           "MS"
          ],
          [
           "Gaia DR3 6568097811359624064",
           "MS"
          ],
          [
           "Gaia DR3 6573870075606844160",
           "MS"
          ],
          [
           "Gaia DR3 6577831581641639296",
           "MS"
          ],
          [
           "Gaia DR3 6578403843084307328",
           "MS"
          ],
          [
           "Gaia DR3 6579993663881883008",
           "MS"
          ],
          [
           "Gaia DR3 6580487898655348992",
           "MS"
          ],
          [
           "Gaia DR3 6583404009651778688",
           "MS"
          ],
          [
           "Gaia DR3 6584127419582232960",
           "MS"
          ],
          [
           "Gaia DR3 6585603170345318656",
           "MS"
          ],
          [
           "Gaia DR3 6589237709111184768",
           "MS"
          ],
          [
           "Gaia DR3 6591063619966360832",
           "MS"
          ],
          [
           "Gaia DR3 6593522402843124992",
           "MS"
          ],
          [
           "Gaia DR3 6596146245608594560",
           "MS"
          ],
          [
           "Gaia DR3 6597222530052793728",
           "MS"
          ],
          [
           "Gaia DR3 6599200109090518400",
           "MS"
          ],
          [
           "Gaia DR3 6601971462507662336",
           "MS"
          ],
          [
           "Gaia DR3 6603253286907097600",
           "MS"
          ],
          [
           "Gaia DR3 6604825927838184064",
           "MS"
          ],
          [
           "Gaia DR3 6607144183679947264",
           "MS"
          ],
          [
           "Gaia DR3 6612736432962283648",
           "MS"
          ],
          [
           "Gaia DR3 6614102988477012352",
           "MS"
          ],
          [
           "Gaia DR3 6615987658781503104",
           "MS"
          ],
          [
           "Gaia DR3 6617169049665950848",
           "MS"
          ],
          [
           "Gaia DR3 6617411973015979648",
           "MS"
          ],
          [
           "Gaia DR3 6622717288418556544",
           "MS"
          ],
          [
           "Gaia DR3 6622721514666358784",
           "MS"
          ],
          [
           "Gaia DR3 6623320434970898816",
           "MS"
          ],
          [
           "Gaia DR3 6628390184302436992",
           "MS"
          ],
          [
           "Gaia DR3 6628782091478194432",
           "MS"
          ],
          [
           "Gaia DR3 6629217910399728256",
           "MS"
          ],
          [
           "Gaia DR3 6632738920293491584",
           "MS"
          ],
          [
           "Gaia DR3 6632814172419114880",
           "MS"
          ],
          [
           "Gaia DR3 6634001232663512704",
           "MS"
          ],
          [
           "Gaia DR3 6635697538584821248",
           "MS"
          ],
          [
           "Gaia DR3 6635949876504325248",
           "MS"
          ],
          [
           "Gaia DR3 6637389068504460288",
           "MS"
          ],
          [
           "Gaia DR3 6637714382210485760",
           "MS"
          ],
          [
           "Gaia DR3 6643390134247177728",
           "MS"
          ],
          [
           "Gaia DR3 6644341074368230016",
           "MS"
          ],
          [
           "Gaia DR3 6644925842754057088",
           "MS"
          ],
          [
           "Gaia DR3 6645879050615381248",
           "MS"
          ],
          [
           "Gaia DR3 6647038932303477504",
           "MS"
          ],
          [
           "Gaia DR3 6648464895809423872",
           "MS"
          ],
          [
           "Gaia DR3 6649484280525523584",
           "MS"
          ],
          [
           "Gaia DR3 6649602924704482176",
           "MS"
          ],
          [
           "Gaia DR3 6655189371483697152",
           "MS"
          ],
          [
           "Gaia DR3 6656106291167863936",
           "MS"
          ],
          [
           "Gaia DR3 6656413059206469376",
           "MS"
          ],
          [
           "Gaia DR3 6658763505826972928",
           "MS"
          ],
          [
           "Gaia DR3 6661802006210853888",
           "MS"
          ],
          [
           "Gaia DR3 6662300493000416128",
           "MS"
          ],
          [
           "Gaia DR3 6662980613956397312",
           "MS"
          ],
          [
           "Gaia DR3 6663596031232250496",
           "MS"
          ],
          [
           "Gaia DR3 6665037834573601664",
           "MS"
          ],
          [
           "Gaia DR3 6667922472045186944",
           "MS"
          ],
          [
           "Gaia DR3 6668123369139821312",
           "MS"
          ],
          [
           "Gaia DR3 6668940860331185408",
           "MS"
          ],
          [
           "Gaia DR3 6668996931127150208",
           "MS"
          ],
          [
           "Gaia DR3 6669137123156399232",
           "MS"
          ],
          [
           "Gaia DR3 6670630156868109440",
           "MS"
          ],
          [
           "Gaia DR3 6672007982376842496",
           "MS"
          ],
          [
           "Gaia DR3 6672016812829462528",
           "MS"
          ],
          [
           "Gaia DR3 6673457688457765632",
           "MS"
          ],
          [
           "Gaia DR3 6676232473552313856",
           "MS"
          ],
          [
           "Gaia DR3 6676300578850276352",
           "MS"
          ],
          [
           "Gaia DR3 6676322328564707712",
           "MS"
          ],
          [
           "Gaia DR3 6677224374776635008",
           "MS"
          ],
          [
           "Gaia DR3 6678661161596816512",
           "MS"
          ],
          [
           "Gaia DR3 6678708371877080320",
           "MS"
          ],
          [
           "Gaia DR3 6678815196303919744",
           "MS"
          ],
          [
           "Gaia DR3 6678941296543090688",
           "MS"
          ],
          [
           "Gaia DR3 6684665354078064768",
           "MS"
          ],
          [
           "Gaia DR3 6685604337007194368",
           "MS"
          ],
          [
           "Gaia DR3 6689337522583502976",
           "MS"
          ],
          [
           "Gaia DR3 6691730781438862976",
           "MS"
          ],
          [
           "Gaia DR3 6694867752533886848",
           "MS"
          ],
          [
           "Gaia DR3 6701227911904704896",
           "MS"
          ],
          [
           "Gaia DR3 6704438490158474240",
           "MS"
          ],
          [
           "Gaia DR3 6704764907674279424",
           "MS"
          ],
          [
           "Gaia DR3 6711861598097880960",
           "MS"
          ],
          [
           "Gaia DR3 6712268932794583424",
           "MS"
          ],
          [
           "Gaia DR3 6721998618577349760",
           "MS"
          ],
          [
           "Gaia DR3 6725673491366393344",
           "MS"
          ],
          [
           "Gaia DR3 6731140576720399232",
           "MS"
          ],
          [
           "Gaia DR3 6732381336927719296",
           "MS"
          ],
          [
           "Gaia DR3 6734582804045852672",
           "MS"
          ],
          [
           "Gaia DR3 6737583646133041664",
           "MS"
          ],
          [
           "Gaia DR3 6747540617276111872",
           "MS"
          ],
          [
           "Gaia DR3 6757301909717308416",
           "MS"
          ],
          [
           "Gaia DR3 6765783714206065152",
           "MS"
          ],
          [
           "Gaia DR3 6766757056872549120",
           "MS"
          ],
          [
           "Gaia DR3 6767176589278255232",
           "MS"
          ],
          [
           "Gaia DR3 6773886840020986880",
           "MS"
          ],
          [
           "Gaia DR3 6777635487476703232",
           "MS"
          ],
          [
           "Gaia DR3 6779281044067974016",
           "MS"
          ],
          [
           "Gaia DR3 6780978758739887616",
           "MS"
          ],
          [
           "Gaia DR3 6784290865718720256",
           "MS"
          ],
          [
           "Gaia DR3 6784523000111321216",
           "MS"
          ],
          [
           "Gaia DR3 6788241956456634752",
           "MS"
          ],
          [
           "Gaia DR3 6789344324239269760",
           "MS"
          ],
          [
           "Gaia DR3 6793383552004685568",
           "MS"
          ],
          [
           "Gaia DR3 6794538795127221248",
           "MS"
          ],
          [
           "Gaia DR3 6794991656478629376",
           "MS"
          ],
          [
           "Gaia DR3 6798841459004817792",
           "MS"
          ],
          [
           "Gaia DR3 6803410960608215680",
           "MS"
          ],
          [
           "Gaia DR3 6806977570172268288",
           "MS"
          ],
          [
           "Gaia DR3 6807864979133764352",
           "MS"
          ],
          [
           "Gaia DR3 6808680060847426176",
           "MS"
          ],
          [
           "Gaia DR3 6809770192265787392",
           "MS"
          ],
          [
           "Gaia DR3 6809986967855116928",
           "MS"
          ],
          [
           "Gaia DR3 6810630731913043584",
           "MS"
          ],
          [
           "Gaia DR3 6811020027748722176",
           "MS"
          ],
          [
           "Gaia DR3 6811086475187195776",
           "MS"
          ],
          [
           "Gaia DR3 6814088077507215232",
           "MS"
          ],
          [
           "Gaia DR3 6815624370129559040",
           "MS"
          ],
          [
           "Gaia DR3 6818004847163066112",
           "MS"
          ],
          [
           "Gaia DR3 6826096767411619968",
           "MS"
          ],
          [
           "Gaia DR3 6829210137664696192",
           "MS"
          ],
          [
           "Gaia DR3 6829961658159111936",
           "MS"
          ],
          [
           "Gaia DR3 6833168693058542592",
           "MS"
          ],
          [
           "Gaia DR3 6835620638347772928",
           "MS"
          ],
          [
           "Gaia DR3 6836027144117784576",
           "MS"
          ],
          [
           "Gaia DR3 6837564643625028224",
           "MS"
          ],
          [
           "Gaia DR3 6849137931222733440",
           "MS"
          ],
          [
           "Gaia DR3 6855366836392824704",
           "MS"
          ],
          [
           "Gaia DR3 6856892099537340928",
           "MS"
          ],
          [
           "Gaia DR3 6857204017242593152",
           "MS"
          ],
          [
           "Gaia DR3 6858282947387193856",
           "MS"
          ],
          [
           "Gaia DR3 6862746930238299904",
           "MS"
          ],
          [
           "Gaia DR3 6872126245460784512",
           "MS"
          ],
          [
           "Gaia DR3 6873547913995379968",
           "MS"
          ],
          [
           "Gaia DR3 6873929822485896448",
           "MS"
          ],
          [
           "Gaia DR3 6875192852107838592",
           "MS"
          ],
          [
           "Gaia DR3 6880947077494699776",
           "MS"
          ],
          [
           "Gaia DR3 6883637685522589568",
           "MS"
          ],
          [
           "Gaia DR3 6886393027302528256",
           "MS"
          ],
          [
           "Gaia DR3 6892913955888167808",
           "MS"
          ],
          [
           "Gaia DR3 6896705965334109184",
           "MS"
          ],
          [
           "Gaia DR3 6898348120309983104",
           "MS"
          ],
          [
           "Gaia DR3 6898899662829949440",
           "MS"
          ],
          [
           "Gaia DR3 6902043407093001600",
           "MS"
          ],
          [
           "Gaia DR3 6902085497772048384",
           "MS"
          ],
          [
           "Gaia DR3 6908580965792150784",
           "MS"
          ],
          [
           "Gaia DR3 6910084135626021376",
           "MS"
          ],
          [
           "Gaia DR3 6915549533050107136",
           "MS"
          ],
          [
           "Gaia DR3 6916205082498743680",
           "MS"
          ],
          [
           "Gaia DR3 6917046724290069632",
           "MS"
          ],
          [
           "Gaia DR3 6917071738179546752",
           "MS"
          ]
         ],
         "error_x": {
          "array": {
           "bdata": "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",
           "dtype": "f8"
          },
          "arrayminus": {
           "bdata": "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",
           "dtype": "f8"
          }
         },
         "error_y": {
          "array": {
           "bdata": "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",
           "dtype": "f8"
          },
          "arrayminus": {
           "bdata": "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",
           "dtype": "f8"
          }
         },
         "hovertemplate": "color=WD<br>q=%{x}<br>Period=%{y}<br>size=%{marker.size}<br>System Name=%{customdata[0]}<br>Type1=%{customdata[1]}<extra></extra>",
         "legendgroup": "WD",
         "marker": {
          "color": "#EF553B",
          "size": {
           "bdata": "AQEBAQEBAQEBAQEBAQEBAQEBAQEBAQEBAQEBAQEBAQEBAQEBAQEBAQEBAQEBAQEBAQEBAQEBAQEBAQEBAQEBAQEBAQEBAQEBAQEBAQEBAQEBAQEBAQEBAQEBAQEBAQEBAQEBAQEBAQEBAQEBAQEBAQEBAQEBAQEBAQEBAQEBAQEBAQEBAQEBAQEBAQEBAQEBAQEBAQEBAQEBAQEBAQEBAQEBAQEBAQEBAQEBAQEBAQEBAQEBAQEBAQEBAQEBAQEBAQEBAQEBAQEBAQEBAQEBAQEBAQEBAQEBAQEBAQEBAQEBAQEBAQEBAQEBAQEBAQEBAQEBAQEBAQEBAQEBAQEBAQEBAQEBAQEBAQEBAQEBAQEBAQEBAQEBAQEBAQEBAQEBAQEBAQEBAQEBAQEBAQEBAQEBAQEBAQEBAQEBAQEBAQEBAQEBAQEBAQEBAQEBAQEBAQEBAQEBAQEBAQEBAQEBAQEBAQEBAQEBAQEBAQEBAQEBAQEBAQEBAQEBAQEBAQEBAQEBAQEBAQEBAQEBAQEBAQEBAQEBAQEBAQEBAQEBAQEBAQEBAQEBAQEBAQEBAQEBAQEBAQEBAQEBAQEBAQEBAQEBAQEBAQEBAQEBAQEBAQEBAQEBAQEBAQEBAQEBAQEBAQEBAQEBAQEBAQEBAQEBAQEBAQEBAQEBAQEBAQEBAQEBAQEBAQEBAQEBAQEBAQEBAQEBAQEBAQEBAQEBAQEBAQEBAQEBAQEBAQEBAQEBAQEBAQEBAQEBAQEBAQEBAQEBAQEBAQEBAQEBAQEBAQEBAQEBAQEBAQEBAQEBAQEBAQEBAQEBAQEBAQEBAQEBAQEBAQEBAQEBAQEBAQEBAQEBAQEBAQEBAQEBAQEBAQEBAQEBAQEBAQEBAQEBAQEBAQEBAQEBAQEBAQEBAQEBAQEBAQEBAQEBAQEBAQEBAQEBAQEBAQEBAQEBAQEBAQEBAQEBAQEBAQEBAQEBAQEBAQEBAQEBAQEBAQEBAQEBAQEBAQEBAQEBAQEBAQEBAQEBAQEBAQEBAQEBAQEBAQEBAQEBAQEBAQEBAQEBAQEBAQEBAQEBAQEBAQEBAQEBAQEBAQEBAQEBAQEBAQEBAQEBAQEBAQEBAQEBAQEBAQEBAQEBAQEBAQEBAQEBAQEBAQEBAQEBAQEBAQEBAQEBAQEBAQEBAQEBAQEBAQEBAQEBAQEBAQEBAQEBAQEBAQEBAQEBAQEBAQEBAQEBAQEBAQEBAQEBAQEBAQEBAQEBAQEBAQEBAQEBAQEBAQEBAQEBAQEBAQEBAQEBAQEBAQEBAQEBAQEBAQEBAQEBAQEBAQEBAQEBAQEBAQEBAQEBAQEBAQEBAQEBAQEBAQEBAQEBAQEBAQEBAQEBAQEBAQEBAQEBAQEBAQEBAQEBAQEBAQEBAQEBAQEBAQEBAQEBAQEBAQEBAQEBAQEBAQEBAQEBAQEBAQEBAQEBAQEBAQEBAQEBAQEBAQEBAQEBAQEBAQEBAQEBAQEBAQEBAQEBAQEBAQEBAQEBAQEBAQEBAQEBAQEBAQEBAQEBAQEBAQEBAQEBAQEBAQEBAQEBAQEBAQEBAQEBAQEBAQEBAQEBAQEBAQEBAQEBAQEBAQEBAQEBAQEBAQEBAQEBAQEBAQEBAQEBAQEBAQEBAQEBAQEBAQEBAQEBAQEBAQEBAQEBAQEBAQEBAQEBAQEBAQEBAQEBAQEBAQEBAQEBAQEBAQEBAQEBAQEBAQEBAQEBAQEBAQEBAQEBAQEBAQEBAQEBAQEBAQEBAQEBAQEBAQEBAQEBAQEBAQEBAQEBAQEBAQEBAQEBAQEBAQEBAQEBAQEBAQEBAQEBAQEBAQEBAQEBAQEBAQEBAQEBAQEBAQEBAQEBAQEBAQEBAQEBAQEBAQEBAQEBAQEBAQEBAQEBAQEBAQEBAQEBAQEBAQEBAQEBAQEBAQEBAQEBAQEBAQEBAQEBAQEBAQEBAQEBAQEBAQEBAQEBAQEBAQEBAQEBAQEBAQEBAQEBAQEBAQEBAQEBAQEBAQEBAQEBAQEBAQEBAQEBAQEBAQEBAQEBAQEBAQEBAQEBAQEBAQEBAQEBAQEBAQEBAQEBAQEBAQEBAQEBAQEBAQEBAQEBAQEBAQEBAQEBAQEBAQEBAQEBAQEBAQEBAQEBAQEBAQEBAQEBAQEBAQEBAQEBAQEBAQEBAQEBAQEBAQEBAQEBAQEBAQEBAQEBAQEBAQEBAQEBAQEBAQEBAQEBAQEBAQEBAQEBAQEBAQEBAQEBAQEBAQEBAQEBAQEBAQEBAQEBAQEBAQEBAQEBAQEBAQEBAQEBAQEBAQEBAQEBAQEBAQEBAQEBAQEBAQEBAQEBAQEBAQEBAQEBAQEBAQEBAQEBAQEBAQEBAQEBAQEBAQEBAQEBAQEBAQEBAQEBAQEBAQEBAQEBAQEBAQEBAQEBAQEBAQEBAQEBAQEBAQEBAQEBAQEBAQEBAQEBAQEBAQEBAQEBAQEBAQEBAQEBAQEBAQEBAQEBAQEBAQEBAQEBAQEBAQEBAQEBAQEBAQEBAQEBAQEBAQEBAQEBAQEBAQEBAQEBAQEBAQEBAQEBAQEBAQEBAQEBAQEBAQEBAQEBAQEBAQEBAQEBAQEBAQEBAQEBAQEBAQEBAQEBAQEBAQEBAQEBAQEBAQEBAQEBAQEBAQEBAQEBAQEBAQEBAQEBAQEBAQEBAQEBAQEBAQEBAQEBAQEBAQEBAQEBAQEBAQEBAQEBAQEBAQEBAQEBAQEBAQEBAQEBAQEBAQEBAQEBAQEBAQEBAQEBAQEBAQEBAQEBAQEBAQEBAQEBAQEBAQEBAQEBAQEBAQEBAQEBAQEBAQEBAQEBAQEBAQEBAQEBAQEBAQEBAQEBAQEBAQEBAQEBAQEBAQEBAQEBAQEBAQEBAQEBAQEBAQEBAQEBAQEBAQEBAQEBAQEBAQEBAQEBAQEBAQEBAQEBAQEBAQEBAQEBAQEBAQEBAQEBAQEBAQEBAQEBAQEBAQEBAQEBAQEBAQEBAQEBAQEBAQEBAQEBAQEBAQEBAQEBAQEBAQEBAQEBAQEBAQEBAQEBAQEBAQEBAQEBAQEBAQEBAQEBAQEBAQEBAQEBAQEBAQEBAQEBAQEBAQEBAQEBAQEBAQEBAQEBAQEBAQEBAQEBAQEBAQEBAQEBAQEBAQEBAQEBAQEBAQEBAQEBAQEBAQEBAQEBAQEBAQEBAQEBAQEBAQEBAQEBAQEBAQEBAQEBAQEBAQEBAQEBAQEBAQEBAQEBAQEBAQEBAQEBAQEBAQEBAQEBAQEBAQEBAQEBAQEBAQEBAQEBAQEBAQEBAQEBAQEBAQEBAQEBAQEBAQEBAQEBAQEBAQEBAQEBAQEBAQEBAQEBAQEBAQEBAQEBAQEBAQEBAQEBAQEBAQEBAQEBAQEBAQEBAQEBAQEBAQEBAQEBAQEBAQEBAQEBAQEBAQEBAQEBAQEBAQEBAQEBAQEBAQEBAQEBAQEBAQEBAQEBAQEBAQEBAQEBAQEBAQEBAQEBAQEBAQEBAQEBAQEBAQEBAQEBAQEBAQEBAQEBAQEBAQEBAQEBAQEBAQEBAQEBAQEBAQEBAQEBAQEBAQEBAQEBAQEBAQEBAQEBAQEBAQEBAQEBAQEBAQEBAQEBAQEBAQEBAQEBAQEBAQEBAQEBAQEBAQEBAQEBAQEBAQEBAQEBAQEBAQEBAQEBAQEBAQEBAQEBAQEBAQEBAQEBAQEBAQEBAQEBAQEBAQEBAQEBAQEBAQEBAQEBAQEBAQEBAQEBAQEBAQEBAQEBAQEBAQEBAQEBAQEBAQEBAQEBAQEBAQEBAQEBAQEBAQEBAQEBAQEBAQEBAQEBAQEBAQEBAQEBAQEBAQEBAQEBAQEBAQEBAQEBAQEBAQEBAQEBAQEBAQEBAQEBAQEBAQEBAQEBAQEBAQEBAQEBAQEBAQEBAQEBAQEBAQEBAQEBAQEBAQEBAQEBAQEBAQEBAQEBAQEBAQEBAQEBAQEBAQEBAQEBAQEBAQEBAQEBAQEBAQEBAQEBAQEBAQEBAQEBAQEBAQEBAQEBAQEBAQEBAQEBAQEBAQEBAQEBAQEBAQEBAQEBAQEBAQEBAQEBAQEBAQEBAQEBAQEBAQEBAQEBAQEBAQEBAQEBAQEBAQEBAQEBAQEBAQEBAQEBAQEBAQEBAQEBAQEBAQEBAQEBAQEBAQEBAQEBAQEBAQEBAQEBAQEBAQEBAQEBAQEBAQEBAQEBAQEBAQEBAQEBAQEBAQEBAQEBAQEBAQEBAQEBAQEBAQEBAQEBAQEBAQEBAQEBAQEBAQEBAQEBAQEBAQEBAQEBAQEBAQEBAQEBAQEBAQEBAQEBAQEBAQEBAQEBAQEBAQEBAQEBAQEBAQEBAQEBAQEBAQEBAQEBAQEBAQEBAQEBAQEBAQEBAQEBAQEBAQEBAQEBAQEBAQEBAQEBAQEBAQEBAQEBAQEBAQEBAQEBAQEBAQEBAQEBAQEBAQEBAQEBAQEBAQEBAQEBAQEBAQEBAQEBAQEBAQEBAQEBAQEBAQEBAQEBAQEBAQEBAQEBAQEBAQEBAQEBAQEBAQEBAQEBAQEBAQEBAQEBAQEBAQEBAQEBAQEBAQEBAQEBAQEBAQEBAQEBAQEBAQEBAQEBAQEBAQEBAQEBAQEBAQEBAQEBAQEBAQEBAQEBAQEBAQEBAQEBAQEBAQEBAQEBAQEBAQEBAQEBAQEBAQEBAQEBAQEBAQEBAQEBAQEBAQEBAQEBAQEBAQEBAQEBAQEBAQEBAQEBAQEBAQEBAQEBAQEBAQEBAQEBAQEBAQEBAQEBAQEBAQEBAQEBAQEBAQEBAQEBAQEBAQEBAQEBAQEBAQEBAQEBAQEBAQEBAQEBAQEBAQEBAQEB",
           "dtype": "i1"
          },
          "sizemode": "area",
          "sizeref": 0.2,
          "symbol": "circle"
         },
         "mode": "markers",
         "name": "WD",
         "showlegend": true,
         "type": "scattergl",
         "x": {
          "bdata": "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",
          "dtype": "f8"
         },
         "xaxis": "x",
         "y": {
          "bdata": "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",
          "dtype": "f8"
         },
         "yaxis": "y"
        },
        {
         "customdata": [
          [
           "SMC AB 8",
           "O-O4 V"
          ]
         ],
         "error_x": {
          "array": {
           "bdata": "j8L1KFyP0r8=",
           "dtype": "f8"
          },
          "arrayminus": {
           "bdata": "j8L1KFyP0j8=",
           "dtype": "f8"
          }
         },
         "error_y": {
          "array": {
           "bdata": "rBxaZDuPM8A=",
           "dtype": "f8"
          },
          "arrayminus": {
           "bdata": "rBxaZDuPM0A=",
           "dtype": "f8"
          }
         },
         "hovertemplate": "color=WR-WO4<br>q=%{x}<br>Period=%{y}<br>size=%{marker.size}<br>System Name=%{customdata[0]}<br>Type1=%{customdata[1]}<extra></extra>",
         "legendgroup": "WR-WO4",
         "marker": {
          "color": "#00cc96",
          "size": {
           "bdata": "BQ==",
           "dtype": "i1"
          },
          "sizemode": "area",
          "sizeref": 0.2,
          "symbol": "circle"
         },
         "mode": "markers",
         "name": "WR-WO4",
         "showlegend": true,
         "type": "scattergl",
         "x": {
          "bdata": "16NwPQrX0z8=",
          "dtype": "f8"
         },
         "xaxis": "x",
         "y": {
          "bdata": "j8L1KFyPM0A=",
          "dtype": "f8"
         },
         "yaxis": "y"
        },
        {
         "customdata": [
          [
           "VFTS 061",
           "O9.7: V:"
          ]
         ],
         "error_x": {
          "array": {
           "bdata": "Z2ZmZmZm3r8=",
           "dtype": "f8"
          },
          "arrayminus": {
           "bdata": "Z2ZmZmZm3j8=",
           "dtype": "f8"
          }
         },
         "error_y": {
          "array": {
           "bdata": "0AoMWd2qAsA=",
           "dtype": "f8"
          },
          "arrayminus": {
           "bdata": "0AoMWd2qAkA=",
           "dtype": "f8"
          }
         },
         "hovertemplate": "color=ON8.5 III:<br>q=%{x}<br>Period=%{y}<br>size=%{marker.size}<br>System Name=%{customdata[0]}<br>Type1=%{customdata[1]}<extra></extra>",
         "legendgroup": "ON8.5 III:",
         "marker": {
          "color": "#ab63fa",
          "size": {
           "bdata": "BQ==",
           "dtype": "i1"
          },
          "sizemode": "area",
          "sizeref": 0.2,
          "symbol": "circle"
         },
         "mode": "markers",
         "name": "ON8.5 III:",
         "showlegend": true,
         "type": "scattergl",
         "x": {
          "bdata": "SgwCK4cW4T8=",
          "dtype": "f8"
         },
         "xaxis": "x",
         "y": {
          "bdata": "CW05l+KqAkA=",
          "dtype": "f8"
         },
         "yaxis": "y"
        },
        {
         "customdata": [
          [
           "VFTS 652",
           "O9 III:"
          ]
         ],
         "error_x": {
          "array": {
           "bdata": "TmIQWDm00L8=",
           "dtype": "f8"
          },
          "arrayminus": {
           "bdata": "TmIQWDm00D8=",
           "dtype": "f8"
          }
         },
         "error_y": {
          "array": {
           "bdata": "zJwui4ktIcA=",
           "dtype": "f8"
          },
          "arrayminus": {
           "bdata": "zJwui4ktIUA=",
           "dtype": "f8"
          }
         },
         "hovertemplate": "color=B2 Ip<br>q=%{x}<br>Period=%{y}<br>size=%{marker.size}<br>System Name=%{customdata[0]}<br>Type1=%{customdata[1]}<extra></extra>",
         "legendgroup": "B2 Ip",
         "marker": {
          "color": "#FFA15A",
          "size": {
           "bdata": "BQ==",
           "dtype": "i1"
          },
          "sizemode": "area",
          "sizeref": 0.2,
          "symbol": "circle"
         },
         "mode": "markers",
         "name": "B2 Ip",
         "showlegend": true,
         "type": "scattergl",
         "x": {
          "bdata": "YOXQItv51j8=",
          "dtype": "f8"
         },
         "xaxis": "x",
         "y": {
          "bdata": "Ic1YNJ0tIUA=",
          "dtype": "f8"
         },
         "yaxis": "y"
        },
        {
         "customdata": [
          [
           "VFTS 538",
           "ON9 Ia"
          ]
         ],
         "error_x": {
          "array": {
           "bdata": "SOF6FK5H4b8=",
           "dtype": "f8"
          },
          "arrayminus": {
           "bdata": "SOF6FK5H4T8=",
           "dtype": "f8"
          }
         },
         "error_y": {
          "array": {
           "bdata": "wXPv4ZKjEMA=",
           "dtype": "f8"
          },
          "arrayminus": {
           "bdata": "wXPv4ZKjEEA=",
           "dtype": "f8"
          }
         },
         "hovertemplate": "color=O7.5: I:(f)<br>q=%{x}<br>Period=%{y}<br>size=%{marker.size}<br>System Name=%{customdata[0]}<br>Type1=%{customdata[1]}<extra></extra>",
         "legendgroup": "O7.5: I:(f)",
         "marker": {
          "color": "#19d3f3",
          "size": {
           "bdata": "BQ==",
           "dtype": "i1"
          },
          "sizemode": "area",
          "sizeref": 0.2,
          "symbol": "circle"
         },
         "mode": "markers",
         "name": "O7.5: I:(f)",
         "showlegend": true,
         "type": "scattergl",
         "x": {
          "bdata": "exSuR+F65D8=",
          "dtype": "f8"
         },
         "xaxis": "x",
         "y": {
          "bdata": "+tUcIJijEEA=",
          "dtype": "f8"
         },
         "yaxis": "y"
        },
        {
         "customdata": [
          [
           "HV 2543",
           "O8V:"
          ]
         ],
         "error_x": {
          "array": {
           "bdata": "vp8aL90k4r8=",
           "dtype": "f8"
          },
          "arrayminus": {
           "bdata": "vp8aL90k4j8=",
           "dtype": "f8"
          }
         },
         "error_y": {
          "array": {
           "bdata": "xf6ye/JQE8A=",
           "dtype": "f8"
          },
          "arrayminus": {
           "bdata": "xf6ye/JQE0A=",
           "dtype": "f8"
          }
         },
         "hovertemplate": "color=O9III<br>q=%{x}<br>Period=%{y}<br>size=%{marker.size}<br>System Name=%{customdata[0]}<br>Type1=%{customdata[1]}<extra></extra>",
         "legendgroup": "O9III",
         "marker": {
          "color": "#FF6692",
          "size": {
           "bdata": "BQ==",
           "dtype": "i1"
          },
          "sizemode": "area",
          "sizeref": 0.2,
          "symbol": "circle"
         },
         "mode": "markers",
         "name": "O9III",
         "showlegend": true,
         "type": "scattergl",
         "x": {
          "bdata": "sHJoke184z8=",
          "dtype": "f8"
         },
         "xaxis": "x",
         "y": {
          "bdata": "xf6ye/JQE0A=",
          "dtype": "f8"
         },
         "yaxis": "y"
        },
        {
         "customdata": [
          [
           "VFTS 450",
           "O7::"
          ]
         ],
         "error_x": {
          "array": {
           "bdata": "pHA9Ctej6L8=",
           "dtype": "f8"
          },
          "arrayminus": {
           "bdata": "pHA9Ctej6D8=",
           "dtype": "f8"
          }
         },
         "error_y": {
          "array": {
           "bdata": "NpNvtrmRG8A=",
           "dtype": "f8"
          },
          "arrayminus": {
           "bdata": "NpNvtrmRG0A=",
           "dtype": "f8"
          }
         },
         "hovertemplate": "color=O9.7 III:<br>q=%{x}<br>Period=%{y}<br>size=%{marker.size}<br>System Name=%{customdata[0]}<br>Type1=%{customdata[1]}<extra></extra>",
         "legendgroup": "O9.7 III:",
         "marker": {
          "color": "#B6E880",
          "size": {
           "bdata": "BQ==",
           "dtype": "i1"
          },
          "sizemode": "area",
          "sizeref": 0.2,
          "symbol": "circle"
         },
         "mode": "markers",
         "name": "O9.7 III:",
         "showlegend": true,
         "type": "scattergl",
         "x": {
          "bdata": "uB6F61G47j8=",
          "dtype": "f8"
         },
         "xaxis": "x",
         "y": {
          "bdata": "i6azk8GRG0A=",
          "dtype": "f8"
         },
         "yaxis": "y"
        },
        {
         "customdata": [
          [
           "W61 28-22",
           "O7V"
          ]
         ],
         "error_x": {
          "array": {
           "bdata": "R+F6FK5H2b8=",
           "dtype": "f8"
          },
          "arrayminus": {
           "bdata": "R+F6FK5H2T8=",
           "dtype": "f8"
          }
         },
         "error_y": {
          "array": {
           "bdata": "/wkuVtQAEcA=",
           "dtype": "f8"
          },
          "arrayminus": {
           "bdata": "/wkuVtQAEUA=",
           "dtype": "f8"
          }
         },
         "hovertemplate": "color= O8.5III<br>q=%{x}<br>Period=%{y}<br>size=%{marker.size}<br>System Name=%{customdata[0]}<br>Type1=%{customdata[1]}<extra></extra>",
         "legendgroup": " O8.5III",
         "marker": {
          "color": "#FF97FF",
          "size": {
           "bdata": "BQ==",
           "dtype": "i1"
          },
          "sizemode": "area",
          "sizeref": 0.2,
          "symbol": "circle"
         },
         "mode": "markers",
         "name": " O8.5III",
         "showlegend": true,
         "type": "scattergl",
         "x": {
          "bdata": "i2zn+6nx2j8=",
          "dtype": "f8"
         },
         "xaxis": "x",
         "y": {
          "bdata": "/wkuVtQAEUA=",
          "dtype": "f8"
         },
         "yaxis": "y"
        },
        {
         "customdata": [
          [
           "HV 2241",
           "O7 III"
          ]
         ],
         "error_x": {
          "array": {
           "bdata": "tMh2vp8a378=",
           "dtype": "f8"
          },
          "arrayminus": {
           "bdata": "tMh2vp8a3z8=",
           "dtype": "f8"
          }
         },
         "error_y": {
          "array": {
           "bdata": "kIMSZtpeEcA=",
           "dtype": "f8"
          },
          "arrayminus": {
           "bdata": "kIMSZtpeEUA=",
           "dtype": "f8"
          }
         },
         "hovertemplate": "color=B0 III<br>q=%{x}<br>Period=%{y}<br>size=%{marker.size}<br>System Name=%{customdata[0]}<br>Type1=%{customdata[1]}<extra></extra>",
         "legendgroup": "B0 III",
         "marker": {
          "color": "#FECB52",
          "size": {
           "bdata": "BQ==",
           "dtype": "i1"
          },
          "sizemode": "area",
          "sizeref": 0.2,
          "symbol": "circle"
         },
         "mode": "markers",
         "name": "B0 III",
         "showlegend": true,
         "type": "scattergl",
         "x": {
          "bdata": "qMZLN4lB4D8=",
          "dtype": "f8"
         },
         "xaxis": "x",
         "y": {
          "bdata": "kIMSZtpeEUA=",
          "dtype": "f8"
         },
         "yaxis": "y"
        },
        {
         "customdata": [
          [
           "TT Aur",
           "B2V"
          ]
         ],
         "error_x": {
          "array": {
           "bdata": "AAAAAAAA+H8=",
           "dtype": "f8"
          },
          "arrayminus": {
           "bdata": "AAAAAAAA+H8=",
           "dtype": "f8"
          }
         },
         "error_y": {
          "array": {
           "bdata": "+yKhLedS9b8=",
           "dtype": "f8"
          },
          "arrayminus": {
           "bdata": "+yKhLedS9T8=",
           "dtype": "f8"
          }
         },
         "hovertemplate": "color=B4<br>q=%{x}<br>Period=%{y}<br>size=%{marker.size}<br>System Name=%{customdata[0]}<br>Type1=%{customdata[1]}<extra></extra>",
         "legendgroup": "B4",
         "marker": {
          "color": "#636efa",
          "size": {
           "bdata": "BQ==",
           "dtype": "i1"
          },
          "sizemode": "area",
          "sizeref": 0.2,
          "symbol": "circle"
         },
         "mode": "markers",
         "name": "B4",
         "showlegend": true,
         "type": "scattergl",
         "x": {
          "bdata": "HVpkO99P5T8=",
          "dtype": "f8"
         },
         "xaxis": "x",
         "y": {
          "bdata": "+yKhLedS9T8=",
          "dtype": "f8"
         },
         "yaxis": "y"
        },
        {
         "customdata": [
          [
           "Mu1 Sco",
           "B1V"
          ]
         ],
         "error_x": {
          "array": {
           "bdata": "PgrXo3A92r8=",
           "dtype": "f8"
          },
          "arrayminus": {
           "bdata": "PgrXo3A92j8=",
           "dtype": "f8"
          }
         },
         "error_y": {
          "array": {
           "bdata": "FTWYhuEj978=",
           "dtype": "f8"
          },
          "arrayminus": {
           "bdata": "FTWYhuEj9z8=",
           "dtype": "f8"
          }
         },
         "hovertemplate": "color=B:<br>q=%{x}<br>Period=%{y}<br>size=%{marker.size}<br>System Name=%{customdata[0]}<br>Type1=%{customdata[1]}<extra></extra>",
         "legendgroup": "B:",
         "marker": {
          "color": "#EF553B",
          "size": {
           "bdata": "BQ==",
           "dtype": "i1"
          },
          "sizemode": "area",
          "sizeref": 0.2,
          "symbol": "circle"
         },
         "mode": "markers",
         "name": "B:",
         "showlegend": true,
         "type": "scattergl",
         "x": {
          "bdata": "mpmZmZmZ4T8=",
          "dtype": "f8"
         },
         "xaxis": "x",
         "y": {
          "bdata": "h/nyAuwj9z8=",
          "dtype": "f8"
         },
         "yaxis": "y"
        },
        {
         "customdata": [
          [
           "SV Gem",
           "B3"
          ]
         ],
         "error_x": {
          "array": {
           "bdata": "AAAAAAAA+H8=",
           "dtype": "f8"
          },
          "arrayminus": {
           "bdata": "AAAAAAAA+H8=",
           "dtype": "f8"
          }
         },
         "error_y": {
          "array": {
           "bdata": "AAAAAAAA+H8=",
           "dtype": "f8"
          },
          "arrayminus": {
           "bdata": "AAAAAAAA+H8=",
           "dtype": "f8"
          }
         },
         "hovertemplate": "color=F:6.5:IV:<br>q=%{x}<br>Period=%{y}<br>size=%{marker.size}<br>System Name=%{customdata[0]}<br>Type1=%{customdata[1]}<extra></extra>",
         "legendgroup": "F:6.5:IV:",
         "marker": {
          "color": "#00cc96",
          "size": {
           "bdata": "BQ==",
           "dtype": "i1"
          },
          "sizemode": "area",
          "sizeref": 0.2,
          "symbol": "circle"
         },
         "mode": "markers",
         "name": "F:6.5:IV:",
         "showlegend": true,
         "type": "scattergl",
         "x": {
          "bdata": "mpmZmZmZ2T8=",
          "dtype": "f8"
         },
         "xaxis": "x",
         "y": {
          "bdata": "AAAAAAAAEEA=",
          "dtype": "f8"
         },
         "yaxis": "y"
        },
        {
         "customdata": [
          [
           "V454 Cyg",
           "B2.5V"
          ]
         ],
         "error_x": {
          "array": {
           "bdata": "AAAAAAAA+H8=",
           "dtype": "f8"
          },
          "arrayminus": {
           "bdata": "AAAAAAAA+H8=",
           "dtype": "f8"
          }
         },
         "error_y": {
          "array": {
           "bdata": "AAAAAAAA+H8=",
           "dtype": "f8"
          },
          "arrayminus": {
           "bdata": "AAAAAAAA+H8=",
           "dtype": "f8"
          }
         },
         "hovertemplate": "color=B7III<br>q=%{x}<br>Period=%{y}<br>size=%{marker.size}<br>System Name=%{customdata[0]}<br>Type1=%{customdata[1]}<extra></extra>",
         "legendgroup": "B7III",
         "marker": {
          "color": "#ab63fa",
          "size": {
           "bdata": "BQ==",
           "dtype": "i1"
          },
          "sizemode": "area",
          "sizeref": 0.2,
          "symbol": "circle"
         },
         "mode": "markers",
         "name": "B7III",
         "showlegend": true,
         "type": "scattergl",
         "x": {
          "bdata": "w/UoXI/C1T8=",
          "dtype": "f8"
         },
         "xaxis": "x",
         "y": {
          "bdata": "exSuR+F6AkA=",
          "dtype": "f8"
         },
         "yaxis": "y"
        },
        {
         "customdata": [
          [
           "Gaia BH1",
           "MS"
          ],
          [
           "Gaia BH2",
           "RG"
          ],
          [
           "Gaia BH3",
           "RG"
          ],
          [
           "VFTS 243",
           "O7V"
          ],
          [
           "NGC 3201 #12560",
           "MS"
          ],
          [
           "HD 130298",
           "O6.5III"
          ]
         ],
         "error_x": {
          "array": {
           "bdata": "AAAAAAAA+H8AAAAAAAD4fwAAAAAAAPh/AAAAAAAA+H8AAAAAAAD4fwAAAAAAAPh/",
           "dtype": "f8"
          },
          "arrayminus": {
           "bdata": "AAAAAAAA+H8AAAAAAAD4fwAAAAAAAPh/AAAAAAAA+H8AAAAAAAD4fwAAAAAAAPh/",
           "dtype": "f8"
          }
         },
         "error_y": {
          "array": {
           "bdata": "QDVeukksZ8BnZmZmZvCTwJqZmZmZOrDAyjLEsS7OJMA9CtejcN1kwMRfkzXqQS3A",
           "dtype": "f8"
          },
          "arrayminus": {
           "bdata": "QDVeukksZ0BnZmZmZvCTQJqZmZmZOrBAyjLEsS7OJEA9CtejcN1kQMRfkzXqQS1A",
           "dtype": "f8"
          }
         },
         "hovertemplate": "color=BH<br>q=%{x}<br>Period=%{y}<br>size=%{marker.size}<br>System Name=%{customdata[0]}<br>Type1=%{customdata[1]}<extra></extra>",
         "legendgroup": "BH",
         "marker": {
          "color": "#FFA15A",
          "size": {
           "bdata": "BQUFBQUF",
           "dtype": "i1"
          },
          "sizemode": "area",
          "sizeref": 0.2,
          "symbol": "circle"
         },
         "mode": "markers",
         "name": "BH",
         "showlegend": true,
         "type": "scattergl",
         "x": {
          "bdata": "AAAAAAAA+H8AAAAAAAD4fwAAAAAAAPh/AAAAAAAA+H8AAAAAAAD4fwAAAAAAAPh/",
          "dtype": "f8"
         },
         "xaxis": "x",
         "y": {
          "bdata": "qvHSTWIsZ0DNzMzMzPKTQJqZmZkZnbBAAwmKH2POJEC4HoXrUeBkQPzG155ZQi1A",
          "dtype": "f8"
         },
         "yaxis": "y"
        },
        {
         "customdata": [
          [
           "G3425",
           "RG"
          ]
         ],
         "error_x": {
          "array": {
           "bdata": "AAAAAAAA+H8=",
           "dtype": "f8"
          },
          "arrayminus": {
           "bdata": "AAAAAAAA+H8=",
           "dtype": "f8"
          }
         },
         "error_y": {
          "array": {
           "bdata": "AAAAAABYi8A=",
           "dtype": "f8"
          },
          "arrayminus": {
           "bdata": "AAAAAABYi0A=",
           "dtype": "f8"
          }
         },
         "hovertemplate": "color=BH?<br>q=%{x}<br>Period=%{y}<br>size=%{marker.size}<br>System Name=%{customdata[0]}<br>Type1=%{customdata[1]}<extra></extra>",
         "legendgroup": "BH?",
         "marker": {
          "color": "#19d3f3",
          "size": {
           "bdata": "BQ==",
           "dtype": "i1"
          },
          "sizemode": "area",
          "sizeref": 0.2,
          "symbol": "circle"
         },
         "mode": "markers",
         "name": "BH?",
         "showlegend": true,
         "type": "scattergl",
         "x": {
          "bdata": "AAAAAAAA+H8=",
          "dtype": "f8"
         },
         "xaxis": "x",
         "y": {
          "bdata": "AAAAAABoi0A=",
          "dtype": "f8"
         },
         "yaxis": "y"
        },
        {
         "customdata": [
          [
           "VFTS 291",
           "B"
          ],
          [
           "LB-1",
           "B3Ve"
          ],
          [
           "NGC 1850 BH1",
           "MS"
          ],
          [
           "HR 6819",
           "B2-3Ve"
          ],
          [
           "2dFS 163",
           "B0-1Ve"
          ],
          [
           "2dFS 2553",
           "Be"
          ],
          [
           "Sk -71 35",
           "O9Ve"
          ],
          [
           "SMCSGS-FS 69",
           "Be"
          ],
          [
           "Gamma Columbae",
           "?"
          ],
          [
           "Upsilon Sagittarii",
           "B"
          ]
         ],
         "error_x": {
          "array": {
           "bdata": "AAAAAAAA+H9SuB6F61HIvwAAAAAAAPh/D3o2qz5Xq78AAAAAAAD4fxCDwMqhRcY/lkOLbOf7yT8AAAAAAAD4fwAAAAAAAPh/AAAAAAAA+H8=",
           "dtype": "f8"
          },
          "arrayminus": {
           "bdata": "AAAAAAAA+H9SuB6F61HIPwAAAAAAAPh/D3o2qz5Xqz8AAAAAAAD4fxxaZDvfT80/+DpwzojSrr8AAAAAAAD4fwAAAAAAAPh/AAAAAAAA+H8=",
           "dtype": "f8"
          }
         },
         "error_y": {
          "array": {
           "bdata": "qMZLN4kBW8AmUwWjkrJTwAAAAAAAAPh/BoGVQ4scRMAAAAAAAAD4f1K4HoXrYVfAAAAAAAAA+H8AAAAAAAD4fwAAAAAAAPh/AAAAAAAA+H8=",
           "dtype": "f8"
          },
          "arrayminus": {
           "bdata": "qMZLN4kBW0AmUwWjkrJTQAAAAAAAAPh/BoGVQ4scREAAAAAAAAD4f+F6FK5HYVdAAAAAAAAA+H8AAAAAAAD4fwAAAAAAAPh/AAAAAAAA+H8=",
           "dtype": "f8"
          }
         },
         "hovertemplate": "color=SS<br>q=%{x}<br>Period=%{y}<br>size=%{marker.size}<br>System Name=%{customdata[0]}<br>Type1=%{customdata[1]}<extra></extra>",
         "legendgroup": "SS",
         "marker": {
          "color": "#FF6692",
          "size": {
           "bdata": "BQUFBQUFBQUFBQ==",
           "dtype": "i1"
          },
          "sizemode": "area",
          "sizeref": 0.2,
          "symbol": "circle"
         },
         "mode": "markers",
         "name": "SS",
         "showlegend": true,
         "type": "scattergl",
         "x": {
          "bdata": "AAAAAAAA+H/hehSuR+HKPwAAAAAAAPh/waikTkATsT8AAAAAAAD4f8/3U+Olm+g/ayv2l92T1z8AAAAAAAD4fwAAAAAAAPh/AAAAAAAA+H8=",
          "dtype": "f8"
         },
         "xaxis": "x",
         "y": {
          "bdata": "hxbZzvcDW0CBBMWPMbNTQClcj8L1KBRAexSuR+EqREAAAAAAAAD4f2ZmZmZmZldAQMHFihrMIkAAAAAAAAD4fwAAAAAAAPh/5BQdyeU9YUA=",
          "dtype": "f8"
         },
         "yaxis": "y"
        },
        {
         "customdata": [
          [
           "LSS 3074",
           "O6-7:(f):, Contact"
          ]
         ],
         "error_x": {
          "array": {
           "bdata": "PQrXo3A96r8=",
           "dtype": "f8"
          },
          "arrayminus": {
           "bdata": "PQrXo3A96j8=",
           "dtype": "f8"
          }
         },
         "error_y": {
          "array": {
           "bdata": "mbuWkA96AcA=",
           "dtype": "f8"
          },
          "arrayminus": {
           "bdata": "mbuWkA96AUA=",
           "dtype": "f8"
          }
         },
         "hovertemplate": "color=O4 f +, Contact<br>q=%{x}<br>Period=%{y}<br>size=%{marker.size}<br>System Name=%{customdata[0]}<br>Type1=%{customdata[1]}<extra></extra>",
         "legendgroup": "O4 f +, Contact",
         "marker": {
          "color": "#B6E880",
          "size": {
           "bdata": "BQ==",
           "dtype": "i1"
          },
          "sizemode": "area",
          "sizeref": 0.2,
          "symbol": "circle"
         },
         "mode": "markers",
         "name": "O4 f +, Contact",
         "showlegend": true,
         "type": "scattergl",
         "x": {
          "bdata": "hetRuB6F6z8=",
          "dtype": "f8"
         },
         "xaxis": "x",
         "y": {
          "bdata": "7MA5I0p7AUA=",
          "dtype": "f8"
         },
         "yaxis": "y"
        },
        {
         "customdata": [
          [
           "MY Cam",
           "O4.5-6V, Contact"
          ]
         ],
         "error_x": {
          "array": {
           "bdata": "mZmZmZmZ6b8=",
           "dtype": "f8"
          },
          "arrayminus": {
           "bdata": "mZmZmZmZ6T8=",
           "dtype": "f8"
          }
         },
         "error_y": {
          "array": {
           "bdata": "ylTBqKTO8r8=",
           "dtype": "f8"
          },
          "arrayminus": {
           "bdata": "ylTBqKTO8j8=",
           "dtype": "f8"
          }
         },
         "hovertemplate": "color=O6V, Contact<br>q=%{x}<br>Period=%{y}<br>size=%{marker.size}<br>System Name=%{customdata[0]}<br>Type1=%{customdata[1]}<extra></extra>",
         "legendgroup": "O6V, Contact",
         "marker": {
          "color": "#FF97FF",
          "size": {
           "bdata": "BQ==",
           "dtype": "i1"
          },
          "sizemode": "area",
          "sizeref": 0.2,
          "symbol": "circle"
         },
         "mode": "markers",
         "name": "O6V, Contact",
         "showlegend": true,
         "type": "scattergl",
         "x": {
          "bdata": "4XoUrkfh6j8=",
          "dtype": "f8"
         },
         "xaxis": "x",
         "y": {
          "bdata": "ylTBqKTO8j8=",
          "dtype": "f8"
         },
         "yaxis": "y"
        },
        {
         "customdata": [
          [
           "OGLE SMC-SC10 108086",
           "O9V, Contact"
          ]
         ],
         "error_x": {
          "array": {
           "bdata": "SOF6FK5H6b8=",
           "dtype": "f8"
          },
          "arrayminus": {
           "bdata": "SOF6FK5H6T8=",
           "dtype": "f8"
          }
         },
         "error_y": {
          "array": {
           "bdata": "AAAAAAAA+H8=",
           "dtype": "f8"
          },
          "arrayminus": {
           "bdata": "AAAAAAAA+H8=",
           "dtype": "f8"
          }
         },
         "hovertemplate": "color=O9.5-B0V, Contact<br>q=%{x}<br>Period=%{y}<br>size=%{marker.size}<br>System Name=%{customdata[0]}<br>Type1=%{customdata[1]}<extra></extra>",
         "legendgroup": "O9.5-B0V, Contact",
         "marker": {
          "color": "#FECB52",
          "size": {
           "bdata": "BQ==",
           "dtype": "i1"
          },
          "sizemode": "area",
          "sizeref": 0.2,
          "symbol": "circle"
         },
         "mode": "markers",
         "name": "O9.5-B0V, Contact",
         "showlegend": true,
         "type": "scattergl",
         "x": {
          "bdata": "MzMzMzMz6z8=",
          "dtype": "f8"
         },
         "xaxis": "x",
         "y": {
          "bdata": "ih9j7lpC7D8=",
          "dtype": "f8"
         },
         "yaxis": "y"
        },
        {
         "customdata": [
          [
           "TU Mus",
           "O7V, Contact"
          ]
         ],
         "error_x": {
          "array": {
           "bdata": "2c73U+Ol478=",
           "dtype": "f8"
          },
          "arrayminus": {
           "bdata": "2c73U+Ol4z8=",
           "dtype": "f8"
          }
         },
         "error_y": {
          "array": {
           "bdata": "blFmg0wy9r8=",
           "dtype": "f8"
          },
          "arrayminus": {
           "bdata": "blFmg0wy9j8=",
           "dtype": "f8"
          }
         },
         "hovertemplate": "color=O8V, Contact<br>q=%{x}<br>Period=%{y}<br>size=%{marker.size}<br>System Name=%{customdata[0]}<br>Type1=%{customdata[1]}<extra></extra>",
         "legendgroup": "O8V, Contact",
         "marker": {
          "color": "#636efa",
          "size": {
           "bdata": "BQ==",
           "dtype": "i1"
          },
          "sizemode": "area",
          "sizeref": 0.2,
          "symbol": "circle"
         },
         "mode": "markers",
         "name": "O8V, Contact",
         "showlegend": true,
         "type": "scattergl",
         "x": {
          "bdata": "Vg4tsp3v4z8=",
          "dtype": "f8"
         },
         "xaxis": "x",
         "y": {
          "bdata": "blFmg0wy9j8=",
          "dtype": "f8"
         },
         "yaxis": "y"
        },
        {
         "customdata": [
          [
           "V382 Cyg",
           "O6.5V((f)), Contact"
          ]
         ],
         "error_x": {
          "array": {
           "bdata": "tMh2vp8a578=",
           "dtype": "f8"
          },
          "arrayminus": {
           "bdata": "tMh2vp8a5z8=",
           "dtype": "f8"
          }
         },
         "error_y": {
          "array": {
           "bdata": "Jcy0/Ssr/r8=",
           "dtype": "f8"
          },
          "arrayminus": {
           "bdata": "Jcy0/Ssr/j8=",
           "dtype": "f8"
          }
         },
         "hovertemplate": "color=O6V((f)), Contact<br>q=%{x}<br>Period=%{y}<br>size=%{marker.size}<br>System Name=%{customdata[0]}<br>Type1=%{customdata[1]}<extra></extra>",
         "legendgroup": "O6V((f)), Contact",
         "marker": {
          "color": "#EF553B",
          "size": {
           "bdata": "BQ==",
           "dtype": "i1"
          },
          "sizemode": "area",
          "sizeref": 0.2,
          "symbol": "circle"
         },
         "mode": "markers",
         "name": "O6V((f)), Contact",
         "showlegend": true,
         "type": "scattergl",
         "x": {
          "bdata": "3SQGgZVD5z8=",
          "dtype": "f8"
         },
         "xaxis": "x",
         "y": {
          "bdata": "l5APejYr/j8=",
          "dtype": "f8"
         },
         "yaxis": "y"
        },
        {
         "customdata": [
          [
           "VFTS 352",
           "O4.5 V(n)((fc))z, Contact"
          ]
         ],
         "error_x": {
          "array": {
           "bdata": "exSuR+F67L8=",
           "dtype": "f8"
          },
          "arrayminus": {
           "bdata": "exSuR+F67D8=",
           "dtype": "f8"
          }
         },
         "error_y": {
          "array": {
           "bdata": "P8bctYT88b8=",
           "dtype": "f8"
          },
          "arrayminus": {
           "bdata": "P8bctYT88T8=",
           "dtype": "f8"
          }
         },
         "hovertemplate": "color=O5.5 V(n)((fc))z, Contact<br>q=%{x}<br>Period=%{y}<br>size=%{marker.size}<br>System Name=%{customdata[0]}<br>Type1=%{customdata[1]}<extra></extra>",
         "legendgroup": "O5.5 V(n)((fc))z, Contact",
         "marker": {
          "color": "#00cc96",
          "size": {
           "bdata": "BQ==",
           "dtype": "i1"
          },
          "sizemode": "area",
          "sizeref": 0.2,
          "symbol": "circle"
         },
         "mode": "markers",
         "name": "O5.5 V(n)((fc))z, Contact",
         "showlegend": true,
         "type": "scattergl",
         "x": {
          "bdata": "rkfhehSu7z8=",
          "dtype": "f8"
         },
         "xaxis": "x",
         "y": {
          "bdata": "P8bctYT88T8=",
          "dtype": "f8"
         },
         "yaxis": "y"
        },
        {
         "customdata": [
          [
           "CT Tau",
           "B1V, Contact"
          ],
          [
           "GU Mon",
           "B1V, Contact"
          ]
         ],
         "error_x": {
          "array": {
           "bdata": "XI/C9Shc77+JQWDl0CLvvw==",
           "dtype": "f8"
          },
          "arrayminus": {
           "bdata": "XI/C9Shc7z+JQWDl0CLvPw==",
           "dtype": "f8"
          }
         },
         "error_y": {
          "array": {
           "bdata": "2Ls/3qtW5b82qz5XW7Hsvw==",
           "dtype": "f8"
          },
          "arrayminus": {
           "bdata": "2Ls/3qtW5T82qz5XW7HsPw==",
           "dtype": "f8"
          }
         },
         "hovertemplate": "color=B1V, Contact<br>q=%{x}<br>Period=%{y}<br>size=%{marker.size}<br>System Name=%{customdata[0]}<br>Type1=%{customdata[1]}<extra></extra>",
         "legendgroup": "B1V, Contact",
         "marker": {
          "color": "#ab63fa",
          "size": {
           "bdata": "BQU=",
           "dtype": "i1"
          },
          "sizemode": "area",
          "sizeref": 0.2,
          "symbol": "circle"
         },
         "mode": "markers",
         "name": "B1V, Contact",
         "showlegend": true,
         "type": "scattergl",
         "x": {
          "bdata": "2/l+arx07z8IrBxaZDvvPw==",
          "dtype": "f8"
         },
         "xaxis": "x",
         "y": {
          "bdata": "2Ls/3qtW5T82qz5XW7HsPw==",
          "dtype": "f8"
         },
         "yaxis": "y"
        },
        {
         "customdata": [
          [
           "SV Cen",
           "B, Contact?"
          ]
         ],
         "error_x": {
          "array": {
           "bdata": "Di2yne+n5r8=",
           "dtype": "f8"
          },
          "arrayminus": {
           "bdata": "Di2yne+n5j8=",
           "dtype": "f8"
          }
         },
         "error_y": {
          "array": {
           "bdata": "UI2XbhKD+r8=",
           "dtype": "f8"
          },
          "arrayminus": {
           "bdata": "UI2XbhKD+j8=",
           "dtype": "f8"
          }
         },
         "hovertemplate": "color=B, Contact?<br>q=%{x}<br>Period=%{y}<br>size=%{marker.size}<br>System Name=%{customdata[0]}<br>Type1=%{customdata[1]}<extra></extra>",
         "legendgroup": "B, Contact?",
         "marker": {
          "color": "#FFA15A",
          "size": {
           "bdata": "BQ==",
           "dtype": "i1"
          },
          "sizemode": "area",
          "sizeref": 0.2,
          "symbol": "circle"
         },
         "mode": "markers",
         "name": "B, Contact?",
         "showlegend": true,
         "type": "scattergl",
         "x": {
          "bdata": "uB6F61G45j8=",
          "dtype": "f8"
         },
         "xaxis": "x",
         "y": {
          "bdata": "ukkMAiuH+j8=",
          "dtype": "f8"
         },
         "yaxis": "y"
        },
        {
         "customdata": [
          [
           "V606 Cen",
           "B0.5V, Contact"
          ]
         ],
         "error_x": {
          "array": {
           "bdata": "SZ2AJsKG4b8=",
           "dtype": "f8"
          },
          "arrayminus": {
           "bdata": "SZ2AJsKG4T8=",
           "dtype": "f8"
          }
         },
         "error_y": {
          "array": {
           "bdata": "Xf5D+u3r978=",
           "dtype": "f8"
          },
          "arrayminus": {
           "bdata": "Xf5D+u3r9z8=",
           "dtype": "f8"
          }
         },
         "hovertemplate": "color=B2V, Contact<br>q=%{x}<br>Period=%{y}<br>size=%{marker.size}<br>System Name=%{customdata[0]}<br>Type1=%{customdata[1]}<extra></extra>",
         "legendgroup": "B2V, Contact",
         "marker": {
          "color": "#19d3f3",
          "size": {
           "bdata": "BQ==",
           "dtype": "i1"
          },
          "sizemode": "area",
          "sizeref": 0.2,
          "symbol": "circle"
         },
         "mode": "markers",
         "name": "B2V, Contact",
         "showlegend": true,
         "type": "scattergl",
         "x": {
          "bdata": "eAskKH6M4T8=",
          "dtype": "f8"
         },
         "xaxis": "x",
         "y": {
          "bdata": "Xf5D+u3r9z8=",
          "dtype": "f8"
         },
         "yaxis": "y"
        },
        {
         "customdata": [
          [
           "V701 Sco",
           "B1-1.5V, Contact"
          ]
         ],
         "error_x": {
          "array": {
           "bdata": "LbKd76fG778=",
           "dtype": "f8"
          },
          "arrayminus": {
           "bdata": "LbKd76fG7z8=",
           "dtype": "f8"
          }
         },
         "error_y": {
          "array": {
           "bdata": "cLa5MT1h6L8=",
           "dtype": "f8"
          },
          "arrayminus": {
           "bdata": "cLa5MT1h6D8=",
           "dtype": "f8"
          }
         },
         "hovertemplate": "color=B1-1.5V, Contact<br>q=%{x}<br>Period=%{y}<br>size=%{marker.size}<br>System Name=%{customdata[0]}<br>Type1=%{customdata[1]}<extra></extra>",
         "legendgroup": "B1-1.5V, Contact",
         "marker": {
          "color": "#FF6692",
          "size": {
           "bdata": "BQ==",
           "dtype": "i1"
          },
          "sizemode": "area",
          "sizeref": 0.2,
          "symbol": "circle"
         },
         "mode": "markers",
         "name": "B1-1.5V, Contact",
         "showlegend": true,
         "type": "scattergl",
         "x": {
          "bdata": "16NwPQrX7z8=",
          "dtype": "f8"
         },
         "xaxis": "x",
         "y": {
          "bdata": "cLa5MT1h6D8=",
          "dtype": "f8"
         },
         "yaxis": "y"
        },
        {
         "customdata": [
          [
           "V745 Cas",
           "B0V, Contact"
          ]
         ],
         "error_x": {
          "array": {
           "bdata": "mZmZmZmZ4b8=",
           "dtype": "f8"
          },
          "arrayminus": {
           "bdata": "mZmZmZmZ4T8=",
           "dtype": "f8"
          }
         },
         "error_y": {
          "array": {
           "bdata": "b7vQXKeR9r8=",
           "dtype": "f8"
          },
          "arrayminus": {
           "bdata": "b7vQXKeR9j8=",
           "dtype": "f8"
          }
         },
         "hovertemplate": "color=B1-2 IV/V, Contact<br>q=%{x}<br>Period=%{y}<br>size=%{marker.size}<br>System Name=%{customdata[0]}<br>Type1=%{customdata[1]}<extra></extra>",
         "legendgroup": "B1-2 IV/V, Contact",
         "marker": {
          "color": "#B6E880",
          "size": {
           "bdata": "BQ==",
           "dtype": "i1"
          },
          "sizemode": "area",
          "sizeref": 0.2,
          "symbol": "circle"
         },
         "mode": "markers",
         "name": "B1-2 IV/V, Contact",
         "showlegend": true,
         "type": "scattergl",
         "x": {
          "bdata": "PQrXo3A94j8=",
          "dtype": "f8"
         },
         "xaxis": "x",
         "y": {
          "bdata": "4X8r2bGR9j8=",
          "dtype": "f8"
         },
         "yaxis": "y"
        },
        {
         "customdata": [
          [
           "VFTS 066",
           "B0V, Contact"
          ]
         ],
         "error_x": {
          "array": {
           "bdata": "fT81XrpJ4L8=",
           "dtype": "f8"
          },
          "arrayminus": {
           "bdata": "fT81XrpJ4D8=",
           "dtype": "f8"
          }
         },
         "error_y": {
          "array": {
           "bdata": "ww34/DBC8r8=",
           "dtype": "f8"
          },
          "arrayminus": {
           "bdata": "ww34/DBC8j8=",
           "dtype": "f8"
          }
         },
         "hovertemplate": "color=B1.5III, Contact<br>q=%{x}<br>Period=%{y}<br>size=%{marker.size}<br>System Name=%{customdata[0]}<br>Type1=%{customdata[1]}<extra></extra>",
         "legendgroup": "B1.5III, Contact",
         "marker": {
          "color": "#FF97FF",
          "size": {
           "bdata": "BQ==",
           "dtype": "i1"
          },
          "sizemode": "area",
          "sizeref": 0.2,
          "symbol": "circle"
         },
         "mode": "markers",
         "name": "B1.5III, Contact",
         "showlegend": true,
         "type": "scattergl",
         "x": {
          "bdata": "I9v5fmq84D8=",
          "dtype": "f8"
         },
         "xaxis": "x",
         "y": {
          "bdata": "NdJSeTtC8j8=",
          "dtype": "f8"
         },
         "yaxis": "y"
        },
        {
         "customdata": [
          [
           "RZ Pyx",
           "B5V, Contact"
          ]
         ],
         "error_x": {
          "array": {
           "bdata": "mZmZmZmZ6b8=",
           "dtype": "f8"
          },
          "arrayminus": {
           "bdata": "mZmZmZmZ6T8=",
           "dtype": "f8"
          }
         },
         "error_y": {
          "array": {
           "bdata": "HXdKB+v/5L8=",
           "dtype": "f8"
          },
          "arrayminus": {
           "bdata": "HXdKB+v/5D8=",
           "dtype": "f8"
          }
         },
         "hovertemplate": "color=B5/7V, Contact<br>q=%{x}<br>Period=%{y}<br>size=%{marker.size}<br>System Name=%{customdata[0]}<br>Type1=%{customdata[1]}<extra></extra>",
         "legendgroup": "B5/7V, Contact",
         "marker": {
          "color": "#FECB52",
          "size": {
           "bdata": "BQ==",
           "dtype": "i1"
          },
          "sizemode": "area",
          "sizeref": 0.2,
          "symbol": "circle"
         },
         "mode": "markers",
         "name": "B5/7V, Contact",
         "showlegend": true,
         "type": "scattergl",
         "x": {
          "bdata": "PQrXo3A96j8=",
          "dtype": "f8"
         },
         "xaxis": "x",
         "y": {
          "bdata": "xxFr8SkA5T8=",
          "dtype": "f8"
         },
         "yaxis": "y"
        },
        {
         "customdata": [
          [
           "LY Aur",
           "O9II, Contact"
          ]
         ],
         "error_x": {
          "array": {
           "bdata": "x0s3iUFg4b8=",
           "dtype": "f8"
          },
          "arrayminus": {
           "bdata": "x0s3iUFg4T8=",
           "dtype": "f8"
          }
         },
         "error_y": {
          "array": {
           "bdata": "AAAAAAAA+H8=",
           "dtype": "f8"
          },
          "arrayminus": {
           "bdata": "AAAAAAAA+H8=",
           "dtype": "f8"
          }
         },
         "hovertemplate": "color=O9III, Contact<br>q=%{x}<br>Period=%{y}<br>size=%{marker.size}<br>System Name=%{customdata[0]}<br>Type1=%{customdata[1]}<extra></extra>",
         "legendgroup": "O9III, Contact",
         "marker": {
          "color": "#636efa",
          "size": {
           "bdata": "BQ==",
           "dtype": "i1"
          },
          "sizemode": "area",
          "sizeref": 0.2,
          "symbol": "circle"
         },
         "mode": "markers",
         "name": "O9III, Contact",
         "showlegend": true,
         "type": "scattergl",
         "x": {
          "bdata": "mpmZmZmZ4T8=",
          "dtype": "f8"
         },
         "xaxis": "x",
         "y": {
          "bdata": "FK5H4XoUEEA=",
          "dtype": "f8"
         },
         "yaxis": "y"
        },
        {
         "customdata": [
          [
           "XZ Cep",
           "O9.5V, Contact"
          ],
          [
           "V348 Car",
           "B0-B.05III , Contact"
          ]
         ],
         "error_x": {
          "array": {
           "bdata": "uB6F61G43r8pXI/C9Sjsvw==",
           "dtype": "f8"
          },
          "arrayminus": {
           "bdata": "uB6F61G43j8pXI/C9SjsPw==",
           "dtype": "f8"
          }
         },
         "error_y": {
          "array": {
           "bdata": "AAAAAAAA+H8AAAAAAAD4fw==",
           "dtype": "f8"
          },
          "arrayminus": {
           "bdata": "AAAAAAAA+H8AAAAAAAD4fw==",
           "dtype": "f8"
          }
         },
         "hovertemplate": "color=B1III, Contact<br>q=%{x}<br>Period=%{y}<br>size=%{marker.size}<br>System Name=%{customdata[0]}<br>Type1=%{customdata[1]}<extra></extra>",
         "legendgroup": "B1III, Contact",
         "marker": {
          "color": "#EF553B",
          "size": {
           "bdata": "BQU=",
           "dtype": "i1"
          },
          "sizemode": "area",
          "sizeref": 0.2,
          "symbol": "circle"
         },
         "mode": "markers",
         "name": "B1III, Contact",
         "showlegend": true,
         "type": "scattergl",
         "x": {
          "bdata": "AAAAAAAA4D/NzMzMzMzsPw==",
          "dtype": "f8"
         },
         "xaxis": "x",
         "y": {
          "bdata": "F9nO91NjFECrBIvDmT8WQA==",
          "dtype": "f8"
         },
         "yaxis": "y"
        },
        {
         "customdata": [
          [
           "V729 Cyg",
           "O6.5-7 Ia, Contact"
          ]
         ],
         "error_x": {
          "array": {
           "bdata": "l24Sg8DK0b8=",
           "dtype": "f8"
          },
          "arrayminus": {
           "bdata": "l24Sg8DK0T8=",
           "dtype": "f8"
          }
         },
         "error_y": {
          "array": {
           "bdata": "o1huaTVkGsA=",
           "dtype": "f8"
          },
          "arrayminus": {
           "bdata": "o1huaTVkGkA=",
           "dtype": "f8"
          }
         },
         "hovertemplate": "color=Ofpe/WN9, Contact<br>q=%{x}<br>Period=%{y}<br>size=%{marker.size}<br>System Name=%{customdata[0]}<br>Type1=%{customdata[1]}<extra></extra>",
         "legendgroup": "Ofpe/WN9, Contact",
         "marker": {
          "color": "#00cc96",
          "size": {
           "bdata": "BQ==",
           "dtype": "i1"
          },
          "sizemode": "area",
          "sizeref": 0.2,
          "symbol": "circle"
         },
         "mode": "markers",
         "name": "Ofpe/WN9, Contact",
         "showlegend": true,
         "type": "scattergl",
         "x": {
          "bdata": "j8L1KFyP0j8=",
          "dtype": "f8"
         },
         "xaxis": "x",
         "y": {
          "bdata": "+GuyRj1kGkA=",
          "dtype": "f8"
         },
         "yaxis": "y"
        },
        {
         "customdata": [
          [
           "BH Cen",
           "B, Contact"
          ]
         ],
         "error_x": {
          "array": {
           "bdata": "tvP91Hjp6r8=",
           "dtype": "f8"
          },
          "arrayminus": {
           "bdata": "tvP91Hjp6j8=",
           "dtype": "f8"
          }
         },
         "error_y": {
          "array": {
           "bdata": "AAAAAAAA+H8=",
           "dtype": "f8"
          },
          "arrayminus": {
           "bdata": "AAAAAAAA+H8=",
           "dtype": "f8"
          }
         },
         "hovertemplate": "color=B, Contact<br>q=%{x}<br>Period=%{y}<br>size=%{marker.size}<br>System Name=%{customdata[0]}<br>Type1=%{customdata[1]}<extra></extra>",
         "legendgroup": "B, Contact",
         "marker": {
          "color": "#ab63fa",
          "size": {
           "bdata": "BQ==",
           "dtype": "i1"
          },
          "sizemode": "area",
          "sizeref": 0.2,
          "symbol": "circle"
         },
         "mode": "markers",
         "name": "B, Contact",
         "showlegend": true,
         "type": "scattergl",
         "x": {
          "bdata": "NV66SQwC6z8=",
          "dtype": "f8"
         },
         "xaxis": "x",
         "y": {
          "bdata": "huY6jbRU6T8=",
          "dtype": "f8"
         },
         "yaxis": "y"
        },
        {
         "customdata": [
          [
           "HD 64315B",
           "O9V, Contact"
          ]
         ],
         "error_x": {
          "array": {
           "bdata": "AiuHFtnO778=",
           "dtype": "f8"
          },
          "arrayminus": {
           "bdata": "AiuHFtnO7z8=",
           "dtype": "f8"
          }
         },
         "error_y": {
          "array": {
           "bdata": "Ieo+AKlN8L8=",
           "dtype": "f8"
          },
          "arrayminus": {
           "bdata": "Ieo+AKlN8D8=",
           "dtype": "f8"
          }
         },
         "hovertemplate": "color=O9V, Contact<br>q=%{x}<br>Period=%{y}<br>size=%{marker.size}<br>System Name=%{customdata[0]}<br>Type1=%{customdata[1]}<extra></extra>",
         "legendgroup": "O9V, Contact",
         "marker": {
          "color": "#FFA15A",
          "size": {
           "bdata": "BQ==",
           "dtype": "i1"
          },
          "sizemode": "area",
          "sizeref": 0.2,
          "symbol": "circle"
         },
         "mode": "markers",
         "name": "O9V, Contact",
         "showlegend": true,
         "type": "scattergl",
         "x": {
          "bdata": "AAAAAAAA8D8=",
          "dtype": "f8"
         },
         "xaxis": "x",
         "y": {
          "bdata": "Ieo+AKlN8D8=",
          "dtype": "f8"
         },
         "yaxis": "y"
        },
        {
         "customdata": [
          [
           "DIRECT V4741 M31A",
           "O, Contact"
          ],
          [
           "DIRECT V1555 M31A",
           "O, Contact"
          ]
         ],
         "error_x": {
          "array": {
           "bdata": "SgwCK4cW7b9iEFg5tMjuvw==",
           "dtype": "f8"
          },
          "arrayminus": {
           "bdata": "SgwCK4cW7T9iEFg5tMjuPw==",
           "dtype": "f8"
          }
         },
         "error_y": {
          "array": {
           "bdata": "AAAAAAAA+H8AAAAAAAD4fw==",
           "dtype": "f8"
          },
          "arrayminus": {
           "bdata": "AAAAAAAA+H8AAAAAAAD4fw==",
           "dtype": "f8"
          }
         },
         "hovertemplate": "color=O, Contact<br>q=%{x}<br>Period=%{y}<br>size=%{marker.size}<br>System Name=%{customdata[0]}<br>Type1=%{customdata[1]}<extra></extra>",
         "legendgroup": "O, Contact",
         "marker": {
          "color": "#19d3f3",
          "size": {
           "bdata": "BQU=",
           "dtype": "i1"
          },
          "sizemode": "area",
          "sizeref": 0.2,
          "symbol": "circle"
         },
         "mode": "markers",
         "name": "O, Contact",
         "showlegend": true,
         "type": "scattergl",
         "x": {
          "bdata": "xSCwcmiR7T9eukkMAivvPw==",
          "dtype": "f8"
         },
         "xaxis": "x",
         "y": {
          "bdata": "RIts5/up+T/y0k1iEFjtPw==",
          "dtype": "f8"
         },
         "yaxis": "y"
        }
       ],
       "layout": {
        "height": 600,
        "legend": {
         "font": {
          "size": 16
         },
         "itemsizing": "constant",
         "title": {
          "text": "color"
         },
         "tracegroupgap": 0
        },
        "margin": {
         "t": 60
        },
        "template": {
         "data": {
          "bar": [
           {
            "error_x": {
             "color": "#2a3f5f"
            },
            "error_y": {
             "color": "#2a3f5f"
            },
            "marker": {
             "line": {
              "color": "#E5ECF6",
              "width": 0.5
             },
             "pattern": {
              "fillmode": "overlay",
              "size": 10,
              "solidity": 0.2
             }
            },
            "type": "bar"
           }
          ],
          "barpolar": [
           {
            "marker": {
             "line": {
              "color": "#E5ECF6",
              "width": 0.5
             },
             "pattern": {
              "fillmode": "overlay",
              "size": 10,
              "solidity": 0.2
             }
            },
            "type": "barpolar"
           }
          ],
          "carpet": [
           {
            "aaxis": {
             "endlinecolor": "#2a3f5f",
             "gridcolor": "white",
             "linecolor": "white",
             "minorgridcolor": "white",
             "startlinecolor": "#2a3f5f"
            },
            "baxis": {
             "endlinecolor": "#2a3f5f",
             "gridcolor": "white",
             "linecolor": "white",
             "minorgridcolor": "white",
             "startlinecolor": "#2a3f5f"
            },
            "type": "carpet"
           }
          ],
          "choropleth": [
           {
            "colorbar": {
             "outlinewidth": 0,
             "ticks": ""
            },
            "type": "choropleth"
           }
          ],
          "contour": [
           {
            "colorbar": {
             "outlinewidth": 0,
             "ticks": ""
            },
            "colorscale": [
             [
              0,
              "#0d0887"
             ],
             [
              0.1111111111111111,
              "#46039f"
             ],
             [
              0.2222222222222222,
              "#7201a8"
             ],
             [
              0.3333333333333333,
              "#9c179e"
             ],
             [
              0.4444444444444444,
              "#bd3786"
             ],
             [
              0.5555555555555556,
              "#d8576b"
             ],
             [
              0.6666666666666666,
              "#ed7953"
             ],
             [
              0.7777777777777778,
              "#fb9f3a"
             ],
             [
              0.8888888888888888,
              "#fdca26"
             ],
             [
              1,
              "#f0f921"
             ]
            ],
            "type": "contour"
           }
          ],
          "contourcarpet": [
           {
            "colorbar": {
             "outlinewidth": 0,
             "ticks": ""
            },
            "type": "contourcarpet"
           }
          ],
          "heatmap": [
           {
            "colorbar": {
             "outlinewidth": 0,
             "ticks": ""
            },
            "colorscale": [
             [
              0,
              "#0d0887"
             ],
             [
              0.1111111111111111,
              "#46039f"
             ],
             [
              0.2222222222222222,
              "#7201a8"
             ],
             [
              0.3333333333333333,
              "#9c179e"
             ],
             [
              0.4444444444444444,
              "#bd3786"
             ],
             [
              0.5555555555555556,
              "#d8576b"
             ],
             [
              0.6666666666666666,
              "#ed7953"
             ],
             [
              0.7777777777777778,
              "#fb9f3a"
             ],
             [
              0.8888888888888888,
              "#fdca26"
             ],
             [
              1,
              "#f0f921"
             ]
            ],
            "type": "heatmap"
           }
          ],
          "histogram": [
           {
            "marker": {
             "pattern": {
              "fillmode": "overlay",
              "size": 10,
              "solidity": 0.2
             }
            },
            "type": "histogram"
           }
          ],
          "histogram2d": [
           {
            "colorbar": {
             "outlinewidth": 0,
             "ticks": ""
            },
            "colorscale": [
             [
              0,
              "#0d0887"
             ],
             [
              0.1111111111111111,
              "#46039f"
             ],
             [
              0.2222222222222222,
              "#7201a8"
             ],
             [
              0.3333333333333333,
              "#9c179e"
             ],
             [
              0.4444444444444444,
              "#bd3786"
             ],
             [
              0.5555555555555556,
              "#d8576b"
             ],
             [
              0.6666666666666666,
              "#ed7953"
             ],
             [
              0.7777777777777778,
              "#fb9f3a"
             ],
             [
              0.8888888888888888,
              "#fdca26"
             ],
             [
              1,
              "#f0f921"
             ]
            ],
            "type": "histogram2d"
           }
          ],
          "histogram2dcontour": [
           {
            "colorbar": {
             "outlinewidth": 0,
             "ticks": ""
            },
            "colorscale": [
             [
              0,
              "#0d0887"
             ],
             [
              0.1111111111111111,
              "#46039f"
             ],
             [
              0.2222222222222222,
              "#7201a8"
             ],
             [
              0.3333333333333333,
              "#9c179e"
             ],
             [
              0.4444444444444444,
              "#bd3786"
             ],
             [
              0.5555555555555556,
              "#d8576b"
             ],
             [
              0.6666666666666666,
              "#ed7953"
             ],
             [
              0.7777777777777778,
              "#fb9f3a"
             ],
             [
              0.8888888888888888,
              "#fdca26"
             ],
             [
              1,
              "#f0f921"
             ]
            ],
            "type": "histogram2dcontour"
           }
          ],
          "mesh3d": [
           {
            "colorbar": {
             "outlinewidth": 0,
             "ticks": ""
            },
            "type": "mesh3d"
           }
          ],
          "parcoords": [
           {
            "line": {
             "colorbar": {
              "outlinewidth": 0,
              "ticks": ""
             }
            },
            "type": "parcoords"
           }
          ],
          "pie": [
           {
            "automargin": true,
            "type": "pie"
           }
          ],
          "scatter": [
           {
            "fillpattern": {
             "fillmode": "overlay",
             "size": 10,
             "solidity": 0.2
            },
            "type": "scatter"
           }
          ],
          "scatter3d": [
           {
            "line": {
             "colorbar": {
              "outlinewidth": 0,
              "ticks": ""
             }
            },
            "marker": {
             "colorbar": {
              "outlinewidth": 0,
              "ticks": ""
             }
            },
            "type": "scatter3d"
           }
          ],
          "scattercarpet": [
           {
            "marker": {
             "colorbar": {
              "outlinewidth": 0,
              "ticks": ""
             }
            },
            "type": "scattercarpet"
           }
          ],
          "scattergeo": [
           {
            "marker": {
             "colorbar": {
              "outlinewidth": 0,
              "ticks": ""
             }
            },
            "type": "scattergeo"
           }
          ],
          "scattergl": [
           {
            "marker": {
             "colorbar": {
              "outlinewidth": 0,
              "ticks": ""
             }
            },
            "type": "scattergl"
           }
          ],
          "scattermap": [
           {
            "marker": {
             "colorbar": {
              "outlinewidth": 0,
              "ticks": ""
             }
            },
            "type": "scattermap"
           }
          ],
          "scattermapbox": [
           {
            "marker": {
             "colorbar": {
              "outlinewidth": 0,
              "ticks": ""
             }
            },
            "type": "scattermapbox"
           }
          ],
          "scatterpolar": [
           {
            "marker": {
             "colorbar": {
              "outlinewidth": 0,
              "ticks": ""
             }
            },
            "type": "scatterpolar"
           }
          ],
          "scatterpolargl": [
           {
            "marker": {
             "colorbar": {
              "outlinewidth": 0,
              "ticks": ""
             }
            },
            "type": "scatterpolargl"
           }
          ],
          "scatterternary": [
           {
            "marker": {
             "colorbar": {
              "outlinewidth": 0,
              "ticks": ""
             }
            },
            "type": "scatterternary"
           }
          ],
          "surface": [
           {
            "colorbar": {
             "outlinewidth": 0,
             "ticks": ""
            },
            "colorscale": [
             [
              0,
              "#0d0887"
             ],
             [
              0.1111111111111111,
              "#46039f"
             ],
             [
              0.2222222222222222,
              "#7201a8"
             ],
             [
              0.3333333333333333,
              "#9c179e"
             ],
             [
              0.4444444444444444,
              "#bd3786"
             ],
             [
              0.5555555555555556,
              "#d8576b"
             ],
             [
              0.6666666666666666,
              "#ed7953"
             ],
             [
              0.7777777777777778,
              "#fb9f3a"
             ],
             [
              0.8888888888888888,
              "#fdca26"
             ],
             [
              1,
              "#f0f921"
             ]
            ],
            "type": "surface"
           }
          ],
          "table": [
           {
            "cells": {
             "fill": {
              "color": "#EBF0F8"
             },
             "line": {
              "color": "white"
             }
            },
            "header": {
             "fill": {
              "color": "#C8D4E3"
             },
             "line": {
              "color": "white"
             }
            },
            "type": "table"
           }
          ]
         },
         "layout": {
          "annotationdefaults": {
           "arrowcolor": "#2a3f5f",
           "arrowhead": 0,
           "arrowwidth": 1
          },
          "autotypenumbers": "strict",
          "coloraxis": {
           "colorbar": {
            "outlinewidth": 0,
            "ticks": ""
           }
          },
          "colorscale": {
           "diverging": [
            [
             0,
             "#8e0152"
            ],
            [
             0.1,
             "#c51b7d"
            ],
            [
             0.2,
             "#de77ae"
            ],
            [
             0.3,
             "#f1b6da"
            ],
            [
             0.4,
             "#fde0ef"
            ],
            [
             0.5,
             "#f7f7f7"
            ],
            [
             0.6,
             "#e6f5d0"
            ],
            [
             0.7,
             "#b8e186"
            ],
            [
             0.8,
             "#7fbc41"
            ],
            [
             0.9,
             "#4d9221"
            ],
            [
             1,
             "#276419"
            ]
           ],
           "sequential": [
            [
             0,
             "#0d0887"
            ],
            [
             0.1111111111111111,
             "#46039f"
            ],
            [
             0.2222222222222222,
             "#7201a8"
            ],
            [
             0.3333333333333333,
             "#9c179e"
            ],
            [
             0.4444444444444444,
             "#bd3786"
            ],
            [
             0.5555555555555556,
             "#d8576b"
            ],
            [
             0.6666666666666666,
             "#ed7953"
            ],
            [
             0.7777777777777778,
             "#fb9f3a"
            ],
            [
             0.8888888888888888,
             "#fdca26"
            ],
            [
             1,
             "#f0f921"
            ]
           ],
           "sequentialminus": [
            [
             0,
             "#0d0887"
            ],
            [
             0.1111111111111111,
             "#46039f"
            ],
            [
             0.2222222222222222,
             "#7201a8"
            ],
            [
             0.3333333333333333,
             "#9c179e"
            ],
            [
             0.4444444444444444,
             "#bd3786"
            ],
            [
             0.5555555555555556,
             "#d8576b"
            ],
            [
             0.6666666666666666,
             "#ed7953"
            ],
            [
             0.7777777777777778,
             "#fb9f3a"
            ],
            [
             0.8888888888888888,
             "#fdca26"
            ],
            [
             1,
             "#f0f921"
            ]
           ]
          },
          "colorway": [
           "#636efa",
           "#EF553B",
           "#00cc96",
           "#ab63fa",
           "#FFA15A",
           "#19d3f3",
           "#FF6692",
           "#B6E880",
           "#FF97FF",
           "#FECB52"
          ],
          "font": {
           "color": "#2a3f5f"
          },
          "geo": {
           "bgcolor": "white",
           "lakecolor": "white",
           "landcolor": "#E5ECF6",
           "showlakes": true,
           "showland": true,
           "subunitcolor": "white"
          },
          "hoverlabel": {
           "align": "left"
          },
          "hovermode": "closest",
          "mapbox": {
           "style": "light"
          },
          "paper_bgcolor": "white",
          "plot_bgcolor": "#E5ECF6",
          "polar": {
           "angularaxis": {
            "gridcolor": "white",
            "linecolor": "white",
            "ticks": ""
           },
           "bgcolor": "#E5ECF6",
           "radialaxis": {
            "gridcolor": "white",
            "linecolor": "white",
            "ticks": ""
           }
          },
          "scene": {
           "xaxis": {
            "backgroundcolor": "#E5ECF6",
            "gridcolor": "white",
            "gridwidth": 2,
            "linecolor": "white",
            "showbackground": true,
            "ticks": "",
            "zerolinecolor": "white"
           },
           "yaxis": {
            "backgroundcolor": "#E5ECF6",
            "gridcolor": "white",
            "gridwidth": 2,
            "linecolor": "white",
            "showbackground": true,
            "ticks": "",
            "zerolinecolor": "white"
           },
           "zaxis": {
            "backgroundcolor": "#E5ECF6",
            "gridcolor": "white",
            "gridwidth": 2,
            "linecolor": "white",
            "showbackground": true,
            "ticks": "",
            "zerolinecolor": "white"
           }
          },
          "shapedefaults": {
           "line": {
            "color": "#2a3f5f"
           }
          },
          "ternary": {
           "aaxis": {
            "gridcolor": "white",
            "linecolor": "white",
            "ticks": ""
           },
           "baxis": {
            "gridcolor": "white",
            "linecolor": "white",
            "ticks": ""
           },
           "bgcolor": "#E5ECF6",
           "caxis": {
            "gridcolor": "white",
            "linecolor": "white",
            "ticks": ""
           }
          },
          "title": {
           "x": 0.05
          },
          "xaxis": {
           "automargin": true,
           "gridcolor": "white",
           "linecolor": "white",
           "ticks": "",
           "title": {
            "standoff": 15
           },
           "zerolinecolor": "white",
           "zerolinewidth": 2
          },
          "yaxis": {
           "automargin": true,
           "gridcolor": "white",
           "linecolor": "white",
           "ticks": "",
           "title": {
            "standoff": 15
           },
           "zerolinecolor": "white",
           "zerolinewidth": 2
          }
         }
        },
        "width": 900,
        "xaxis": {
         "anchor": "y",
         "domain": [
          0,
          1
         ],
         "tickfont": {
          "size": 14
         },
         "title": {
          "font": {
           "size": 18
          },
          "text": "q"
         }
        },
        "yaxis": {
         "anchor": "x",
         "domain": [
          0,
          1
         ],
         "tickfont": {
          "size": 14
         },
         "title": {
          "font": {
           "size": 18
          },
          "text": "Period"
         },
         "type": "log"
        }
       }
      }
     },
     "metadata": {},
     "output_type": "display_data"
    }
   ],
   "source": [
    "# Plot q vs M1\n",
    "plotly_vars(\"q\", \"Period\", catalog_data, data=data, logy=True)\n"
   ]
  },
  {
   "cell_type": "code",
   "execution_count": null,
   "id": "c622583a",
   "metadata": {},
   "outputs": [],
   "source": []
  }
 ],
 "metadata": {
  "kernelspec": {
   "display_name": "post_mt_review",
   "language": "python",
   "name": "python3"
  },
  "language_info": {
   "codemirror_mode": {
    "name": "ipython",
    "version": 3
   },
   "file_extension": ".py",
   "mimetype": "text/x-python",
   "name": "python",
   "nbconvert_exporter": "python",
   "pygments_lexer": "ipython3",
   "version": "3.11.5"
  }
 },
 "nbformat": 4,
 "nbformat_minor": 5
}
